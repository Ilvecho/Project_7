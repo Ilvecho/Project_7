{
  "nbformat": 4,
  "nbformat_minor": 0,
  "metadata": {
    "colab": {
      "provenance": [],
      "authorship_tag": "ABX9TyOXE0j+/2GHaZ64MFzXlJ8p",
      "include_colab_link": true
    },
    "kernelspec": {
      "name": "python3",
      "display_name": "Python 3"
    },
    "language_info": {
      "name": "python"
    }
  },
  "cells": [
    {
      "cell_type": "markdown",
      "metadata": {
        "id": "view-in-github",
        "colab_type": "text"
      },
      "source": [
        "<a href=\"https://colab.research.google.com/github/Ilvecho/Project_7/blob/main/Project_7.ipynb\" target=\"_parent\"><img src=\"https://colab.research.google.com/assets/colab-badge.svg\" alt=\"Open In Colab\"/></a>"
      ]
    },
    {
      "cell_type": "markdown",
      "source": [
        "The data available for this project are **real data** so they are dirty.\n",
        "\n",
        "A lot of values are missing, so we need to think how to handle them.\n",
        "\n",
        "Normally, several hypothesis need to be tested, but in this case we are short in time, so we would make just one iteration of reasonable assumptions.\n",
        "\n",
        "Furthermore, the data contains the **date** of each step, as well as the date of first and last contact.\n",
        "\n",
        "We will leverage these pieces of information mainly to fill out some missing values. However, for the model itself we will just consider the binary state (yes - no) rather than the dates. This choice is driven by the need to prioritize simplicity for time constraints."
      ],
      "metadata": {
        "id": "gqKAfmsJFgdx"
      }
    },
    {
      "cell_type": "code",
      "execution_count": 27,
      "metadata": {
        "id": "JXca2a_73Dvf",
        "colab": {
          "base_uri": "https://localhost:8080/"
        },
        "outputId": "e2f03d44-cdf6-42c1-b585-ca5ab9482982"
      },
      "outputs": [
        {
          "output_type": "stream",
          "name": "stdout",
          "text": [
            "Drive already mounted at /content/gdrive; to attempt to forcibly remount, call drive.mount(\"/content/gdrive\", force_remount=True).\n"
          ]
        }
      ],
      "source": [
        "import numpy as np\n",
        "import pandas as pd\n",
        "import matplotlib.pyplot as plt\n",
        "import plotly.express as px\n",
        "import plotly.graph_objects as go\n",
        "import seaborn as sns\n",
        "import os\n",
        "import pickle\n",
        "import re\n",
        "import random\n",
        "\n",
        "import torch\n",
        "from torch import nn\n",
        "from torch import flatten\n",
        "from torch.utils.data import TensorDataset, DataLoader\n",
        "from torch.optim import Adam\n",
        "\n",
        "from google.colab import files,drive\n",
        "drive.mount('/content/gdrive')\n",
        "\n",
        "# get the GPU\n",
        "device = torch.device(\"cuda:0\" if torch.cuda.is_available() else \"cpu\")"
      ]
    },
    {
      "cell_type": "code",
      "source": [
        "data = pd.read_csv('/content/gdrive/MyDrive/P7_files/SalesCRM - CRM.csv')"
      ],
      "metadata": {
        "id": "TBCF07e35YP6"
      },
      "execution_count": 28,
      "outputs": []
    },
    {
      "cell_type": "code",
      "source": [
        "data.shape"
      ],
      "metadata": {
        "colab": {
          "base_uri": "https://localhost:8080/"
        },
        "id": "RRiHasbkam45",
        "outputId": "5597c328-fe1d-4951-993c-e4bf7ebf3c38"
      },
      "execution_count": 29,
      "outputs": [
        {
          "output_type": "execute_result",
          "data": {
            "text/plain": [
              "(11032, 13)"
            ]
          },
          "metadata": {},
          "execution_count": 29
        }
      ]
    },
    {
      "cell_type": "code",
      "source": [
        "for col in data.columns:\n",
        "  print(col)"
      ],
      "metadata": {
        "colab": {
          "base_uri": "https://localhost:8080/"
        },
        "id": "BsAM2gJW7X-B",
        "outputId": "96d8b1ff-d835-42dd-bf0f-624f24eadb3c"
      },
      "execution_count": 30,
      "outputs": [
        {
          "output_type": "stream",
          "name": "stdout",
          "text": [
            "ID\n",
            "Country\n",
            "Education\n",
            "First Contact\n",
            "Last Contact\n",
            "Status\n",
            "Stage\n",
            "First Call\n",
            "Signed up for a demo\n",
            "Filled in customer survey\n",
            "Did sign up to the platform\n",
            "Account Manager assigned\n",
            "Subscribed\n"
          ]
        }
      ]
    },
    {
      "cell_type": "code",
      "source": [
        "rel_cols = data.drop(columns=['ID', 'Country', 'Education'])\n",
        "nan_rows = data[rel_cols.isna().all(axis=1)]\n",
        "nan_rows"
      ],
      "metadata": {
        "colab": {
          "base_uri": "https://localhost:8080/",
          "height": 175
        },
        "id": "Tkb6lPDvWPLa",
        "outputId": "00bf071a-1384-428e-b038-573d10382a01"
      },
      "execution_count": 31,
      "outputs": [
        {
          "output_type": "execute_result",
          "data": {
            "text/plain": [
              "      ID Country Education First Contact Last Contact Status Stage First Call  \\\n",
              "125  126  Canada       NaN           NaN          NaN    NaN   NaN        NaN   \n",
              "189  191     NaN       NaN           NaN          NaN    NaN   NaN        NaN   \n",
              "190  192     NaN       NaN           NaN          NaN    NaN   NaN        NaN   \n",
              "275  278  Canada       NaN           NaN          NaN    NaN   NaN        NaN   \n",
              "\n",
              "    Signed up for a demo Filled in customer survey  \\\n",
              "125                  NaN                       NaN   \n",
              "189                  NaN                       NaN   \n",
              "190                  NaN                       NaN   \n",
              "275                  NaN                       NaN   \n",
              "\n",
              "    Did sign up to the platform Account Manager assigned Subscribed  \n",
              "125                         NaN                      NaN        NaN  \n",
              "189                         NaN                      NaN        NaN  \n",
              "190                         NaN                      NaN        NaN  \n",
              "275                         NaN                      NaN        NaN  "
            ],
            "text/html": [
              "\n",
              "  <div id=\"df-4bd79764-a202-4336-a7ce-7f46973accc2\" class=\"colab-df-container\">\n",
              "    <div>\n",
              "<style scoped>\n",
              "    .dataframe tbody tr th:only-of-type {\n",
              "        vertical-align: middle;\n",
              "    }\n",
              "\n",
              "    .dataframe tbody tr th {\n",
              "        vertical-align: top;\n",
              "    }\n",
              "\n",
              "    .dataframe thead th {\n",
              "        text-align: right;\n",
              "    }\n",
              "</style>\n",
              "<table border=\"1\" class=\"dataframe\">\n",
              "  <thead>\n",
              "    <tr style=\"text-align: right;\">\n",
              "      <th></th>\n",
              "      <th>ID</th>\n",
              "      <th>Country</th>\n",
              "      <th>Education</th>\n",
              "      <th>First Contact</th>\n",
              "      <th>Last Contact</th>\n",
              "      <th>Status</th>\n",
              "      <th>Stage</th>\n",
              "      <th>First Call</th>\n",
              "      <th>Signed up for a demo</th>\n",
              "      <th>Filled in customer survey</th>\n",
              "      <th>Did sign up to the platform</th>\n",
              "      <th>Account Manager assigned</th>\n",
              "      <th>Subscribed</th>\n",
              "    </tr>\n",
              "  </thead>\n",
              "  <tbody>\n",
              "    <tr>\n",
              "      <th>125</th>\n",
              "      <td>126</td>\n",
              "      <td>Canada</td>\n",
              "      <td>NaN</td>\n",
              "      <td>NaN</td>\n",
              "      <td>NaN</td>\n",
              "      <td>NaN</td>\n",
              "      <td>NaN</td>\n",
              "      <td>NaN</td>\n",
              "      <td>NaN</td>\n",
              "      <td>NaN</td>\n",
              "      <td>NaN</td>\n",
              "      <td>NaN</td>\n",
              "      <td>NaN</td>\n",
              "    </tr>\n",
              "    <tr>\n",
              "      <th>189</th>\n",
              "      <td>191</td>\n",
              "      <td>NaN</td>\n",
              "      <td>NaN</td>\n",
              "      <td>NaN</td>\n",
              "      <td>NaN</td>\n",
              "      <td>NaN</td>\n",
              "      <td>NaN</td>\n",
              "      <td>NaN</td>\n",
              "      <td>NaN</td>\n",
              "      <td>NaN</td>\n",
              "      <td>NaN</td>\n",
              "      <td>NaN</td>\n",
              "      <td>NaN</td>\n",
              "    </tr>\n",
              "    <tr>\n",
              "      <th>190</th>\n",
              "      <td>192</td>\n",
              "      <td>NaN</td>\n",
              "      <td>NaN</td>\n",
              "      <td>NaN</td>\n",
              "      <td>NaN</td>\n",
              "      <td>NaN</td>\n",
              "      <td>NaN</td>\n",
              "      <td>NaN</td>\n",
              "      <td>NaN</td>\n",
              "      <td>NaN</td>\n",
              "      <td>NaN</td>\n",
              "      <td>NaN</td>\n",
              "      <td>NaN</td>\n",
              "    </tr>\n",
              "    <tr>\n",
              "      <th>275</th>\n",
              "      <td>278</td>\n",
              "      <td>Canada</td>\n",
              "      <td>NaN</td>\n",
              "      <td>NaN</td>\n",
              "      <td>NaN</td>\n",
              "      <td>NaN</td>\n",
              "      <td>NaN</td>\n",
              "      <td>NaN</td>\n",
              "      <td>NaN</td>\n",
              "      <td>NaN</td>\n",
              "      <td>NaN</td>\n",
              "      <td>NaN</td>\n",
              "      <td>NaN</td>\n",
              "    </tr>\n",
              "  </tbody>\n",
              "</table>\n",
              "</div>\n",
              "    <div class=\"colab-df-buttons\">\n",
              "\n",
              "  <div class=\"colab-df-container\">\n",
              "    <button class=\"colab-df-convert\" onclick=\"convertToInteractive('df-4bd79764-a202-4336-a7ce-7f46973accc2')\"\n",
              "            title=\"Convert this dataframe to an interactive table.\"\n",
              "            style=\"display:none;\">\n",
              "\n",
              "  <svg xmlns=\"http://www.w3.org/2000/svg\" height=\"24px\" viewBox=\"0 -960 960 960\">\n",
              "    <path d=\"M120-120v-720h720v720H120Zm60-500h600v-160H180v160Zm220 220h160v-160H400v160Zm0 220h160v-160H400v160ZM180-400h160v-160H180v160Zm440 0h160v-160H620v160ZM180-180h160v-160H180v160Zm440 0h160v-160H620v160Z\"/>\n",
              "  </svg>\n",
              "    </button>\n",
              "\n",
              "  <style>\n",
              "    .colab-df-container {\n",
              "      display:flex;\n",
              "      gap: 12px;\n",
              "    }\n",
              "\n",
              "    .colab-df-convert {\n",
              "      background-color: #E8F0FE;\n",
              "      border: none;\n",
              "      border-radius: 50%;\n",
              "      cursor: pointer;\n",
              "      display: none;\n",
              "      fill: #1967D2;\n",
              "      height: 32px;\n",
              "      padding: 0 0 0 0;\n",
              "      width: 32px;\n",
              "    }\n",
              "\n",
              "    .colab-df-convert:hover {\n",
              "      background-color: #E2EBFA;\n",
              "      box-shadow: 0px 1px 2px rgba(60, 64, 67, 0.3), 0px 1px 3px 1px rgba(60, 64, 67, 0.15);\n",
              "      fill: #174EA6;\n",
              "    }\n",
              "\n",
              "    .colab-df-buttons div {\n",
              "      margin-bottom: 4px;\n",
              "    }\n",
              "\n",
              "    [theme=dark] .colab-df-convert {\n",
              "      background-color: #3B4455;\n",
              "      fill: #D2E3FC;\n",
              "    }\n",
              "\n",
              "    [theme=dark] .colab-df-convert:hover {\n",
              "      background-color: #434B5C;\n",
              "      box-shadow: 0px 1px 3px 1px rgba(0, 0, 0, 0.15);\n",
              "      filter: drop-shadow(0px 1px 2px rgba(0, 0, 0, 0.3));\n",
              "      fill: #FFFFFF;\n",
              "    }\n",
              "  </style>\n",
              "\n",
              "    <script>\n",
              "      const buttonEl =\n",
              "        document.querySelector('#df-4bd79764-a202-4336-a7ce-7f46973accc2 button.colab-df-convert');\n",
              "      buttonEl.style.display =\n",
              "        google.colab.kernel.accessAllowed ? 'block' : 'none';\n",
              "\n",
              "      async function convertToInteractive(key) {\n",
              "        const element = document.querySelector('#df-4bd79764-a202-4336-a7ce-7f46973accc2');\n",
              "        const dataTable =\n",
              "          await google.colab.kernel.invokeFunction('convertToInteractive',\n",
              "                                                    [key], {});\n",
              "        if (!dataTable) return;\n",
              "\n",
              "        const docLinkHtml = 'Like what you see? Visit the ' +\n",
              "          '<a target=\"_blank\" href=https://colab.research.google.com/notebooks/data_table.ipynb>data table notebook</a>'\n",
              "          + ' to learn more about interactive tables.';\n",
              "        element.innerHTML = '';\n",
              "        dataTable['output_type'] = 'display_data';\n",
              "        await google.colab.output.renderOutput(dataTable, element);\n",
              "        const docLink = document.createElement('div');\n",
              "        docLink.innerHTML = docLinkHtml;\n",
              "        element.appendChild(docLink);\n",
              "      }\n",
              "    </script>\n",
              "  </div>\n",
              "\n",
              "\n",
              "<div id=\"df-d984c36c-05ca-4279-8b3d-633546650576\">\n",
              "  <button class=\"colab-df-quickchart\" onclick=\"quickchart('df-d984c36c-05ca-4279-8b3d-633546650576')\"\n",
              "            title=\"Suggest charts\"\n",
              "            style=\"display:none;\">\n",
              "\n",
              "<svg xmlns=\"http://www.w3.org/2000/svg\" height=\"24px\"viewBox=\"0 0 24 24\"\n",
              "     width=\"24px\">\n",
              "    <g>\n",
              "        <path d=\"M19 3H5c-1.1 0-2 .9-2 2v14c0 1.1.9 2 2 2h14c1.1 0 2-.9 2-2V5c0-1.1-.9-2-2-2zM9 17H7v-7h2v7zm4 0h-2V7h2v10zm4 0h-2v-4h2v4z\"/>\n",
              "    </g>\n",
              "</svg>\n",
              "  </button>\n",
              "\n",
              "<style>\n",
              "  .colab-df-quickchart {\n",
              "      --bg-color: #E8F0FE;\n",
              "      --fill-color: #1967D2;\n",
              "      --hover-bg-color: #E2EBFA;\n",
              "      --hover-fill-color: #174EA6;\n",
              "      --disabled-fill-color: #AAA;\n",
              "      --disabled-bg-color: #DDD;\n",
              "  }\n",
              "\n",
              "  [theme=dark] .colab-df-quickchart {\n",
              "      --bg-color: #3B4455;\n",
              "      --fill-color: #D2E3FC;\n",
              "      --hover-bg-color: #434B5C;\n",
              "      --hover-fill-color: #FFFFFF;\n",
              "      --disabled-bg-color: #3B4455;\n",
              "      --disabled-fill-color: #666;\n",
              "  }\n",
              "\n",
              "  .colab-df-quickchart {\n",
              "    background-color: var(--bg-color);\n",
              "    border: none;\n",
              "    border-radius: 50%;\n",
              "    cursor: pointer;\n",
              "    display: none;\n",
              "    fill: var(--fill-color);\n",
              "    height: 32px;\n",
              "    padding: 0;\n",
              "    width: 32px;\n",
              "  }\n",
              "\n",
              "  .colab-df-quickchart:hover {\n",
              "    background-color: var(--hover-bg-color);\n",
              "    box-shadow: 0 1px 2px rgba(60, 64, 67, 0.3), 0 1px 3px 1px rgba(60, 64, 67, 0.15);\n",
              "    fill: var(--button-hover-fill-color);\n",
              "  }\n",
              "\n",
              "  .colab-df-quickchart-complete:disabled,\n",
              "  .colab-df-quickchart-complete:disabled:hover {\n",
              "    background-color: var(--disabled-bg-color);\n",
              "    fill: var(--disabled-fill-color);\n",
              "    box-shadow: none;\n",
              "  }\n",
              "\n",
              "  .colab-df-spinner {\n",
              "    border: 2px solid var(--fill-color);\n",
              "    border-color: transparent;\n",
              "    border-bottom-color: var(--fill-color);\n",
              "    animation:\n",
              "      spin 1s steps(1) infinite;\n",
              "  }\n",
              "\n",
              "  @keyframes spin {\n",
              "    0% {\n",
              "      border-color: transparent;\n",
              "      border-bottom-color: var(--fill-color);\n",
              "      border-left-color: var(--fill-color);\n",
              "    }\n",
              "    20% {\n",
              "      border-color: transparent;\n",
              "      border-left-color: var(--fill-color);\n",
              "      border-top-color: var(--fill-color);\n",
              "    }\n",
              "    30% {\n",
              "      border-color: transparent;\n",
              "      border-left-color: var(--fill-color);\n",
              "      border-top-color: var(--fill-color);\n",
              "      border-right-color: var(--fill-color);\n",
              "    }\n",
              "    40% {\n",
              "      border-color: transparent;\n",
              "      border-right-color: var(--fill-color);\n",
              "      border-top-color: var(--fill-color);\n",
              "    }\n",
              "    60% {\n",
              "      border-color: transparent;\n",
              "      border-right-color: var(--fill-color);\n",
              "    }\n",
              "    80% {\n",
              "      border-color: transparent;\n",
              "      border-right-color: var(--fill-color);\n",
              "      border-bottom-color: var(--fill-color);\n",
              "    }\n",
              "    90% {\n",
              "      border-color: transparent;\n",
              "      border-bottom-color: var(--fill-color);\n",
              "    }\n",
              "  }\n",
              "</style>\n",
              "\n",
              "  <script>\n",
              "    async function quickchart(key) {\n",
              "      const quickchartButtonEl =\n",
              "        document.querySelector('#' + key + ' button');\n",
              "      quickchartButtonEl.disabled = true;  // To prevent multiple clicks.\n",
              "      quickchartButtonEl.classList.add('colab-df-spinner');\n",
              "      try {\n",
              "        const charts = await google.colab.kernel.invokeFunction(\n",
              "            'suggestCharts', [key], {});\n",
              "      } catch (error) {\n",
              "        console.error('Error during call to suggestCharts:', error);\n",
              "      }\n",
              "      quickchartButtonEl.classList.remove('colab-df-spinner');\n",
              "      quickchartButtonEl.classList.add('colab-df-quickchart-complete');\n",
              "    }\n",
              "    (() => {\n",
              "      let quickchartButtonEl =\n",
              "        document.querySelector('#df-d984c36c-05ca-4279-8b3d-633546650576 button');\n",
              "      quickchartButtonEl.style.display =\n",
              "        google.colab.kernel.accessAllowed ? 'block' : 'none';\n",
              "    })();\n",
              "  </script>\n",
              "</div>\n",
              "    </div>\n",
              "  </div>\n"
            ]
          },
          "metadata": {},
          "execution_count": 31
        }
      ]
    },
    {
      "cell_type": "markdown",
      "source": [
        "Let's delete the empty rows: they give no added value"
      ],
      "metadata": {
        "id": "wRFWJe-QYYTv"
      }
    },
    {
      "cell_type": "code",
      "source": [
        "# Many of the cells have value NaN. Let's replace it with a different value so that we are able to count the number of NaN's as well\n",
        "parsed_data = data[~rel_cols.isna().all(axis=1)].copy()\n",
        "\n",
        "# Fill the NaN\n",
        "parsed_data['Country'] = parsed_data['Country'].fillna('missing')\n",
        "parsed_data['Education'] = parsed_data['Education'].fillna('missing')\n",
        "parsed_data['Status'] = parsed_data['Status'].fillna('missing')\n",
        "parsed_data['Stage'] = parsed_data['Stage'].fillna('missing')\n",
        "\n",
        "\n",
        "parsed_data.set_index('ID', inplace=True)"
      ],
      "metadata": {
        "id": "usFA0h_z8ooU"
      },
      "execution_count": 32,
      "outputs": []
    },
    {
      "cell_type": "markdown",
      "source": [
        "# Date features parsing"
      ],
      "metadata": {
        "id": "g9oe6etHwR2t"
      }
    },
    {
      "cell_type": "markdown",
      "source": [
        "All the other features represent a date in time, so we need convert the columns to **datetime format**.\n",
        "\n",
        "Let's define a parser function"
      ],
      "metadata": {
        "id": "TiJvcaVHwUd6"
      }
    },
    {
      "cell_type": "code",
      "source": [
        "# define the datetime parser function\n",
        "def datetime_parser(column):\n",
        "\n",
        "  # Iterate through all the rows, because different rows can have different datetime patterns\n",
        "  for i in list(column.index):\n",
        "\n",
        "    # Define the patterns observed in the data\n",
        "    pattern_1 = re.compile(r'^[0-9]{4}\\-[0-9]{2}\\-[0-9]{4}$')\n",
        "    pattern_2 = re.compile(r'^[0-9]{2}\\.[0-9]{2}\\.[0-9]{4}$')\n",
        "    pattern_3 = re.compile(r'^[0-9]{2}\\-[0-9]{2}\\-[0-9]{4}$')\n",
        "\n",
        "    # If the row is already in Datetime format, pass\n",
        "    if isinstance(column.loc[i], pd.Timestamp):\n",
        "      pass\n",
        "\n",
        "    # If the value is missing, assign Not a Time\n",
        "    elif pd.isna(column.loc[i]):\n",
        "      column.loc[i] = pd.NaT\n",
        "\n",
        "    # If the string matches the first patter, convert accordingly\n",
        "    elif pattern_1.match(column.loc[i]):\n",
        "      column.loc[i] = pd.to_datetime(column.loc[i], format='%Y-%m-%d')\n",
        "\n",
        "    # If the string matches the second patter, convert accordingly\n",
        "    elif pattern_2.match(column.loc[i]):\n",
        "      column.loc[i] = pd.to_datetime(column.loc[i], format='%d.%m.%Y')\n",
        "\n",
        "    # If the string matches the third patter, we are still not sure about the format\n",
        "    elif pattern_3.match(column.loc[i]):\n",
        "      # So, try one format and catch exceptions and use the other possible format\n",
        "      try:\n",
        "        column.loc[i] = pd.to_datetime(column.loc[i], format='%d-%m-%Y')\n",
        "      except:\n",
        "        column.loc[i] = pd.to_datetime(column.loc[i], format='%m-%d-%Y')\n",
        "\n",
        "  return pd.to_datetime(column)"
      ],
      "metadata": {
        "id": "gaEEfArh1JXM"
      },
      "execution_count": 33,
      "outputs": []
    },
    {
      "cell_type": "markdown",
      "source": [
        "Manually fix an exception"
      ],
      "metadata": {
        "id": "r621Oyut81h1"
      }
    },
    {
      "cell_type": "code",
      "source": [
        "# There is one row that has format Y-d-m rather then Y-m-d\n",
        "idx = parsed_data[parsed_data['First Contact'] == '2021-13-12'].index\n",
        "parsed_data['First Contact'].loc[idx] = \"2021-12-13\"\n",
        "parsed_data['Last Contact'].loc[idx] = \"2021-12-13\""
      ],
      "metadata": {
        "id": "9f4TQ9MN4Tne"
      },
      "execution_count": 34,
      "outputs": []
    },
    {
      "cell_type": "markdown",
      "source": [
        "Parse the **First Contact** column"
      ],
      "metadata": {
        "id": "F5r80nSy851J"
      }
    },
    {
      "cell_type": "code",
      "source": [
        "parsed_data['First Contact'] = datetime_parser(parsed_data['First Contact'])"
      ],
      "metadata": {
        "id": "prWTXnyE2TZq"
      },
      "execution_count": 35,
      "outputs": []
    },
    {
      "cell_type": "markdown",
      "source": [
        "Parse the **Last Contact** column"
      ],
      "metadata": {
        "id": "TcBqo1gY892q"
      }
    },
    {
      "cell_type": "code",
      "source": [
        "parsed_data['Last Contact'] = datetime_parser(parsed_data['Last Contact'])"
      ],
      "metadata": {
        "colab": {
          "base_uri": "https://localhost:8080/"
        },
        "id": "nczSUXwJx0d5",
        "outputId": "c0b7e5e6-5116-4c41-fabc-16e27dbd373d"
      },
      "execution_count": 36,
      "outputs": [
        {
          "output_type": "stream",
          "name": "stderr",
          "text": [
            "<ipython-input-33-3cadf41cfe05>:18: SettingWithCopyWarning: \n",
            "A value is trying to be set on a copy of a slice from a DataFrame\n",
            "\n",
            "See the caveats in the documentation: https://pandas.pydata.org/pandas-docs/stable/user_guide/indexing.html#returning-a-view-versus-a-copy\n",
            "  column.loc[i] = pd.NaT\n",
            "<ipython-input-33-3cadf41cfe05>:26: SettingWithCopyWarning: \n",
            "A value is trying to be set on a copy of a slice from a DataFrame\n",
            "\n",
            "See the caveats in the documentation: https://pandas.pydata.org/pandas-docs/stable/user_guide/indexing.html#returning-a-view-versus-a-copy\n",
            "  column.loc[i] = pd.to_datetime(column.loc[i], format='%d.%m.%Y')\n",
            "<ipython-input-33-3cadf41cfe05>:34: SettingWithCopyWarning: \n",
            "A value is trying to be set on a copy of a slice from a DataFrame\n",
            "\n",
            "See the caveats in the documentation: https://pandas.pydata.org/pandas-docs/stable/user_guide/indexing.html#returning-a-view-versus-a-copy\n",
            "  column.loc[i] = pd.to_datetime(column.loc[i], format='%m-%d-%Y')\n"
          ]
        }
      ]
    },
    {
      "cell_type": "markdown",
      "source": [
        "Parse the **First Call** column"
      ],
      "metadata": {
        "id": "oog4HK9C8_ka"
      }
    },
    {
      "cell_type": "code",
      "source": [
        "parsed_data['First Call'] = datetime_parser(parsed_data['First Call'])"
      ],
      "metadata": {
        "colab": {
          "base_uri": "https://localhost:8080/"
        },
        "id": "aqUW68Hg4o9e",
        "outputId": "38befa74-96d8-429a-a785-0969f9d4c4bc"
      },
      "execution_count": 37,
      "outputs": [
        {
          "output_type": "stream",
          "name": "stderr",
          "text": [
            "<ipython-input-33-3cadf41cfe05>:18: SettingWithCopyWarning: \n",
            "A value is trying to be set on a copy of a slice from a DataFrame\n",
            "\n",
            "See the caveats in the documentation: https://pandas.pydata.org/pandas-docs/stable/user_guide/indexing.html#returning-a-view-versus-a-copy\n",
            "  column.loc[i] = pd.NaT\n"
          ]
        }
      ]
    },
    {
      "cell_type": "markdown",
      "source": [
        "Parse the **Signed up for a demo** column"
      ],
      "metadata": {
        "id": "6KXqXULT9Azg"
      }
    },
    {
      "cell_type": "code",
      "source": [
        "parsed_data['Signed up for a demo'] = datetime_parser(parsed_data['Signed up for a demo'])"
      ],
      "metadata": {
        "colab": {
          "base_uri": "https://localhost:8080/"
        },
        "id": "KEqfW6aA4pSm",
        "outputId": "64a52b2a-2f0f-4062-c3e5-cc676c484f8d"
      },
      "execution_count": 38,
      "outputs": [
        {
          "output_type": "stream",
          "name": "stderr",
          "text": [
            "<ipython-input-33-3cadf41cfe05>:18: SettingWithCopyWarning: \n",
            "A value is trying to be set on a copy of a slice from a DataFrame\n",
            "\n",
            "See the caveats in the documentation: https://pandas.pydata.org/pandas-docs/stable/user_guide/indexing.html#returning-a-view-versus-a-copy\n",
            "  column.loc[i] = pd.NaT\n"
          ]
        }
      ]
    },
    {
      "cell_type": "markdown",
      "source": [
        "Parse the **Filled in customer survey** column"
      ],
      "metadata": {
        "id": "yirL2ONk9EGH"
      }
    },
    {
      "cell_type": "code",
      "source": [
        "parsed_data['Filled in customer survey'] = datetime_parser(parsed_data['Filled in customer survey'])"
      ],
      "metadata": {
        "colab": {
          "base_uri": "https://localhost:8080/"
        },
        "id": "u0Q5gOOF4pw4",
        "outputId": "055e0f76-b1de-4c8c-884d-750ec3daf0b6"
      },
      "execution_count": 39,
      "outputs": [
        {
          "output_type": "stream",
          "name": "stderr",
          "text": [
            "<ipython-input-33-3cadf41cfe05>:18: SettingWithCopyWarning: \n",
            "A value is trying to be set on a copy of a slice from a DataFrame\n",
            "\n",
            "See the caveats in the documentation: https://pandas.pydata.org/pandas-docs/stable/user_guide/indexing.html#returning-a-view-versus-a-copy\n",
            "  column.loc[i] = pd.NaT\n"
          ]
        }
      ]
    },
    {
      "cell_type": "markdown",
      "source": [
        "Parse the **Did sign up to the platform** column.\n",
        "\n",
        "Actually we notice that some cells in this column do not contain a datetime value, but rather the string \"No\""
      ],
      "metadata": {
        "id": "mqNWFaX-9Hdr"
      }
    },
    {
      "cell_type": "code",
      "source": [
        "mask = (parsed_data['Did sign up to the platform'] == 'No')\n",
        "did_not_signed = parsed_data[mask]\n",
        "did_not_signed['First Call'].isna().sum()"
      ],
      "metadata": {
        "id": "x7TNFFiq5Xn7",
        "colab": {
          "base_uri": "https://localhost:8080/"
        },
        "outputId": "0fd8f238-93ea-4bac-ccdd-6cd0c568d51b"
      },
      "execution_count": 40,
      "outputs": [
        {
          "output_type": "execute_result",
          "data": {
            "text/plain": [
              "0"
            ]
          },
          "metadata": {},
          "execution_count": 40
        }
      ]
    },
    {
      "cell_type": "markdown",
      "source": [
        "Looking at the \"First Call\" column of these rows, we notice that in **all cases** the first call happened and the potential customer decided not to Sign up to the platform. Hopefully our model will be able to pick up this trend.\n",
        "\n",
        "Now we need to remove the 'No' values from the column, but we stil want to preserve the information.\n",
        "\n",
        "Let's create a **new boolean feature**"
      ],
      "metadata": {
        "id": "9phPgBfk9Qux"
      }
    },
    {
      "cell_type": "code",
      "source": [
        "# first let's rename the original column\n",
        "parsed_data.rename(columns={'Did sign up to the platform': 'Date Platform sign up'}, inplace=True)\n",
        "# Create the new column\n",
        "parsed_data['Bool Platform sign up'] = np.nan\n",
        "\n",
        "# Create a mask to find the rows where Customer actually did signed up\n",
        "signed_mask = (parsed_data['Date Platform sign up'].notna()) & (parsed_data['Date Platform sign up'] != 'No')\n",
        "parsed_data['Bool Platform sign up'][signed_mask] = 1\n",
        "\n",
        "# Create a mask for the rows where we know that customer DID NOT signed up\n",
        "not_signed_mask = (parsed_data['Date Platform sign up'] == 'No')\n",
        "parsed_data['Bool Platform sign up'][not_signed_mask] = -1"
      ],
      "metadata": {
        "colab": {
          "base_uri": "https://localhost:8080/"
        },
        "id": "KJ-s-nJF49tz",
        "outputId": "c5191eb9-a5b6-4c45-d6d9-90133bdc712f"
      },
      "execution_count": 41,
      "outputs": [
        {
          "output_type": "stream",
          "name": "stderr",
          "text": [
            "<ipython-input-41-a5bf1bc4ebba>:8: SettingWithCopyWarning: \n",
            "A value is trying to be set on a copy of a slice from a DataFrame\n",
            "\n",
            "See the caveats in the documentation: https://pandas.pydata.org/pandas-docs/stable/user_guide/indexing.html#returning-a-view-versus-a-copy\n",
            "  parsed_data['Bool Platform sign up'][signed_mask] = 1\n",
            "<ipython-input-41-a5bf1bc4ebba>:12: SettingWithCopyWarning: \n",
            "A value is trying to be set on a copy of a slice from a DataFrame\n",
            "\n",
            "See the caveats in the documentation: https://pandas.pydata.org/pandas-docs/stable/user_guide/indexing.html#returning-a-view-versus-a-copy\n",
            "  parsed_data['Bool Platform sign up'][not_signed_mask] = -1\n"
          ]
        }
      ]
    },
    {
      "cell_type": "markdown",
      "source": [
        "Now we can actually proceed to parsing the column 'Date Platform sign up'"
      ],
      "metadata": {
        "id": "mPN5BYKLg2Jc"
      }
    },
    {
      "cell_type": "code",
      "source": [
        "parsed_data['Date Platform sign up'] = parsed_data['Date Platform sign up'].replace('No', pd.NaT)\n",
        "\n",
        "# When running the parser we notice that one cell has a typo in the year: 20221\n",
        "# let's find the row and fix the issue\n",
        "idx = np.where(parsed_data['Date Platform sign up'] == '20221-08-24')\n",
        "parsed_data['Date Platform sign up'].iloc[idx] = '2021-08-24'"
      ],
      "metadata": {
        "colab": {
          "base_uri": "https://localhost:8080/"
        },
        "id": "5M3V4yj9_unC",
        "outputId": "76ac562d-3de8-40c2-d823-ac21d64d28db"
      },
      "execution_count": 42,
      "outputs": [
        {
          "output_type": "stream",
          "name": "stderr",
          "text": [
            "<ipython-input-42-4868518e71eb>:6: SettingWithCopyWarning: \n",
            "A value is trying to be set on a copy of a slice from a DataFrame\n",
            "\n",
            "See the caveats in the documentation: https://pandas.pydata.org/pandas-docs/stable/user_guide/indexing.html#returning-a-view-versus-a-copy\n",
            "  parsed_data['Date Platform sign up'].iloc[idx] = '2021-08-24'\n"
          ]
        }
      ]
    },
    {
      "cell_type": "code",
      "source": [
        "# Finally parse the column\n",
        "parsed_data['Date Platform sign up'] = datetime_parser(parsed_data['Date Platform sign up'])"
      ],
      "metadata": {
        "colab": {
          "base_uri": "https://localhost:8080/"
        },
        "id": "0NYbmggU_ofC",
        "outputId": "6f0ffa6e-63b4-45c6-d898-c98cfe238599"
      },
      "execution_count": 43,
      "outputs": [
        {
          "output_type": "stream",
          "name": "stderr",
          "text": [
            "<ipython-input-33-3cadf41cfe05>:18: SettingWithCopyWarning: \n",
            "A value is trying to be set on a copy of a slice from a DataFrame\n",
            "\n",
            "See the caveats in the documentation: https://pandas.pydata.org/pandas-docs/stable/user_guide/indexing.html#returning-a-view-versus-a-copy\n",
            "  column.loc[i] = pd.NaT\n"
          ]
        }
      ]
    },
    {
      "cell_type": "code",
      "source": [
        "parsed_data['Account Manager assigned'] = datetime_parser(parsed_data['Account Manager assigned'])"
      ],
      "metadata": {
        "colab": {
          "base_uri": "https://localhost:8080/"
        },
        "id": "5-NpFnAm4-PJ",
        "outputId": "63587522-af08-46ba-8072-3eb35e71f691"
      },
      "execution_count": 44,
      "outputs": [
        {
          "output_type": "stream",
          "name": "stderr",
          "text": [
            "<ipython-input-33-3cadf41cfe05>:18: SettingWithCopyWarning: \n",
            "A value is trying to be set on a copy of a slice from a DataFrame\n",
            "\n",
            "See the caveats in the documentation: https://pandas.pydata.org/pandas-docs/stable/user_guide/indexing.html#returning-a-view-versus-a-copy\n",
            "  column.loc[i] = pd.NaT\n"
          ]
        }
      ]
    },
    {
      "cell_type": "code",
      "source": [
        "# Also column \"subscribed\" has an unexpected value - we need to manually modify it\n",
        "idx = np.where(parsed_data['Subscribed'] == '0000-00-00')\n",
        "parsed_data['Subscribed'].iloc[idx] = pd.NaT"
      ],
      "metadata": {
        "colab": {
          "base_uri": "https://localhost:8080/"
        },
        "id": "lnChkR-nAauN",
        "outputId": "d57561a9-fcb3-4074-d61f-0a1199fbbd81"
      },
      "execution_count": 45,
      "outputs": [
        {
          "output_type": "stream",
          "name": "stderr",
          "text": [
            "<ipython-input-45-5284ecdf84cd>:3: SettingWithCopyWarning: \n",
            "A value is trying to be set on a copy of a slice from a DataFrame\n",
            "\n",
            "See the caveats in the documentation: https://pandas.pydata.org/pandas-docs/stable/user_guide/indexing.html#returning-a-view-versus-a-copy\n",
            "  parsed_data['Subscribed'].iloc[idx] = pd.NaT\n"
          ]
        }
      ]
    },
    {
      "cell_type": "code",
      "source": [
        "parsed_data['Subscribed'] = datetime_parser(parsed_data['Subscribed'])"
      ],
      "metadata": {
        "colab": {
          "base_uri": "https://localhost:8080/"
        },
        "id": "CFj-LhR04-uc",
        "outputId": "e2232cda-84dd-41d3-bc21-c13f7702ea29"
      },
      "execution_count": 46,
      "outputs": [
        {
          "output_type": "stream",
          "name": "stderr",
          "text": [
            "<ipython-input-33-3cadf41cfe05>:18: SettingWithCopyWarning: \n",
            "A value is trying to be set on a copy of a slice from a DataFrame\n",
            "\n",
            "See the caveats in the documentation: https://pandas.pydata.org/pandas-docs/stable/user_guide/indexing.html#returning-a-view-versus-a-copy\n",
            "  column.loc[i] = pd.NaT\n"
          ]
        }
      ]
    },
    {
      "cell_type": "code",
      "source": [
        "parsed_data.info()"
      ],
      "metadata": {
        "colab": {
          "base_uri": "https://localhost:8080/"
        },
        "id": "ou7EA5uxywkr",
        "outputId": "73e4b58b-4cc3-43d9-bb80-e700258ce962"
      },
      "execution_count": 47,
      "outputs": [
        {
          "output_type": "stream",
          "name": "stdout",
          "text": [
            "<class 'pandas.core.frame.DataFrame'>\n",
            "Int64Index: 11028 entries, 1 to 11793\n",
            "Data columns (total 13 columns):\n",
            " #   Column                     Non-Null Count  Dtype         \n",
            "---  ------                     --------------  -----         \n",
            " 0   Country                    11028 non-null  object        \n",
            " 1   Education                  11028 non-null  object        \n",
            " 2   First Contact              10317 non-null  datetime64[ns]\n",
            " 3   Last Contact               10722 non-null  datetime64[ns]\n",
            " 4   Status                     11028 non-null  object        \n",
            " 5   Stage                      11028 non-null  object        \n",
            " 6   First Call                 441 non-null    datetime64[ns]\n",
            " 7   Signed up for a demo       283 non-null    datetime64[ns]\n",
            " 8   Filled in customer survey  184 non-null    datetime64[ns]\n",
            " 9   Date Platform sign up      296 non-null    datetime64[ns]\n",
            " 10  Account Manager assigned   71 non-null     datetime64[ns]\n",
            " 11  Subscribed                 47 non-null     datetime64[ns]\n",
            " 12  Bool Platform sign up      423 non-null    float64       \n",
            "dtypes: datetime64[ns](8), float64(1), object(4)\n",
            "memory usage: 1.4+ MB\n"
          ]
        }
      ]
    },
    {
      "cell_type": "markdown",
      "source": [
        "# Exploratory Data Analysis - Country"
      ],
      "metadata": {
        "id": "M9QFFsz4_PIZ"
      }
    },
    {
      "cell_type": "code",
      "source": [
        "# Bar plot for the counties\n",
        "fig = px.bar(\n",
        "    parsed_data,\n",
        "    x=parsed_data.groupby('Country').size().values,\n",
        "    y=parsed_data.groupby('Country').size().index\n",
        ")\n",
        "\n",
        "fig.update_layout(\n",
        "    xaxis_title='Count',\n",
        "    yaxis_title='Country',\n",
        "    xaxis=dict(showline=False, showgrid=False),\n",
        "    yaxis=dict(showline=False, showgrid=False)\n",
        ")\n",
        "\n",
        "fig.show()"
      ],
      "metadata": {
        "colab": {
          "base_uri": "https://localhost:8080/",
          "height": 0
        },
        "id": "w1P717Kt_UhA",
        "outputId": "bdc44ce1-ca8f-45ae-ab0f-55209cdea99f"
      },
      "execution_count": 48,
      "outputs": [
        {
          "output_type": "display_data",
          "data": {
            "text/html": [
              "<html>\n",
              "<head><meta charset=\"utf-8\" /></head>\n",
              "<body>\n",
              "    <div>            <script src=\"https://cdnjs.cloudflare.com/ajax/libs/mathjax/2.7.5/MathJax.js?config=TeX-AMS-MML_SVG\"></script><script type=\"text/javascript\">if (window.MathJax && window.MathJax.Hub && window.MathJax.Hub.Config) {window.MathJax.Hub.Config({SVG: {font: \"STIX-Web\"}});}</script>                <script type=\"text/javascript\">window.PlotlyConfig = {MathJaxConfig: 'local'};</script>\n",
              "        <script charset=\"utf-8\" src=\"https://cdn.plot.ly/plotly-2.24.1.min.js\"></script>                <div id=\"065f88d3-74b9-4c4c-89fa-9b062ed873df\" class=\"plotly-graph-div\" style=\"height:525px; width:100%;\"></div>            <script type=\"text/javascript\">                                    window.PLOTLYENV=window.PLOTLYENV || {};                                    if (document.getElementById(\"065f88d3-74b9-4c4c-89fa-9b062ed873df\")) {                    Plotly.newPlot(                        \"065f88d3-74b9-4c4c-89fa-9b062ed873df\",                        [{\"alignmentgroup\":\"True\",\"hovertemplate\":\"x=%{x}\\u003cbr\\u003ey=%{y}\\u003cextra\\u003e\\u003c\\u002fextra\\u003e\",\"legendgroup\":\"\",\"marker\":{\"color\":\"#636efa\",\"pattern\":{\"shape\":\"\"}},\"name\":\"\",\"offsetgroup\":\"\",\"orientation\":\"h\",\"showlegend\":false,\"textposition\":\"auto\",\"x\":[10,2,3,269,1,4,4,38,1,2,30,1,1,1,1,1,1,815,1,37,1,4,1,2,1,3,12,3,12,2,15,336,1,2,1,282,5,1,1,1,2,72,3,7,5,8,79,8,1,2,1,3,1,2,2,1,2,24,5,38,3,11,3,1,7,2,1,4,20,32,23,1,2,1,2,206,1,1,1,97,1,97,3,169,2,19,143,5,5,8,1,329,6604,2,2,110,26,1,5,1,1,889,1,10],\"xaxis\":\"x\",\"y\":[\"-\",\"Algeria\",\"Argentina\",\"Australia\",\"Australia \",\"Austria\",\"Bangladesh\",\"Belgium\",\"Benin\",\"Bolivia\",\"Brazil\",\"Bulgaria\",\"Bulgaria & UK\",\"CA\",\"CA \",\"California\",\"Cameroon\",\"Canada\",\"Central African Republic\",\"China\",\"Chuang\",\"Colombia\",\"Congo\",\"Croatia\",\"Czechia\",\"Czechia (Czech Republic)\",\"Denmark\",\"Dubai\",\"Egypt\",\"England\",\"Finland\",\"France\",\"Full time\",\"Georgia\",\"Georgia \",\"Germany\",\"Greece\",\"Greek\",\"Guinea\",\"Hong Kong\",\"Hungary\",\"India\",\"Indonesia\",\"Iran\",\"Ireland\",\"Israel\",\"Italy\",\"Japan\",\"Jordan\",\"Kenya\",\"Korea\",\"Kuwait\",\"Latvia\",\"Lebanon\",\"Luxembourg\",\"Luxembourg \",\"Malaysia\",\"Mexico\",\"Morocco\",\"Netherlands\",\"New Zealand\",\"Nigeria\",\"Norway\",\"Nottingham\",\"Pakistan\",\"Peru\",\"Philadelphia\",\"Philippines\",\"Poland\",\"Portugal\",\"Qatar\",\"Romania\",\"Russia\",\"Russia&Ukraine\",\"Rwanda\",\"Saudi Arabia\",\"Senegal\",\"Seoul\",\"Serbia\",\"Singapore\",\"Singapore \",\"South Africa\",\"South Korea\",\"Spain\",\"Sri Lanka\",\"Sweden\",\"Switzerland\",\"Taiwan\",\"Thailand\",\"Tunisia\",\"Turkey\",\"UK\",\"USA\",\"Uk\",\"Ukraine\",\"United Arab Emirates\",\"Usa\",\"Venezuela\",\"Vietnam\",\"Vietnamese\",\"canada\",\"missing\",\"uSA\",\"usa\"],\"yaxis\":\"y\",\"type\":\"bar\"}],                        {\"template\":{\"data\":{\"histogram2dcontour\":[{\"type\":\"histogram2dcontour\",\"colorbar\":{\"outlinewidth\":0,\"ticks\":\"\"},\"colorscale\":[[0.0,\"#0d0887\"],[0.1111111111111111,\"#46039f\"],[0.2222222222222222,\"#7201a8\"],[0.3333333333333333,\"#9c179e\"],[0.4444444444444444,\"#bd3786\"],[0.5555555555555556,\"#d8576b\"],[0.6666666666666666,\"#ed7953\"],[0.7777777777777778,\"#fb9f3a\"],[0.8888888888888888,\"#fdca26\"],[1.0,\"#f0f921\"]]}],\"choropleth\":[{\"type\":\"choropleth\",\"colorbar\":{\"outlinewidth\":0,\"ticks\":\"\"}}],\"histogram2d\":[{\"type\":\"histogram2d\",\"colorbar\":{\"outlinewidth\":0,\"ticks\":\"\"},\"colorscale\":[[0.0,\"#0d0887\"],[0.1111111111111111,\"#46039f\"],[0.2222222222222222,\"#7201a8\"],[0.3333333333333333,\"#9c179e\"],[0.4444444444444444,\"#bd3786\"],[0.5555555555555556,\"#d8576b\"],[0.6666666666666666,\"#ed7953\"],[0.7777777777777778,\"#fb9f3a\"],[0.8888888888888888,\"#fdca26\"],[1.0,\"#f0f921\"]]}],\"heatmap\":[{\"type\":\"heatmap\",\"colorbar\":{\"outlinewidth\":0,\"ticks\":\"\"},\"colorscale\":[[0.0,\"#0d0887\"],[0.1111111111111111,\"#46039f\"],[0.2222222222222222,\"#7201a8\"],[0.3333333333333333,\"#9c179e\"],[0.4444444444444444,\"#bd3786\"],[0.5555555555555556,\"#d8576b\"],[0.6666666666666666,\"#ed7953\"],[0.7777777777777778,\"#fb9f3a\"],[0.8888888888888888,\"#fdca26\"],[1.0,\"#f0f921\"]]}],\"heatmapgl\":[{\"type\":\"heatmapgl\",\"colorbar\":{\"outlinewidth\":0,\"ticks\":\"\"},\"colorscale\":[[0.0,\"#0d0887\"],[0.1111111111111111,\"#46039f\"],[0.2222222222222222,\"#7201a8\"],[0.3333333333333333,\"#9c179e\"],[0.4444444444444444,\"#bd3786\"],[0.5555555555555556,\"#d8576b\"],[0.6666666666666666,\"#ed7953\"],[0.7777777777777778,\"#fb9f3a\"],[0.8888888888888888,\"#fdca26\"],[1.0,\"#f0f921\"]]}],\"contourcarpet\":[{\"type\":\"contourcarpet\",\"colorbar\":{\"outlinewidth\":0,\"ticks\":\"\"}}],\"contour\":[{\"type\":\"contour\",\"colorbar\":{\"outlinewidth\":0,\"ticks\":\"\"},\"colorscale\":[[0.0,\"#0d0887\"],[0.1111111111111111,\"#46039f\"],[0.2222222222222222,\"#7201a8\"],[0.3333333333333333,\"#9c179e\"],[0.4444444444444444,\"#bd3786\"],[0.5555555555555556,\"#d8576b\"],[0.6666666666666666,\"#ed7953\"],[0.7777777777777778,\"#fb9f3a\"],[0.8888888888888888,\"#fdca26\"],[1.0,\"#f0f921\"]]}],\"surface\":[{\"type\":\"surface\",\"colorbar\":{\"outlinewidth\":0,\"ticks\":\"\"},\"colorscale\":[[0.0,\"#0d0887\"],[0.1111111111111111,\"#46039f\"],[0.2222222222222222,\"#7201a8\"],[0.3333333333333333,\"#9c179e\"],[0.4444444444444444,\"#bd3786\"],[0.5555555555555556,\"#d8576b\"],[0.6666666666666666,\"#ed7953\"],[0.7777777777777778,\"#fb9f3a\"],[0.8888888888888888,\"#fdca26\"],[1.0,\"#f0f921\"]]}],\"mesh3d\":[{\"type\":\"mesh3d\",\"colorbar\":{\"outlinewidth\":0,\"ticks\":\"\"}}],\"scatter\":[{\"fillpattern\":{\"fillmode\":\"overlay\",\"size\":10,\"solidity\":0.2},\"type\":\"scatter\"}],\"parcoords\":[{\"type\":\"parcoords\",\"line\":{\"colorbar\":{\"outlinewidth\":0,\"ticks\":\"\"}}}],\"scatterpolargl\":[{\"type\":\"scatterpolargl\",\"marker\":{\"colorbar\":{\"outlinewidth\":0,\"ticks\":\"\"}}}],\"bar\":[{\"error_x\":{\"color\":\"#2a3f5f\"},\"error_y\":{\"color\":\"#2a3f5f\"},\"marker\":{\"line\":{\"color\":\"#E5ECF6\",\"width\":0.5},\"pattern\":{\"fillmode\":\"overlay\",\"size\":10,\"solidity\":0.2}},\"type\":\"bar\"}],\"scattergeo\":[{\"type\":\"scattergeo\",\"marker\":{\"colorbar\":{\"outlinewidth\":0,\"ticks\":\"\"}}}],\"scatterpolar\":[{\"type\":\"scatterpolar\",\"marker\":{\"colorbar\":{\"outlinewidth\":0,\"ticks\":\"\"}}}],\"histogram\":[{\"marker\":{\"pattern\":{\"fillmode\":\"overlay\",\"size\":10,\"solidity\":0.2}},\"type\":\"histogram\"}],\"scattergl\":[{\"type\":\"scattergl\",\"marker\":{\"colorbar\":{\"outlinewidth\":0,\"ticks\":\"\"}}}],\"scatter3d\":[{\"type\":\"scatter3d\",\"line\":{\"colorbar\":{\"outlinewidth\":0,\"ticks\":\"\"}},\"marker\":{\"colorbar\":{\"outlinewidth\":0,\"ticks\":\"\"}}}],\"scattermapbox\":[{\"type\":\"scattermapbox\",\"marker\":{\"colorbar\":{\"outlinewidth\":0,\"ticks\":\"\"}}}],\"scatterternary\":[{\"type\":\"scatterternary\",\"marker\":{\"colorbar\":{\"outlinewidth\":0,\"ticks\":\"\"}}}],\"scattercarpet\":[{\"type\":\"scattercarpet\",\"marker\":{\"colorbar\":{\"outlinewidth\":0,\"ticks\":\"\"}}}],\"carpet\":[{\"aaxis\":{\"endlinecolor\":\"#2a3f5f\",\"gridcolor\":\"white\",\"linecolor\":\"white\",\"minorgridcolor\":\"white\",\"startlinecolor\":\"#2a3f5f\"},\"baxis\":{\"endlinecolor\":\"#2a3f5f\",\"gridcolor\":\"white\",\"linecolor\":\"white\",\"minorgridcolor\":\"white\",\"startlinecolor\":\"#2a3f5f\"},\"type\":\"carpet\"}],\"table\":[{\"cells\":{\"fill\":{\"color\":\"#EBF0F8\"},\"line\":{\"color\":\"white\"}},\"header\":{\"fill\":{\"color\":\"#C8D4E3\"},\"line\":{\"color\":\"white\"}},\"type\":\"table\"}],\"barpolar\":[{\"marker\":{\"line\":{\"color\":\"#E5ECF6\",\"width\":0.5},\"pattern\":{\"fillmode\":\"overlay\",\"size\":10,\"solidity\":0.2}},\"type\":\"barpolar\"}],\"pie\":[{\"automargin\":true,\"type\":\"pie\"}]},\"layout\":{\"autotypenumbers\":\"strict\",\"colorway\":[\"#636efa\",\"#EF553B\",\"#00cc96\",\"#ab63fa\",\"#FFA15A\",\"#19d3f3\",\"#FF6692\",\"#B6E880\",\"#FF97FF\",\"#FECB52\"],\"font\":{\"color\":\"#2a3f5f\"},\"hovermode\":\"closest\",\"hoverlabel\":{\"align\":\"left\"},\"paper_bgcolor\":\"white\",\"plot_bgcolor\":\"#E5ECF6\",\"polar\":{\"bgcolor\":\"#E5ECF6\",\"angularaxis\":{\"gridcolor\":\"white\",\"linecolor\":\"white\",\"ticks\":\"\"},\"radialaxis\":{\"gridcolor\":\"white\",\"linecolor\":\"white\",\"ticks\":\"\"}},\"ternary\":{\"bgcolor\":\"#E5ECF6\",\"aaxis\":{\"gridcolor\":\"white\",\"linecolor\":\"white\",\"ticks\":\"\"},\"baxis\":{\"gridcolor\":\"white\",\"linecolor\":\"white\",\"ticks\":\"\"},\"caxis\":{\"gridcolor\":\"white\",\"linecolor\":\"white\",\"ticks\":\"\"}},\"coloraxis\":{\"colorbar\":{\"outlinewidth\":0,\"ticks\":\"\"}},\"colorscale\":{\"sequential\":[[0.0,\"#0d0887\"],[0.1111111111111111,\"#46039f\"],[0.2222222222222222,\"#7201a8\"],[0.3333333333333333,\"#9c179e\"],[0.4444444444444444,\"#bd3786\"],[0.5555555555555556,\"#d8576b\"],[0.6666666666666666,\"#ed7953\"],[0.7777777777777778,\"#fb9f3a\"],[0.8888888888888888,\"#fdca26\"],[1.0,\"#f0f921\"]],\"sequentialminus\":[[0.0,\"#0d0887\"],[0.1111111111111111,\"#46039f\"],[0.2222222222222222,\"#7201a8\"],[0.3333333333333333,\"#9c179e\"],[0.4444444444444444,\"#bd3786\"],[0.5555555555555556,\"#d8576b\"],[0.6666666666666666,\"#ed7953\"],[0.7777777777777778,\"#fb9f3a\"],[0.8888888888888888,\"#fdca26\"],[1.0,\"#f0f921\"]],\"diverging\":[[0,\"#8e0152\"],[0.1,\"#c51b7d\"],[0.2,\"#de77ae\"],[0.3,\"#f1b6da\"],[0.4,\"#fde0ef\"],[0.5,\"#f7f7f7\"],[0.6,\"#e6f5d0\"],[0.7,\"#b8e186\"],[0.8,\"#7fbc41\"],[0.9,\"#4d9221\"],[1,\"#276419\"]]},\"xaxis\":{\"gridcolor\":\"white\",\"linecolor\":\"white\",\"ticks\":\"\",\"title\":{\"standoff\":15},\"zerolinecolor\":\"white\",\"automargin\":true,\"zerolinewidth\":2},\"yaxis\":{\"gridcolor\":\"white\",\"linecolor\":\"white\",\"ticks\":\"\",\"title\":{\"standoff\":15},\"zerolinecolor\":\"white\",\"automargin\":true,\"zerolinewidth\":2},\"scene\":{\"xaxis\":{\"backgroundcolor\":\"#E5ECF6\",\"gridcolor\":\"white\",\"linecolor\":\"white\",\"showbackground\":true,\"ticks\":\"\",\"zerolinecolor\":\"white\",\"gridwidth\":2},\"yaxis\":{\"backgroundcolor\":\"#E5ECF6\",\"gridcolor\":\"white\",\"linecolor\":\"white\",\"showbackground\":true,\"ticks\":\"\",\"zerolinecolor\":\"white\",\"gridwidth\":2},\"zaxis\":{\"backgroundcolor\":\"#E5ECF6\",\"gridcolor\":\"white\",\"linecolor\":\"white\",\"showbackground\":true,\"ticks\":\"\",\"zerolinecolor\":\"white\",\"gridwidth\":2}},\"shapedefaults\":{\"line\":{\"color\":\"#2a3f5f\"}},\"annotationdefaults\":{\"arrowcolor\":\"#2a3f5f\",\"arrowhead\":0,\"arrowwidth\":1},\"geo\":{\"bgcolor\":\"white\",\"landcolor\":\"#E5ECF6\",\"subunitcolor\":\"white\",\"showland\":true,\"showlakes\":true,\"lakecolor\":\"white\"},\"title\":{\"x\":0.05},\"mapbox\":{\"style\":\"light\"}}},\"xaxis\":{\"anchor\":\"y\",\"domain\":[0.0,1.0],\"title\":{\"text\":\"Count\"},\"showline\":false,\"showgrid\":false},\"yaxis\":{\"anchor\":\"x\",\"domain\":[0.0,1.0],\"title\":{\"text\":\"Country\"},\"showline\":false,\"showgrid\":false},\"legend\":{\"tracegroupgap\":0},\"margin\":{\"t\":60},\"barmode\":\"relative\"},                        {\"responsive\": true}                    ).then(function(){\n",
              "                            \n",
              "var gd = document.getElementById('065f88d3-74b9-4c4c-89fa-9b062ed873df');\n",
              "var x = new MutationObserver(function (mutations, observer) {{\n",
              "        var display = window.getComputedStyle(gd).display;\n",
              "        if (!display || display === 'none') {{\n",
              "            console.log([gd, 'removed!']);\n",
              "            Plotly.purge(gd);\n",
              "            observer.disconnect();\n",
              "        }}\n",
              "}});\n",
              "\n",
              "// Listen for the removal of the full notebook cells\n",
              "var notebookContainer = gd.closest('#notebook-container');\n",
              "if (notebookContainer) {{\n",
              "    x.observe(notebookContainer, {childList: true});\n",
              "}}\n",
              "\n",
              "// Listen for the clearing of the current output cell\n",
              "var outputEl = gd.closest('.output');\n",
              "if (outputEl) {{\n",
              "    x.observe(outputEl, {childList: true});\n",
              "}}\n",
              "\n",
              "                        })                };                            </script>        </div>\n",
              "</body>\n",
              "</html>"
            ]
          },
          "metadata": {}
        }
      ]
    },
    {
      "cell_type": "markdown",
      "source": [
        "I did not expect these many values for the country. Let's analyze this more in details:"
      ],
      "metadata": {
        "id": "HSwIkWdiAJM_"
      }
    },
    {
      "cell_type": "code",
      "source": [
        "parsed_data['Country'].value_counts()"
      ],
      "metadata": {
        "colab": {
          "base_uri": "https://localhost:8080/"
        },
        "id": "9MiQqzLK_iEt",
        "outputId": "e380c4c7-7b8a-4df6-e599-076ab7fc5355"
      },
      "execution_count": 49,
      "outputs": [
        {
          "output_type": "execute_result",
          "data": {
            "text/plain": [
              "USA                         6604\n",
              "missing                      889\n",
              "Canada                       815\n",
              "France                       336\n",
              "UK                           329\n",
              "                            ... \n",
              "uSA                            1\n",
              "Hong Kong                      1\n",
              "Singapore                      1\n",
              "Cameroon                       1\n",
              "Central African Republic       1\n",
              "Name: Country, Length: 104, dtype: int64"
            ]
          },
          "metadata": {},
          "execution_count": 49
        }
      ]
    },
    {
      "cell_type": "markdown",
      "source": [
        "There are **104** different Country values.\n",
        "Actually there are some typos (e.g. uSA), so let's elaborate a bit the strings to get a more informative overview"
      ],
      "metadata": {
        "id": "EGsUmkLQAOoc"
      }
    },
    {
      "cell_type": "code",
      "source": [
        "countries = parsed_data['Country'].str.rstrip().str.lower()\n",
        "countries.value_counts()"
      ],
      "metadata": {
        "colab": {
          "base_uri": "https://localhost:8080/"
        },
        "id": "rEIKTznRAnf5",
        "outputId": "7473613d-0893-4d7d-d97a-72d7fa51da0f"
      },
      "execution_count": 50,
      "outputs": [
        {
          "output_type": "execute_result",
          "data": {
            "text/plain": [
              "usa                         6641\n",
              "missing                      889\n",
              "canada                       816\n",
              "france                       336\n",
              "uk                           331\n",
              "                            ... \n",
              "full time                      1\n",
              "bulgaria                       1\n",
              "senegal                        1\n",
              "jordan                         1\n",
              "central african republic       1\n",
              "Name: Country, Length: 94, dtype: int64"
            ]
          },
          "metadata": {},
          "execution_count": 50
        }
      ]
    },
    {
      "cell_type": "markdown",
      "source": [
        "The modification showed indeed some typos. \\\n",
        "\n",
        "We also added a **rstrip** function to remove trailing spaces.\n",
        "\n",
        "The new count is **94**"
      ],
      "metadata": {
        "id": "Wa-IpSa9AtF3"
      }
    },
    {
      "cell_type": "code",
      "source": [
        "countries.value_counts().tail(30)"
      ],
      "metadata": {
        "id": "OZlCxE2A7njo",
        "outputId": "a1344dee-e5a6-4063-bb93-628d63727d60",
        "colab": {
          "base_uri": "https://localhost:8080/"
        }
      },
      "execution_count": 51,
      "outputs": [
        {
          "output_type": "execute_result",
          "data": {
            "text/plain": [
              "bolivia                     2\n",
              "kenya                       2\n",
              "malaysia                    2\n",
              "sri lanka                   2\n",
              "philadelphia                1\n",
              "congo                       1\n",
              "california                  1\n",
              "czechia                     1\n",
              "russia&ukraine              1\n",
              "nottingham                  1\n",
              "korea                       1\n",
              "bulgaria & uk               1\n",
              "vietnamese                  1\n",
              "greek                       1\n",
              "romania                     1\n",
              "turkey                      1\n",
              "latvia                      1\n",
              "hong kong                   1\n",
              "seoul                       1\n",
              "venezuela                   1\n",
              "chuang                      1\n",
              "benin                       1\n",
              "guinea                      1\n",
              "cameroon                    1\n",
              "serbia                      1\n",
              "full time                   1\n",
              "bulgaria                    1\n",
              "senegal                     1\n",
              "jordan                      1\n",
              "central african republic    1\n",
              "Name: Country, dtype: int64"
            ]
          },
          "metadata": {},
          "execution_count": 51
        }
      ]
    },
    {
      "cell_type": "markdown",
      "source": [
        "Looking at the tail, we still notice some duplicates (non compehensive list):\n",
        "- Czechia is mentioned twice\n",
        "- Bulgaria\n",
        "- Nottingham is a city, not a country. Same is true for Seul, philadelphia and california\n",
        "- Vietnamese is not a country\n",
        "- Full time is not a country\n",
        "\n",
        "Hence, let's create a lookup table to pre-process the country column"
      ],
      "metadata": {
        "id": "ohDjnNKKBg2U"
      }
    },
    {
      "cell_type": "code",
      "source": [
        "lookup_table = {\n",
        "    \"nottingham\": \"uk\",\n",
        "    \"seoul\": \"south korea\",\n",
        "    \"greek\": \"greece\",\n",
        "    \"vietnamese\": \"vietnam\",\n",
        "    \"bulgaria & uk\": \"bulgaria\",\n",
        "    \"korea\": \"south korea\",\n",
        "    \"russia&ukraine\": \"russia\",\n",
        "    \"california\": \"usa\",\n",
        "    \"philadelphia\": \"usa\",\n",
        "    \"ca\": \"usa\",\n",
        "    'england': \"uk\",\n",
        "    \"dubai\": \"united arab emirates\",\n",
        "    \"czechia (czech republic)\": \"czechia\",\n",
        "    \"chuang\": \"china\",\n",
        "    \"-\": \"missing\"\n",
        "}"
      ],
      "metadata": {
        "id": "ruAiygi_6Yi0"
      },
      "execution_count": 52,
      "outputs": []
    },
    {
      "cell_type": "code",
      "source": [
        "countries = countries.apply(lambda x: lookup_table[x] if x in lookup_table.keys() else x)\n",
        "countries.value_counts()"
      ],
      "metadata": {
        "id": "qws1oiQq8RZq",
        "outputId": "6f58befd-7fcf-4b92-a984-1321e0a5d68d",
        "colab": {
          "base_uri": "https://localhost:8080/"
        }
      },
      "execution_count": 53,
      "outputs": [
        {
          "output_type": "execute_result",
          "data": {
            "text/plain": [
              "usa                         6645\n",
              "missing                      899\n",
              "canada                       816\n",
              "france                       336\n",
              "uk                           334\n",
              "                            ... \n",
              "benin                          1\n",
              "cameroon                       1\n",
              "full time                      1\n",
              "turkey                         1\n",
              "central african republic       1\n",
              "Name: Country, Length: 79, dtype: int64"
            ]
          },
          "metadata": {},
          "execution_count": 53
        }
      ]
    },
    {
      "cell_type": "markdown",
      "source": [
        "Now we have **79** unique values"
      ],
      "metadata": {
        "id": "fZIA9Lzz_DhJ"
      }
    },
    {
      "cell_type": "code",
      "source": [
        "parsed_data['Country'] = countries.copy()\n",
        "\n",
        "# Bar plot for the counties\n",
        "fig = px.bar(\n",
        "    parsed_data,\n",
        "    x=countries.value_counts(),\n",
        "    y=countries.value_counts().index\n",
        ")\n",
        "\n",
        "fig.update_layout(\n",
        "    xaxis_title='Count',\n",
        "    yaxis_title='Country',\n",
        "    xaxis=dict(showline=False, showgrid=False),\n",
        "    yaxis=dict(showline=False, showgrid=False)\n",
        ")\n",
        "\n",
        "fig.show()"
      ],
      "metadata": {
        "id": "t3OHpjxR_Pse",
        "outputId": "d13df68a-82cc-4c20-9c57-039b20035b13",
        "colab": {
          "base_uri": "https://localhost:8080/",
          "height": 0
        }
      },
      "execution_count": 54,
      "outputs": [
        {
          "output_type": "display_data",
          "data": {
            "text/html": [
              "<html>\n",
              "<head><meta charset=\"utf-8\" /></head>\n",
              "<body>\n",
              "    <div>            <script src=\"https://cdnjs.cloudflare.com/ajax/libs/mathjax/2.7.5/MathJax.js?config=TeX-AMS-MML_SVG\"></script><script type=\"text/javascript\">if (window.MathJax && window.MathJax.Hub && window.MathJax.Hub.Config) {window.MathJax.Hub.Config({SVG: {font: \"STIX-Web\"}});}</script>                <script type=\"text/javascript\">window.PlotlyConfig = {MathJaxConfig: 'local'};</script>\n",
              "        <script charset=\"utf-8\" src=\"https://cdn.plot.ly/plotly-2.24.1.min.js\"></script>                <div id=\"093fabdf-5ba3-489c-9bc8-8f135b4be51c\" class=\"plotly-graph-div\" style=\"height:525px; width:100%;\"></div>            <script type=\"text/javascript\">                                    window.PLOTLYENV=window.PLOTLYENV || {};                                    if (document.getElementById(\"093fabdf-5ba3-489c-9bc8-8f135b4be51c\")) {                    Plotly.newPlot(                        \"093fabdf-5ba3-489c-9bc8-8f135b4be51c\",                        [{\"alignmentgroup\":\"True\",\"hovertemplate\":\"x=%{x}\\u003cbr\\u003ey=%{y}\\u003cextra\\u003e\\u003c\\u002fextra\\u003e\",\"legendgroup\":\"\",\"marker\":{\"color\":\"#636efa\",\"pattern\":{\"shape\":\"\"}},\"name\":\"\",\"offsetgroup\":\"\",\"orientation\":\"h\",\"showlegend\":false,\"textposition\":\"auto\",\"x\":[6645,899,816,336,334,282,270,206,169,143,113,98,97,79,72,38,38,38,32,30,24,23,20,19,15,12,12,11,8,8,8,7,7,6,6,5,5,5,5,5,4,4,4,4,4,3,3,3,3,3,3,3,3,2,2,2,2,2,2,2,2,2,2,2,2,1,1,1,1,1,1,1,1,1,1,1,1,1,1],\"xaxis\":\"x\",\"y\":[\"usa\",\"missing\",\"canada\",\"france\",\"uk\",\"germany\",\"australia\",\"saudi arabia\",\"spain\",\"switzerland\",\"united arab emirates\",\"singapore\",\"south africa\",\"italy\",\"india\",\"belgium\",\"china\",\"netherlands\",\"portugal\",\"brazil\",\"mexico\",\"qatar\",\"poland\",\"sweden\",\"finland\",\"denmark\",\"egypt\",\"nigeria\",\"japan\",\"israel\",\"tunisia\",\"iran\",\"pakistan\",\"greece\",\"vietnam\",\"morocco\",\"taiwan\",\"ireland\",\"south korea\",\"thailand\",\"philippines\",\"colombia\",\"czechia\",\"bangladesh\",\"austria\",\"russia\",\"new zealand\",\"georgia\",\"indonesia\",\"kuwait\",\"norway\",\"luxembourg\",\"argentina\",\"lebanon\",\"ukraine\",\"sri lanka\",\"peru\",\"croatia\",\"kenya\",\"hungary\",\"bulgaria\",\"malaysia\",\"rwanda\",\"algeria\",\"bolivia\",\"jordan\",\"romania\",\"congo\",\"guinea\",\"latvia\",\"hong kong\",\"serbia\",\"senegal\",\"venezuela\",\"benin\",\"cameroon\",\"full time\",\"turkey\",\"central african republic\"],\"yaxis\":\"y\",\"type\":\"bar\"}],                        {\"template\":{\"data\":{\"histogram2dcontour\":[{\"type\":\"histogram2dcontour\",\"colorbar\":{\"outlinewidth\":0,\"ticks\":\"\"},\"colorscale\":[[0.0,\"#0d0887\"],[0.1111111111111111,\"#46039f\"],[0.2222222222222222,\"#7201a8\"],[0.3333333333333333,\"#9c179e\"],[0.4444444444444444,\"#bd3786\"],[0.5555555555555556,\"#d8576b\"],[0.6666666666666666,\"#ed7953\"],[0.7777777777777778,\"#fb9f3a\"],[0.8888888888888888,\"#fdca26\"],[1.0,\"#f0f921\"]]}],\"choropleth\":[{\"type\":\"choropleth\",\"colorbar\":{\"outlinewidth\":0,\"ticks\":\"\"}}],\"histogram2d\":[{\"type\":\"histogram2d\",\"colorbar\":{\"outlinewidth\":0,\"ticks\":\"\"},\"colorscale\":[[0.0,\"#0d0887\"],[0.1111111111111111,\"#46039f\"],[0.2222222222222222,\"#7201a8\"],[0.3333333333333333,\"#9c179e\"],[0.4444444444444444,\"#bd3786\"],[0.5555555555555556,\"#d8576b\"],[0.6666666666666666,\"#ed7953\"],[0.7777777777777778,\"#fb9f3a\"],[0.8888888888888888,\"#fdca26\"],[1.0,\"#f0f921\"]]}],\"heatmap\":[{\"type\":\"heatmap\",\"colorbar\":{\"outlinewidth\":0,\"ticks\":\"\"},\"colorscale\":[[0.0,\"#0d0887\"],[0.1111111111111111,\"#46039f\"],[0.2222222222222222,\"#7201a8\"],[0.3333333333333333,\"#9c179e\"],[0.4444444444444444,\"#bd3786\"],[0.5555555555555556,\"#d8576b\"],[0.6666666666666666,\"#ed7953\"],[0.7777777777777778,\"#fb9f3a\"],[0.8888888888888888,\"#fdca26\"],[1.0,\"#f0f921\"]]}],\"heatmapgl\":[{\"type\":\"heatmapgl\",\"colorbar\":{\"outlinewidth\":0,\"ticks\":\"\"},\"colorscale\":[[0.0,\"#0d0887\"],[0.1111111111111111,\"#46039f\"],[0.2222222222222222,\"#7201a8\"],[0.3333333333333333,\"#9c179e\"],[0.4444444444444444,\"#bd3786\"],[0.5555555555555556,\"#d8576b\"],[0.6666666666666666,\"#ed7953\"],[0.7777777777777778,\"#fb9f3a\"],[0.8888888888888888,\"#fdca26\"],[1.0,\"#f0f921\"]]}],\"contourcarpet\":[{\"type\":\"contourcarpet\",\"colorbar\":{\"outlinewidth\":0,\"ticks\":\"\"}}],\"contour\":[{\"type\":\"contour\",\"colorbar\":{\"outlinewidth\":0,\"ticks\":\"\"},\"colorscale\":[[0.0,\"#0d0887\"],[0.1111111111111111,\"#46039f\"],[0.2222222222222222,\"#7201a8\"],[0.3333333333333333,\"#9c179e\"],[0.4444444444444444,\"#bd3786\"],[0.5555555555555556,\"#d8576b\"],[0.6666666666666666,\"#ed7953\"],[0.7777777777777778,\"#fb9f3a\"],[0.8888888888888888,\"#fdca26\"],[1.0,\"#f0f921\"]]}],\"surface\":[{\"type\":\"surface\",\"colorbar\":{\"outlinewidth\":0,\"ticks\":\"\"},\"colorscale\":[[0.0,\"#0d0887\"],[0.1111111111111111,\"#46039f\"],[0.2222222222222222,\"#7201a8\"],[0.3333333333333333,\"#9c179e\"],[0.4444444444444444,\"#bd3786\"],[0.5555555555555556,\"#d8576b\"],[0.6666666666666666,\"#ed7953\"],[0.7777777777777778,\"#fb9f3a\"],[0.8888888888888888,\"#fdca26\"],[1.0,\"#f0f921\"]]}],\"mesh3d\":[{\"type\":\"mesh3d\",\"colorbar\":{\"outlinewidth\":0,\"ticks\":\"\"}}],\"scatter\":[{\"fillpattern\":{\"fillmode\":\"overlay\",\"size\":10,\"solidity\":0.2},\"type\":\"scatter\"}],\"parcoords\":[{\"type\":\"parcoords\",\"line\":{\"colorbar\":{\"outlinewidth\":0,\"ticks\":\"\"}}}],\"scatterpolargl\":[{\"type\":\"scatterpolargl\",\"marker\":{\"colorbar\":{\"outlinewidth\":0,\"ticks\":\"\"}}}],\"bar\":[{\"error_x\":{\"color\":\"#2a3f5f\"},\"error_y\":{\"color\":\"#2a3f5f\"},\"marker\":{\"line\":{\"color\":\"#E5ECF6\",\"width\":0.5},\"pattern\":{\"fillmode\":\"overlay\",\"size\":10,\"solidity\":0.2}},\"type\":\"bar\"}],\"scattergeo\":[{\"type\":\"scattergeo\",\"marker\":{\"colorbar\":{\"outlinewidth\":0,\"ticks\":\"\"}}}],\"scatterpolar\":[{\"type\":\"scatterpolar\",\"marker\":{\"colorbar\":{\"outlinewidth\":0,\"ticks\":\"\"}}}],\"histogram\":[{\"marker\":{\"pattern\":{\"fillmode\":\"overlay\",\"size\":10,\"solidity\":0.2}},\"type\":\"histogram\"}],\"scattergl\":[{\"type\":\"scattergl\",\"marker\":{\"colorbar\":{\"outlinewidth\":0,\"ticks\":\"\"}}}],\"scatter3d\":[{\"type\":\"scatter3d\",\"line\":{\"colorbar\":{\"outlinewidth\":0,\"ticks\":\"\"}},\"marker\":{\"colorbar\":{\"outlinewidth\":0,\"ticks\":\"\"}}}],\"scattermapbox\":[{\"type\":\"scattermapbox\",\"marker\":{\"colorbar\":{\"outlinewidth\":0,\"ticks\":\"\"}}}],\"scatterternary\":[{\"type\":\"scatterternary\",\"marker\":{\"colorbar\":{\"outlinewidth\":0,\"ticks\":\"\"}}}],\"scattercarpet\":[{\"type\":\"scattercarpet\",\"marker\":{\"colorbar\":{\"outlinewidth\":0,\"ticks\":\"\"}}}],\"carpet\":[{\"aaxis\":{\"endlinecolor\":\"#2a3f5f\",\"gridcolor\":\"white\",\"linecolor\":\"white\",\"minorgridcolor\":\"white\",\"startlinecolor\":\"#2a3f5f\"},\"baxis\":{\"endlinecolor\":\"#2a3f5f\",\"gridcolor\":\"white\",\"linecolor\":\"white\",\"minorgridcolor\":\"white\",\"startlinecolor\":\"#2a3f5f\"},\"type\":\"carpet\"}],\"table\":[{\"cells\":{\"fill\":{\"color\":\"#EBF0F8\"},\"line\":{\"color\":\"white\"}},\"header\":{\"fill\":{\"color\":\"#C8D4E3\"},\"line\":{\"color\":\"white\"}},\"type\":\"table\"}],\"barpolar\":[{\"marker\":{\"line\":{\"color\":\"#E5ECF6\",\"width\":0.5},\"pattern\":{\"fillmode\":\"overlay\",\"size\":10,\"solidity\":0.2}},\"type\":\"barpolar\"}],\"pie\":[{\"automargin\":true,\"type\":\"pie\"}]},\"layout\":{\"autotypenumbers\":\"strict\",\"colorway\":[\"#636efa\",\"#EF553B\",\"#00cc96\",\"#ab63fa\",\"#FFA15A\",\"#19d3f3\",\"#FF6692\",\"#B6E880\",\"#FF97FF\",\"#FECB52\"],\"font\":{\"color\":\"#2a3f5f\"},\"hovermode\":\"closest\",\"hoverlabel\":{\"align\":\"left\"},\"paper_bgcolor\":\"white\",\"plot_bgcolor\":\"#E5ECF6\",\"polar\":{\"bgcolor\":\"#E5ECF6\",\"angularaxis\":{\"gridcolor\":\"white\",\"linecolor\":\"white\",\"ticks\":\"\"},\"radialaxis\":{\"gridcolor\":\"white\",\"linecolor\":\"white\",\"ticks\":\"\"}},\"ternary\":{\"bgcolor\":\"#E5ECF6\",\"aaxis\":{\"gridcolor\":\"white\",\"linecolor\":\"white\",\"ticks\":\"\"},\"baxis\":{\"gridcolor\":\"white\",\"linecolor\":\"white\",\"ticks\":\"\"},\"caxis\":{\"gridcolor\":\"white\",\"linecolor\":\"white\",\"ticks\":\"\"}},\"coloraxis\":{\"colorbar\":{\"outlinewidth\":0,\"ticks\":\"\"}},\"colorscale\":{\"sequential\":[[0.0,\"#0d0887\"],[0.1111111111111111,\"#46039f\"],[0.2222222222222222,\"#7201a8\"],[0.3333333333333333,\"#9c179e\"],[0.4444444444444444,\"#bd3786\"],[0.5555555555555556,\"#d8576b\"],[0.6666666666666666,\"#ed7953\"],[0.7777777777777778,\"#fb9f3a\"],[0.8888888888888888,\"#fdca26\"],[1.0,\"#f0f921\"]],\"sequentialminus\":[[0.0,\"#0d0887\"],[0.1111111111111111,\"#46039f\"],[0.2222222222222222,\"#7201a8\"],[0.3333333333333333,\"#9c179e\"],[0.4444444444444444,\"#bd3786\"],[0.5555555555555556,\"#d8576b\"],[0.6666666666666666,\"#ed7953\"],[0.7777777777777778,\"#fb9f3a\"],[0.8888888888888888,\"#fdca26\"],[1.0,\"#f0f921\"]],\"diverging\":[[0,\"#8e0152\"],[0.1,\"#c51b7d\"],[0.2,\"#de77ae\"],[0.3,\"#f1b6da\"],[0.4,\"#fde0ef\"],[0.5,\"#f7f7f7\"],[0.6,\"#e6f5d0\"],[0.7,\"#b8e186\"],[0.8,\"#7fbc41\"],[0.9,\"#4d9221\"],[1,\"#276419\"]]},\"xaxis\":{\"gridcolor\":\"white\",\"linecolor\":\"white\",\"ticks\":\"\",\"title\":{\"standoff\":15},\"zerolinecolor\":\"white\",\"automargin\":true,\"zerolinewidth\":2},\"yaxis\":{\"gridcolor\":\"white\",\"linecolor\":\"white\",\"ticks\":\"\",\"title\":{\"standoff\":15},\"zerolinecolor\":\"white\",\"automargin\":true,\"zerolinewidth\":2},\"scene\":{\"xaxis\":{\"backgroundcolor\":\"#E5ECF6\",\"gridcolor\":\"white\",\"linecolor\":\"white\",\"showbackground\":true,\"ticks\":\"\",\"zerolinecolor\":\"white\",\"gridwidth\":2},\"yaxis\":{\"backgroundcolor\":\"#E5ECF6\",\"gridcolor\":\"white\",\"linecolor\":\"white\",\"showbackground\":true,\"ticks\":\"\",\"zerolinecolor\":\"white\",\"gridwidth\":2},\"zaxis\":{\"backgroundcolor\":\"#E5ECF6\",\"gridcolor\":\"white\",\"linecolor\":\"white\",\"showbackground\":true,\"ticks\":\"\",\"zerolinecolor\":\"white\",\"gridwidth\":2}},\"shapedefaults\":{\"line\":{\"color\":\"#2a3f5f\"}},\"annotationdefaults\":{\"arrowcolor\":\"#2a3f5f\",\"arrowhead\":0,\"arrowwidth\":1},\"geo\":{\"bgcolor\":\"white\",\"landcolor\":\"#E5ECF6\",\"subunitcolor\":\"white\",\"showland\":true,\"showlakes\":true,\"lakecolor\":\"white\"},\"title\":{\"x\":0.05},\"mapbox\":{\"style\":\"light\"}}},\"xaxis\":{\"anchor\":\"y\",\"domain\":[0.0,1.0],\"title\":{\"text\":\"Count\"},\"showline\":false,\"showgrid\":false},\"yaxis\":{\"anchor\":\"x\",\"domain\":[0.0,1.0],\"title\":{\"text\":\"Country\"},\"showline\":false,\"showgrid\":false},\"legend\":{\"tracegroupgap\":0},\"margin\":{\"t\":60},\"barmode\":\"relative\"},                        {\"responsive\": true}                    ).then(function(){\n",
              "                            \n",
              "var gd = document.getElementById('093fabdf-5ba3-489c-9bc8-8f135b4be51c');\n",
              "var x = new MutationObserver(function (mutations, observer) {{\n",
              "        var display = window.getComputedStyle(gd).display;\n",
              "        if (!display || display === 'none') {{\n",
              "            console.log([gd, 'removed!']);\n",
              "            Plotly.purge(gd);\n",
              "            observer.disconnect();\n",
              "        }}\n",
              "}});\n",
              "\n",
              "// Listen for the removal of the full notebook cells\n",
              "var notebookContainer = gd.closest('#notebook-container');\n",
              "if (notebookContainer) {{\n",
              "    x.observe(notebookContainer, {childList: true});\n",
              "}}\n",
              "\n",
              "// Listen for the clearing of the current output cell\n",
              "var outputEl = gd.closest('.output');\n",
              "if (outputEl) {{\n",
              "    x.observe(outputEl, {childList: true});\n",
              "}}\n",
              "\n",
              "                        })                };                            </script>        </div>\n",
              "</body>\n",
              "</html>"
            ]
          },
          "metadata": {}
        }
      ]
    },
    {
      "cell_type": "markdown",
      "source": [
        "The feature 'Country' will be part of the **state**:\n",
        "\n",
        "we will **one-hot encode** the countries to obtain the first part of the state vector (size 79).\n",
        "\n",
        "Note that this part of the state **cannot be changed** by any of the actions: it is a bio information"
      ],
      "metadata": {
        "id": "y3QlLQInGiYq"
      }
    },
    {
      "cell_type": "code",
      "source": [
        "idx = np.where(parsed_data['Country'] == 'missing')\n",
        "print(f'Percentage of Missing values in Column Country: {idx[0].shape[0]/parsed_data.shape[0] * 100 :.2f} %')"
      ],
      "metadata": {
        "colab": {
          "base_uri": "https://localhost:8080/"
        },
        "id": "dj7fEdwrG1Rc",
        "outputId": "c081621e-65ef-49fd-d410-74a4eb09bffa"
      },
      "execution_count": 55,
      "outputs": [
        {
          "output_type": "stream",
          "name": "stdout",
          "text": [
            "Percentage of Missing values in Column Country: 8.15 %\n"
          ]
        }
      ]
    },
    {
      "cell_type": "markdown",
      "source": [
        "All the rows of this column must have a value - the value 'Missing' does not make sense.\n",
        "\n",
        "Since we have no additional information, we decide to fill out the missing values with the **10 most observed categories** in the observed proportion."
      ],
      "metadata": {
        "id": "ztMyASDvIFin"
      }
    },
    {
      "cell_type": "code",
      "source": [
        "# Select the top 10 observed categories\n",
        "top_categories = parsed_data['Country'].value_counts().nlargest(10).index\n",
        "\n",
        "# Filter the data to include only the top 10 categories\n",
        "parsed_data_top_categories = parsed_data[parsed_data['Country'].isin(top_categories)]\n",
        "# Drop the Missing\n",
        "parsed_data_top_categories = parsed_data_top_categories[parsed_data_top_categories['Country'] != 'missing']\n",
        "\n",
        "missing_values_count = idx[0].shape[0]\n",
        "\n",
        "# Replace 'Missing' values using observed categories in proportion (top 10)\n",
        "replacement_values = parsed_data_top_categories['Country'].sample(\n",
        "    n=missing_values_count,\n",
        "    replace=True,\n",
        "    weights=parsed_data_top_categories.groupby('Country')['Country'].transform('count')\n",
        ").values\n",
        "\n",
        "# Replace the missing values\n",
        "parsed_data['Country'].iloc[idx[0]] = replacement_values\n",
        "\n",
        "# Bar plot for the counties\n",
        "fig = px.bar(\n",
        "    parsed_data,\n",
        "    x=parsed_data['Country'].value_counts(),\n",
        "    y=parsed_data['Country'].value_counts().index\n",
        ")\n",
        "\n",
        "fig.update_layout(\n",
        "    xaxis_title='Count',\n",
        "    yaxis_title='Country',\n",
        "    xaxis=dict(showline=False, showgrid=False),\n",
        "    yaxis=dict(showline=False, showgrid=False)\n",
        ")\n",
        "\n",
        "fig.show()"
      ],
      "metadata": {
        "colab": {
          "base_uri": "https://localhost:8080/",
          "height": 0
        },
        "id": "r8zasV05KE7w",
        "outputId": "01eed264-ac72-426b-9844-dc26ea3e22ac"
      },
      "execution_count": 56,
      "outputs": [
        {
          "output_type": "stream",
          "name": "stderr",
          "text": [
            "<ipython-input-56-f55ed61685ec>:19: SettingWithCopyWarning:\n",
            "\n",
            "\n",
            "A value is trying to be set on a copy of a slice from a DataFrame\n",
            "\n",
            "See the caveats in the documentation: https://pandas.pydata.org/pandas-docs/stable/user_guide/indexing.html#returning-a-view-versus-a-copy\n",
            "\n"
          ]
        },
        {
          "output_type": "display_data",
          "data": {
            "text/html": [
              "<html>\n",
              "<head><meta charset=\"utf-8\" /></head>\n",
              "<body>\n",
              "    <div>            <script src=\"https://cdnjs.cloudflare.com/ajax/libs/mathjax/2.7.5/MathJax.js?config=TeX-AMS-MML_SVG\"></script><script type=\"text/javascript\">if (window.MathJax && window.MathJax.Hub && window.MathJax.Hub.Config) {window.MathJax.Hub.Config({SVG: {font: \"STIX-Web\"}});}</script>                <script type=\"text/javascript\">window.PlotlyConfig = {MathJaxConfig: 'local'};</script>\n",
              "        <script charset=\"utf-8\" src=\"https://cdn.plot.ly/plotly-2.24.1.min.js\"></script>                <div id=\"1cd7609c-ef6f-4fa7-86e6-8b4a22cc203e\" class=\"plotly-graph-div\" style=\"height:525px; width:100%;\"></div>            <script type=\"text/javascript\">                                    window.PLOTLYENV=window.PLOTLYENV || {};                                    if (document.getElementById(\"1cd7609c-ef6f-4fa7-86e6-8b4a22cc203e\")) {                    Plotly.newPlot(                        \"1cd7609c-ef6f-4fa7-86e6-8b4a22cc203e\",                        [{\"alignmentgroup\":\"True\",\"hovertemplate\":\"x=%{x}\\u003cbr\\u003ey=%{y}\\u003cextra\\u003e\\u003c\\u002fextra\\u003e\",\"legendgroup\":\"\",\"marker\":{\"color\":\"#636efa\",\"pattern\":{\"shape\":\"\"}},\"name\":\"\",\"offsetgroup\":\"\",\"orientation\":\"h\",\"showlegend\":false,\"textposition\":\"auto\",\"x\":[7521,828,340,337,282,273,206,169,144,113,98,97,79,72,38,38,38,32,30,24,23,20,19,15,12,12,11,8,8,8,7,7,6,6,5,5,5,5,5,4,4,4,4,4,3,3,3,3,3,3,3,3,2,2,2,2,2,2,2,2,2,2,2,2,1,1,1,1,1,1,1,1,1,1,1,1,1,1],\"xaxis\":\"x\",\"y\":[\"usa\",\"canada\",\"france\",\"uk\",\"germany\",\"australia\",\"saudi arabia\",\"spain\",\"switzerland\",\"united arab emirates\",\"singapore\",\"south africa\",\"italy\",\"india\",\"belgium\",\"china\",\"netherlands\",\"portugal\",\"brazil\",\"mexico\",\"qatar\",\"poland\",\"sweden\",\"finland\",\"denmark\",\"egypt\",\"nigeria\",\"japan\",\"tunisia\",\"israel\",\"iran\",\"pakistan\",\"greece\",\"vietnam\",\"morocco\",\"taiwan\",\"ireland\",\"south korea\",\"thailand\",\"philippines\",\"colombia\",\"czechia\",\"austria\",\"bangladesh\",\"russia\",\"new zealand\",\"georgia\",\"indonesia\",\"kuwait\",\"norway\",\"luxembourg\",\"argentina\",\"lebanon\",\"ukraine\",\"sri lanka\",\"peru\",\"croatia\",\"kenya\",\"hungary\",\"bulgaria\",\"malaysia\",\"rwanda\",\"algeria\",\"bolivia\",\"jordan\",\"romania\",\"congo\",\"guinea\",\"latvia\",\"hong kong\",\"serbia\",\"senegal\",\"venezuela\",\"benin\",\"cameroon\",\"full time\",\"turkey\",\"central african republic\"],\"yaxis\":\"y\",\"type\":\"bar\"}],                        {\"template\":{\"data\":{\"histogram2dcontour\":[{\"type\":\"histogram2dcontour\",\"colorbar\":{\"outlinewidth\":0,\"ticks\":\"\"},\"colorscale\":[[0.0,\"#0d0887\"],[0.1111111111111111,\"#46039f\"],[0.2222222222222222,\"#7201a8\"],[0.3333333333333333,\"#9c179e\"],[0.4444444444444444,\"#bd3786\"],[0.5555555555555556,\"#d8576b\"],[0.6666666666666666,\"#ed7953\"],[0.7777777777777778,\"#fb9f3a\"],[0.8888888888888888,\"#fdca26\"],[1.0,\"#f0f921\"]]}],\"choropleth\":[{\"type\":\"choropleth\",\"colorbar\":{\"outlinewidth\":0,\"ticks\":\"\"}}],\"histogram2d\":[{\"type\":\"histogram2d\",\"colorbar\":{\"outlinewidth\":0,\"ticks\":\"\"},\"colorscale\":[[0.0,\"#0d0887\"],[0.1111111111111111,\"#46039f\"],[0.2222222222222222,\"#7201a8\"],[0.3333333333333333,\"#9c179e\"],[0.4444444444444444,\"#bd3786\"],[0.5555555555555556,\"#d8576b\"],[0.6666666666666666,\"#ed7953\"],[0.7777777777777778,\"#fb9f3a\"],[0.8888888888888888,\"#fdca26\"],[1.0,\"#f0f921\"]]}],\"heatmap\":[{\"type\":\"heatmap\",\"colorbar\":{\"outlinewidth\":0,\"ticks\":\"\"},\"colorscale\":[[0.0,\"#0d0887\"],[0.1111111111111111,\"#46039f\"],[0.2222222222222222,\"#7201a8\"],[0.3333333333333333,\"#9c179e\"],[0.4444444444444444,\"#bd3786\"],[0.5555555555555556,\"#d8576b\"],[0.6666666666666666,\"#ed7953\"],[0.7777777777777778,\"#fb9f3a\"],[0.8888888888888888,\"#fdca26\"],[1.0,\"#f0f921\"]]}],\"heatmapgl\":[{\"type\":\"heatmapgl\",\"colorbar\":{\"outlinewidth\":0,\"ticks\":\"\"},\"colorscale\":[[0.0,\"#0d0887\"],[0.1111111111111111,\"#46039f\"],[0.2222222222222222,\"#7201a8\"],[0.3333333333333333,\"#9c179e\"],[0.4444444444444444,\"#bd3786\"],[0.5555555555555556,\"#d8576b\"],[0.6666666666666666,\"#ed7953\"],[0.7777777777777778,\"#fb9f3a\"],[0.8888888888888888,\"#fdca26\"],[1.0,\"#f0f921\"]]}],\"contourcarpet\":[{\"type\":\"contourcarpet\",\"colorbar\":{\"outlinewidth\":0,\"ticks\":\"\"}}],\"contour\":[{\"type\":\"contour\",\"colorbar\":{\"outlinewidth\":0,\"ticks\":\"\"},\"colorscale\":[[0.0,\"#0d0887\"],[0.1111111111111111,\"#46039f\"],[0.2222222222222222,\"#7201a8\"],[0.3333333333333333,\"#9c179e\"],[0.4444444444444444,\"#bd3786\"],[0.5555555555555556,\"#d8576b\"],[0.6666666666666666,\"#ed7953\"],[0.7777777777777778,\"#fb9f3a\"],[0.8888888888888888,\"#fdca26\"],[1.0,\"#f0f921\"]]}],\"surface\":[{\"type\":\"surface\",\"colorbar\":{\"outlinewidth\":0,\"ticks\":\"\"},\"colorscale\":[[0.0,\"#0d0887\"],[0.1111111111111111,\"#46039f\"],[0.2222222222222222,\"#7201a8\"],[0.3333333333333333,\"#9c179e\"],[0.4444444444444444,\"#bd3786\"],[0.5555555555555556,\"#d8576b\"],[0.6666666666666666,\"#ed7953\"],[0.7777777777777778,\"#fb9f3a\"],[0.8888888888888888,\"#fdca26\"],[1.0,\"#f0f921\"]]}],\"mesh3d\":[{\"type\":\"mesh3d\",\"colorbar\":{\"outlinewidth\":0,\"ticks\":\"\"}}],\"scatter\":[{\"fillpattern\":{\"fillmode\":\"overlay\",\"size\":10,\"solidity\":0.2},\"type\":\"scatter\"}],\"parcoords\":[{\"type\":\"parcoords\",\"line\":{\"colorbar\":{\"outlinewidth\":0,\"ticks\":\"\"}}}],\"scatterpolargl\":[{\"type\":\"scatterpolargl\",\"marker\":{\"colorbar\":{\"outlinewidth\":0,\"ticks\":\"\"}}}],\"bar\":[{\"error_x\":{\"color\":\"#2a3f5f\"},\"error_y\":{\"color\":\"#2a3f5f\"},\"marker\":{\"line\":{\"color\":\"#E5ECF6\",\"width\":0.5},\"pattern\":{\"fillmode\":\"overlay\",\"size\":10,\"solidity\":0.2}},\"type\":\"bar\"}],\"scattergeo\":[{\"type\":\"scattergeo\",\"marker\":{\"colorbar\":{\"outlinewidth\":0,\"ticks\":\"\"}}}],\"scatterpolar\":[{\"type\":\"scatterpolar\",\"marker\":{\"colorbar\":{\"outlinewidth\":0,\"ticks\":\"\"}}}],\"histogram\":[{\"marker\":{\"pattern\":{\"fillmode\":\"overlay\",\"size\":10,\"solidity\":0.2}},\"type\":\"histogram\"}],\"scattergl\":[{\"type\":\"scattergl\",\"marker\":{\"colorbar\":{\"outlinewidth\":0,\"ticks\":\"\"}}}],\"scatter3d\":[{\"type\":\"scatter3d\",\"line\":{\"colorbar\":{\"outlinewidth\":0,\"ticks\":\"\"}},\"marker\":{\"colorbar\":{\"outlinewidth\":0,\"ticks\":\"\"}}}],\"scattermapbox\":[{\"type\":\"scattermapbox\",\"marker\":{\"colorbar\":{\"outlinewidth\":0,\"ticks\":\"\"}}}],\"scatterternary\":[{\"type\":\"scatterternary\",\"marker\":{\"colorbar\":{\"outlinewidth\":0,\"ticks\":\"\"}}}],\"scattercarpet\":[{\"type\":\"scattercarpet\",\"marker\":{\"colorbar\":{\"outlinewidth\":0,\"ticks\":\"\"}}}],\"carpet\":[{\"aaxis\":{\"endlinecolor\":\"#2a3f5f\",\"gridcolor\":\"white\",\"linecolor\":\"white\",\"minorgridcolor\":\"white\",\"startlinecolor\":\"#2a3f5f\"},\"baxis\":{\"endlinecolor\":\"#2a3f5f\",\"gridcolor\":\"white\",\"linecolor\":\"white\",\"minorgridcolor\":\"white\",\"startlinecolor\":\"#2a3f5f\"},\"type\":\"carpet\"}],\"table\":[{\"cells\":{\"fill\":{\"color\":\"#EBF0F8\"},\"line\":{\"color\":\"white\"}},\"header\":{\"fill\":{\"color\":\"#C8D4E3\"},\"line\":{\"color\":\"white\"}},\"type\":\"table\"}],\"barpolar\":[{\"marker\":{\"line\":{\"color\":\"#E5ECF6\",\"width\":0.5},\"pattern\":{\"fillmode\":\"overlay\",\"size\":10,\"solidity\":0.2}},\"type\":\"barpolar\"}],\"pie\":[{\"automargin\":true,\"type\":\"pie\"}]},\"layout\":{\"autotypenumbers\":\"strict\",\"colorway\":[\"#636efa\",\"#EF553B\",\"#00cc96\",\"#ab63fa\",\"#FFA15A\",\"#19d3f3\",\"#FF6692\",\"#B6E880\",\"#FF97FF\",\"#FECB52\"],\"font\":{\"color\":\"#2a3f5f\"},\"hovermode\":\"closest\",\"hoverlabel\":{\"align\":\"left\"},\"paper_bgcolor\":\"white\",\"plot_bgcolor\":\"#E5ECF6\",\"polar\":{\"bgcolor\":\"#E5ECF6\",\"angularaxis\":{\"gridcolor\":\"white\",\"linecolor\":\"white\",\"ticks\":\"\"},\"radialaxis\":{\"gridcolor\":\"white\",\"linecolor\":\"white\",\"ticks\":\"\"}},\"ternary\":{\"bgcolor\":\"#E5ECF6\",\"aaxis\":{\"gridcolor\":\"white\",\"linecolor\":\"white\",\"ticks\":\"\"},\"baxis\":{\"gridcolor\":\"white\",\"linecolor\":\"white\",\"ticks\":\"\"},\"caxis\":{\"gridcolor\":\"white\",\"linecolor\":\"white\",\"ticks\":\"\"}},\"coloraxis\":{\"colorbar\":{\"outlinewidth\":0,\"ticks\":\"\"}},\"colorscale\":{\"sequential\":[[0.0,\"#0d0887\"],[0.1111111111111111,\"#46039f\"],[0.2222222222222222,\"#7201a8\"],[0.3333333333333333,\"#9c179e\"],[0.4444444444444444,\"#bd3786\"],[0.5555555555555556,\"#d8576b\"],[0.6666666666666666,\"#ed7953\"],[0.7777777777777778,\"#fb9f3a\"],[0.8888888888888888,\"#fdca26\"],[1.0,\"#f0f921\"]],\"sequentialminus\":[[0.0,\"#0d0887\"],[0.1111111111111111,\"#46039f\"],[0.2222222222222222,\"#7201a8\"],[0.3333333333333333,\"#9c179e\"],[0.4444444444444444,\"#bd3786\"],[0.5555555555555556,\"#d8576b\"],[0.6666666666666666,\"#ed7953\"],[0.7777777777777778,\"#fb9f3a\"],[0.8888888888888888,\"#fdca26\"],[1.0,\"#f0f921\"]],\"diverging\":[[0,\"#8e0152\"],[0.1,\"#c51b7d\"],[0.2,\"#de77ae\"],[0.3,\"#f1b6da\"],[0.4,\"#fde0ef\"],[0.5,\"#f7f7f7\"],[0.6,\"#e6f5d0\"],[0.7,\"#b8e186\"],[0.8,\"#7fbc41\"],[0.9,\"#4d9221\"],[1,\"#276419\"]]},\"xaxis\":{\"gridcolor\":\"white\",\"linecolor\":\"white\",\"ticks\":\"\",\"title\":{\"standoff\":15},\"zerolinecolor\":\"white\",\"automargin\":true,\"zerolinewidth\":2},\"yaxis\":{\"gridcolor\":\"white\",\"linecolor\":\"white\",\"ticks\":\"\",\"title\":{\"standoff\":15},\"zerolinecolor\":\"white\",\"automargin\":true,\"zerolinewidth\":2},\"scene\":{\"xaxis\":{\"backgroundcolor\":\"#E5ECF6\",\"gridcolor\":\"white\",\"linecolor\":\"white\",\"showbackground\":true,\"ticks\":\"\",\"zerolinecolor\":\"white\",\"gridwidth\":2},\"yaxis\":{\"backgroundcolor\":\"#E5ECF6\",\"gridcolor\":\"white\",\"linecolor\":\"white\",\"showbackground\":true,\"ticks\":\"\",\"zerolinecolor\":\"white\",\"gridwidth\":2},\"zaxis\":{\"backgroundcolor\":\"#E5ECF6\",\"gridcolor\":\"white\",\"linecolor\":\"white\",\"showbackground\":true,\"ticks\":\"\",\"zerolinecolor\":\"white\",\"gridwidth\":2}},\"shapedefaults\":{\"line\":{\"color\":\"#2a3f5f\"}},\"annotationdefaults\":{\"arrowcolor\":\"#2a3f5f\",\"arrowhead\":0,\"arrowwidth\":1},\"geo\":{\"bgcolor\":\"white\",\"landcolor\":\"#E5ECF6\",\"subunitcolor\":\"white\",\"showland\":true,\"showlakes\":true,\"lakecolor\":\"white\"},\"title\":{\"x\":0.05},\"mapbox\":{\"style\":\"light\"}}},\"xaxis\":{\"anchor\":\"y\",\"domain\":[0.0,1.0],\"title\":{\"text\":\"Count\"},\"showline\":false,\"showgrid\":false},\"yaxis\":{\"anchor\":\"x\",\"domain\":[0.0,1.0],\"title\":{\"text\":\"Country\"},\"showline\":false,\"showgrid\":false},\"legend\":{\"tracegroupgap\":0},\"margin\":{\"t\":60},\"barmode\":\"relative\"},                        {\"responsive\": true}                    ).then(function(){\n",
              "                            \n",
              "var gd = document.getElementById('1cd7609c-ef6f-4fa7-86e6-8b4a22cc203e');\n",
              "var x = new MutationObserver(function (mutations, observer) {{\n",
              "        var display = window.getComputedStyle(gd).display;\n",
              "        if (!display || display === 'none') {{\n",
              "            console.log([gd, 'removed!']);\n",
              "            Plotly.purge(gd);\n",
              "            observer.disconnect();\n",
              "        }}\n",
              "}});\n",
              "\n",
              "// Listen for the removal of the full notebook cells\n",
              "var notebookContainer = gd.closest('#notebook-container');\n",
              "if (notebookContainer) {{\n",
              "    x.observe(notebookContainer, {childList: true});\n",
              "}}\n",
              "\n",
              "// Listen for the clearing of the current output cell\n",
              "var outputEl = gd.closest('.output');\n",
              "if (outputEl) {{\n",
              "    x.observe(outputEl, {childList: true});\n",
              "}}\n",
              "\n",
              "                        })                };                            </script>        </div>\n",
              "</body>\n",
              "</html>"
            ]
          },
          "metadata": {}
        }
      ]
    },
    {
      "cell_type": "markdown",
      "source": [
        "# Exploratory Data Analysis - Education"
      ],
      "metadata": {
        "id": "mGogFFlwCG3V"
      }
    },
    {
      "cell_type": "code",
      "source": [
        "# Bar plot for the counties\n",
        "fig = px.bar(\n",
        "    parsed_data,\n",
        "    x=parsed_data.groupby('Education').size().values,\n",
        "    y=parsed_data.groupby('Education').size().index\n",
        ")\n",
        "\n",
        "fig.update_layout(\n",
        "    xaxis_title='Count',\n",
        "    yaxis_title='Education',\n",
        "    xaxis=dict(showline=False, showgrid=False),\n",
        "    yaxis=dict(showline=False, showgrid=False)\n",
        ")\n",
        "\n",
        "fig.show()"
      ],
      "metadata": {
        "colab": {
          "base_uri": "https://localhost:8080/",
          "height": 0
        },
        "id": "eTPt5UuICJFR",
        "outputId": "2467a8a6-a49e-45be-b007-a92604346d8a"
      },
      "execution_count": 57,
      "outputs": [
        {
          "output_type": "display_data",
          "data": {
            "text/html": [
              "<html>\n",
              "<head><meta charset=\"utf-8\" /></head>\n",
              "<body>\n",
              "    <div>            <script src=\"https://cdnjs.cloudflare.com/ajax/libs/mathjax/2.7.5/MathJax.js?config=TeX-AMS-MML_SVG\"></script><script type=\"text/javascript\">if (window.MathJax && window.MathJax.Hub && window.MathJax.Hub.Config) {window.MathJax.Hub.Config({SVG: {font: \"STIX-Web\"}});}</script>                <script type=\"text/javascript\">window.PlotlyConfig = {MathJaxConfig: 'local'};</script>\n",
              "        <script charset=\"utf-8\" src=\"https://cdn.plot.ly/plotly-2.24.1.min.js\"></script>                <div id=\"0ddb530d-e8b5-4cf8-90a4-9d270041d242\" class=\"plotly-graph-div\" style=\"height:525px; width:100%;\"></div>            <script type=\"text/javascript\">                                    window.PLOTLYENV=window.PLOTLYENV || {};                                    if (document.getElementById(\"0ddb530d-e8b5-4cf8-90a4-9d270041d242\")) {                    Plotly.newPlot(                        \"0ddb530d-e8b5-4cf8-90a4-9d270041d242\",                        [{\"alignmentgroup\":\"True\",\"hovertemplate\":\"x=%{x}\\u003cbr\\u003ey=%{y}\\u003cextra\\u003e\\u003c\\u002fextra\\u003e\",\"legendgroup\":\"\",\"marker\":{\"color\":\"#636efa\",\"pattern\":{\"shape\":\"\"}},\"name\":\"\",\"offsetgroup\":\"\",\"orientation\":\"h\",\"showlegend\":false,\"textposition\":\"auto\",\"x\":[393,670,923,93,77,218,87,213,227,57,168,35,39,331,69,57,70,76,62,1942,132,353,42,218,33,27,34,19,129,635,3599],\"xaxis\":\"x\",\"y\":[\"B1\",\"B10\",\"B11\",\"B12\",\"B13\",\"B14\",\"B15\",\"B16\",\"B17\",\"B18\",\"B19\",\"B2\",\"B20\",\"B21\",\"B22\",\"B23\",\"B24\",\"B25\",\"B26\",\"B27\",\"B28\",\"B29\",\"B3\",\"B30\",\"B4\",\"B5\",\"B6\",\"B7\",\"B8\",\"B9\",\"missing\"],\"yaxis\":\"y\",\"type\":\"bar\"}],                        {\"template\":{\"data\":{\"histogram2dcontour\":[{\"type\":\"histogram2dcontour\",\"colorbar\":{\"outlinewidth\":0,\"ticks\":\"\"},\"colorscale\":[[0.0,\"#0d0887\"],[0.1111111111111111,\"#46039f\"],[0.2222222222222222,\"#7201a8\"],[0.3333333333333333,\"#9c179e\"],[0.4444444444444444,\"#bd3786\"],[0.5555555555555556,\"#d8576b\"],[0.6666666666666666,\"#ed7953\"],[0.7777777777777778,\"#fb9f3a\"],[0.8888888888888888,\"#fdca26\"],[1.0,\"#f0f921\"]]}],\"choropleth\":[{\"type\":\"choropleth\",\"colorbar\":{\"outlinewidth\":0,\"ticks\":\"\"}}],\"histogram2d\":[{\"type\":\"histogram2d\",\"colorbar\":{\"outlinewidth\":0,\"ticks\":\"\"},\"colorscale\":[[0.0,\"#0d0887\"],[0.1111111111111111,\"#46039f\"],[0.2222222222222222,\"#7201a8\"],[0.3333333333333333,\"#9c179e\"],[0.4444444444444444,\"#bd3786\"],[0.5555555555555556,\"#d8576b\"],[0.6666666666666666,\"#ed7953\"],[0.7777777777777778,\"#fb9f3a\"],[0.8888888888888888,\"#fdca26\"],[1.0,\"#f0f921\"]]}],\"heatmap\":[{\"type\":\"heatmap\",\"colorbar\":{\"outlinewidth\":0,\"ticks\":\"\"},\"colorscale\":[[0.0,\"#0d0887\"],[0.1111111111111111,\"#46039f\"],[0.2222222222222222,\"#7201a8\"],[0.3333333333333333,\"#9c179e\"],[0.4444444444444444,\"#bd3786\"],[0.5555555555555556,\"#d8576b\"],[0.6666666666666666,\"#ed7953\"],[0.7777777777777778,\"#fb9f3a\"],[0.8888888888888888,\"#fdca26\"],[1.0,\"#f0f921\"]]}],\"heatmapgl\":[{\"type\":\"heatmapgl\",\"colorbar\":{\"outlinewidth\":0,\"ticks\":\"\"},\"colorscale\":[[0.0,\"#0d0887\"],[0.1111111111111111,\"#46039f\"],[0.2222222222222222,\"#7201a8\"],[0.3333333333333333,\"#9c179e\"],[0.4444444444444444,\"#bd3786\"],[0.5555555555555556,\"#d8576b\"],[0.6666666666666666,\"#ed7953\"],[0.7777777777777778,\"#fb9f3a\"],[0.8888888888888888,\"#fdca26\"],[1.0,\"#f0f921\"]]}],\"contourcarpet\":[{\"type\":\"contourcarpet\",\"colorbar\":{\"outlinewidth\":0,\"ticks\":\"\"}}],\"contour\":[{\"type\":\"contour\",\"colorbar\":{\"outlinewidth\":0,\"ticks\":\"\"},\"colorscale\":[[0.0,\"#0d0887\"],[0.1111111111111111,\"#46039f\"],[0.2222222222222222,\"#7201a8\"],[0.3333333333333333,\"#9c179e\"],[0.4444444444444444,\"#bd3786\"],[0.5555555555555556,\"#d8576b\"],[0.6666666666666666,\"#ed7953\"],[0.7777777777777778,\"#fb9f3a\"],[0.8888888888888888,\"#fdca26\"],[1.0,\"#f0f921\"]]}],\"surface\":[{\"type\":\"surface\",\"colorbar\":{\"outlinewidth\":0,\"ticks\":\"\"},\"colorscale\":[[0.0,\"#0d0887\"],[0.1111111111111111,\"#46039f\"],[0.2222222222222222,\"#7201a8\"],[0.3333333333333333,\"#9c179e\"],[0.4444444444444444,\"#bd3786\"],[0.5555555555555556,\"#d8576b\"],[0.6666666666666666,\"#ed7953\"],[0.7777777777777778,\"#fb9f3a\"],[0.8888888888888888,\"#fdca26\"],[1.0,\"#f0f921\"]]}],\"mesh3d\":[{\"type\":\"mesh3d\",\"colorbar\":{\"outlinewidth\":0,\"ticks\":\"\"}}],\"scatter\":[{\"fillpattern\":{\"fillmode\":\"overlay\",\"size\":10,\"solidity\":0.2},\"type\":\"scatter\"}],\"parcoords\":[{\"type\":\"parcoords\",\"line\":{\"colorbar\":{\"outlinewidth\":0,\"ticks\":\"\"}}}],\"scatterpolargl\":[{\"type\":\"scatterpolargl\",\"marker\":{\"colorbar\":{\"outlinewidth\":0,\"ticks\":\"\"}}}],\"bar\":[{\"error_x\":{\"color\":\"#2a3f5f\"},\"error_y\":{\"color\":\"#2a3f5f\"},\"marker\":{\"line\":{\"color\":\"#E5ECF6\",\"width\":0.5},\"pattern\":{\"fillmode\":\"overlay\",\"size\":10,\"solidity\":0.2}},\"type\":\"bar\"}],\"scattergeo\":[{\"type\":\"scattergeo\",\"marker\":{\"colorbar\":{\"outlinewidth\":0,\"ticks\":\"\"}}}],\"scatterpolar\":[{\"type\":\"scatterpolar\",\"marker\":{\"colorbar\":{\"outlinewidth\":0,\"ticks\":\"\"}}}],\"histogram\":[{\"marker\":{\"pattern\":{\"fillmode\":\"overlay\",\"size\":10,\"solidity\":0.2}},\"type\":\"histogram\"}],\"scattergl\":[{\"type\":\"scattergl\",\"marker\":{\"colorbar\":{\"outlinewidth\":0,\"ticks\":\"\"}}}],\"scatter3d\":[{\"type\":\"scatter3d\",\"line\":{\"colorbar\":{\"outlinewidth\":0,\"ticks\":\"\"}},\"marker\":{\"colorbar\":{\"outlinewidth\":0,\"ticks\":\"\"}}}],\"scattermapbox\":[{\"type\":\"scattermapbox\",\"marker\":{\"colorbar\":{\"outlinewidth\":0,\"ticks\":\"\"}}}],\"scatterternary\":[{\"type\":\"scatterternary\",\"marker\":{\"colorbar\":{\"outlinewidth\":0,\"ticks\":\"\"}}}],\"scattercarpet\":[{\"type\":\"scattercarpet\",\"marker\":{\"colorbar\":{\"outlinewidth\":0,\"ticks\":\"\"}}}],\"carpet\":[{\"aaxis\":{\"endlinecolor\":\"#2a3f5f\",\"gridcolor\":\"white\",\"linecolor\":\"white\",\"minorgridcolor\":\"white\",\"startlinecolor\":\"#2a3f5f\"},\"baxis\":{\"endlinecolor\":\"#2a3f5f\",\"gridcolor\":\"white\",\"linecolor\":\"white\",\"minorgridcolor\":\"white\",\"startlinecolor\":\"#2a3f5f\"},\"type\":\"carpet\"}],\"table\":[{\"cells\":{\"fill\":{\"color\":\"#EBF0F8\"},\"line\":{\"color\":\"white\"}},\"header\":{\"fill\":{\"color\":\"#C8D4E3\"},\"line\":{\"color\":\"white\"}},\"type\":\"table\"}],\"barpolar\":[{\"marker\":{\"line\":{\"color\":\"#E5ECF6\",\"width\":0.5},\"pattern\":{\"fillmode\":\"overlay\",\"size\":10,\"solidity\":0.2}},\"type\":\"barpolar\"}],\"pie\":[{\"automargin\":true,\"type\":\"pie\"}]},\"layout\":{\"autotypenumbers\":\"strict\",\"colorway\":[\"#636efa\",\"#EF553B\",\"#00cc96\",\"#ab63fa\",\"#FFA15A\",\"#19d3f3\",\"#FF6692\",\"#B6E880\",\"#FF97FF\",\"#FECB52\"],\"font\":{\"color\":\"#2a3f5f\"},\"hovermode\":\"closest\",\"hoverlabel\":{\"align\":\"left\"},\"paper_bgcolor\":\"white\",\"plot_bgcolor\":\"#E5ECF6\",\"polar\":{\"bgcolor\":\"#E5ECF6\",\"angularaxis\":{\"gridcolor\":\"white\",\"linecolor\":\"white\",\"ticks\":\"\"},\"radialaxis\":{\"gridcolor\":\"white\",\"linecolor\":\"white\",\"ticks\":\"\"}},\"ternary\":{\"bgcolor\":\"#E5ECF6\",\"aaxis\":{\"gridcolor\":\"white\",\"linecolor\":\"white\",\"ticks\":\"\"},\"baxis\":{\"gridcolor\":\"white\",\"linecolor\":\"white\",\"ticks\":\"\"},\"caxis\":{\"gridcolor\":\"white\",\"linecolor\":\"white\",\"ticks\":\"\"}},\"coloraxis\":{\"colorbar\":{\"outlinewidth\":0,\"ticks\":\"\"}},\"colorscale\":{\"sequential\":[[0.0,\"#0d0887\"],[0.1111111111111111,\"#46039f\"],[0.2222222222222222,\"#7201a8\"],[0.3333333333333333,\"#9c179e\"],[0.4444444444444444,\"#bd3786\"],[0.5555555555555556,\"#d8576b\"],[0.6666666666666666,\"#ed7953\"],[0.7777777777777778,\"#fb9f3a\"],[0.8888888888888888,\"#fdca26\"],[1.0,\"#f0f921\"]],\"sequentialminus\":[[0.0,\"#0d0887\"],[0.1111111111111111,\"#46039f\"],[0.2222222222222222,\"#7201a8\"],[0.3333333333333333,\"#9c179e\"],[0.4444444444444444,\"#bd3786\"],[0.5555555555555556,\"#d8576b\"],[0.6666666666666666,\"#ed7953\"],[0.7777777777777778,\"#fb9f3a\"],[0.8888888888888888,\"#fdca26\"],[1.0,\"#f0f921\"]],\"diverging\":[[0,\"#8e0152\"],[0.1,\"#c51b7d\"],[0.2,\"#de77ae\"],[0.3,\"#f1b6da\"],[0.4,\"#fde0ef\"],[0.5,\"#f7f7f7\"],[0.6,\"#e6f5d0\"],[0.7,\"#b8e186\"],[0.8,\"#7fbc41\"],[0.9,\"#4d9221\"],[1,\"#276419\"]]},\"xaxis\":{\"gridcolor\":\"white\",\"linecolor\":\"white\",\"ticks\":\"\",\"title\":{\"standoff\":15},\"zerolinecolor\":\"white\",\"automargin\":true,\"zerolinewidth\":2},\"yaxis\":{\"gridcolor\":\"white\",\"linecolor\":\"white\",\"ticks\":\"\",\"title\":{\"standoff\":15},\"zerolinecolor\":\"white\",\"automargin\":true,\"zerolinewidth\":2},\"scene\":{\"xaxis\":{\"backgroundcolor\":\"#E5ECF6\",\"gridcolor\":\"white\",\"linecolor\":\"white\",\"showbackground\":true,\"ticks\":\"\",\"zerolinecolor\":\"white\",\"gridwidth\":2},\"yaxis\":{\"backgroundcolor\":\"#E5ECF6\",\"gridcolor\":\"white\",\"linecolor\":\"white\",\"showbackground\":true,\"ticks\":\"\",\"zerolinecolor\":\"white\",\"gridwidth\":2},\"zaxis\":{\"backgroundcolor\":\"#E5ECF6\",\"gridcolor\":\"white\",\"linecolor\":\"white\",\"showbackground\":true,\"ticks\":\"\",\"zerolinecolor\":\"white\",\"gridwidth\":2}},\"shapedefaults\":{\"line\":{\"color\":\"#2a3f5f\"}},\"annotationdefaults\":{\"arrowcolor\":\"#2a3f5f\",\"arrowhead\":0,\"arrowwidth\":1},\"geo\":{\"bgcolor\":\"white\",\"landcolor\":\"#E5ECF6\",\"subunitcolor\":\"white\",\"showland\":true,\"showlakes\":true,\"lakecolor\":\"white\"},\"title\":{\"x\":0.05},\"mapbox\":{\"style\":\"light\"}}},\"xaxis\":{\"anchor\":\"y\",\"domain\":[0.0,1.0],\"title\":{\"text\":\"Count\"},\"showline\":false,\"showgrid\":false},\"yaxis\":{\"anchor\":\"x\",\"domain\":[0.0,1.0],\"title\":{\"text\":\"Education\"},\"showline\":false,\"showgrid\":false},\"legend\":{\"tracegroupgap\":0},\"margin\":{\"t\":60},\"barmode\":\"relative\"},                        {\"responsive\": true}                    ).then(function(){\n",
              "                            \n",
              "var gd = document.getElementById('0ddb530d-e8b5-4cf8-90a4-9d270041d242');\n",
              "var x = new MutationObserver(function (mutations, observer) {{\n",
              "        var display = window.getComputedStyle(gd).display;\n",
              "        if (!display || display === 'none') {{\n",
              "            console.log([gd, 'removed!']);\n",
              "            Plotly.purge(gd);\n",
              "            observer.disconnect();\n",
              "        }}\n",
              "}});\n",
              "\n",
              "// Listen for the removal of the full notebook cells\n",
              "var notebookContainer = gd.closest('#notebook-container');\n",
              "if (notebookContainer) {{\n",
              "    x.observe(notebookContainer, {childList: true});\n",
              "}}\n",
              "\n",
              "// Listen for the clearing of the current output cell\n",
              "var outputEl = gd.closest('.output');\n",
              "if (outputEl) {{\n",
              "    x.observe(outputEl, {childList: true});\n",
              "}}\n",
              "\n",
              "                        })                };                            </script>        </div>\n",
              "</body>\n",
              "</html>"
            ]
          },
          "metadata": {}
        }
      ]
    },
    {
      "cell_type": "markdown",
      "source": [
        "the education category has a limited number of options - good.\n",
        "\n",
        "Still important to notice that a lot of samples have value **missing**."
      ],
      "metadata": {
        "id": "8rMFZg2DCO5e"
      }
    },
    {
      "cell_type": "code",
      "source": [
        "parsed_data['Education'].value_counts()"
      ],
      "metadata": {
        "colab": {
          "base_uri": "https://localhost:8080/"
        },
        "id": "_gPBAHv7HJ-s",
        "outputId": "a249dbaf-15f0-45a0-e130-fe8f90bed4ae"
      },
      "execution_count": 58,
      "outputs": [
        {
          "output_type": "execute_result",
          "data": {
            "text/plain": [
              "missing    3599\n",
              "B27        1942\n",
              "B11         923\n",
              "B10         670\n",
              "B9          635\n",
              "B1          393\n",
              "B29         353\n",
              "B21         331\n",
              "B17         227\n",
              "B14         218\n",
              "B30         218\n",
              "B16         213\n",
              "B19         168\n",
              "B28         132\n",
              "B8          129\n",
              "B12          93\n",
              "B15          87\n",
              "B13          77\n",
              "B25          76\n",
              "B24          70\n",
              "B22          69\n",
              "B26          62\n",
              "B23          57\n",
              "B18          57\n",
              "B3           42\n",
              "B20          39\n",
              "B2           35\n",
              "B6           34\n",
              "B4           33\n",
              "B5           27\n",
              "B7           19\n",
              "Name: Education, dtype: int64"
            ]
          },
          "metadata": {},
          "execution_count": 58
        }
      ]
    },
    {
      "cell_type": "code",
      "source": [
        "len(parsed_data['Education'].value_counts())"
      ],
      "metadata": {
        "colab": {
          "base_uri": "https://localhost:8080/"
        },
        "id": "TkinfVhCbgTE",
        "outputId": "8c4fe9ea-60ae-4c81-cf5d-b9fc998ccba9"
      },
      "execution_count": 59,
      "outputs": [
        {
          "output_type": "execute_result",
          "data": {
            "text/plain": [
              "31"
            ]
          },
          "metadata": {},
          "execution_count": 59
        }
      ]
    },
    {
      "cell_type": "markdown",
      "source": [
        "The feature 'Education' will be also part of the **state**:\n",
        "\n",
        "we will **one-hot encode** the education levels to obtain the second part of the state vector (size 31).\n",
        "\n",
        "Note that this part of the state **cannot be changed** by any of the actions: it is a bio information"
      ],
      "metadata": {
        "id": "6rJB3i4pG9Ov"
      }
    },
    {
      "cell_type": "code",
      "source": [
        "idx = np.where(parsed_data['Education'] == 'missing')\n",
        "print(f'Percentage of Missing values in Column Education: {idx[0].shape[0]/parsed_data.shape[0] * 100 :.2f} %')"
      ],
      "metadata": {
        "colab": {
          "base_uri": "https://localhost:8080/"
        },
        "outputId": "68b97d25-25aa-42cc-c592-e8f05c8054bf",
        "id": "TFO0jBjyTcW2"
      },
      "execution_count": 60,
      "outputs": [
        {
          "output_type": "stream",
          "name": "stdout",
          "text": [
            "Percentage of Missing values in Column Education: 32.64 %\n"
          ]
        }
      ]
    },
    {
      "cell_type": "markdown",
      "source": [
        "All the rows of this column must have a value - the value 'Missing' does not make sense.\n",
        "\n",
        "Since we have no additional information, we decide to fill out the missing values with all the possible categories the in the observed proportion."
      ],
      "metadata": {
        "id": "8N_u4ojkTcW5"
      }
    },
    {
      "cell_type": "code",
      "source": [
        "# Select the top 10 observed categories\n",
        "top_categories = parsed_data['Education'].value_counts().index\n",
        "\n",
        "# Drop the Missing\n",
        "parsed_data_no_missing = parsed_data[parsed_data['Education'] != 'missing']\n",
        "\n",
        "missing_values_count = idx[0].shape[0]\n",
        "\n",
        "# Replace 'Missing' values using observed categories in proportion (top 10)\n",
        "replacement_values = parsed_data_no_missing['Education'].sample(\n",
        "    n=missing_values_count,\n",
        "    replace=True,\n",
        "    weights=parsed_data_no_missing.groupby('Education')['Education'].transform('count')\n",
        ").values\n",
        "\n",
        "# Replace the missing values\n",
        "parsed_data['Education'].iloc[idx[0]] = replacement_values\n",
        "\n",
        "# Bar plot for the counties\n",
        "fig = px.bar(\n",
        "    parsed_data,\n",
        "    x=parsed_data['Education'].value_counts(),\n",
        "    y=parsed_data['Education'].value_counts().index\n",
        ")\n",
        "\n",
        "fig.update_layout(\n",
        "    xaxis_title='Count',\n",
        "    yaxis_title='Education',\n",
        "    xaxis=dict(showline=False, showgrid=False),\n",
        "    yaxis=dict(showline=False, showgrid=False)\n",
        ")\n",
        "\n",
        "fig.show()"
      ],
      "metadata": {
        "colab": {
          "base_uri": "https://localhost:8080/",
          "height": 0
        },
        "outputId": "7ed2ec2b-971a-4f73-a9e9-0738818db126",
        "id": "UGws6jKUTcW6"
      },
      "execution_count": 61,
      "outputs": [
        {
          "output_type": "stream",
          "name": "stderr",
          "text": [
            "<ipython-input-61-14b2461292a4>:17: SettingWithCopyWarning:\n",
            "\n",
            "\n",
            "A value is trying to be set on a copy of a slice from a DataFrame\n",
            "\n",
            "See the caveats in the documentation: https://pandas.pydata.org/pandas-docs/stable/user_guide/indexing.html#returning-a-view-versus-a-copy\n",
            "\n"
          ]
        },
        {
          "output_type": "display_data",
          "data": {
            "text/html": [
              "<html>\n",
              "<head><meta charset=\"utf-8\" /></head>\n",
              "<body>\n",
              "    <div>            <script src=\"https://cdnjs.cloudflare.com/ajax/libs/mathjax/2.7.5/MathJax.js?config=TeX-AMS-MML_SVG\"></script><script type=\"text/javascript\">if (window.MathJax && window.MathJax.Hub && window.MathJax.Hub.Config) {window.MathJax.Hub.Config({SVG: {font: \"STIX-Web\"}});}</script>                <script type=\"text/javascript\">window.PlotlyConfig = {MathJaxConfig: 'local'};</script>\n",
              "        <script charset=\"utf-8\" src=\"https://cdn.plot.ly/plotly-2.24.1.min.js\"></script>                <div id=\"4fe0c33f-d153-4e2a-a561-dcaec13ae512\" class=\"plotly-graph-div\" style=\"height:525px; width:100%;\"></div>            <script type=\"text/javascript\">                                    window.PLOTLYENV=window.PLOTLYENV || {};                                    if (document.getElementById(\"4fe0c33f-d153-4e2a-a561-dcaec13ae512\")) {                    Plotly.newPlot(                        \"4fe0c33f-d153-4e2a-a561-dcaec13ae512\",                        [{\"alignmentgroup\":\"True\",\"hovertemplate\":\"x=%{x}\\u003cbr\\u003ey=%{y}\\u003cextra\\u003e\\u003c\\u002fextra\\u003e\",\"legendgroup\":\"\",\"marker\":{\"color\":\"#636efa\",\"pattern\":{\"shape\":\"\"}},\"name\":\"\",\"offsetgroup\":\"\",\"orientation\":\"h\",\"showlegend\":false,\"textposition\":\"auto\",\"x\":[4131,1410,921,868,492,436,400,256,255,247,232,190,146,137,100,91,85,79,72,69,64,58,57,42,39,35,35,34,28,19],\"xaxis\":\"x\",\"y\":[\"B27\",\"B11\",\"B10\",\"B9\",\"B1\",\"B29\",\"B21\",\"B14\",\"B17\",\"B30\",\"B16\",\"B19\",\"B28\",\"B8\",\"B12\",\"B15\",\"B13\",\"B25\",\"B24\",\"B22\",\"B26\",\"B23\",\"B18\",\"B3\",\"B20\",\"B6\",\"B2\",\"B4\",\"B5\",\"B7\"],\"yaxis\":\"y\",\"type\":\"bar\"}],                        {\"template\":{\"data\":{\"histogram2dcontour\":[{\"type\":\"histogram2dcontour\",\"colorbar\":{\"outlinewidth\":0,\"ticks\":\"\"},\"colorscale\":[[0.0,\"#0d0887\"],[0.1111111111111111,\"#46039f\"],[0.2222222222222222,\"#7201a8\"],[0.3333333333333333,\"#9c179e\"],[0.4444444444444444,\"#bd3786\"],[0.5555555555555556,\"#d8576b\"],[0.6666666666666666,\"#ed7953\"],[0.7777777777777778,\"#fb9f3a\"],[0.8888888888888888,\"#fdca26\"],[1.0,\"#f0f921\"]]}],\"choropleth\":[{\"type\":\"choropleth\",\"colorbar\":{\"outlinewidth\":0,\"ticks\":\"\"}}],\"histogram2d\":[{\"type\":\"histogram2d\",\"colorbar\":{\"outlinewidth\":0,\"ticks\":\"\"},\"colorscale\":[[0.0,\"#0d0887\"],[0.1111111111111111,\"#46039f\"],[0.2222222222222222,\"#7201a8\"],[0.3333333333333333,\"#9c179e\"],[0.4444444444444444,\"#bd3786\"],[0.5555555555555556,\"#d8576b\"],[0.6666666666666666,\"#ed7953\"],[0.7777777777777778,\"#fb9f3a\"],[0.8888888888888888,\"#fdca26\"],[1.0,\"#f0f921\"]]}],\"heatmap\":[{\"type\":\"heatmap\",\"colorbar\":{\"outlinewidth\":0,\"ticks\":\"\"},\"colorscale\":[[0.0,\"#0d0887\"],[0.1111111111111111,\"#46039f\"],[0.2222222222222222,\"#7201a8\"],[0.3333333333333333,\"#9c179e\"],[0.4444444444444444,\"#bd3786\"],[0.5555555555555556,\"#d8576b\"],[0.6666666666666666,\"#ed7953\"],[0.7777777777777778,\"#fb9f3a\"],[0.8888888888888888,\"#fdca26\"],[1.0,\"#f0f921\"]]}],\"heatmapgl\":[{\"type\":\"heatmapgl\",\"colorbar\":{\"outlinewidth\":0,\"ticks\":\"\"},\"colorscale\":[[0.0,\"#0d0887\"],[0.1111111111111111,\"#46039f\"],[0.2222222222222222,\"#7201a8\"],[0.3333333333333333,\"#9c179e\"],[0.4444444444444444,\"#bd3786\"],[0.5555555555555556,\"#d8576b\"],[0.6666666666666666,\"#ed7953\"],[0.7777777777777778,\"#fb9f3a\"],[0.8888888888888888,\"#fdca26\"],[1.0,\"#f0f921\"]]}],\"contourcarpet\":[{\"type\":\"contourcarpet\",\"colorbar\":{\"outlinewidth\":0,\"ticks\":\"\"}}],\"contour\":[{\"type\":\"contour\",\"colorbar\":{\"outlinewidth\":0,\"ticks\":\"\"},\"colorscale\":[[0.0,\"#0d0887\"],[0.1111111111111111,\"#46039f\"],[0.2222222222222222,\"#7201a8\"],[0.3333333333333333,\"#9c179e\"],[0.4444444444444444,\"#bd3786\"],[0.5555555555555556,\"#d8576b\"],[0.6666666666666666,\"#ed7953\"],[0.7777777777777778,\"#fb9f3a\"],[0.8888888888888888,\"#fdca26\"],[1.0,\"#f0f921\"]]}],\"surface\":[{\"type\":\"surface\",\"colorbar\":{\"outlinewidth\":0,\"ticks\":\"\"},\"colorscale\":[[0.0,\"#0d0887\"],[0.1111111111111111,\"#46039f\"],[0.2222222222222222,\"#7201a8\"],[0.3333333333333333,\"#9c179e\"],[0.4444444444444444,\"#bd3786\"],[0.5555555555555556,\"#d8576b\"],[0.6666666666666666,\"#ed7953\"],[0.7777777777777778,\"#fb9f3a\"],[0.8888888888888888,\"#fdca26\"],[1.0,\"#f0f921\"]]}],\"mesh3d\":[{\"type\":\"mesh3d\",\"colorbar\":{\"outlinewidth\":0,\"ticks\":\"\"}}],\"scatter\":[{\"fillpattern\":{\"fillmode\":\"overlay\",\"size\":10,\"solidity\":0.2},\"type\":\"scatter\"}],\"parcoords\":[{\"type\":\"parcoords\",\"line\":{\"colorbar\":{\"outlinewidth\":0,\"ticks\":\"\"}}}],\"scatterpolargl\":[{\"type\":\"scatterpolargl\",\"marker\":{\"colorbar\":{\"outlinewidth\":0,\"ticks\":\"\"}}}],\"bar\":[{\"error_x\":{\"color\":\"#2a3f5f\"},\"error_y\":{\"color\":\"#2a3f5f\"},\"marker\":{\"line\":{\"color\":\"#E5ECF6\",\"width\":0.5},\"pattern\":{\"fillmode\":\"overlay\",\"size\":10,\"solidity\":0.2}},\"type\":\"bar\"}],\"scattergeo\":[{\"type\":\"scattergeo\",\"marker\":{\"colorbar\":{\"outlinewidth\":0,\"ticks\":\"\"}}}],\"scatterpolar\":[{\"type\":\"scatterpolar\",\"marker\":{\"colorbar\":{\"outlinewidth\":0,\"ticks\":\"\"}}}],\"histogram\":[{\"marker\":{\"pattern\":{\"fillmode\":\"overlay\",\"size\":10,\"solidity\":0.2}},\"type\":\"histogram\"}],\"scattergl\":[{\"type\":\"scattergl\",\"marker\":{\"colorbar\":{\"outlinewidth\":0,\"ticks\":\"\"}}}],\"scatter3d\":[{\"type\":\"scatter3d\",\"line\":{\"colorbar\":{\"outlinewidth\":0,\"ticks\":\"\"}},\"marker\":{\"colorbar\":{\"outlinewidth\":0,\"ticks\":\"\"}}}],\"scattermapbox\":[{\"type\":\"scattermapbox\",\"marker\":{\"colorbar\":{\"outlinewidth\":0,\"ticks\":\"\"}}}],\"scatterternary\":[{\"type\":\"scatterternary\",\"marker\":{\"colorbar\":{\"outlinewidth\":0,\"ticks\":\"\"}}}],\"scattercarpet\":[{\"type\":\"scattercarpet\",\"marker\":{\"colorbar\":{\"outlinewidth\":0,\"ticks\":\"\"}}}],\"carpet\":[{\"aaxis\":{\"endlinecolor\":\"#2a3f5f\",\"gridcolor\":\"white\",\"linecolor\":\"white\",\"minorgridcolor\":\"white\",\"startlinecolor\":\"#2a3f5f\"},\"baxis\":{\"endlinecolor\":\"#2a3f5f\",\"gridcolor\":\"white\",\"linecolor\":\"white\",\"minorgridcolor\":\"white\",\"startlinecolor\":\"#2a3f5f\"},\"type\":\"carpet\"}],\"table\":[{\"cells\":{\"fill\":{\"color\":\"#EBF0F8\"},\"line\":{\"color\":\"white\"}},\"header\":{\"fill\":{\"color\":\"#C8D4E3\"},\"line\":{\"color\":\"white\"}},\"type\":\"table\"}],\"barpolar\":[{\"marker\":{\"line\":{\"color\":\"#E5ECF6\",\"width\":0.5},\"pattern\":{\"fillmode\":\"overlay\",\"size\":10,\"solidity\":0.2}},\"type\":\"barpolar\"}],\"pie\":[{\"automargin\":true,\"type\":\"pie\"}]},\"layout\":{\"autotypenumbers\":\"strict\",\"colorway\":[\"#636efa\",\"#EF553B\",\"#00cc96\",\"#ab63fa\",\"#FFA15A\",\"#19d3f3\",\"#FF6692\",\"#B6E880\",\"#FF97FF\",\"#FECB52\"],\"font\":{\"color\":\"#2a3f5f\"},\"hovermode\":\"closest\",\"hoverlabel\":{\"align\":\"left\"},\"paper_bgcolor\":\"white\",\"plot_bgcolor\":\"#E5ECF6\",\"polar\":{\"bgcolor\":\"#E5ECF6\",\"angularaxis\":{\"gridcolor\":\"white\",\"linecolor\":\"white\",\"ticks\":\"\"},\"radialaxis\":{\"gridcolor\":\"white\",\"linecolor\":\"white\",\"ticks\":\"\"}},\"ternary\":{\"bgcolor\":\"#E5ECF6\",\"aaxis\":{\"gridcolor\":\"white\",\"linecolor\":\"white\",\"ticks\":\"\"},\"baxis\":{\"gridcolor\":\"white\",\"linecolor\":\"white\",\"ticks\":\"\"},\"caxis\":{\"gridcolor\":\"white\",\"linecolor\":\"white\",\"ticks\":\"\"}},\"coloraxis\":{\"colorbar\":{\"outlinewidth\":0,\"ticks\":\"\"}},\"colorscale\":{\"sequential\":[[0.0,\"#0d0887\"],[0.1111111111111111,\"#46039f\"],[0.2222222222222222,\"#7201a8\"],[0.3333333333333333,\"#9c179e\"],[0.4444444444444444,\"#bd3786\"],[0.5555555555555556,\"#d8576b\"],[0.6666666666666666,\"#ed7953\"],[0.7777777777777778,\"#fb9f3a\"],[0.8888888888888888,\"#fdca26\"],[1.0,\"#f0f921\"]],\"sequentialminus\":[[0.0,\"#0d0887\"],[0.1111111111111111,\"#46039f\"],[0.2222222222222222,\"#7201a8\"],[0.3333333333333333,\"#9c179e\"],[0.4444444444444444,\"#bd3786\"],[0.5555555555555556,\"#d8576b\"],[0.6666666666666666,\"#ed7953\"],[0.7777777777777778,\"#fb9f3a\"],[0.8888888888888888,\"#fdca26\"],[1.0,\"#f0f921\"]],\"diverging\":[[0,\"#8e0152\"],[0.1,\"#c51b7d\"],[0.2,\"#de77ae\"],[0.3,\"#f1b6da\"],[0.4,\"#fde0ef\"],[0.5,\"#f7f7f7\"],[0.6,\"#e6f5d0\"],[0.7,\"#b8e186\"],[0.8,\"#7fbc41\"],[0.9,\"#4d9221\"],[1,\"#276419\"]]},\"xaxis\":{\"gridcolor\":\"white\",\"linecolor\":\"white\",\"ticks\":\"\",\"title\":{\"standoff\":15},\"zerolinecolor\":\"white\",\"automargin\":true,\"zerolinewidth\":2},\"yaxis\":{\"gridcolor\":\"white\",\"linecolor\":\"white\",\"ticks\":\"\",\"title\":{\"standoff\":15},\"zerolinecolor\":\"white\",\"automargin\":true,\"zerolinewidth\":2},\"scene\":{\"xaxis\":{\"backgroundcolor\":\"#E5ECF6\",\"gridcolor\":\"white\",\"linecolor\":\"white\",\"showbackground\":true,\"ticks\":\"\",\"zerolinecolor\":\"white\",\"gridwidth\":2},\"yaxis\":{\"backgroundcolor\":\"#E5ECF6\",\"gridcolor\":\"white\",\"linecolor\":\"white\",\"showbackground\":true,\"ticks\":\"\",\"zerolinecolor\":\"white\",\"gridwidth\":2},\"zaxis\":{\"backgroundcolor\":\"#E5ECF6\",\"gridcolor\":\"white\",\"linecolor\":\"white\",\"showbackground\":true,\"ticks\":\"\",\"zerolinecolor\":\"white\",\"gridwidth\":2}},\"shapedefaults\":{\"line\":{\"color\":\"#2a3f5f\"}},\"annotationdefaults\":{\"arrowcolor\":\"#2a3f5f\",\"arrowhead\":0,\"arrowwidth\":1},\"geo\":{\"bgcolor\":\"white\",\"landcolor\":\"#E5ECF6\",\"subunitcolor\":\"white\",\"showland\":true,\"showlakes\":true,\"lakecolor\":\"white\"},\"title\":{\"x\":0.05},\"mapbox\":{\"style\":\"light\"}}},\"xaxis\":{\"anchor\":\"y\",\"domain\":[0.0,1.0],\"title\":{\"text\":\"Count\"},\"showline\":false,\"showgrid\":false},\"yaxis\":{\"anchor\":\"x\",\"domain\":[0.0,1.0],\"title\":{\"text\":\"Education\"},\"showline\":false,\"showgrid\":false},\"legend\":{\"tracegroupgap\":0},\"margin\":{\"t\":60},\"barmode\":\"relative\"},                        {\"responsive\": true}                    ).then(function(){\n",
              "                            \n",
              "var gd = document.getElementById('4fe0c33f-d153-4e2a-a561-dcaec13ae512');\n",
              "var x = new MutationObserver(function (mutations, observer) {{\n",
              "        var display = window.getComputedStyle(gd).display;\n",
              "        if (!display || display === 'none') {{\n",
              "            console.log([gd, 'removed!']);\n",
              "            Plotly.purge(gd);\n",
              "            observer.disconnect();\n",
              "        }}\n",
              "}});\n",
              "\n",
              "// Listen for the removal of the full notebook cells\n",
              "var notebookContainer = gd.closest('#notebook-container');\n",
              "if (notebookContainer) {{\n",
              "    x.observe(notebookContainer, {childList: true});\n",
              "}}\n",
              "\n",
              "// Listen for the clearing of the current output cell\n",
              "var outputEl = gd.closest('.output');\n",
              "if (outputEl) {{\n",
              "    x.observe(outputEl, {childList: true});\n",
              "}}\n",
              "\n",
              "                        })                };                            </script>        </div>\n",
              "</body>\n",
              "</html>"
            ]
          },
          "metadata": {}
        }
      ]
    },
    {
      "cell_type": "markdown",
      "source": [
        "# Exploratory Data Analysis - Status"
      ],
      "metadata": {
        "id": "ypQRc1TCB6Rn"
      }
    },
    {
      "cell_type": "markdown",
      "source": [
        "The **Status** column, formerly \"Message State\", indicates how many times a potential customer was contacted. If the customer at some point is interested, they will proceed with the demo call"
      ],
      "metadata": {
        "id": "iYwwv-irvcl-"
      }
    },
    {
      "cell_type": "code",
      "source": [
        "fig = px.bar(\n",
        "    parsed_data,\n",
        "    x=parsed_data.groupby('Status').size().values,\n",
        "    y=parsed_data.groupby('Status').size().index\n",
        ")\n",
        "\n",
        "fig.update_layout(\n",
        "    xaxis_title='Count',\n",
        "    yaxis_title='Status',\n",
        "    xaxis=dict(showline=False, showgrid=False),\n",
        "    yaxis=dict(showline=False, showgrid=False)\n",
        ")\n",
        "\n",
        "fig.show()"
      ],
      "metadata": {
        "colab": {
          "base_uri": "https://localhost:8080/",
          "height": 0
        },
        "id": "eFB-jsv8-JaX",
        "outputId": "7f525dfc-e74a-4ba3-f79a-88b3db5fac72"
      },
      "execution_count": 62,
      "outputs": [
        {
          "output_type": "display_data",
          "data": {
            "text/html": [
              "<html>\n",
              "<head><meta charset=\"utf-8\" /></head>\n",
              "<body>\n",
              "    <div>            <script src=\"https://cdnjs.cloudflare.com/ajax/libs/mathjax/2.7.5/MathJax.js?config=TeX-AMS-MML_SVG\"></script><script type=\"text/javascript\">if (window.MathJax && window.MathJax.Hub && window.MathJax.Hub.Config) {window.MathJax.Hub.Config({SVG: {font: \"STIX-Web\"}});}</script>                <script type=\"text/javascript\">window.PlotlyConfig = {MathJaxConfig: 'local'};</script>\n",
              "        <script charset=\"utf-8\" src=\"https://cdn.plot.ly/plotly-2.24.1.min.js\"></script>                <div id=\"043eece1-5960-4b96-b61a-21de21b454a9\" class=\"plotly-graph-div\" style=\"height:525px; width:100%;\"></div>            <script type=\"text/javascript\">                                    window.PLOTLYENV=window.PLOTLYENV || {};                                    if (document.getElementById(\"043eece1-5960-4b96-b61a-21de21b454a9\")) {                    Plotly.newPlot(                        \"043eece1-5960-4b96-b61a-21de21b454a9\",                        [{\"alignmentgroup\":\"True\",\"hovertemplate\":\"x=%{x}\\u003cbr\\u003ey=%{y}\\u003cextra\\u003e\\u003c\\u002fextra\\u003e\",\"legendgroup\":\"\",\"marker\":{\"color\":\"#636efa\",\"pattern\":{\"shape\":\"\"}},\"name\":\"\",\"offsetgroup\":\"\",\"orientation\":\"h\",\"showlegend\":false,\"textposition\":\"auto\",\"x\":[8500,908,821,799],\"xaxis\":\"x\",\"y\":[\"1st message\",\"2nd message\",\"3rd message\",\"missing\"],\"yaxis\":\"y\",\"type\":\"bar\"}],                        {\"template\":{\"data\":{\"histogram2dcontour\":[{\"type\":\"histogram2dcontour\",\"colorbar\":{\"outlinewidth\":0,\"ticks\":\"\"},\"colorscale\":[[0.0,\"#0d0887\"],[0.1111111111111111,\"#46039f\"],[0.2222222222222222,\"#7201a8\"],[0.3333333333333333,\"#9c179e\"],[0.4444444444444444,\"#bd3786\"],[0.5555555555555556,\"#d8576b\"],[0.6666666666666666,\"#ed7953\"],[0.7777777777777778,\"#fb9f3a\"],[0.8888888888888888,\"#fdca26\"],[1.0,\"#f0f921\"]]}],\"choropleth\":[{\"type\":\"choropleth\",\"colorbar\":{\"outlinewidth\":0,\"ticks\":\"\"}}],\"histogram2d\":[{\"type\":\"histogram2d\",\"colorbar\":{\"outlinewidth\":0,\"ticks\":\"\"},\"colorscale\":[[0.0,\"#0d0887\"],[0.1111111111111111,\"#46039f\"],[0.2222222222222222,\"#7201a8\"],[0.3333333333333333,\"#9c179e\"],[0.4444444444444444,\"#bd3786\"],[0.5555555555555556,\"#d8576b\"],[0.6666666666666666,\"#ed7953\"],[0.7777777777777778,\"#fb9f3a\"],[0.8888888888888888,\"#fdca26\"],[1.0,\"#f0f921\"]]}],\"heatmap\":[{\"type\":\"heatmap\",\"colorbar\":{\"outlinewidth\":0,\"ticks\":\"\"},\"colorscale\":[[0.0,\"#0d0887\"],[0.1111111111111111,\"#46039f\"],[0.2222222222222222,\"#7201a8\"],[0.3333333333333333,\"#9c179e\"],[0.4444444444444444,\"#bd3786\"],[0.5555555555555556,\"#d8576b\"],[0.6666666666666666,\"#ed7953\"],[0.7777777777777778,\"#fb9f3a\"],[0.8888888888888888,\"#fdca26\"],[1.0,\"#f0f921\"]]}],\"heatmapgl\":[{\"type\":\"heatmapgl\",\"colorbar\":{\"outlinewidth\":0,\"ticks\":\"\"},\"colorscale\":[[0.0,\"#0d0887\"],[0.1111111111111111,\"#46039f\"],[0.2222222222222222,\"#7201a8\"],[0.3333333333333333,\"#9c179e\"],[0.4444444444444444,\"#bd3786\"],[0.5555555555555556,\"#d8576b\"],[0.6666666666666666,\"#ed7953\"],[0.7777777777777778,\"#fb9f3a\"],[0.8888888888888888,\"#fdca26\"],[1.0,\"#f0f921\"]]}],\"contourcarpet\":[{\"type\":\"contourcarpet\",\"colorbar\":{\"outlinewidth\":0,\"ticks\":\"\"}}],\"contour\":[{\"type\":\"contour\",\"colorbar\":{\"outlinewidth\":0,\"ticks\":\"\"},\"colorscale\":[[0.0,\"#0d0887\"],[0.1111111111111111,\"#46039f\"],[0.2222222222222222,\"#7201a8\"],[0.3333333333333333,\"#9c179e\"],[0.4444444444444444,\"#bd3786\"],[0.5555555555555556,\"#d8576b\"],[0.6666666666666666,\"#ed7953\"],[0.7777777777777778,\"#fb9f3a\"],[0.8888888888888888,\"#fdca26\"],[1.0,\"#f0f921\"]]}],\"surface\":[{\"type\":\"surface\",\"colorbar\":{\"outlinewidth\":0,\"ticks\":\"\"},\"colorscale\":[[0.0,\"#0d0887\"],[0.1111111111111111,\"#46039f\"],[0.2222222222222222,\"#7201a8\"],[0.3333333333333333,\"#9c179e\"],[0.4444444444444444,\"#bd3786\"],[0.5555555555555556,\"#d8576b\"],[0.6666666666666666,\"#ed7953\"],[0.7777777777777778,\"#fb9f3a\"],[0.8888888888888888,\"#fdca26\"],[1.0,\"#f0f921\"]]}],\"mesh3d\":[{\"type\":\"mesh3d\",\"colorbar\":{\"outlinewidth\":0,\"ticks\":\"\"}}],\"scatter\":[{\"fillpattern\":{\"fillmode\":\"overlay\",\"size\":10,\"solidity\":0.2},\"type\":\"scatter\"}],\"parcoords\":[{\"type\":\"parcoords\",\"line\":{\"colorbar\":{\"outlinewidth\":0,\"ticks\":\"\"}}}],\"scatterpolargl\":[{\"type\":\"scatterpolargl\",\"marker\":{\"colorbar\":{\"outlinewidth\":0,\"ticks\":\"\"}}}],\"bar\":[{\"error_x\":{\"color\":\"#2a3f5f\"},\"error_y\":{\"color\":\"#2a3f5f\"},\"marker\":{\"line\":{\"color\":\"#E5ECF6\",\"width\":0.5},\"pattern\":{\"fillmode\":\"overlay\",\"size\":10,\"solidity\":0.2}},\"type\":\"bar\"}],\"scattergeo\":[{\"type\":\"scattergeo\",\"marker\":{\"colorbar\":{\"outlinewidth\":0,\"ticks\":\"\"}}}],\"scatterpolar\":[{\"type\":\"scatterpolar\",\"marker\":{\"colorbar\":{\"outlinewidth\":0,\"ticks\":\"\"}}}],\"histogram\":[{\"marker\":{\"pattern\":{\"fillmode\":\"overlay\",\"size\":10,\"solidity\":0.2}},\"type\":\"histogram\"}],\"scattergl\":[{\"type\":\"scattergl\",\"marker\":{\"colorbar\":{\"outlinewidth\":0,\"ticks\":\"\"}}}],\"scatter3d\":[{\"type\":\"scatter3d\",\"line\":{\"colorbar\":{\"outlinewidth\":0,\"ticks\":\"\"}},\"marker\":{\"colorbar\":{\"outlinewidth\":0,\"ticks\":\"\"}}}],\"scattermapbox\":[{\"type\":\"scattermapbox\",\"marker\":{\"colorbar\":{\"outlinewidth\":0,\"ticks\":\"\"}}}],\"scatterternary\":[{\"type\":\"scatterternary\",\"marker\":{\"colorbar\":{\"outlinewidth\":0,\"ticks\":\"\"}}}],\"scattercarpet\":[{\"type\":\"scattercarpet\",\"marker\":{\"colorbar\":{\"outlinewidth\":0,\"ticks\":\"\"}}}],\"carpet\":[{\"aaxis\":{\"endlinecolor\":\"#2a3f5f\",\"gridcolor\":\"white\",\"linecolor\":\"white\",\"minorgridcolor\":\"white\",\"startlinecolor\":\"#2a3f5f\"},\"baxis\":{\"endlinecolor\":\"#2a3f5f\",\"gridcolor\":\"white\",\"linecolor\":\"white\",\"minorgridcolor\":\"white\",\"startlinecolor\":\"#2a3f5f\"},\"type\":\"carpet\"}],\"table\":[{\"cells\":{\"fill\":{\"color\":\"#EBF0F8\"},\"line\":{\"color\":\"white\"}},\"header\":{\"fill\":{\"color\":\"#C8D4E3\"},\"line\":{\"color\":\"white\"}},\"type\":\"table\"}],\"barpolar\":[{\"marker\":{\"line\":{\"color\":\"#E5ECF6\",\"width\":0.5},\"pattern\":{\"fillmode\":\"overlay\",\"size\":10,\"solidity\":0.2}},\"type\":\"barpolar\"}],\"pie\":[{\"automargin\":true,\"type\":\"pie\"}]},\"layout\":{\"autotypenumbers\":\"strict\",\"colorway\":[\"#636efa\",\"#EF553B\",\"#00cc96\",\"#ab63fa\",\"#FFA15A\",\"#19d3f3\",\"#FF6692\",\"#B6E880\",\"#FF97FF\",\"#FECB52\"],\"font\":{\"color\":\"#2a3f5f\"},\"hovermode\":\"closest\",\"hoverlabel\":{\"align\":\"left\"},\"paper_bgcolor\":\"white\",\"plot_bgcolor\":\"#E5ECF6\",\"polar\":{\"bgcolor\":\"#E5ECF6\",\"angularaxis\":{\"gridcolor\":\"white\",\"linecolor\":\"white\",\"ticks\":\"\"},\"radialaxis\":{\"gridcolor\":\"white\",\"linecolor\":\"white\",\"ticks\":\"\"}},\"ternary\":{\"bgcolor\":\"#E5ECF6\",\"aaxis\":{\"gridcolor\":\"white\",\"linecolor\":\"white\",\"ticks\":\"\"},\"baxis\":{\"gridcolor\":\"white\",\"linecolor\":\"white\",\"ticks\":\"\"},\"caxis\":{\"gridcolor\":\"white\",\"linecolor\":\"white\",\"ticks\":\"\"}},\"coloraxis\":{\"colorbar\":{\"outlinewidth\":0,\"ticks\":\"\"}},\"colorscale\":{\"sequential\":[[0.0,\"#0d0887\"],[0.1111111111111111,\"#46039f\"],[0.2222222222222222,\"#7201a8\"],[0.3333333333333333,\"#9c179e\"],[0.4444444444444444,\"#bd3786\"],[0.5555555555555556,\"#d8576b\"],[0.6666666666666666,\"#ed7953\"],[0.7777777777777778,\"#fb9f3a\"],[0.8888888888888888,\"#fdca26\"],[1.0,\"#f0f921\"]],\"sequentialminus\":[[0.0,\"#0d0887\"],[0.1111111111111111,\"#46039f\"],[0.2222222222222222,\"#7201a8\"],[0.3333333333333333,\"#9c179e\"],[0.4444444444444444,\"#bd3786\"],[0.5555555555555556,\"#d8576b\"],[0.6666666666666666,\"#ed7953\"],[0.7777777777777778,\"#fb9f3a\"],[0.8888888888888888,\"#fdca26\"],[1.0,\"#f0f921\"]],\"diverging\":[[0,\"#8e0152\"],[0.1,\"#c51b7d\"],[0.2,\"#de77ae\"],[0.3,\"#f1b6da\"],[0.4,\"#fde0ef\"],[0.5,\"#f7f7f7\"],[0.6,\"#e6f5d0\"],[0.7,\"#b8e186\"],[0.8,\"#7fbc41\"],[0.9,\"#4d9221\"],[1,\"#276419\"]]},\"xaxis\":{\"gridcolor\":\"white\",\"linecolor\":\"white\",\"ticks\":\"\",\"title\":{\"standoff\":15},\"zerolinecolor\":\"white\",\"automargin\":true,\"zerolinewidth\":2},\"yaxis\":{\"gridcolor\":\"white\",\"linecolor\":\"white\",\"ticks\":\"\",\"title\":{\"standoff\":15},\"zerolinecolor\":\"white\",\"automargin\":true,\"zerolinewidth\":2},\"scene\":{\"xaxis\":{\"backgroundcolor\":\"#E5ECF6\",\"gridcolor\":\"white\",\"linecolor\":\"white\",\"showbackground\":true,\"ticks\":\"\",\"zerolinecolor\":\"white\",\"gridwidth\":2},\"yaxis\":{\"backgroundcolor\":\"#E5ECF6\",\"gridcolor\":\"white\",\"linecolor\":\"white\",\"showbackground\":true,\"ticks\":\"\",\"zerolinecolor\":\"white\",\"gridwidth\":2},\"zaxis\":{\"backgroundcolor\":\"#E5ECF6\",\"gridcolor\":\"white\",\"linecolor\":\"white\",\"showbackground\":true,\"ticks\":\"\",\"zerolinecolor\":\"white\",\"gridwidth\":2}},\"shapedefaults\":{\"line\":{\"color\":\"#2a3f5f\"}},\"annotationdefaults\":{\"arrowcolor\":\"#2a3f5f\",\"arrowhead\":0,\"arrowwidth\":1},\"geo\":{\"bgcolor\":\"white\",\"landcolor\":\"#E5ECF6\",\"subunitcolor\":\"white\",\"showland\":true,\"showlakes\":true,\"lakecolor\":\"white\"},\"title\":{\"x\":0.05},\"mapbox\":{\"style\":\"light\"}}},\"xaxis\":{\"anchor\":\"y\",\"domain\":[0.0,1.0],\"title\":{\"text\":\"Count\"},\"showline\":false,\"showgrid\":false},\"yaxis\":{\"anchor\":\"x\",\"domain\":[0.0,1.0],\"title\":{\"text\":\"Status\"},\"showline\":false,\"showgrid\":false},\"legend\":{\"tracegroupgap\":0},\"margin\":{\"t\":60},\"barmode\":\"relative\"},                        {\"responsive\": true}                    ).then(function(){\n",
              "                            \n",
              "var gd = document.getElementById('043eece1-5960-4b96-b61a-21de21b454a9');\n",
              "var x = new MutationObserver(function (mutations, observer) {{\n",
              "        var display = window.getComputedStyle(gd).display;\n",
              "        if (!display || display === 'none') {{\n",
              "            console.log([gd, 'removed!']);\n",
              "            Plotly.purge(gd);\n",
              "            observer.disconnect();\n",
              "        }}\n",
              "}});\n",
              "\n",
              "// Listen for the removal of the full notebook cells\n",
              "var notebookContainer = gd.closest('#notebook-container');\n",
              "if (notebookContainer) {{\n",
              "    x.observe(notebookContainer, {childList: true});\n",
              "}}\n",
              "\n",
              "// Listen for the clearing of the current output cell\n",
              "var outputEl = gd.closest('.output');\n",
              "if (outputEl) {{\n",
              "    x.observe(outputEl, {childList: true});\n",
              "}}\n",
              "\n",
              "                        })                };                            </script>        </div>\n",
              "</body>\n",
              "</html>"
            ]
          },
          "metadata": {}
        }
      ]
    },
    {
      "cell_type": "markdown",
      "source": [
        "Also the status will be part of the **state space**:\n",
        "\n",
        "We will encode it as the Integer number of messages sent to the potential client.\n",
        "\n",
        "Note that this part of the state **can be changed** via an action"
      ],
      "metadata": {
        "id": "BbMfJb4kHdF2"
      }
    },
    {
      "cell_type": "code",
      "source": [
        "idx = np.where(parsed_data['Status'] == 'missing')\n",
        "parsed_data.iloc[idx[0]]"
      ],
      "metadata": {
        "colab": {
          "base_uri": "https://localhost:8080/",
          "height": 0
        },
        "id": "6Tbu_ydRUvA6",
        "outputId": "df44b60a-6aa5-4273-882f-d23d2bb3770c"
      },
      "execution_count": 63,
      "outputs": [
        {
          "output_type": "execute_result",
          "data": {
            "text/plain": [
              "                    Country Education First Contact Last Contact   Status  \\\n",
              "ID                                                                          \n",
              "1                       usa       B27           NaT          NaT  missing   \n",
              "2                   austria       B27           NaT          NaT  missing   \n",
              "3      united arab emirates       B27           NaT          NaT  missing   \n",
              "4                    france       B27           NaT          NaT  missing   \n",
              "5                       usa       B27           NaT          NaT  missing   \n",
              "...                     ...       ...           ...          ...      ...   \n",
              "9421                    usa       B27           NaT   2021-09-01  missing   \n",
              "9422                    usa       B27           NaT   2021-09-01  missing   \n",
              "9423                 mexico       B27           NaT   2021-09-01  missing   \n",
              "9830                    usa       B27    2021-11-10   2021-11-10  missing   \n",
              "11154                   usa       B29           NaT   2022-03-01  missing   \n",
              "\n",
              "                    Stage First Call Signed up for a demo  \\\n",
              "ID                                                          \n",
              "1                 missing        NaT                  NaT   \n",
              "2                 missing 2022-04-28           2022-04-25   \n",
              "3                 missing        NaT           2022-04-24   \n",
              "4                 missing 2022-04-22           2022-04-20   \n",
              "5                 missing 2022-04-23           2022-04-19   \n",
              "...                   ...        ...                  ...   \n",
              "9421              missing        NaT                  NaT   \n",
              "9422              missing        NaT                  NaT   \n",
              "9423              missing 2021-09-30           2021-12-22   \n",
              "9830              missing        NaT                  NaT   \n",
              "11154  subscribed already 2022-04-05           2022-04-01   \n",
              "\n",
              "      Filled in customer survey Date Platform sign up  \\\n",
              "ID                                                      \n",
              "1                           NaT            2022-04-27   \n",
              "2                    2022-04-25            2022-04-25   \n",
              "3                           NaT                   NaT   \n",
              "4                    2022-04-20            2022-04-22   \n",
              "5                    2022-04-19                   NaT   \n",
              "...                         ...                   ...   \n",
              "9421                        NaT                   NaT   \n",
              "9422                        NaT                   NaT   \n",
              "9423                 2021-12-22            2021-12-22   \n",
              "9830                        NaT                   NaT   \n",
              "11154                2022-04-02            2022-04-06   \n",
              "\n",
              "      Account Manager assigned Subscribed  Bool Platform sign up  \n",
              "ID                                                                \n",
              "1                          NaT        NaT                    1.0  \n",
              "2                          NaT        NaT                    1.0  \n",
              "3                          NaT        NaT                    NaN  \n",
              "4                   2022-04-22        NaT                    1.0  \n",
              "5                          NaT        NaT                    NaN  \n",
              "...                        ...        ...                    ...  \n",
              "9421                       NaT        NaT                    NaN  \n",
              "9422                       NaT        NaT                    NaN  \n",
              "9423                       NaT        NaT                    1.0  \n",
              "9830                       NaT        NaT                    NaN  \n",
              "11154               2022-04-09 2022-04-16                    1.0  \n",
              "\n",
              "[799 rows x 13 columns]"
            ],
            "text/html": [
              "\n",
              "  <div id=\"df-7de113a8-76cc-49a2-8dd3-9ee01b586604\" class=\"colab-df-container\">\n",
              "    <div>\n",
              "<style scoped>\n",
              "    .dataframe tbody tr th:only-of-type {\n",
              "        vertical-align: middle;\n",
              "    }\n",
              "\n",
              "    .dataframe tbody tr th {\n",
              "        vertical-align: top;\n",
              "    }\n",
              "\n",
              "    .dataframe thead th {\n",
              "        text-align: right;\n",
              "    }\n",
              "</style>\n",
              "<table border=\"1\" class=\"dataframe\">\n",
              "  <thead>\n",
              "    <tr style=\"text-align: right;\">\n",
              "      <th></th>\n",
              "      <th>Country</th>\n",
              "      <th>Education</th>\n",
              "      <th>First Contact</th>\n",
              "      <th>Last Contact</th>\n",
              "      <th>Status</th>\n",
              "      <th>Stage</th>\n",
              "      <th>First Call</th>\n",
              "      <th>Signed up for a demo</th>\n",
              "      <th>Filled in customer survey</th>\n",
              "      <th>Date Platform sign up</th>\n",
              "      <th>Account Manager assigned</th>\n",
              "      <th>Subscribed</th>\n",
              "      <th>Bool Platform sign up</th>\n",
              "    </tr>\n",
              "    <tr>\n",
              "      <th>ID</th>\n",
              "      <th></th>\n",
              "      <th></th>\n",
              "      <th></th>\n",
              "      <th></th>\n",
              "      <th></th>\n",
              "      <th></th>\n",
              "      <th></th>\n",
              "      <th></th>\n",
              "      <th></th>\n",
              "      <th></th>\n",
              "      <th></th>\n",
              "      <th></th>\n",
              "      <th></th>\n",
              "    </tr>\n",
              "  </thead>\n",
              "  <tbody>\n",
              "    <tr>\n",
              "      <th>1</th>\n",
              "      <td>usa</td>\n",
              "      <td>B27</td>\n",
              "      <td>NaT</td>\n",
              "      <td>NaT</td>\n",
              "      <td>missing</td>\n",
              "      <td>missing</td>\n",
              "      <td>NaT</td>\n",
              "      <td>NaT</td>\n",
              "      <td>NaT</td>\n",
              "      <td>2022-04-27</td>\n",
              "      <td>NaT</td>\n",
              "      <td>NaT</td>\n",
              "      <td>1.0</td>\n",
              "    </tr>\n",
              "    <tr>\n",
              "      <th>2</th>\n",
              "      <td>austria</td>\n",
              "      <td>B27</td>\n",
              "      <td>NaT</td>\n",
              "      <td>NaT</td>\n",
              "      <td>missing</td>\n",
              "      <td>missing</td>\n",
              "      <td>2022-04-28</td>\n",
              "      <td>2022-04-25</td>\n",
              "      <td>2022-04-25</td>\n",
              "      <td>2022-04-25</td>\n",
              "      <td>NaT</td>\n",
              "      <td>NaT</td>\n",
              "      <td>1.0</td>\n",
              "    </tr>\n",
              "    <tr>\n",
              "      <th>3</th>\n",
              "      <td>united arab emirates</td>\n",
              "      <td>B27</td>\n",
              "      <td>NaT</td>\n",
              "      <td>NaT</td>\n",
              "      <td>missing</td>\n",
              "      <td>missing</td>\n",
              "      <td>NaT</td>\n",
              "      <td>2022-04-24</td>\n",
              "      <td>NaT</td>\n",
              "      <td>NaT</td>\n",
              "      <td>NaT</td>\n",
              "      <td>NaT</td>\n",
              "      <td>NaN</td>\n",
              "    </tr>\n",
              "    <tr>\n",
              "      <th>4</th>\n",
              "      <td>france</td>\n",
              "      <td>B27</td>\n",
              "      <td>NaT</td>\n",
              "      <td>NaT</td>\n",
              "      <td>missing</td>\n",
              "      <td>missing</td>\n",
              "      <td>2022-04-22</td>\n",
              "      <td>2022-04-20</td>\n",
              "      <td>2022-04-20</td>\n",
              "      <td>2022-04-22</td>\n",
              "      <td>2022-04-22</td>\n",
              "      <td>NaT</td>\n",
              "      <td>1.0</td>\n",
              "    </tr>\n",
              "    <tr>\n",
              "      <th>5</th>\n",
              "      <td>usa</td>\n",
              "      <td>B27</td>\n",
              "      <td>NaT</td>\n",
              "      <td>NaT</td>\n",
              "      <td>missing</td>\n",
              "      <td>missing</td>\n",
              "      <td>2022-04-23</td>\n",
              "      <td>2022-04-19</td>\n",
              "      <td>2022-04-19</td>\n",
              "      <td>NaT</td>\n",
              "      <td>NaT</td>\n",
              "      <td>NaT</td>\n",
              "      <td>NaN</td>\n",
              "    </tr>\n",
              "    <tr>\n",
              "      <th>...</th>\n",
              "      <td>...</td>\n",
              "      <td>...</td>\n",
              "      <td>...</td>\n",
              "      <td>...</td>\n",
              "      <td>...</td>\n",
              "      <td>...</td>\n",
              "      <td>...</td>\n",
              "      <td>...</td>\n",
              "      <td>...</td>\n",
              "      <td>...</td>\n",
              "      <td>...</td>\n",
              "      <td>...</td>\n",
              "      <td>...</td>\n",
              "    </tr>\n",
              "    <tr>\n",
              "      <th>9421</th>\n",
              "      <td>usa</td>\n",
              "      <td>B27</td>\n",
              "      <td>NaT</td>\n",
              "      <td>2021-09-01</td>\n",
              "      <td>missing</td>\n",
              "      <td>missing</td>\n",
              "      <td>NaT</td>\n",
              "      <td>NaT</td>\n",
              "      <td>NaT</td>\n",
              "      <td>NaT</td>\n",
              "      <td>NaT</td>\n",
              "      <td>NaT</td>\n",
              "      <td>NaN</td>\n",
              "    </tr>\n",
              "    <tr>\n",
              "      <th>9422</th>\n",
              "      <td>usa</td>\n",
              "      <td>B27</td>\n",
              "      <td>NaT</td>\n",
              "      <td>2021-09-01</td>\n",
              "      <td>missing</td>\n",
              "      <td>missing</td>\n",
              "      <td>NaT</td>\n",
              "      <td>NaT</td>\n",
              "      <td>NaT</td>\n",
              "      <td>NaT</td>\n",
              "      <td>NaT</td>\n",
              "      <td>NaT</td>\n",
              "      <td>NaN</td>\n",
              "    </tr>\n",
              "    <tr>\n",
              "      <th>9423</th>\n",
              "      <td>mexico</td>\n",
              "      <td>B27</td>\n",
              "      <td>NaT</td>\n",
              "      <td>2021-09-01</td>\n",
              "      <td>missing</td>\n",
              "      <td>missing</td>\n",
              "      <td>2021-09-30</td>\n",
              "      <td>2021-12-22</td>\n",
              "      <td>2021-12-22</td>\n",
              "      <td>2021-12-22</td>\n",
              "      <td>NaT</td>\n",
              "      <td>NaT</td>\n",
              "      <td>1.0</td>\n",
              "    </tr>\n",
              "    <tr>\n",
              "      <th>9830</th>\n",
              "      <td>usa</td>\n",
              "      <td>B27</td>\n",
              "      <td>2021-11-10</td>\n",
              "      <td>2021-11-10</td>\n",
              "      <td>missing</td>\n",
              "      <td>missing</td>\n",
              "      <td>NaT</td>\n",
              "      <td>NaT</td>\n",
              "      <td>NaT</td>\n",
              "      <td>NaT</td>\n",
              "      <td>NaT</td>\n",
              "      <td>NaT</td>\n",
              "      <td>NaN</td>\n",
              "    </tr>\n",
              "    <tr>\n",
              "      <th>11154</th>\n",
              "      <td>usa</td>\n",
              "      <td>B29</td>\n",
              "      <td>NaT</td>\n",
              "      <td>2022-03-01</td>\n",
              "      <td>missing</td>\n",
              "      <td>subscribed already</td>\n",
              "      <td>2022-04-05</td>\n",
              "      <td>2022-04-01</td>\n",
              "      <td>2022-04-02</td>\n",
              "      <td>2022-04-06</td>\n",
              "      <td>2022-04-09</td>\n",
              "      <td>2022-04-16</td>\n",
              "      <td>1.0</td>\n",
              "    </tr>\n",
              "  </tbody>\n",
              "</table>\n",
              "<p>799 rows × 13 columns</p>\n",
              "</div>\n",
              "    <div class=\"colab-df-buttons\">\n",
              "\n",
              "  <div class=\"colab-df-container\">\n",
              "    <button class=\"colab-df-convert\" onclick=\"convertToInteractive('df-7de113a8-76cc-49a2-8dd3-9ee01b586604')\"\n",
              "            title=\"Convert this dataframe to an interactive table.\"\n",
              "            style=\"display:none;\">\n",
              "\n",
              "  <svg xmlns=\"http://www.w3.org/2000/svg\" height=\"24px\" viewBox=\"0 -960 960 960\">\n",
              "    <path d=\"M120-120v-720h720v720H120Zm60-500h600v-160H180v160Zm220 220h160v-160H400v160Zm0 220h160v-160H400v160ZM180-400h160v-160H180v160Zm440 0h160v-160H620v160ZM180-180h160v-160H180v160Zm440 0h160v-160H620v160Z\"/>\n",
              "  </svg>\n",
              "    </button>\n",
              "\n",
              "  <style>\n",
              "    .colab-df-container {\n",
              "      display:flex;\n",
              "      gap: 12px;\n",
              "    }\n",
              "\n",
              "    .colab-df-convert {\n",
              "      background-color: #E8F0FE;\n",
              "      border: none;\n",
              "      border-radius: 50%;\n",
              "      cursor: pointer;\n",
              "      display: none;\n",
              "      fill: #1967D2;\n",
              "      height: 32px;\n",
              "      padding: 0 0 0 0;\n",
              "      width: 32px;\n",
              "    }\n",
              "\n",
              "    .colab-df-convert:hover {\n",
              "      background-color: #E2EBFA;\n",
              "      box-shadow: 0px 1px 2px rgba(60, 64, 67, 0.3), 0px 1px 3px 1px rgba(60, 64, 67, 0.15);\n",
              "      fill: #174EA6;\n",
              "    }\n",
              "\n",
              "    .colab-df-buttons div {\n",
              "      margin-bottom: 4px;\n",
              "    }\n",
              "\n",
              "    [theme=dark] .colab-df-convert {\n",
              "      background-color: #3B4455;\n",
              "      fill: #D2E3FC;\n",
              "    }\n",
              "\n",
              "    [theme=dark] .colab-df-convert:hover {\n",
              "      background-color: #434B5C;\n",
              "      box-shadow: 0px 1px 3px 1px rgba(0, 0, 0, 0.15);\n",
              "      filter: drop-shadow(0px 1px 2px rgba(0, 0, 0, 0.3));\n",
              "      fill: #FFFFFF;\n",
              "    }\n",
              "  </style>\n",
              "\n",
              "    <script>\n",
              "      const buttonEl =\n",
              "        document.querySelector('#df-7de113a8-76cc-49a2-8dd3-9ee01b586604 button.colab-df-convert');\n",
              "      buttonEl.style.display =\n",
              "        google.colab.kernel.accessAllowed ? 'block' : 'none';\n",
              "\n",
              "      async function convertToInteractive(key) {\n",
              "        const element = document.querySelector('#df-7de113a8-76cc-49a2-8dd3-9ee01b586604');\n",
              "        const dataTable =\n",
              "          await google.colab.kernel.invokeFunction('convertToInteractive',\n",
              "                                                    [key], {});\n",
              "        if (!dataTable) return;\n",
              "\n",
              "        const docLinkHtml = 'Like what you see? Visit the ' +\n",
              "          '<a target=\"_blank\" href=https://colab.research.google.com/notebooks/data_table.ipynb>data table notebook</a>'\n",
              "          + ' to learn more about interactive tables.';\n",
              "        element.innerHTML = '';\n",
              "        dataTable['output_type'] = 'display_data';\n",
              "        await google.colab.output.renderOutput(dataTable, element);\n",
              "        const docLink = document.createElement('div');\n",
              "        docLink.innerHTML = docLinkHtml;\n",
              "        element.appendChild(docLink);\n",
              "      }\n",
              "    </script>\n",
              "  </div>\n",
              "\n",
              "\n",
              "<div id=\"df-352486b2-ec2e-4dc0-9cef-62bdb2bfb4d1\">\n",
              "  <button class=\"colab-df-quickchart\" onclick=\"quickchart('df-352486b2-ec2e-4dc0-9cef-62bdb2bfb4d1')\"\n",
              "            title=\"Suggest charts\"\n",
              "            style=\"display:none;\">\n",
              "\n",
              "<svg xmlns=\"http://www.w3.org/2000/svg\" height=\"24px\"viewBox=\"0 0 24 24\"\n",
              "     width=\"24px\">\n",
              "    <g>\n",
              "        <path d=\"M19 3H5c-1.1 0-2 .9-2 2v14c0 1.1.9 2 2 2h14c1.1 0 2-.9 2-2V5c0-1.1-.9-2-2-2zM9 17H7v-7h2v7zm4 0h-2V7h2v10zm4 0h-2v-4h2v4z\"/>\n",
              "    </g>\n",
              "</svg>\n",
              "  </button>\n",
              "\n",
              "<style>\n",
              "  .colab-df-quickchart {\n",
              "      --bg-color: #E8F0FE;\n",
              "      --fill-color: #1967D2;\n",
              "      --hover-bg-color: #E2EBFA;\n",
              "      --hover-fill-color: #174EA6;\n",
              "      --disabled-fill-color: #AAA;\n",
              "      --disabled-bg-color: #DDD;\n",
              "  }\n",
              "\n",
              "  [theme=dark] .colab-df-quickchart {\n",
              "      --bg-color: #3B4455;\n",
              "      --fill-color: #D2E3FC;\n",
              "      --hover-bg-color: #434B5C;\n",
              "      --hover-fill-color: #FFFFFF;\n",
              "      --disabled-bg-color: #3B4455;\n",
              "      --disabled-fill-color: #666;\n",
              "  }\n",
              "\n",
              "  .colab-df-quickchart {\n",
              "    background-color: var(--bg-color);\n",
              "    border: none;\n",
              "    border-radius: 50%;\n",
              "    cursor: pointer;\n",
              "    display: none;\n",
              "    fill: var(--fill-color);\n",
              "    height: 32px;\n",
              "    padding: 0;\n",
              "    width: 32px;\n",
              "  }\n",
              "\n",
              "  .colab-df-quickchart:hover {\n",
              "    background-color: var(--hover-bg-color);\n",
              "    box-shadow: 0 1px 2px rgba(60, 64, 67, 0.3), 0 1px 3px 1px rgba(60, 64, 67, 0.15);\n",
              "    fill: var(--button-hover-fill-color);\n",
              "  }\n",
              "\n",
              "  .colab-df-quickchart-complete:disabled,\n",
              "  .colab-df-quickchart-complete:disabled:hover {\n",
              "    background-color: var(--disabled-bg-color);\n",
              "    fill: var(--disabled-fill-color);\n",
              "    box-shadow: none;\n",
              "  }\n",
              "\n",
              "  .colab-df-spinner {\n",
              "    border: 2px solid var(--fill-color);\n",
              "    border-color: transparent;\n",
              "    border-bottom-color: var(--fill-color);\n",
              "    animation:\n",
              "      spin 1s steps(1) infinite;\n",
              "  }\n",
              "\n",
              "  @keyframes spin {\n",
              "    0% {\n",
              "      border-color: transparent;\n",
              "      border-bottom-color: var(--fill-color);\n",
              "      border-left-color: var(--fill-color);\n",
              "    }\n",
              "    20% {\n",
              "      border-color: transparent;\n",
              "      border-left-color: var(--fill-color);\n",
              "      border-top-color: var(--fill-color);\n",
              "    }\n",
              "    30% {\n",
              "      border-color: transparent;\n",
              "      border-left-color: var(--fill-color);\n",
              "      border-top-color: var(--fill-color);\n",
              "      border-right-color: var(--fill-color);\n",
              "    }\n",
              "    40% {\n",
              "      border-color: transparent;\n",
              "      border-right-color: var(--fill-color);\n",
              "      border-top-color: var(--fill-color);\n",
              "    }\n",
              "    60% {\n",
              "      border-color: transparent;\n",
              "      border-right-color: var(--fill-color);\n",
              "    }\n",
              "    80% {\n",
              "      border-color: transparent;\n",
              "      border-right-color: var(--fill-color);\n",
              "      border-bottom-color: var(--fill-color);\n",
              "    }\n",
              "    90% {\n",
              "      border-color: transparent;\n",
              "      border-bottom-color: var(--fill-color);\n",
              "    }\n",
              "  }\n",
              "</style>\n",
              "\n",
              "  <script>\n",
              "    async function quickchart(key) {\n",
              "      const quickchartButtonEl =\n",
              "        document.querySelector('#' + key + ' button');\n",
              "      quickchartButtonEl.disabled = true;  // To prevent multiple clicks.\n",
              "      quickchartButtonEl.classList.add('colab-df-spinner');\n",
              "      try {\n",
              "        const charts = await google.colab.kernel.invokeFunction(\n",
              "            'suggestCharts', [key], {});\n",
              "      } catch (error) {\n",
              "        console.error('Error during call to suggestCharts:', error);\n",
              "      }\n",
              "      quickchartButtonEl.classList.remove('colab-df-spinner');\n",
              "      quickchartButtonEl.classList.add('colab-df-quickchart-complete');\n",
              "    }\n",
              "    (() => {\n",
              "      let quickchartButtonEl =\n",
              "        document.querySelector('#df-352486b2-ec2e-4dc0-9cef-62bdb2bfb4d1 button');\n",
              "      quickchartButtonEl.style.display =\n",
              "        google.colab.kernel.accessAllowed ? 'block' : 'none';\n",
              "    })();\n",
              "  </script>\n",
              "</div>\n",
              "    </div>\n",
              "  </div>\n"
            ]
          },
          "metadata": {},
          "execution_count": 63
        }
      ]
    },
    {
      "cell_type": "markdown",
      "source": [
        "Looking at the rows with Missing values, we can see that some of them show later steps in the onboarding process.\n",
        "\n",
        "Hence, we are going to deal with the Status missing values as follow:\n",
        "- If the 'First Contact' or 'Last Contact' columns have a value, we are going to fill in the missing Status value\n",
        "- If the 'Stage' has a value, we are going to fill 1st message\n",
        "- If any of the onboarding steps have been done, then  we will change the status to 1st message."
      ],
      "metadata": {
        "id": "_EWTzZ-vU7BB"
      }
    },
    {
      "cell_type": "code",
      "source": [
        "mask_contact = parsed_data['First Contact'].notna() | parsed_data['Last Contact'].notna() | (parsed_data['Stage'] != 'missing')\n",
        "mask_onboarding = (parsed_data['First Call'].notna() | parsed_data['Signed up for a demo'].notna() | parsed_data['Filled in customer survey'].notna()\n",
        "                  | parsed_data['Date Platform sign up'].notna() | parsed_data['Account Manager assigned'].notna() | parsed_data['Subscribed'].notna())\n",
        "mask_missing = parsed_data['Status'] == 'missing'\n",
        "mask = (mask_contact | mask_onboarding) & mask_missing\n",
        "parsed_data['Status'][mask]"
      ],
      "metadata": {
        "colab": {
          "base_uri": "https://localhost:8080/"
        },
        "id": "gaGwv6isXLfE",
        "outputId": "8f7719af-031a-49e6-c4ee-224802fe635f"
      },
      "execution_count": 64,
      "outputs": [
        {
          "output_type": "execute_result",
          "data": {
            "text/plain": [
              "ID\n",
              "1        missing\n",
              "2        missing\n",
              "3        missing\n",
              "4        missing\n",
              "5        missing\n",
              "          ...   \n",
              "9421     missing\n",
              "9422     missing\n",
              "9423     missing\n",
              "9830     missing\n",
              "11154    missing\n",
              "Name: Status, Length: 799, dtype: object"
            ]
          },
          "metadata": {},
          "execution_count": 64
        }
      ]
    },
    {
      "cell_type": "code",
      "source": [
        "parsed_data['Status'][mask] = '1st message'\n",
        "\n",
        "fig = px.bar(\n",
        "    parsed_data,\n",
        "    x=parsed_data.groupby('Status').size().values,\n",
        "    y=parsed_data.groupby('Status').size().index\n",
        ")\n",
        "\n",
        "fig.update_layout(\n",
        "    xaxis_title='Count',\n",
        "    yaxis_title='Status',\n",
        "    xaxis=dict(showline=False, showgrid=False),\n",
        "    yaxis=dict(showline=False, showgrid=False)\n",
        ")\n",
        "\n",
        "fig.show()"
      ],
      "metadata": {
        "colab": {
          "base_uri": "https://localhost:8080/",
          "height": 0
        },
        "id": "YG2NU8lyU6Sm",
        "outputId": "16b337a1-9dd2-41a9-8301-331350d6918a"
      },
      "execution_count": 65,
      "outputs": [
        {
          "output_type": "stream",
          "name": "stderr",
          "text": [
            "<ipython-input-65-049dd4476971>:1: SettingWithCopyWarning:\n",
            "\n",
            "\n",
            "A value is trying to be set on a copy of a slice from a DataFrame\n",
            "\n",
            "See the caveats in the documentation: https://pandas.pydata.org/pandas-docs/stable/user_guide/indexing.html#returning-a-view-versus-a-copy\n",
            "\n"
          ]
        },
        {
          "output_type": "display_data",
          "data": {
            "text/html": [
              "<html>\n",
              "<head><meta charset=\"utf-8\" /></head>\n",
              "<body>\n",
              "    <div>            <script src=\"https://cdnjs.cloudflare.com/ajax/libs/mathjax/2.7.5/MathJax.js?config=TeX-AMS-MML_SVG\"></script><script type=\"text/javascript\">if (window.MathJax && window.MathJax.Hub && window.MathJax.Hub.Config) {window.MathJax.Hub.Config({SVG: {font: \"STIX-Web\"}});}</script>                <script type=\"text/javascript\">window.PlotlyConfig = {MathJaxConfig: 'local'};</script>\n",
              "        <script charset=\"utf-8\" src=\"https://cdn.plot.ly/plotly-2.24.1.min.js\"></script>                <div id=\"633ee991-e5b1-4e9b-9e68-1e1d88ded28a\" class=\"plotly-graph-div\" style=\"height:525px; width:100%;\"></div>            <script type=\"text/javascript\">                                    window.PLOTLYENV=window.PLOTLYENV || {};                                    if (document.getElementById(\"633ee991-e5b1-4e9b-9e68-1e1d88ded28a\")) {                    Plotly.newPlot(                        \"633ee991-e5b1-4e9b-9e68-1e1d88ded28a\",                        [{\"alignmentgroup\":\"True\",\"hovertemplate\":\"x=%{x}\\u003cbr\\u003ey=%{y}\\u003cextra\\u003e\\u003c\\u002fextra\\u003e\",\"legendgroup\":\"\",\"marker\":{\"color\":\"#636efa\",\"pattern\":{\"shape\":\"\"}},\"name\":\"\",\"offsetgroup\":\"\",\"orientation\":\"h\",\"showlegend\":false,\"textposition\":\"auto\",\"x\":[9299,908,821],\"xaxis\":\"x\",\"y\":[\"1st message\",\"2nd message\",\"3rd message\"],\"yaxis\":\"y\",\"type\":\"bar\"}],                        {\"template\":{\"data\":{\"histogram2dcontour\":[{\"type\":\"histogram2dcontour\",\"colorbar\":{\"outlinewidth\":0,\"ticks\":\"\"},\"colorscale\":[[0.0,\"#0d0887\"],[0.1111111111111111,\"#46039f\"],[0.2222222222222222,\"#7201a8\"],[0.3333333333333333,\"#9c179e\"],[0.4444444444444444,\"#bd3786\"],[0.5555555555555556,\"#d8576b\"],[0.6666666666666666,\"#ed7953\"],[0.7777777777777778,\"#fb9f3a\"],[0.8888888888888888,\"#fdca26\"],[1.0,\"#f0f921\"]]}],\"choropleth\":[{\"type\":\"choropleth\",\"colorbar\":{\"outlinewidth\":0,\"ticks\":\"\"}}],\"histogram2d\":[{\"type\":\"histogram2d\",\"colorbar\":{\"outlinewidth\":0,\"ticks\":\"\"},\"colorscale\":[[0.0,\"#0d0887\"],[0.1111111111111111,\"#46039f\"],[0.2222222222222222,\"#7201a8\"],[0.3333333333333333,\"#9c179e\"],[0.4444444444444444,\"#bd3786\"],[0.5555555555555556,\"#d8576b\"],[0.6666666666666666,\"#ed7953\"],[0.7777777777777778,\"#fb9f3a\"],[0.8888888888888888,\"#fdca26\"],[1.0,\"#f0f921\"]]}],\"heatmap\":[{\"type\":\"heatmap\",\"colorbar\":{\"outlinewidth\":0,\"ticks\":\"\"},\"colorscale\":[[0.0,\"#0d0887\"],[0.1111111111111111,\"#46039f\"],[0.2222222222222222,\"#7201a8\"],[0.3333333333333333,\"#9c179e\"],[0.4444444444444444,\"#bd3786\"],[0.5555555555555556,\"#d8576b\"],[0.6666666666666666,\"#ed7953\"],[0.7777777777777778,\"#fb9f3a\"],[0.8888888888888888,\"#fdca26\"],[1.0,\"#f0f921\"]]}],\"heatmapgl\":[{\"type\":\"heatmapgl\",\"colorbar\":{\"outlinewidth\":0,\"ticks\":\"\"},\"colorscale\":[[0.0,\"#0d0887\"],[0.1111111111111111,\"#46039f\"],[0.2222222222222222,\"#7201a8\"],[0.3333333333333333,\"#9c179e\"],[0.4444444444444444,\"#bd3786\"],[0.5555555555555556,\"#d8576b\"],[0.6666666666666666,\"#ed7953\"],[0.7777777777777778,\"#fb9f3a\"],[0.8888888888888888,\"#fdca26\"],[1.0,\"#f0f921\"]]}],\"contourcarpet\":[{\"type\":\"contourcarpet\",\"colorbar\":{\"outlinewidth\":0,\"ticks\":\"\"}}],\"contour\":[{\"type\":\"contour\",\"colorbar\":{\"outlinewidth\":0,\"ticks\":\"\"},\"colorscale\":[[0.0,\"#0d0887\"],[0.1111111111111111,\"#46039f\"],[0.2222222222222222,\"#7201a8\"],[0.3333333333333333,\"#9c179e\"],[0.4444444444444444,\"#bd3786\"],[0.5555555555555556,\"#d8576b\"],[0.6666666666666666,\"#ed7953\"],[0.7777777777777778,\"#fb9f3a\"],[0.8888888888888888,\"#fdca26\"],[1.0,\"#f0f921\"]]}],\"surface\":[{\"type\":\"surface\",\"colorbar\":{\"outlinewidth\":0,\"ticks\":\"\"},\"colorscale\":[[0.0,\"#0d0887\"],[0.1111111111111111,\"#46039f\"],[0.2222222222222222,\"#7201a8\"],[0.3333333333333333,\"#9c179e\"],[0.4444444444444444,\"#bd3786\"],[0.5555555555555556,\"#d8576b\"],[0.6666666666666666,\"#ed7953\"],[0.7777777777777778,\"#fb9f3a\"],[0.8888888888888888,\"#fdca26\"],[1.0,\"#f0f921\"]]}],\"mesh3d\":[{\"type\":\"mesh3d\",\"colorbar\":{\"outlinewidth\":0,\"ticks\":\"\"}}],\"scatter\":[{\"fillpattern\":{\"fillmode\":\"overlay\",\"size\":10,\"solidity\":0.2},\"type\":\"scatter\"}],\"parcoords\":[{\"type\":\"parcoords\",\"line\":{\"colorbar\":{\"outlinewidth\":0,\"ticks\":\"\"}}}],\"scatterpolargl\":[{\"type\":\"scatterpolargl\",\"marker\":{\"colorbar\":{\"outlinewidth\":0,\"ticks\":\"\"}}}],\"bar\":[{\"error_x\":{\"color\":\"#2a3f5f\"},\"error_y\":{\"color\":\"#2a3f5f\"},\"marker\":{\"line\":{\"color\":\"#E5ECF6\",\"width\":0.5},\"pattern\":{\"fillmode\":\"overlay\",\"size\":10,\"solidity\":0.2}},\"type\":\"bar\"}],\"scattergeo\":[{\"type\":\"scattergeo\",\"marker\":{\"colorbar\":{\"outlinewidth\":0,\"ticks\":\"\"}}}],\"scatterpolar\":[{\"type\":\"scatterpolar\",\"marker\":{\"colorbar\":{\"outlinewidth\":0,\"ticks\":\"\"}}}],\"histogram\":[{\"marker\":{\"pattern\":{\"fillmode\":\"overlay\",\"size\":10,\"solidity\":0.2}},\"type\":\"histogram\"}],\"scattergl\":[{\"type\":\"scattergl\",\"marker\":{\"colorbar\":{\"outlinewidth\":0,\"ticks\":\"\"}}}],\"scatter3d\":[{\"type\":\"scatter3d\",\"line\":{\"colorbar\":{\"outlinewidth\":0,\"ticks\":\"\"}},\"marker\":{\"colorbar\":{\"outlinewidth\":0,\"ticks\":\"\"}}}],\"scattermapbox\":[{\"type\":\"scattermapbox\",\"marker\":{\"colorbar\":{\"outlinewidth\":0,\"ticks\":\"\"}}}],\"scatterternary\":[{\"type\":\"scatterternary\",\"marker\":{\"colorbar\":{\"outlinewidth\":0,\"ticks\":\"\"}}}],\"scattercarpet\":[{\"type\":\"scattercarpet\",\"marker\":{\"colorbar\":{\"outlinewidth\":0,\"ticks\":\"\"}}}],\"carpet\":[{\"aaxis\":{\"endlinecolor\":\"#2a3f5f\",\"gridcolor\":\"white\",\"linecolor\":\"white\",\"minorgridcolor\":\"white\",\"startlinecolor\":\"#2a3f5f\"},\"baxis\":{\"endlinecolor\":\"#2a3f5f\",\"gridcolor\":\"white\",\"linecolor\":\"white\",\"minorgridcolor\":\"white\",\"startlinecolor\":\"#2a3f5f\"},\"type\":\"carpet\"}],\"table\":[{\"cells\":{\"fill\":{\"color\":\"#EBF0F8\"},\"line\":{\"color\":\"white\"}},\"header\":{\"fill\":{\"color\":\"#C8D4E3\"},\"line\":{\"color\":\"white\"}},\"type\":\"table\"}],\"barpolar\":[{\"marker\":{\"line\":{\"color\":\"#E5ECF6\",\"width\":0.5},\"pattern\":{\"fillmode\":\"overlay\",\"size\":10,\"solidity\":0.2}},\"type\":\"barpolar\"}],\"pie\":[{\"automargin\":true,\"type\":\"pie\"}]},\"layout\":{\"autotypenumbers\":\"strict\",\"colorway\":[\"#636efa\",\"#EF553B\",\"#00cc96\",\"#ab63fa\",\"#FFA15A\",\"#19d3f3\",\"#FF6692\",\"#B6E880\",\"#FF97FF\",\"#FECB52\"],\"font\":{\"color\":\"#2a3f5f\"},\"hovermode\":\"closest\",\"hoverlabel\":{\"align\":\"left\"},\"paper_bgcolor\":\"white\",\"plot_bgcolor\":\"#E5ECF6\",\"polar\":{\"bgcolor\":\"#E5ECF6\",\"angularaxis\":{\"gridcolor\":\"white\",\"linecolor\":\"white\",\"ticks\":\"\"},\"radialaxis\":{\"gridcolor\":\"white\",\"linecolor\":\"white\",\"ticks\":\"\"}},\"ternary\":{\"bgcolor\":\"#E5ECF6\",\"aaxis\":{\"gridcolor\":\"white\",\"linecolor\":\"white\",\"ticks\":\"\"},\"baxis\":{\"gridcolor\":\"white\",\"linecolor\":\"white\",\"ticks\":\"\"},\"caxis\":{\"gridcolor\":\"white\",\"linecolor\":\"white\",\"ticks\":\"\"}},\"coloraxis\":{\"colorbar\":{\"outlinewidth\":0,\"ticks\":\"\"}},\"colorscale\":{\"sequential\":[[0.0,\"#0d0887\"],[0.1111111111111111,\"#46039f\"],[0.2222222222222222,\"#7201a8\"],[0.3333333333333333,\"#9c179e\"],[0.4444444444444444,\"#bd3786\"],[0.5555555555555556,\"#d8576b\"],[0.6666666666666666,\"#ed7953\"],[0.7777777777777778,\"#fb9f3a\"],[0.8888888888888888,\"#fdca26\"],[1.0,\"#f0f921\"]],\"sequentialminus\":[[0.0,\"#0d0887\"],[0.1111111111111111,\"#46039f\"],[0.2222222222222222,\"#7201a8\"],[0.3333333333333333,\"#9c179e\"],[0.4444444444444444,\"#bd3786\"],[0.5555555555555556,\"#d8576b\"],[0.6666666666666666,\"#ed7953\"],[0.7777777777777778,\"#fb9f3a\"],[0.8888888888888888,\"#fdca26\"],[1.0,\"#f0f921\"]],\"diverging\":[[0,\"#8e0152\"],[0.1,\"#c51b7d\"],[0.2,\"#de77ae\"],[0.3,\"#f1b6da\"],[0.4,\"#fde0ef\"],[0.5,\"#f7f7f7\"],[0.6,\"#e6f5d0\"],[0.7,\"#b8e186\"],[0.8,\"#7fbc41\"],[0.9,\"#4d9221\"],[1,\"#276419\"]]},\"xaxis\":{\"gridcolor\":\"white\",\"linecolor\":\"white\",\"ticks\":\"\",\"title\":{\"standoff\":15},\"zerolinecolor\":\"white\",\"automargin\":true,\"zerolinewidth\":2},\"yaxis\":{\"gridcolor\":\"white\",\"linecolor\":\"white\",\"ticks\":\"\",\"title\":{\"standoff\":15},\"zerolinecolor\":\"white\",\"automargin\":true,\"zerolinewidth\":2},\"scene\":{\"xaxis\":{\"backgroundcolor\":\"#E5ECF6\",\"gridcolor\":\"white\",\"linecolor\":\"white\",\"showbackground\":true,\"ticks\":\"\",\"zerolinecolor\":\"white\",\"gridwidth\":2},\"yaxis\":{\"backgroundcolor\":\"#E5ECF6\",\"gridcolor\":\"white\",\"linecolor\":\"white\",\"showbackground\":true,\"ticks\":\"\",\"zerolinecolor\":\"white\",\"gridwidth\":2},\"zaxis\":{\"backgroundcolor\":\"#E5ECF6\",\"gridcolor\":\"white\",\"linecolor\":\"white\",\"showbackground\":true,\"ticks\":\"\",\"zerolinecolor\":\"white\",\"gridwidth\":2}},\"shapedefaults\":{\"line\":{\"color\":\"#2a3f5f\"}},\"annotationdefaults\":{\"arrowcolor\":\"#2a3f5f\",\"arrowhead\":0,\"arrowwidth\":1},\"geo\":{\"bgcolor\":\"white\",\"landcolor\":\"#E5ECF6\",\"subunitcolor\":\"white\",\"showland\":true,\"showlakes\":true,\"lakecolor\":\"white\"},\"title\":{\"x\":0.05},\"mapbox\":{\"style\":\"light\"}}},\"xaxis\":{\"anchor\":\"y\",\"domain\":[0.0,1.0],\"title\":{\"text\":\"Count\"},\"showline\":false,\"showgrid\":false},\"yaxis\":{\"anchor\":\"x\",\"domain\":[0.0,1.0],\"title\":{\"text\":\"Status\"},\"showline\":false,\"showgrid\":false},\"legend\":{\"tracegroupgap\":0},\"margin\":{\"t\":60},\"barmode\":\"relative\"},                        {\"responsive\": true}                    ).then(function(){\n",
              "                            \n",
              "var gd = document.getElementById('633ee991-e5b1-4e9b-9e68-1e1d88ded28a');\n",
              "var x = new MutationObserver(function (mutations, observer) {{\n",
              "        var display = window.getComputedStyle(gd).display;\n",
              "        if (!display || display === 'none') {{\n",
              "            console.log([gd, 'removed!']);\n",
              "            Plotly.purge(gd);\n",
              "            observer.disconnect();\n",
              "        }}\n",
              "}});\n",
              "\n",
              "// Listen for the removal of the full notebook cells\n",
              "var notebookContainer = gd.closest('#notebook-container');\n",
              "if (notebookContainer) {{\n",
              "    x.observe(notebookContainer, {childList: true});\n",
              "}}\n",
              "\n",
              "// Listen for the clearing of the current output cell\n",
              "var outputEl = gd.closest('.output');\n",
              "if (outputEl) {{\n",
              "    x.observe(outputEl, {childList: true});\n",
              "}}\n",
              "\n",
              "                        })                };                            </script>        </div>\n",
              "</body>\n",
              "</html>"
            ]
          },
          "metadata": {}
        }
      ]
    },
    {
      "cell_type": "code",
      "source": [
        "parsed_data[parsed_data['Status'] == 'missing']"
      ],
      "metadata": {
        "colab": {
          "base_uri": "https://localhost:8080/",
          "height": 0
        },
        "id": "9exd-427aPpF",
        "outputId": "da3e8678-71ee-407d-cd60-dbddd336e415"
      },
      "execution_count": 66,
      "outputs": [
        {
          "output_type": "execute_result",
          "data": {
            "text/plain": [
              "Empty DataFrame\n",
              "Columns: [Country, Education, First Contact, Last Contact, Status, Stage, First Call, Signed up for a demo, Filled in customer survey, Date Platform sign up, Account Manager assigned, Subscribed, Bool Platform sign up]\n",
              "Index: []"
            ],
            "text/html": [
              "\n",
              "  <div id=\"df-21a7332e-fb22-458a-94b8-8c63d73666b3\" class=\"colab-df-container\">\n",
              "    <div>\n",
              "<style scoped>\n",
              "    .dataframe tbody tr th:only-of-type {\n",
              "        vertical-align: middle;\n",
              "    }\n",
              "\n",
              "    .dataframe tbody tr th {\n",
              "        vertical-align: top;\n",
              "    }\n",
              "\n",
              "    .dataframe thead th {\n",
              "        text-align: right;\n",
              "    }\n",
              "</style>\n",
              "<table border=\"1\" class=\"dataframe\">\n",
              "  <thead>\n",
              "    <tr style=\"text-align: right;\">\n",
              "      <th></th>\n",
              "      <th>Country</th>\n",
              "      <th>Education</th>\n",
              "      <th>First Contact</th>\n",
              "      <th>Last Contact</th>\n",
              "      <th>Status</th>\n",
              "      <th>Stage</th>\n",
              "      <th>First Call</th>\n",
              "      <th>Signed up for a demo</th>\n",
              "      <th>Filled in customer survey</th>\n",
              "      <th>Date Platform sign up</th>\n",
              "      <th>Account Manager assigned</th>\n",
              "      <th>Subscribed</th>\n",
              "      <th>Bool Platform sign up</th>\n",
              "    </tr>\n",
              "    <tr>\n",
              "      <th>ID</th>\n",
              "      <th></th>\n",
              "      <th></th>\n",
              "      <th></th>\n",
              "      <th></th>\n",
              "      <th></th>\n",
              "      <th></th>\n",
              "      <th></th>\n",
              "      <th></th>\n",
              "      <th></th>\n",
              "      <th></th>\n",
              "      <th></th>\n",
              "      <th></th>\n",
              "      <th></th>\n",
              "    </tr>\n",
              "  </thead>\n",
              "  <tbody>\n",
              "  </tbody>\n",
              "</table>\n",
              "</div>\n",
              "    <div class=\"colab-df-buttons\">\n",
              "\n",
              "  <div class=\"colab-df-container\">\n",
              "    <button class=\"colab-df-convert\" onclick=\"convertToInteractive('df-21a7332e-fb22-458a-94b8-8c63d73666b3')\"\n",
              "            title=\"Convert this dataframe to an interactive table.\"\n",
              "            style=\"display:none;\">\n",
              "\n",
              "  <svg xmlns=\"http://www.w3.org/2000/svg\" height=\"24px\" viewBox=\"0 -960 960 960\">\n",
              "    <path d=\"M120-120v-720h720v720H120Zm60-500h600v-160H180v160Zm220 220h160v-160H400v160Zm0 220h160v-160H400v160ZM180-400h160v-160H180v160Zm440 0h160v-160H620v160ZM180-180h160v-160H180v160Zm440 0h160v-160H620v160Z\"/>\n",
              "  </svg>\n",
              "    </button>\n",
              "\n",
              "  <style>\n",
              "    .colab-df-container {\n",
              "      display:flex;\n",
              "      gap: 12px;\n",
              "    }\n",
              "\n",
              "    .colab-df-convert {\n",
              "      background-color: #E8F0FE;\n",
              "      border: none;\n",
              "      border-radius: 50%;\n",
              "      cursor: pointer;\n",
              "      display: none;\n",
              "      fill: #1967D2;\n",
              "      height: 32px;\n",
              "      padding: 0 0 0 0;\n",
              "      width: 32px;\n",
              "    }\n",
              "\n",
              "    .colab-df-convert:hover {\n",
              "      background-color: #E2EBFA;\n",
              "      box-shadow: 0px 1px 2px rgba(60, 64, 67, 0.3), 0px 1px 3px 1px rgba(60, 64, 67, 0.15);\n",
              "      fill: #174EA6;\n",
              "    }\n",
              "\n",
              "    .colab-df-buttons div {\n",
              "      margin-bottom: 4px;\n",
              "    }\n",
              "\n",
              "    [theme=dark] .colab-df-convert {\n",
              "      background-color: #3B4455;\n",
              "      fill: #D2E3FC;\n",
              "    }\n",
              "\n",
              "    [theme=dark] .colab-df-convert:hover {\n",
              "      background-color: #434B5C;\n",
              "      box-shadow: 0px 1px 3px 1px rgba(0, 0, 0, 0.15);\n",
              "      filter: drop-shadow(0px 1px 2px rgba(0, 0, 0, 0.3));\n",
              "      fill: #FFFFFF;\n",
              "    }\n",
              "  </style>\n",
              "\n",
              "    <script>\n",
              "      const buttonEl =\n",
              "        document.querySelector('#df-21a7332e-fb22-458a-94b8-8c63d73666b3 button.colab-df-convert');\n",
              "      buttonEl.style.display =\n",
              "        google.colab.kernel.accessAllowed ? 'block' : 'none';\n",
              "\n",
              "      async function convertToInteractive(key) {\n",
              "        const element = document.querySelector('#df-21a7332e-fb22-458a-94b8-8c63d73666b3');\n",
              "        const dataTable =\n",
              "          await google.colab.kernel.invokeFunction('convertToInteractive',\n",
              "                                                    [key], {});\n",
              "        if (!dataTable) return;\n",
              "\n",
              "        const docLinkHtml = 'Like what you see? Visit the ' +\n",
              "          '<a target=\"_blank\" href=https://colab.research.google.com/notebooks/data_table.ipynb>data table notebook</a>'\n",
              "          + ' to learn more about interactive tables.';\n",
              "        element.innerHTML = '';\n",
              "        dataTable['output_type'] = 'display_data';\n",
              "        await google.colab.output.renderOutput(dataTable, element);\n",
              "        const docLink = document.createElement('div');\n",
              "        docLink.innerHTML = docLinkHtml;\n",
              "        element.appendChild(docLink);\n",
              "      }\n",
              "    </script>\n",
              "  </div>\n",
              "\n",
              "    </div>\n",
              "  </div>\n"
            ]
          },
          "metadata": {},
          "execution_count": 66
        }
      ]
    },
    {
      "cell_type": "markdown",
      "source": [
        "The 4 remaining missing values will be considered **outliers and dropped**"
      ],
      "metadata": {
        "id": "200ZEj-gZfKt"
      }
    },
    {
      "cell_type": "code",
      "source": [
        "parsed_data = parsed_data[parsed_data['Status'] != 'missing']"
      ],
      "metadata": {
        "id": "b_mIwcOt5wfD"
      },
      "execution_count": 67,
      "outputs": []
    },
    {
      "cell_type": "markdown",
      "source": [
        "# Exploratory Data Analysis - Stage"
      ],
      "metadata": {
        "id": "l4Y7R18gB_fh"
      }
    },
    {
      "cell_type": "markdown",
      "source": [
        "The column stage reflects the potential customer reaction before and/or after the demo call"
      ],
      "metadata": {
        "id": "XAfSoHNbvxtf"
      }
    },
    {
      "cell_type": "code",
      "source": [
        "fig = px.bar(\n",
        "    parsed_data,\n",
        "    x=parsed_data.groupby('Stage').size().values,\n",
        "    y=parsed_data.groupby('Stage').size().index\n",
        ")\n",
        "\n",
        "fig.update_layout(\n",
        "    xaxis_title='Count',\n",
        "    yaxis_title='Stage',\n",
        "    xaxis=dict(showline=False, showgrid=False),\n",
        "    yaxis=dict(showline=False, showgrid=False)\n",
        ")\n",
        "\n",
        "fig.show()"
      ],
      "metadata": {
        "colab": {
          "base_uri": "https://localhost:8080/",
          "height": 0
        },
        "id": "h3-SyNaQ9LWe",
        "outputId": "3cd8eeed-4f3a-4989-bc91-a97671bb10e1"
      },
      "execution_count": 68,
      "outputs": [
        {
          "output_type": "display_data",
          "data": {
            "text/html": [
              "<html>\n",
              "<head><meta charset=\"utf-8\" /></head>\n",
              "<body>\n",
              "    <div>            <script src=\"https://cdnjs.cloudflare.com/ajax/libs/mathjax/2.7.5/MathJax.js?config=TeX-AMS-MML_SVG\"></script><script type=\"text/javascript\">if (window.MathJax && window.MathJax.Hub && window.MathJax.Hub.Config) {window.MathJax.Hub.Config({SVG: {font: \"STIX-Web\"}});}</script>                <script type=\"text/javascript\">window.PlotlyConfig = {MathJaxConfig: 'local'};</script>\n",
              "        <script charset=\"utf-8\" src=\"https://cdn.plot.ly/plotly-2.24.1.min.js\"></script>                <div id=\"a8c32976-f254-4f01-acc3-cf7a2dde62ec\" class=\"plotly-graph-div\" style=\"height:525px; width:100%;\"></div>            <script type=\"text/javascript\">                                    window.PLOTLYENV=window.PLOTLYENV || {};                                    if (document.getElementById(\"a8c32976-f254-4f01-acc3-cf7a2dde62ec\")) {                    Plotly.newPlot(                        \"a8c32976-f254-4f01-acc3-cf7a2dde62ec\",                        [{\"alignmentgroup\":\"True\",\"hovertemplate\":\"x=%{x}\\u003cbr\\u003ey=%{y}\\u003cextra\\u003e\\u003c\\u002fextra\\u003e\",\"legendgroup\":\"\",\"marker\":{\"color\":\"#636efa\",\"pattern\":{\"shape\":\"\"}},\"name\":\"\",\"offsetgroup\":\"\",\"orientation\":\"h\",\"showlegend\":false,\"textposition\":\"auto\",\"x\":[65,38,28,141,10084,626,46],\"xaxis\":\"x\",\"y\":[\"declined\\u002fcanceled call\",\"did not join the call\",\"do not contact\",\"interested\",\"missing\",\"not interested\",\"subscribed already\"],\"yaxis\":\"y\",\"type\":\"bar\"}],                        {\"template\":{\"data\":{\"histogram2dcontour\":[{\"type\":\"histogram2dcontour\",\"colorbar\":{\"outlinewidth\":0,\"ticks\":\"\"},\"colorscale\":[[0.0,\"#0d0887\"],[0.1111111111111111,\"#46039f\"],[0.2222222222222222,\"#7201a8\"],[0.3333333333333333,\"#9c179e\"],[0.4444444444444444,\"#bd3786\"],[0.5555555555555556,\"#d8576b\"],[0.6666666666666666,\"#ed7953\"],[0.7777777777777778,\"#fb9f3a\"],[0.8888888888888888,\"#fdca26\"],[1.0,\"#f0f921\"]]}],\"choropleth\":[{\"type\":\"choropleth\",\"colorbar\":{\"outlinewidth\":0,\"ticks\":\"\"}}],\"histogram2d\":[{\"type\":\"histogram2d\",\"colorbar\":{\"outlinewidth\":0,\"ticks\":\"\"},\"colorscale\":[[0.0,\"#0d0887\"],[0.1111111111111111,\"#46039f\"],[0.2222222222222222,\"#7201a8\"],[0.3333333333333333,\"#9c179e\"],[0.4444444444444444,\"#bd3786\"],[0.5555555555555556,\"#d8576b\"],[0.6666666666666666,\"#ed7953\"],[0.7777777777777778,\"#fb9f3a\"],[0.8888888888888888,\"#fdca26\"],[1.0,\"#f0f921\"]]}],\"heatmap\":[{\"type\":\"heatmap\",\"colorbar\":{\"outlinewidth\":0,\"ticks\":\"\"},\"colorscale\":[[0.0,\"#0d0887\"],[0.1111111111111111,\"#46039f\"],[0.2222222222222222,\"#7201a8\"],[0.3333333333333333,\"#9c179e\"],[0.4444444444444444,\"#bd3786\"],[0.5555555555555556,\"#d8576b\"],[0.6666666666666666,\"#ed7953\"],[0.7777777777777778,\"#fb9f3a\"],[0.8888888888888888,\"#fdca26\"],[1.0,\"#f0f921\"]]}],\"heatmapgl\":[{\"type\":\"heatmapgl\",\"colorbar\":{\"outlinewidth\":0,\"ticks\":\"\"},\"colorscale\":[[0.0,\"#0d0887\"],[0.1111111111111111,\"#46039f\"],[0.2222222222222222,\"#7201a8\"],[0.3333333333333333,\"#9c179e\"],[0.4444444444444444,\"#bd3786\"],[0.5555555555555556,\"#d8576b\"],[0.6666666666666666,\"#ed7953\"],[0.7777777777777778,\"#fb9f3a\"],[0.8888888888888888,\"#fdca26\"],[1.0,\"#f0f921\"]]}],\"contourcarpet\":[{\"type\":\"contourcarpet\",\"colorbar\":{\"outlinewidth\":0,\"ticks\":\"\"}}],\"contour\":[{\"type\":\"contour\",\"colorbar\":{\"outlinewidth\":0,\"ticks\":\"\"},\"colorscale\":[[0.0,\"#0d0887\"],[0.1111111111111111,\"#46039f\"],[0.2222222222222222,\"#7201a8\"],[0.3333333333333333,\"#9c179e\"],[0.4444444444444444,\"#bd3786\"],[0.5555555555555556,\"#d8576b\"],[0.6666666666666666,\"#ed7953\"],[0.7777777777777778,\"#fb9f3a\"],[0.8888888888888888,\"#fdca26\"],[1.0,\"#f0f921\"]]}],\"surface\":[{\"type\":\"surface\",\"colorbar\":{\"outlinewidth\":0,\"ticks\":\"\"},\"colorscale\":[[0.0,\"#0d0887\"],[0.1111111111111111,\"#46039f\"],[0.2222222222222222,\"#7201a8\"],[0.3333333333333333,\"#9c179e\"],[0.4444444444444444,\"#bd3786\"],[0.5555555555555556,\"#d8576b\"],[0.6666666666666666,\"#ed7953\"],[0.7777777777777778,\"#fb9f3a\"],[0.8888888888888888,\"#fdca26\"],[1.0,\"#f0f921\"]]}],\"mesh3d\":[{\"type\":\"mesh3d\",\"colorbar\":{\"outlinewidth\":0,\"ticks\":\"\"}}],\"scatter\":[{\"fillpattern\":{\"fillmode\":\"overlay\",\"size\":10,\"solidity\":0.2},\"type\":\"scatter\"}],\"parcoords\":[{\"type\":\"parcoords\",\"line\":{\"colorbar\":{\"outlinewidth\":0,\"ticks\":\"\"}}}],\"scatterpolargl\":[{\"type\":\"scatterpolargl\",\"marker\":{\"colorbar\":{\"outlinewidth\":0,\"ticks\":\"\"}}}],\"bar\":[{\"error_x\":{\"color\":\"#2a3f5f\"},\"error_y\":{\"color\":\"#2a3f5f\"},\"marker\":{\"line\":{\"color\":\"#E5ECF6\",\"width\":0.5},\"pattern\":{\"fillmode\":\"overlay\",\"size\":10,\"solidity\":0.2}},\"type\":\"bar\"}],\"scattergeo\":[{\"type\":\"scattergeo\",\"marker\":{\"colorbar\":{\"outlinewidth\":0,\"ticks\":\"\"}}}],\"scatterpolar\":[{\"type\":\"scatterpolar\",\"marker\":{\"colorbar\":{\"outlinewidth\":0,\"ticks\":\"\"}}}],\"histogram\":[{\"marker\":{\"pattern\":{\"fillmode\":\"overlay\",\"size\":10,\"solidity\":0.2}},\"type\":\"histogram\"}],\"scattergl\":[{\"type\":\"scattergl\",\"marker\":{\"colorbar\":{\"outlinewidth\":0,\"ticks\":\"\"}}}],\"scatter3d\":[{\"type\":\"scatter3d\",\"line\":{\"colorbar\":{\"outlinewidth\":0,\"ticks\":\"\"}},\"marker\":{\"colorbar\":{\"outlinewidth\":0,\"ticks\":\"\"}}}],\"scattermapbox\":[{\"type\":\"scattermapbox\",\"marker\":{\"colorbar\":{\"outlinewidth\":0,\"ticks\":\"\"}}}],\"scatterternary\":[{\"type\":\"scatterternary\",\"marker\":{\"colorbar\":{\"outlinewidth\":0,\"ticks\":\"\"}}}],\"scattercarpet\":[{\"type\":\"scattercarpet\",\"marker\":{\"colorbar\":{\"outlinewidth\":0,\"ticks\":\"\"}}}],\"carpet\":[{\"aaxis\":{\"endlinecolor\":\"#2a3f5f\",\"gridcolor\":\"white\",\"linecolor\":\"white\",\"minorgridcolor\":\"white\",\"startlinecolor\":\"#2a3f5f\"},\"baxis\":{\"endlinecolor\":\"#2a3f5f\",\"gridcolor\":\"white\",\"linecolor\":\"white\",\"minorgridcolor\":\"white\",\"startlinecolor\":\"#2a3f5f\"},\"type\":\"carpet\"}],\"table\":[{\"cells\":{\"fill\":{\"color\":\"#EBF0F8\"},\"line\":{\"color\":\"white\"}},\"header\":{\"fill\":{\"color\":\"#C8D4E3\"},\"line\":{\"color\":\"white\"}},\"type\":\"table\"}],\"barpolar\":[{\"marker\":{\"line\":{\"color\":\"#E5ECF6\",\"width\":0.5},\"pattern\":{\"fillmode\":\"overlay\",\"size\":10,\"solidity\":0.2}},\"type\":\"barpolar\"}],\"pie\":[{\"automargin\":true,\"type\":\"pie\"}]},\"layout\":{\"autotypenumbers\":\"strict\",\"colorway\":[\"#636efa\",\"#EF553B\",\"#00cc96\",\"#ab63fa\",\"#FFA15A\",\"#19d3f3\",\"#FF6692\",\"#B6E880\",\"#FF97FF\",\"#FECB52\"],\"font\":{\"color\":\"#2a3f5f\"},\"hovermode\":\"closest\",\"hoverlabel\":{\"align\":\"left\"},\"paper_bgcolor\":\"white\",\"plot_bgcolor\":\"#E5ECF6\",\"polar\":{\"bgcolor\":\"#E5ECF6\",\"angularaxis\":{\"gridcolor\":\"white\",\"linecolor\":\"white\",\"ticks\":\"\"},\"radialaxis\":{\"gridcolor\":\"white\",\"linecolor\":\"white\",\"ticks\":\"\"}},\"ternary\":{\"bgcolor\":\"#E5ECF6\",\"aaxis\":{\"gridcolor\":\"white\",\"linecolor\":\"white\",\"ticks\":\"\"},\"baxis\":{\"gridcolor\":\"white\",\"linecolor\":\"white\",\"ticks\":\"\"},\"caxis\":{\"gridcolor\":\"white\",\"linecolor\":\"white\",\"ticks\":\"\"}},\"coloraxis\":{\"colorbar\":{\"outlinewidth\":0,\"ticks\":\"\"}},\"colorscale\":{\"sequential\":[[0.0,\"#0d0887\"],[0.1111111111111111,\"#46039f\"],[0.2222222222222222,\"#7201a8\"],[0.3333333333333333,\"#9c179e\"],[0.4444444444444444,\"#bd3786\"],[0.5555555555555556,\"#d8576b\"],[0.6666666666666666,\"#ed7953\"],[0.7777777777777778,\"#fb9f3a\"],[0.8888888888888888,\"#fdca26\"],[1.0,\"#f0f921\"]],\"sequentialminus\":[[0.0,\"#0d0887\"],[0.1111111111111111,\"#46039f\"],[0.2222222222222222,\"#7201a8\"],[0.3333333333333333,\"#9c179e\"],[0.4444444444444444,\"#bd3786\"],[0.5555555555555556,\"#d8576b\"],[0.6666666666666666,\"#ed7953\"],[0.7777777777777778,\"#fb9f3a\"],[0.8888888888888888,\"#fdca26\"],[1.0,\"#f0f921\"]],\"diverging\":[[0,\"#8e0152\"],[0.1,\"#c51b7d\"],[0.2,\"#de77ae\"],[0.3,\"#f1b6da\"],[0.4,\"#fde0ef\"],[0.5,\"#f7f7f7\"],[0.6,\"#e6f5d0\"],[0.7,\"#b8e186\"],[0.8,\"#7fbc41\"],[0.9,\"#4d9221\"],[1,\"#276419\"]]},\"xaxis\":{\"gridcolor\":\"white\",\"linecolor\":\"white\",\"ticks\":\"\",\"title\":{\"standoff\":15},\"zerolinecolor\":\"white\",\"automargin\":true,\"zerolinewidth\":2},\"yaxis\":{\"gridcolor\":\"white\",\"linecolor\":\"white\",\"ticks\":\"\",\"title\":{\"standoff\":15},\"zerolinecolor\":\"white\",\"automargin\":true,\"zerolinewidth\":2},\"scene\":{\"xaxis\":{\"backgroundcolor\":\"#E5ECF6\",\"gridcolor\":\"white\",\"linecolor\":\"white\",\"showbackground\":true,\"ticks\":\"\",\"zerolinecolor\":\"white\",\"gridwidth\":2},\"yaxis\":{\"backgroundcolor\":\"#E5ECF6\",\"gridcolor\":\"white\",\"linecolor\":\"white\",\"showbackground\":true,\"ticks\":\"\",\"zerolinecolor\":\"white\",\"gridwidth\":2},\"zaxis\":{\"backgroundcolor\":\"#E5ECF6\",\"gridcolor\":\"white\",\"linecolor\":\"white\",\"showbackground\":true,\"ticks\":\"\",\"zerolinecolor\":\"white\",\"gridwidth\":2}},\"shapedefaults\":{\"line\":{\"color\":\"#2a3f5f\"}},\"annotationdefaults\":{\"arrowcolor\":\"#2a3f5f\",\"arrowhead\":0,\"arrowwidth\":1},\"geo\":{\"bgcolor\":\"white\",\"landcolor\":\"#E5ECF6\",\"subunitcolor\":\"white\",\"showland\":true,\"showlakes\":true,\"lakecolor\":\"white\"},\"title\":{\"x\":0.05},\"mapbox\":{\"style\":\"light\"}}},\"xaxis\":{\"anchor\":\"y\",\"domain\":[0.0,1.0],\"title\":{\"text\":\"Count\"},\"showline\":false,\"showgrid\":false},\"yaxis\":{\"anchor\":\"x\",\"domain\":[0.0,1.0],\"title\":{\"text\":\"Stage\"},\"showline\":false,\"showgrid\":false},\"legend\":{\"tracegroupgap\":0},\"margin\":{\"t\":60},\"barmode\":\"relative\"},                        {\"responsive\": true}                    ).then(function(){\n",
              "                            \n",
              "var gd = document.getElementById('a8c32976-f254-4f01-acc3-cf7a2dde62ec');\n",
              "var x = new MutationObserver(function (mutations, observer) {{\n",
              "        var display = window.getComputedStyle(gd).display;\n",
              "        if (!display || display === 'none') {{\n",
              "            console.log([gd, 'removed!']);\n",
              "            Plotly.purge(gd);\n",
              "            observer.disconnect();\n",
              "        }}\n",
              "}});\n",
              "\n",
              "// Listen for the removal of the full notebook cells\n",
              "var notebookContainer = gd.closest('#notebook-container');\n",
              "if (notebookContainer) {{\n",
              "    x.observe(notebookContainer, {childList: true});\n",
              "}}\n",
              "\n",
              "// Listen for the clearing of the current output cell\n",
              "var outputEl = gd.closest('.output');\n",
              "if (outputEl) {{\n",
              "    x.observe(outputEl, {childList: true});\n",
              "}}\n",
              "\n",
              "                        })                };                            </script>        </div>\n",
              "</body>\n",
              "</html>"
            ]
          },
          "metadata": {}
        }
      ]
    },
    {
      "cell_type": "markdown",
      "source": [
        "The feature 'Stage' will be also part of the **state**:\n",
        "\n",
        "we will **one-hot encode** the education levels to obtain the second part of the state vector (size 7).\n",
        "\n",
        "Note that this part of the state **can be changed**: indeed it starts empty and based on previous actions it can be filled out\n",
        "\n",
        "For simplicity sake, we can **group** the categories in order to have just four:\n",
        "- missing (i.e. unknown)\n",
        "- not interested\n",
        "- interested\n",
        "- subscribed already"
      ],
      "metadata": {
        "id": "SLLtvXIhH4d2"
      }
    },
    {
      "cell_type": "code",
      "source": [
        "mask = ((parsed_data['Stage'] == 'not interested') | (parsed_data['Stage'] == 'do not contact') | (parsed_data['Stage'] == 'did not join the call') | (parsed_data['Stage'] == 'declined/canceled call') )\n",
        "parsed_data['Stage'][mask] = 'not interested'\n",
        "\n",
        "fig = px.bar(\n",
        "    parsed_data,\n",
        "    x=parsed_data.groupby('Stage').size().values,\n",
        "    y=parsed_data.groupby('Stage').size().index\n",
        ")\n",
        "\n",
        "fig.update_layout(\n",
        "    xaxis_title='Count',\n",
        "    yaxis_title='Stage',\n",
        "    xaxis=dict(showline=False, showgrid=False),\n",
        "    yaxis=dict(showline=False, showgrid=False)\n",
        ")\n",
        "\n",
        "fig.show()"
      ],
      "metadata": {
        "colab": {
          "base_uri": "https://localhost:8080/",
          "height": 0
        },
        "id": "VvJiLH8ndp4b",
        "outputId": "e718069e-884c-4b29-9d5c-f9cc53de50af"
      },
      "execution_count": 69,
      "outputs": [
        {
          "output_type": "stream",
          "name": "stderr",
          "text": [
            "<ipython-input-69-ae362839a44d>:2: SettingWithCopyWarning:\n",
            "\n",
            "\n",
            "A value is trying to be set on a copy of a slice from a DataFrame\n",
            "\n",
            "See the caveats in the documentation: https://pandas.pydata.org/pandas-docs/stable/user_guide/indexing.html#returning-a-view-versus-a-copy\n",
            "\n"
          ]
        },
        {
          "output_type": "display_data",
          "data": {
            "text/html": [
              "<html>\n",
              "<head><meta charset=\"utf-8\" /></head>\n",
              "<body>\n",
              "    <div>            <script src=\"https://cdnjs.cloudflare.com/ajax/libs/mathjax/2.7.5/MathJax.js?config=TeX-AMS-MML_SVG\"></script><script type=\"text/javascript\">if (window.MathJax && window.MathJax.Hub && window.MathJax.Hub.Config) {window.MathJax.Hub.Config({SVG: {font: \"STIX-Web\"}});}</script>                <script type=\"text/javascript\">window.PlotlyConfig = {MathJaxConfig: 'local'};</script>\n",
              "        <script charset=\"utf-8\" src=\"https://cdn.plot.ly/plotly-2.24.1.min.js\"></script>                <div id=\"9e289d9b-4405-4f21-b574-87cf33d6cef7\" class=\"plotly-graph-div\" style=\"height:525px; width:100%;\"></div>            <script type=\"text/javascript\">                                    window.PLOTLYENV=window.PLOTLYENV || {};                                    if (document.getElementById(\"9e289d9b-4405-4f21-b574-87cf33d6cef7\")) {                    Plotly.newPlot(                        \"9e289d9b-4405-4f21-b574-87cf33d6cef7\",                        [{\"alignmentgroup\":\"True\",\"hovertemplate\":\"x=%{x}\\u003cbr\\u003ey=%{y}\\u003cextra\\u003e\\u003c\\u002fextra\\u003e\",\"legendgroup\":\"\",\"marker\":{\"color\":\"#636efa\",\"pattern\":{\"shape\":\"\"}},\"name\":\"\",\"offsetgroup\":\"\",\"orientation\":\"h\",\"showlegend\":false,\"textposition\":\"auto\",\"x\":[141,10084,757,46],\"xaxis\":\"x\",\"y\":[\"interested\",\"missing\",\"not interested\",\"subscribed already\"],\"yaxis\":\"y\",\"type\":\"bar\"}],                        {\"template\":{\"data\":{\"histogram2dcontour\":[{\"type\":\"histogram2dcontour\",\"colorbar\":{\"outlinewidth\":0,\"ticks\":\"\"},\"colorscale\":[[0.0,\"#0d0887\"],[0.1111111111111111,\"#46039f\"],[0.2222222222222222,\"#7201a8\"],[0.3333333333333333,\"#9c179e\"],[0.4444444444444444,\"#bd3786\"],[0.5555555555555556,\"#d8576b\"],[0.6666666666666666,\"#ed7953\"],[0.7777777777777778,\"#fb9f3a\"],[0.8888888888888888,\"#fdca26\"],[1.0,\"#f0f921\"]]}],\"choropleth\":[{\"type\":\"choropleth\",\"colorbar\":{\"outlinewidth\":0,\"ticks\":\"\"}}],\"histogram2d\":[{\"type\":\"histogram2d\",\"colorbar\":{\"outlinewidth\":0,\"ticks\":\"\"},\"colorscale\":[[0.0,\"#0d0887\"],[0.1111111111111111,\"#46039f\"],[0.2222222222222222,\"#7201a8\"],[0.3333333333333333,\"#9c179e\"],[0.4444444444444444,\"#bd3786\"],[0.5555555555555556,\"#d8576b\"],[0.6666666666666666,\"#ed7953\"],[0.7777777777777778,\"#fb9f3a\"],[0.8888888888888888,\"#fdca26\"],[1.0,\"#f0f921\"]]}],\"heatmap\":[{\"type\":\"heatmap\",\"colorbar\":{\"outlinewidth\":0,\"ticks\":\"\"},\"colorscale\":[[0.0,\"#0d0887\"],[0.1111111111111111,\"#46039f\"],[0.2222222222222222,\"#7201a8\"],[0.3333333333333333,\"#9c179e\"],[0.4444444444444444,\"#bd3786\"],[0.5555555555555556,\"#d8576b\"],[0.6666666666666666,\"#ed7953\"],[0.7777777777777778,\"#fb9f3a\"],[0.8888888888888888,\"#fdca26\"],[1.0,\"#f0f921\"]]}],\"heatmapgl\":[{\"type\":\"heatmapgl\",\"colorbar\":{\"outlinewidth\":0,\"ticks\":\"\"},\"colorscale\":[[0.0,\"#0d0887\"],[0.1111111111111111,\"#46039f\"],[0.2222222222222222,\"#7201a8\"],[0.3333333333333333,\"#9c179e\"],[0.4444444444444444,\"#bd3786\"],[0.5555555555555556,\"#d8576b\"],[0.6666666666666666,\"#ed7953\"],[0.7777777777777778,\"#fb9f3a\"],[0.8888888888888888,\"#fdca26\"],[1.0,\"#f0f921\"]]}],\"contourcarpet\":[{\"type\":\"contourcarpet\",\"colorbar\":{\"outlinewidth\":0,\"ticks\":\"\"}}],\"contour\":[{\"type\":\"contour\",\"colorbar\":{\"outlinewidth\":0,\"ticks\":\"\"},\"colorscale\":[[0.0,\"#0d0887\"],[0.1111111111111111,\"#46039f\"],[0.2222222222222222,\"#7201a8\"],[0.3333333333333333,\"#9c179e\"],[0.4444444444444444,\"#bd3786\"],[0.5555555555555556,\"#d8576b\"],[0.6666666666666666,\"#ed7953\"],[0.7777777777777778,\"#fb9f3a\"],[0.8888888888888888,\"#fdca26\"],[1.0,\"#f0f921\"]]}],\"surface\":[{\"type\":\"surface\",\"colorbar\":{\"outlinewidth\":0,\"ticks\":\"\"},\"colorscale\":[[0.0,\"#0d0887\"],[0.1111111111111111,\"#46039f\"],[0.2222222222222222,\"#7201a8\"],[0.3333333333333333,\"#9c179e\"],[0.4444444444444444,\"#bd3786\"],[0.5555555555555556,\"#d8576b\"],[0.6666666666666666,\"#ed7953\"],[0.7777777777777778,\"#fb9f3a\"],[0.8888888888888888,\"#fdca26\"],[1.0,\"#f0f921\"]]}],\"mesh3d\":[{\"type\":\"mesh3d\",\"colorbar\":{\"outlinewidth\":0,\"ticks\":\"\"}}],\"scatter\":[{\"fillpattern\":{\"fillmode\":\"overlay\",\"size\":10,\"solidity\":0.2},\"type\":\"scatter\"}],\"parcoords\":[{\"type\":\"parcoords\",\"line\":{\"colorbar\":{\"outlinewidth\":0,\"ticks\":\"\"}}}],\"scatterpolargl\":[{\"type\":\"scatterpolargl\",\"marker\":{\"colorbar\":{\"outlinewidth\":0,\"ticks\":\"\"}}}],\"bar\":[{\"error_x\":{\"color\":\"#2a3f5f\"},\"error_y\":{\"color\":\"#2a3f5f\"},\"marker\":{\"line\":{\"color\":\"#E5ECF6\",\"width\":0.5},\"pattern\":{\"fillmode\":\"overlay\",\"size\":10,\"solidity\":0.2}},\"type\":\"bar\"}],\"scattergeo\":[{\"type\":\"scattergeo\",\"marker\":{\"colorbar\":{\"outlinewidth\":0,\"ticks\":\"\"}}}],\"scatterpolar\":[{\"type\":\"scatterpolar\",\"marker\":{\"colorbar\":{\"outlinewidth\":0,\"ticks\":\"\"}}}],\"histogram\":[{\"marker\":{\"pattern\":{\"fillmode\":\"overlay\",\"size\":10,\"solidity\":0.2}},\"type\":\"histogram\"}],\"scattergl\":[{\"type\":\"scattergl\",\"marker\":{\"colorbar\":{\"outlinewidth\":0,\"ticks\":\"\"}}}],\"scatter3d\":[{\"type\":\"scatter3d\",\"line\":{\"colorbar\":{\"outlinewidth\":0,\"ticks\":\"\"}},\"marker\":{\"colorbar\":{\"outlinewidth\":0,\"ticks\":\"\"}}}],\"scattermapbox\":[{\"type\":\"scattermapbox\",\"marker\":{\"colorbar\":{\"outlinewidth\":0,\"ticks\":\"\"}}}],\"scatterternary\":[{\"type\":\"scatterternary\",\"marker\":{\"colorbar\":{\"outlinewidth\":0,\"ticks\":\"\"}}}],\"scattercarpet\":[{\"type\":\"scattercarpet\",\"marker\":{\"colorbar\":{\"outlinewidth\":0,\"ticks\":\"\"}}}],\"carpet\":[{\"aaxis\":{\"endlinecolor\":\"#2a3f5f\",\"gridcolor\":\"white\",\"linecolor\":\"white\",\"minorgridcolor\":\"white\",\"startlinecolor\":\"#2a3f5f\"},\"baxis\":{\"endlinecolor\":\"#2a3f5f\",\"gridcolor\":\"white\",\"linecolor\":\"white\",\"minorgridcolor\":\"white\",\"startlinecolor\":\"#2a3f5f\"},\"type\":\"carpet\"}],\"table\":[{\"cells\":{\"fill\":{\"color\":\"#EBF0F8\"},\"line\":{\"color\":\"white\"}},\"header\":{\"fill\":{\"color\":\"#C8D4E3\"},\"line\":{\"color\":\"white\"}},\"type\":\"table\"}],\"barpolar\":[{\"marker\":{\"line\":{\"color\":\"#E5ECF6\",\"width\":0.5},\"pattern\":{\"fillmode\":\"overlay\",\"size\":10,\"solidity\":0.2}},\"type\":\"barpolar\"}],\"pie\":[{\"automargin\":true,\"type\":\"pie\"}]},\"layout\":{\"autotypenumbers\":\"strict\",\"colorway\":[\"#636efa\",\"#EF553B\",\"#00cc96\",\"#ab63fa\",\"#FFA15A\",\"#19d3f3\",\"#FF6692\",\"#B6E880\",\"#FF97FF\",\"#FECB52\"],\"font\":{\"color\":\"#2a3f5f\"},\"hovermode\":\"closest\",\"hoverlabel\":{\"align\":\"left\"},\"paper_bgcolor\":\"white\",\"plot_bgcolor\":\"#E5ECF6\",\"polar\":{\"bgcolor\":\"#E5ECF6\",\"angularaxis\":{\"gridcolor\":\"white\",\"linecolor\":\"white\",\"ticks\":\"\"},\"radialaxis\":{\"gridcolor\":\"white\",\"linecolor\":\"white\",\"ticks\":\"\"}},\"ternary\":{\"bgcolor\":\"#E5ECF6\",\"aaxis\":{\"gridcolor\":\"white\",\"linecolor\":\"white\",\"ticks\":\"\"},\"baxis\":{\"gridcolor\":\"white\",\"linecolor\":\"white\",\"ticks\":\"\"},\"caxis\":{\"gridcolor\":\"white\",\"linecolor\":\"white\",\"ticks\":\"\"}},\"coloraxis\":{\"colorbar\":{\"outlinewidth\":0,\"ticks\":\"\"}},\"colorscale\":{\"sequential\":[[0.0,\"#0d0887\"],[0.1111111111111111,\"#46039f\"],[0.2222222222222222,\"#7201a8\"],[0.3333333333333333,\"#9c179e\"],[0.4444444444444444,\"#bd3786\"],[0.5555555555555556,\"#d8576b\"],[0.6666666666666666,\"#ed7953\"],[0.7777777777777778,\"#fb9f3a\"],[0.8888888888888888,\"#fdca26\"],[1.0,\"#f0f921\"]],\"sequentialminus\":[[0.0,\"#0d0887\"],[0.1111111111111111,\"#46039f\"],[0.2222222222222222,\"#7201a8\"],[0.3333333333333333,\"#9c179e\"],[0.4444444444444444,\"#bd3786\"],[0.5555555555555556,\"#d8576b\"],[0.6666666666666666,\"#ed7953\"],[0.7777777777777778,\"#fb9f3a\"],[0.8888888888888888,\"#fdca26\"],[1.0,\"#f0f921\"]],\"diverging\":[[0,\"#8e0152\"],[0.1,\"#c51b7d\"],[0.2,\"#de77ae\"],[0.3,\"#f1b6da\"],[0.4,\"#fde0ef\"],[0.5,\"#f7f7f7\"],[0.6,\"#e6f5d0\"],[0.7,\"#b8e186\"],[0.8,\"#7fbc41\"],[0.9,\"#4d9221\"],[1,\"#276419\"]]},\"xaxis\":{\"gridcolor\":\"white\",\"linecolor\":\"white\",\"ticks\":\"\",\"title\":{\"standoff\":15},\"zerolinecolor\":\"white\",\"automargin\":true,\"zerolinewidth\":2},\"yaxis\":{\"gridcolor\":\"white\",\"linecolor\":\"white\",\"ticks\":\"\",\"title\":{\"standoff\":15},\"zerolinecolor\":\"white\",\"automargin\":true,\"zerolinewidth\":2},\"scene\":{\"xaxis\":{\"backgroundcolor\":\"#E5ECF6\",\"gridcolor\":\"white\",\"linecolor\":\"white\",\"showbackground\":true,\"ticks\":\"\",\"zerolinecolor\":\"white\",\"gridwidth\":2},\"yaxis\":{\"backgroundcolor\":\"#E5ECF6\",\"gridcolor\":\"white\",\"linecolor\":\"white\",\"showbackground\":true,\"ticks\":\"\",\"zerolinecolor\":\"white\",\"gridwidth\":2},\"zaxis\":{\"backgroundcolor\":\"#E5ECF6\",\"gridcolor\":\"white\",\"linecolor\":\"white\",\"showbackground\":true,\"ticks\":\"\",\"zerolinecolor\":\"white\",\"gridwidth\":2}},\"shapedefaults\":{\"line\":{\"color\":\"#2a3f5f\"}},\"annotationdefaults\":{\"arrowcolor\":\"#2a3f5f\",\"arrowhead\":0,\"arrowwidth\":1},\"geo\":{\"bgcolor\":\"white\",\"landcolor\":\"#E5ECF6\",\"subunitcolor\":\"white\",\"showland\":true,\"showlakes\":true,\"lakecolor\":\"white\"},\"title\":{\"x\":0.05},\"mapbox\":{\"style\":\"light\"}}},\"xaxis\":{\"anchor\":\"y\",\"domain\":[0.0,1.0],\"title\":{\"text\":\"Count\"},\"showline\":false,\"showgrid\":false},\"yaxis\":{\"anchor\":\"x\",\"domain\":[0.0,1.0],\"title\":{\"text\":\"Stage\"},\"showline\":false,\"showgrid\":false},\"legend\":{\"tracegroupgap\":0},\"margin\":{\"t\":60},\"barmode\":\"relative\"},                        {\"responsive\": true}                    ).then(function(){\n",
              "                            \n",
              "var gd = document.getElementById('9e289d9b-4405-4f21-b574-87cf33d6cef7');\n",
              "var x = new MutationObserver(function (mutations, observer) {{\n",
              "        var display = window.getComputedStyle(gd).display;\n",
              "        if (!display || display === 'none') {{\n",
              "            console.log([gd, 'removed!']);\n",
              "            Plotly.purge(gd);\n",
              "            observer.disconnect();\n",
              "        }}\n",
              "}});\n",
              "\n",
              "// Listen for the removal of the full notebook cells\n",
              "var notebookContainer = gd.closest('#notebook-container');\n",
              "if (notebookContainer) {{\n",
              "    x.observe(notebookContainer, {childList: true});\n",
              "}}\n",
              "\n",
              "// Listen for the clearing of the current output cell\n",
              "var outputEl = gd.closest('.output');\n",
              "if (outputEl) {{\n",
              "    x.observe(outputEl, {childList: true});\n",
              "}}\n",
              "\n",
              "                        })                };                            </script>        </div>\n",
              "</body>\n",
              "</html>"
            ]
          },
          "metadata": {}
        }
      ]
    },
    {
      "cell_type": "markdown",
      "source": [
        "check if amongst the not interested, some have done the onboarding steps"
      ],
      "metadata": {
        "id": "lqUvvhWDiOI_"
      }
    },
    {
      "cell_type": "code",
      "source": [
        "idx = np.where(parsed_data['Stage'] == 'not interested')\n",
        "tmp = parsed_data.iloc[idx]\n",
        "\n",
        "tmp['First Call'].notna().sum()"
      ],
      "metadata": {
        "colab": {
          "base_uri": "https://localhost:8080/"
        },
        "id": "Y3pcYevWiTXP",
        "outputId": "7f9613f2-4aa9-4997-ae81-a482908e64bf"
      },
      "execution_count": 70,
      "outputs": [
        {
          "output_type": "execute_result",
          "data": {
            "text/plain": [
              "126"
            ]
          },
          "metadata": {},
          "execution_count": 70
        }
      ]
    },
    {
      "cell_type": "markdown",
      "source": [
        "We notice that some of the 'not interested' potential customers actually had a first call.\n",
        "\n",
        "This indicates that the column Stage is updated also **during the onboarding process**\n",
        "\n",
        "This means that it would be **very hard** to fill out the missing values with the available information"
      ],
      "metadata": {
        "id": "TuNNpApfnAwI"
      }
    },
    {
      "cell_type": "markdown",
      "source": [
        "There is one thing we can do though:\n",
        "\n",
        "since we understood that the feature Stage is updated also during the onboarding process, we can use its values 'subscribed already' to fill out **missing subscription dates**"
      ],
      "metadata": {
        "id": "PlHIb2vRnz5W"
      }
    },
    {
      "cell_type": "code",
      "source": [
        "mask = (parsed_data['Stage'] == 'subscribed already') & parsed_data['Subscribed'].isna()\n",
        "parsed_data['Subscribed'][mask] = pd.to_datetime('2023-11-20')\n",
        "parsed_data[mask]"
      ],
      "metadata": {
        "colab": {
          "base_uri": "https://localhost:8080/",
          "height": 0
        },
        "id": "uDzq1M45ErUO",
        "outputId": "37cda1ce-32c2-4f73-d9a8-1691d3588c32"
      },
      "execution_count": 71,
      "outputs": [
        {
          "output_type": "stream",
          "name": "stderr",
          "text": [
            "<ipython-input-71-8f96c85a1e7b>:2: SettingWithCopyWarning:\n",
            "\n",
            "\n",
            "A value is trying to be set on a copy of a slice from a DataFrame\n",
            "\n",
            "See the caveats in the documentation: https://pandas.pydata.org/pandas-docs/stable/user_guide/indexing.html#returning-a-view-versus-a-copy\n",
            "\n"
          ]
        },
        {
          "output_type": "execute_result",
          "data": {
            "text/plain": [
              "     Country Education First Contact Last Contact       Status  \\\n",
              "ID                                                               \n",
              "170   france       B27           NaT          NaT  1st message   \n",
              "213   canada       B27           NaT          NaT  1st message   \n",
              "7889     usa       B27    2021-05-15   2021-05-15  1st message   \n",
              "\n",
              "                   Stage First Call Signed up for a demo  \\\n",
              "ID                                                         \n",
              "170   subscribed already 2021-11-26           2021-11-24   \n",
              "213   subscribed already 2021-11-03           2021-10-26   \n",
              "7889  subscribed already 2021-07-08                  NaT   \n",
              "\n",
              "     Filled in customer survey Date Platform sign up Account Manager assigned  \\\n",
              "ID                                                                              \n",
              "170                 2021-11-24            2021-11-24               2021-12-01   \n",
              "213                 2021-10-26            2021-11-06               2021-11-06   \n",
              "7889                       NaT            2021-07-08               2021-08-02   \n",
              "\n",
              "     Subscribed  Bool Platform sign up  \n",
              "ID                                      \n",
              "170  2023-11-20                    1.0  \n",
              "213  2023-11-20                    1.0  \n",
              "7889 2023-11-20                    1.0  "
            ],
            "text/html": [
              "\n",
              "  <div id=\"df-088efde7-c200-43f6-b4d1-cf604d2a400f\" class=\"colab-df-container\">\n",
              "    <div>\n",
              "<style scoped>\n",
              "    .dataframe tbody tr th:only-of-type {\n",
              "        vertical-align: middle;\n",
              "    }\n",
              "\n",
              "    .dataframe tbody tr th {\n",
              "        vertical-align: top;\n",
              "    }\n",
              "\n",
              "    .dataframe thead th {\n",
              "        text-align: right;\n",
              "    }\n",
              "</style>\n",
              "<table border=\"1\" class=\"dataframe\">\n",
              "  <thead>\n",
              "    <tr style=\"text-align: right;\">\n",
              "      <th></th>\n",
              "      <th>Country</th>\n",
              "      <th>Education</th>\n",
              "      <th>First Contact</th>\n",
              "      <th>Last Contact</th>\n",
              "      <th>Status</th>\n",
              "      <th>Stage</th>\n",
              "      <th>First Call</th>\n",
              "      <th>Signed up for a demo</th>\n",
              "      <th>Filled in customer survey</th>\n",
              "      <th>Date Platform sign up</th>\n",
              "      <th>Account Manager assigned</th>\n",
              "      <th>Subscribed</th>\n",
              "      <th>Bool Platform sign up</th>\n",
              "    </tr>\n",
              "    <tr>\n",
              "      <th>ID</th>\n",
              "      <th></th>\n",
              "      <th></th>\n",
              "      <th></th>\n",
              "      <th></th>\n",
              "      <th></th>\n",
              "      <th></th>\n",
              "      <th></th>\n",
              "      <th></th>\n",
              "      <th></th>\n",
              "      <th></th>\n",
              "      <th></th>\n",
              "      <th></th>\n",
              "      <th></th>\n",
              "    </tr>\n",
              "  </thead>\n",
              "  <tbody>\n",
              "    <tr>\n",
              "      <th>170</th>\n",
              "      <td>france</td>\n",
              "      <td>B27</td>\n",
              "      <td>NaT</td>\n",
              "      <td>NaT</td>\n",
              "      <td>1st message</td>\n",
              "      <td>subscribed already</td>\n",
              "      <td>2021-11-26</td>\n",
              "      <td>2021-11-24</td>\n",
              "      <td>2021-11-24</td>\n",
              "      <td>2021-11-24</td>\n",
              "      <td>2021-12-01</td>\n",
              "      <td>2023-11-20</td>\n",
              "      <td>1.0</td>\n",
              "    </tr>\n",
              "    <tr>\n",
              "      <th>213</th>\n",
              "      <td>canada</td>\n",
              "      <td>B27</td>\n",
              "      <td>NaT</td>\n",
              "      <td>NaT</td>\n",
              "      <td>1st message</td>\n",
              "      <td>subscribed already</td>\n",
              "      <td>2021-11-03</td>\n",
              "      <td>2021-10-26</td>\n",
              "      <td>2021-10-26</td>\n",
              "      <td>2021-11-06</td>\n",
              "      <td>2021-11-06</td>\n",
              "      <td>2023-11-20</td>\n",
              "      <td>1.0</td>\n",
              "    </tr>\n",
              "    <tr>\n",
              "      <th>7889</th>\n",
              "      <td>usa</td>\n",
              "      <td>B27</td>\n",
              "      <td>2021-05-15</td>\n",
              "      <td>2021-05-15</td>\n",
              "      <td>1st message</td>\n",
              "      <td>subscribed already</td>\n",
              "      <td>2021-07-08</td>\n",
              "      <td>NaT</td>\n",
              "      <td>NaT</td>\n",
              "      <td>2021-07-08</td>\n",
              "      <td>2021-08-02</td>\n",
              "      <td>2023-11-20</td>\n",
              "      <td>1.0</td>\n",
              "    </tr>\n",
              "  </tbody>\n",
              "</table>\n",
              "</div>\n",
              "    <div class=\"colab-df-buttons\">\n",
              "\n",
              "  <div class=\"colab-df-container\">\n",
              "    <button class=\"colab-df-convert\" onclick=\"convertToInteractive('df-088efde7-c200-43f6-b4d1-cf604d2a400f')\"\n",
              "            title=\"Convert this dataframe to an interactive table.\"\n",
              "            style=\"display:none;\">\n",
              "\n",
              "  <svg xmlns=\"http://www.w3.org/2000/svg\" height=\"24px\" viewBox=\"0 -960 960 960\">\n",
              "    <path d=\"M120-120v-720h720v720H120Zm60-500h600v-160H180v160Zm220 220h160v-160H400v160Zm0 220h160v-160H400v160ZM180-400h160v-160H180v160Zm440 0h160v-160H620v160ZM180-180h160v-160H180v160Zm440 0h160v-160H620v160Z\"/>\n",
              "  </svg>\n",
              "    </button>\n",
              "\n",
              "  <style>\n",
              "    .colab-df-container {\n",
              "      display:flex;\n",
              "      gap: 12px;\n",
              "    }\n",
              "\n",
              "    .colab-df-convert {\n",
              "      background-color: #E8F0FE;\n",
              "      border: none;\n",
              "      border-radius: 50%;\n",
              "      cursor: pointer;\n",
              "      display: none;\n",
              "      fill: #1967D2;\n",
              "      height: 32px;\n",
              "      padding: 0 0 0 0;\n",
              "      width: 32px;\n",
              "    }\n",
              "\n",
              "    .colab-df-convert:hover {\n",
              "      background-color: #E2EBFA;\n",
              "      box-shadow: 0px 1px 2px rgba(60, 64, 67, 0.3), 0px 1px 3px 1px rgba(60, 64, 67, 0.15);\n",
              "      fill: #174EA6;\n",
              "    }\n",
              "\n",
              "    .colab-df-buttons div {\n",
              "      margin-bottom: 4px;\n",
              "    }\n",
              "\n",
              "    [theme=dark] .colab-df-convert {\n",
              "      background-color: #3B4455;\n",
              "      fill: #D2E3FC;\n",
              "    }\n",
              "\n",
              "    [theme=dark] .colab-df-convert:hover {\n",
              "      background-color: #434B5C;\n",
              "      box-shadow: 0px 1px 3px 1px rgba(0, 0, 0, 0.15);\n",
              "      filter: drop-shadow(0px 1px 2px rgba(0, 0, 0, 0.3));\n",
              "      fill: #FFFFFF;\n",
              "    }\n",
              "  </style>\n",
              "\n",
              "    <script>\n",
              "      const buttonEl =\n",
              "        document.querySelector('#df-088efde7-c200-43f6-b4d1-cf604d2a400f button.colab-df-convert');\n",
              "      buttonEl.style.display =\n",
              "        google.colab.kernel.accessAllowed ? 'block' : 'none';\n",
              "\n",
              "      async function convertToInteractive(key) {\n",
              "        const element = document.querySelector('#df-088efde7-c200-43f6-b4d1-cf604d2a400f');\n",
              "        const dataTable =\n",
              "          await google.colab.kernel.invokeFunction('convertToInteractive',\n",
              "                                                    [key], {});\n",
              "        if (!dataTable) return;\n",
              "\n",
              "        const docLinkHtml = 'Like what you see? Visit the ' +\n",
              "          '<a target=\"_blank\" href=https://colab.research.google.com/notebooks/data_table.ipynb>data table notebook</a>'\n",
              "          + ' to learn more about interactive tables.';\n",
              "        element.innerHTML = '';\n",
              "        dataTable['output_type'] = 'display_data';\n",
              "        await google.colab.output.renderOutput(dataTable, element);\n",
              "        const docLink = document.createElement('div');\n",
              "        docLink.innerHTML = docLinkHtml;\n",
              "        element.appendChild(docLink);\n",
              "      }\n",
              "    </script>\n",
              "  </div>\n",
              "\n",
              "\n",
              "<div id=\"df-fff7c5c0-05b8-4f13-8f5b-76437ae36fbb\">\n",
              "  <button class=\"colab-df-quickchart\" onclick=\"quickchart('df-fff7c5c0-05b8-4f13-8f5b-76437ae36fbb')\"\n",
              "            title=\"Suggest charts\"\n",
              "            style=\"display:none;\">\n",
              "\n",
              "<svg xmlns=\"http://www.w3.org/2000/svg\" height=\"24px\"viewBox=\"0 0 24 24\"\n",
              "     width=\"24px\">\n",
              "    <g>\n",
              "        <path d=\"M19 3H5c-1.1 0-2 .9-2 2v14c0 1.1.9 2 2 2h14c1.1 0 2-.9 2-2V5c0-1.1-.9-2-2-2zM9 17H7v-7h2v7zm4 0h-2V7h2v10zm4 0h-2v-4h2v4z\"/>\n",
              "    </g>\n",
              "</svg>\n",
              "  </button>\n",
              "\n",
              "<style>\n",
              "  .colab-df-quickchart {\n",
              "      --bg-color: #E8F0FE;\n",
              "      --fill-color: #1967D2;\n",
              "      --hover-bg-color: #E2EBFA;\n",
              "      --hover-fill-color: #174EA6;\n",
              "      --disabled-fill-color: #AAA;\n",
              "      --disabled-bg-color: #DDD;\n",
              "  }\n",
              "\n",
              "  [theme=dark] .colab-df-quickchart {\n",
              "      --bg-color: #3B4455;\n",
              "      --fill-color: #D2E3FC;\n",
              "      --hover-bg-color: #434B5C;\n",
              "      --hover-fill-color: #FFFFFF;\n",
              "      --disabled-bg-color: #3B4455;\n",
              "      --disabled-fill-color: #666;\n",
              "  }\n",
              "\n",
              "  .colab-df-quickchart {\n",
              "    background-color: var(--bg-color);\n",
              "    border: none;\n",
              "    border-radius: 50%;\n",
              "    cursor: pointer;\n",
              "    display: none;\n",
              "    fill: var(--fill-color);\n",
              "    height: 32px;\n",
              "    padding: 0;\n",
              "    width: 32px;\n",
              "  }\n",
              "\n",
              "  .colab-df-quickchart:hover {\n",
              "    background-color: var(--hover-bg-color);\n",
              "    box-shadow: 0 1px 2px rgba(60, 64, 67, 0.3), 0 1px 3px 1px rgba(60, 64, 67, 0.15);\n",
              "    fill: var(--button-hover-fill-color);\n",
              "  }\n",
              "\n",
              "  .colab-df-quickchart-complete:disabled,\n",
              "  .colab-df-quickchart-complete:disabled:hover {\n",
              "    background-color: var(--disabled-bg-color);\n",
              "    fill: var(--disabled-fill-color);\n",
              "    box-shadow: none;\n",
              "  }\n",
              "\n",
              "  .colab-df-spinner {\n",
              "    border: 2px solid var(--fill-color);\n",
              "    border-color: transparent;\n",
              "    border-bottom-color: var(--fill-color);\n",
              "    animation:\n",
              "      spin 1s steps(1) infinite;\n",
              "  }\n",
              "\n",
              "  @keyframes spin {\n",
              "    0% {\n",
              "      border-color: transparent;\n",
              "      border-bottom-color: var(--fill-color);\n",
              "      border-left-color: var(--fill-color);\n",
              "    }\n",
              "    20% {\n",
              "      border-color: transparent;\n",
              "      border-left-color: var(--fill-color);\n",
              "      border-top-color: var(--fill-color);\n",
              "    }\n",
              "    30% {\n",
              "      border-color: transparent;\n",
              "      border-left-color: var(--fill-color);\n",
              "      border-top-color: var(--fill-color);\n",
              "      border-right-color: var(--fill-color);\n",
              "    }\n",
              "    40% {\n",
              "      border-color: transparent;\n",
              "      border-right-color: var(--fill-color);\n",
              "      border-top-color: var(--fill-color);\n",
              "    }\n",
              "    60% {\n",
              "      border-color: transparent;\n",
              "      border-right-color: var(--fill-color);\n",
              "    }\n",
              "    80% {\n",
              "      border-color: transparent;\n",
              "      border-right-color: var(--fill-color);\n",
              "      border-bottom-color: var(--fill-color);\n",
              "    }\n",
              "    90% {\n",
              "      border-color: transparent;\n",
              "      border-bottom-color: var(--fill-color);\n",
              "    }\n",
              "  }\n",
              "</style>\n",
              "\n",
              "  <script>\n",
              "    async function quickchart(key) {\n",
              "      const quickchartButtonEl =\n",
              "        document.querySelector('#' + key + ' button');\n",
              "      quickchartButtonEl.disabled = true;  // To prevent multiple clicks.\n",
              "      quickchartButtonEl.classList.add('colab-df-spinner');\n",
              "      try {\n",
              "        const charts = await google.colab.kernel.invokeFunction(\n",
              "            'suggestCharts', [key], {});\n",
              "      } catch (error) {\n",
              "        console.error('Error during call to suggestCharts:', error);\n",
              "      }\n",
              "      quickchartButtonEl.classList.remove('colab-df-spinner');\n",
              "      quickchartButtonEl.classList.add('colab-df-quickchart-complete');\n",
              "    }\n",
              "    (() => {\n",
              "      let quickchartButtonEl =\n",
              "        document.querySelector('#df-fff7c5c0-05b8-4f13-8f5b-76437ae36fbb button');\n",
              "      quickchartButtonEl.style.display =\n",
              "        google.colab.kernel.accessAllowed ? 'block' : 'none';\n",
              "    })();\n",
              "  </script>\n",
              "</div>\n",
              "    </div>\n",
              "  </div>\n"
            ]
          },
          "metadata": {},
          "execution_count": 71
        }
      ]
    },
    {
      "cell_type": "markdown",
      "source": [
        "All the above analysis highlighted the complex relationship between the Stage column and the other columns.\n",
        "\n",
        "Hence, for simplicity sake we will **drop this column**"
      ],
      "metadata": {
        "id": "ghf5JZ1oqcvN"
      }
    },
    {
      "cell_type": "markdown",
      "source": [
        "# Date features analysis"
      ],
      "metadata": {
        "id": "laiYwv0qxv9p"
      }
    },
    {
      "cell_type": "markdown",
      "source": [
        "We can leverage the date values of the features to find the order of the steps in each case.\n",
        "\n",
        "First thing, we want to check if the \"Last contact\" date records also contacts **during** the onboarding steps"
      ],
      "metadata": {
        "id": "QW8u6W7PxzOX"
      }
    },
    {
      "cell_type": "code",
      "source": [
        "onboarding_only = parsed_data.drop(columns=['Country', 'Education', 'First Contact', 'Last Contact', 'Status', 'Stage', 'Bool Platform sign up'])\n",
        "parsed_data['First step'] = onboarding_only.min(axis=1)\n",
        "parsed_data['Last step'] = onboarding_only.max(axis=1)"
      ],
      "metadata": {
        "id": "xnlFjseWyJIR"
      },
      "execution_count": 72,
      "outputs": []
    },
    {
      "cell_type": "code",
      "source": [
        "# Check if the first step of the onboarding process happened BEFORE the last contact date recorded\n",
        "mask = (parsed_data['First step'] < parsed_data['Last Contact'])\n",
        "\n",
        "parsed_data[mask]"
      ],
      "metadata": {
        "colab": {
          "base_uri": "https://localhost:8080/",
          "height": 0
        },
        "id": "muOUw9fNzBmX",
        "outputId": "3a945511-d12d-4bb9-c327-46e527348d7a"
      },
      "execution_count": 73,
      "outputs": [
        {
          "output_type": "execute_result",
          "data": {
            "text/plain": [
              "     Country Education First Contact Last Contact       Status  \\\n",
              "ID                                                               \n",
              "75       usa       B11           NaT   2022-03-01  1st message   \n",
              "304      usa       B27    2021-08-04   2021-08-04  3rd message   \n",
              "305   canada       B27    2021-07-21   2022-03-18  1st message   \n",
              "356      usa       B11    2021-06-25   2021-08-25  3rd message   \n",
              "374      usa        B9    2020-10-04   2021-06-23  1st message   \n",
              "...      ...       ...           ...          ...          ...   \n",
              "7596   india        B1    2020-12-23   2022-02-21  1st message   \n",
              "7653    iran        B1    2020-12-23   2021-11-29  1st message   \n",
              "7812     usa       B11    2020-05-13   2021-10-12  1st message   \n",
              "9068     usa        B9    2021-09-01   2021-09-07  2nd message   \n",
              "9070     usa       B27    2021-09-01   2021-09-07  2nd message   \n",
              "\n",
              "                   Stage First Call Signed up for a demo  \\\n",
              "ID                                                         \n",
              "75               missing        NaT                  NaT   \n",
              "304           interested 2021-07-27                  NaT   \n",
              "305              missing 2021-07-27                  NaT   \n",
              "356       not interested        NaT                  NaT   \n",
              "374   subscribed already 2021-06-22                  NaT   \n",
              "...                  ...        ...                  ...   \n",
              "7596             missing 2020-12-24                  NaT   \n",
              "7653             missing 2020-12-29                  NaT   \n",
              "7812          interested 2020-10-15                  NaT   \n",
              "9068          interested 2021-08-31                  NaT   \n",
              "9070      not interested 2021-08-31                  NaT   \n",
              "\n",
              "     Filled in customer survey Date Platform sign up Account Manager assigned  \\\n",
              "ID                                                                              \n",
              "75                         NaT            2022-02-19                      NaT   \n",
              "304                        NaT                   NaT                      NaT   \n",
              "305                        NaT            2021-07-27                      NaT   \n",
              "356                        NaT            2021-08-24                      NaT   \n",
              "374                        NaT            2021-06-22               2021-07-01   \n",
              "...                        ...                   ...                      ...   \n",
              "7596                       NaT                   NaT                      NaT   \n",
              "7653                       NaT            2020-12-29                      NaT   \n",
              "7812                       NaT            2020-10-15                      NaT   \n",
              "9068                       NaT                   NaT                      NaT   \n",
              "9070                       NaT                   NaT                      NaT   \n",
              "\n",
              "     Subscribed  Bool Platform sign up First step  Last step  \n",
              "ID                                                            \n",
              "75          NaT                    1.0 2022-02-19 2022-02-19  \n",
              "304         NaT                   -1.0 2021-07-27 2021-07-27  \n",
              "305         NaT                    1.0 2021-07-27 2021-07-27  \n",
              "356         NaT                    1.0 2021-08-24 2021-08-24  \n",
              "374  2021-06-28                    1.0 2021-06-22 2021-07-01  \n",
              "...         ...                    ...        ...        ...  \n",
              "7596        NaT                    NaN 2020-12-24 2020-12-24  \n",
              "7653        NaT                    1.0 2020-12-29 2020-12-29  \n",
              "7812        NaT                    1.0 2020-10-15 2020-10-15  \n",
              "9068        NaT                   -1.0 2021-08-31 2021-08-31  \n",
              "9070        NaT                   -1.0 2021-08-31 2021-08-31  \n",
              "\n",
              "[81 rows x 15 columns]"
            ],
            "text/html": [
              "\n",
              "  <div id=\"df-ad5e2cdb-aad9-42a9-8f9e-0dc2358fd254\" class=\"colab-df-container\">\n",
              "    <div>\n",
              "<style scoped>\n",
              "    .dataframe tbody tr th:only-of-type {\n",
              "        vertical-align: middle;\n",
              "    }\n",
              "\n",
              "    .dataframe tbody tr th {\n",
              "        vertical-align: top;\n",
              "    }\n",
              "\n",
              "    .dataframe thead th {\n",
              "        text-align: right;\n",
              "    }\n",
              "</style>\n",
              "<table border=\"1\" class=\"dataframe\">\n",
              "  <thead>\n",
              "    <tr style=\"text-align: right;\">\n",
              "      <th></th>\n",
              "      <th>Country</th>\n",
              "      <th>Education</th>\n",
              "      <th>First Contact</th>\n",
              "      <th>Last Contact</th>\n",
              "      <th>Status</th>\n",
              "      <th>Stage</th>\n",
              "      <th>First Call</th>\n",
              "      <th>Signed up for a demo</th>\n",
              "      <th>Filled in customer survey</th>\n",
              "      <th>Date Platform sign up</th>\n",
              "      <th>Account Manager assigned</th>\n",
              "      <th>Subscribed</th>\n",
              "      <th>Bool Platform sign up</th>\n",
              "      <th>First step</th>\n",
              "      <th>Last step</th>\n",
              "    </tr>\n",
              "    <tr>\n",
              "      <th>ID</th>\n",
              "      <th></th>\n",
              "      <th></th>\n",
              "      <th></th>\n",
              "      <th></th>\n",
              "      <th></th>\n",
              "      <th></th>\n",
              "      <th></th>\n",
              "      <th></th>\n",
              "      <th></th>\n",
              "      <th></th>\n",
              "      <th></th>\n",
              "      <th></th>\n",
              "      <th></th>\n",
              "      <th></th>\n",
              "      <th></th>\n",
              "    </tr>\n",
              "  </thead>\n",
              "  <tbody>\n",
              "    <tr>\n",
              "      <th>75</th>\n",
              "      <td>usa</td>\n",
              "      <td>B11</td>\n",
              "      <td>NaT</td>\n",
              "      <td>2022-03-01</td>\n",
              "      <td>1st message</td>\n",
              "      <td>missing</td>\n",
              "      <td>NaT</td>\n",
              "      <td>NaT</td>\n",
              "      <td>NaT</td>\n",
              "      <td>2022-02-19</td>\n",
              "      <td>NaT</td>\n",
              "      <td>NaT</td>\n",
              "      <td>1.0</td>\n",
              "      <td>2022-02-19</td>\n",
              "      <td>2022-02-19</td>\n",
              "    </tr>\n",
              "    <tr>\n",
              "      <th>304</th>\n",
              "      <td>usa</td>\n",
              "      <td>B27</td>\n",
              "      <td>2021-08-04</td>\n",
              "      <td>2021-08-04</td>\n",
              "      <td>3rd message</td>\n",
              "      <td>interested</td>\n",
              "      <td>2021-07-27</td>\n",
              "      <td>NaT</td>\n",
              "      <td>NaT</td>\n",
              "      <td>NaT</td>\n",
              "      <td>NaT</td>\n",
              "      <td>NaT</td>\n",
              "      <td>-1.0</td>\n",
              "      <td>2021-07-27</td>\n",
              "      <td>2021-07-27</td>\n",
              "    </tr>\n",
              "    <tr>\n",
              "      <th>305</th>\n",
              "      <td>canada</td>\n",
              "      <td>B27</td>\n",
              "      <td>2021-07-21</td>\n",
              "      <td>2022-03-18</td>\n",
              "      <td>1st message</td>\n",
              "      <td>missing</td>\n",
              "      <td>2021-07-27</td>\n",
              "      <td>NaT</td>\n",
              "      <td>NaT</td>\n",
              "      <td>2021-07-27</td>\n",
              "      <td>NaT</td>\n",
              "      <td>NaT</td>\n",
              "      <td>1.0</td>\n",
              "      <td>2021-07-27</td>\n",
              "      <td>2021-07-27</td>\n",
              "    </tr>\n",
              "    <tr>\n",
              "      <th>356</th>\n",
              "      <td>usa</td>\n",
              "      <td>B11</td>\n",
              "      <td>2021-06-25</td>\n",
              "      <td>2021-08-25</td>\n",
              "      <td>3rd message</td>\n",
              "      <td>not interested</td>\n",
              "      <td>NaT</td>\n",
              "      <td>NaT</td>\n",
              "      <td>NaT</td>\n",
              "      <td>2021-08-24</td>\n",
              "      <td>NaT</td>\n",
              "      <td>NaT</td>\n",
              "      <td>1.0</td>\n",
              "      <td>2021-08-24</td>\n",
              "      <td>2021-08-24</td>\n",
              "    </tr>\n",
              "    <tr>\n",
              "      <th>374</th>\n",
              "      <td>usa</td>\n",
              "      <td>B9</td>\n",
              "      <td>2020-10-04</td>\n",
              "      <td>2021-06-23</td>\n",
              "      <td>1st message</td>\n",
              "      <td>subscribed already</td>\n",
              "      <td>2021-06-22</td>\n",
              "      <td>NaT</td>\n",
              "      <td>NaT</td>\n",
              "      <td>2021-06-22</td>\n",
              "      <td>2021-07-01</td>\n",
              "      <td>2021-06-28</td>\n",
              "      <td>1.0</td>\n",
              "      <td>2021-06-22</td>\n",
              "      <td>2021-07-01</td>\n",
              "    </tr>\n",
              "    <tr>\n",
              "      <th>...</th>\n",
              "      <td>...</td>\n",
              "      <td>...</td>\n",
              "      <td>...</td>\n",
              "      <td>...</td>\n",
              "      <td>...</td>\n",
              "      <td>...</td>\n",
              "      <td>...</td>\n",
              "      <td>...</td>\n",
              "      <td>...</td>\n",
              "      <td>...</td>\n",
              "      <td>...</td>\n",
              "      <td>...</td>\n",
              "      <td>...</td>\n",
              "      <td>...</td>\n",
              "      <td>...</td>\n",
              "    </tr>\n",
              "    <tr>\n",
              "      <th>7596</th>\n",
              "      <td>india</td>\n",
              "      <td>B1</td>\n",
              "      <td>2020-12-23</td>\n",
              "      <td>2022-02-21</td>\n",
              "      <td>1st message</td>\n",
              "      <td>missing</td>\n",
              "      <td>2020-12-24</td>\n",
              "      <td>NaT</td>\n",
              "      <td>NaT</td>\n",
              "      <td>NaT</td>\n",
              "      <td>NaT</td>\n",
              "      <td>NaT</td>\n",
              "      <td>NaN</td>\n",
              "      <td>2020-12-24</td>\n",
              "      <td>2020-12-24</td>\n",
              "    </tr>\n",
              "    <tr>\n",
              "      <th>7653</th>\n",
              "      <td>iran</td>\n",
              "      <td>B1</td>\n",
              "      <td>2020-12-23</td>\n",
              "      <td>2021-11-29</td>\n",
              "      <td>1st message</td>\n",
              "      <td>missing</td>\n",
              "      <td>2020-12-29</td>\n",
              "      <td>NaT</td>\n",
              "      <td>NaT</td>\n",
              "      <td>2020-12-29</td>\n",
              "      <td>NaT</td>\n",
              "      <td>NaT</td>\n",
              "      <td>1.0</td>\n",
              "      <td>2020-12-29</td>\n",
              "      <td>2020-12-29</td>\n",
              "    </tr>\n",
              "    <tr>\n",
              "      <th>7812</th>\n",
              "      <td>usa</td>\n",
              "      <td>B11</td>\n",
              "      <td>2020-05-13</td>\n",
              "      <td>2021-10-12</td>\n",
              "      <td>1st message</td>\n",
              "      <td>interested</td>\n",
              "      <td>2020-10-15</td>\n",
              "      <td>NaT</td>\n",
              "      <td>NaT</td>\n",
              "      <td>2020-10-15</td>\n",
              "      <td>NaT</td>\n",
              "      <td>NaT</td>\n",
              "      <td>1.0</td>\n",
              "      <td>2020-10-15</td>\n",
              "      <td>2020-10-15</td>\n",
              "    </tr>\n",
              "    <tr>\n",
              "      <th>9068</th>\n",
              "      <td>usa</td>\n",
              "      <td>B9</td>\n",
              "      <td>2021-09-01</td>\n",
              "      <td>2021-09-07</td>\n",
              "      <td>2nd message</td>\n",
              "      <td>interested</td>\n",
              "      <td>2021-08-31</td>\n",
              "      <td>NaT</td>\n",
              "      <td>NaT</td>\n",
              "      <td>NaT</td>\n",
              "      <td>NaT</td>\n",
              "      <td>NaT</td>\n",
              "      <td>-1.0</td>\n",
              "      <td>2021-08-31</td>\n",
              "      <td>2021-08-31</td>\n",
              "    </tr>\n",
              "    <tr>\n",
              "      <th>9070</th>\n",
              "      <td>usa</td>\n",
              "      <td>B27</td>\n",
              "      <td>2021-09-01</td>\n",
              "      <td>2021-09-07</td>\n",
              "      <td>2nd message</td>\n",
              "      <td>not interested</td>\n",
              "      <td>2021-08-31</td>\n",
              "      <td>NaT</td>\n",
              "      <td>NaT</td>\n",
              "      <td>NaT</td>\n",
              "      <td>NaT</td>\n",
              "      <td>NaT</td>\n",
              "      <td>-1.0</td>\n",
              "      <td>2021-08-31</td>\n",
              "      <td>2021-08-31</td>\n",
              "    </tr>\n",
              "  </tbody>\n",
              "</table>\n",
              "<p>81 rows × 15 columns</p>\n",
              "</div>\n",
              "    <div class=\"colab-df-buttons\">\n",
              "\n",
              "  <div class=\"colab-df-container\">\n",
              "    <button class=\"colab-df-convert\" onclick=\"convertToInteractive('df-ad5e2cdb-aad9-42a9-8f9e-0dc2358fd254')\"\n",
              "            title=\"Convert this dataframe to an interactive table.\"\n",
              "            style=\"display:none;\">\n",
              "\n",
              "  <svg xmlns=\"http://www.w3.org/2000/svg\" height=\"24px\" viewBox=\"0 -960 960 960\">\n",
              "    <path d=\"M120-120v-720h720v720H120Zm60-500h600v-160H180v160Zm220 220h160v-160H400v160Zm0 220h160v-160H400v160ZM180-400h160v-160H180v160Zm440 0h160v-160H620v160ZM180-180h160v-160H180v160Zm440 0h160v-160H620v160Z\"/>\n",
              "  </svg>\n",
              "    </button>\n",
              "\n",
              "  <style>\n",
              "    .colab-df-container {\n",
              "      display:flex;\n",
              "      gap: 12px;\n",
              "    }\n",
              "\n",
              "    .colab-df-convert {\n",
              "      background-color: #E8F0FE;\n",
              "      border: none;\n",
              "      border-radius: 50%;\n",
              "      cursor: pointer;\n",
              "      display: none;\n",
              "      fill: #1967D2;\n",
              "      height: 32px;\n",
              "      padding: 0 0 0 0;\n",
              "      width: 32px;\n",
              "    }\n",
              "\n",
              "    .colab-df-convert:hover {\n",
              "      background-color: #E2EBFA;\n",
              "      box-shadow: 0px 1px 2px rgba(60, 64, 67, 0.3), 0px 1px 3px 1px rgba(60, 64, 67, 0.15);\n",
              "      fill: #174EA6;\n",
              "    }\n",
              "\n",
              "    .colab-df-buttons div {\n",
              "      margin-bottom: 4px;\n",
              "    }\n",
              "\n",
              "    [theme=dark] .colab-df-convert {\n",
              "      background-color: #3B4455;\n",
              "      fill: #D2E3FC;\n",
              "    }\n",
              "\n",
              "    [theme=dark] .colab-df-convert:hover {\n",
              "      background-color: #434B5C;\n",
              "      box-shadow: 0px 1px 3px 1px rgba(0, 0, 0, 0.15);\n",
              "      filter: drop-shadow(0px 1px 2px rgba(0, 0, 0, 0.3));\n",
              "      fill: #FFFFFF;\n",
              "    }\n",
              "  </style>\n",
              "\n",
              "    <script>\n",
              "      const buttonEl =\n",
              "        document.querySelector('#df-ad5e2cdb-aad9-42a9-8f9e-0dc2358fd254 button.colab-df-convert');\n",
              "      buttonEl.style.display =\n",
              "        google.colab.kernel.accessAllowed ? 'block' : 'none';\n",
              "\n",
              "      async function convertToInteractive(key) {\n",
              "        const element = document.querySelector('#df-ad5e2cdb-aad9-42a9-8f9e-0dc2358fd254');\n",
              "        const dataTable =\n",
              "          await google.colab.kernel.invokeFunction('convertToInteractive',\n",
              "                                                    [key], {});\n",
              "        if (!dataTable) return;\n",
              "\n",
              "        const docLinkHtml = 'Like what you see? Visit the ' +\n",
              "          '<a target=\"_blank\" href=https://colab.research.google.com/notebooks/data_table.ipynb>data table notebook</a>'\n",
              "          + ' to learn more about interactive tables.';\n",
              "        element.innerHTML = '';\n",
              "        dataTable['output_type'] = 'display_data';\n",
              "        await google.colab.output.renderOutput(dataTable, element);\n",
              "        const docLink = document.createElement('div');\n",
              "        docLink.innerHTML = docLinkHtml;\n",
              "        element.appendChild(docLink);\n",
              "      }\n",
              "    </script>\n",
              "  </div>\n",
              "\n",
              "\n",
              "<div id=\"df-5b2b75e5-000c-4071-a25b-936f3b7199a5\">\n",
              "  <button class=\"colab-df-quickchart\" onclick=\"quickchart('df-5b2b75e5-000c-4071-a25b-936f3b7199a5')\"\n",
              "            title=\"Suggest charts\"\n",
              "            style=\"display:none;\">\n",
              "\n",
              "<svg xmlns=\"http://www.w3.org/2000/svg\" height=\"24px\"viewBox=\"0 0 24 24\"\n",
              "     width=\"24px\">\n",
              "    <g>\n",
              "        <path d=\"M19 3H5c-1.1 0-2 .9-2 2v14c0 1.1.9 2 2 2h14c1.1 0 2-.9 2-2V5c0-1.1-.9-2-2-2zM9 17H7v-7h2v7zm4 0h-2V7h2v10zm4 0h-2v-4h2v4z\"/>\n",
              "    </g>\n",
              "</svg>\n",
              "  </button>\n",
              "\n",
              "<style>\n",
              "  .colab-df-quickchart {\n",
              "      --bg-color: #E8F0FE;\n",
              "      --fill-color: #1967D2;\n",
              "      --hover-bg-color: #E2EBFA;\n",
              "      --hover-fill-color: #174EA6;\n",
              "      --disabled-fill-color: #AAA;\n",
              "      --disabled-bg-color: #DDD;\n",
              "  }\n",
              "\n",
              "  [theme=dark] .colab-df-quickchart {\n",
              "      --bg-color: #3B4455;\n",
              "      --fill-color: #D2E3FC;\n",
              "      --hover-bg-color: #434B5C;\n",
              "      --hover-fill-color: #FFFFFF;\n",
              "      --disabled-bg-color: #3B4455;\n",
              "      --disabled-fill-color: #666;\n",
              "  }\n",
              "\n",
              "  .colab-df-quickchart {\n",
              "    background-color: var(--bg-color);\n",
              "    border: none;\n",
              "    border-radius: 50%;\n",
              "    cursor: pointer;\n",
              "    display: none;\n",
              "    fill: var(--fill-color);\n",
              "    height: 32px;\n",
              "    padding: 0;\n",
              "    width: 32px;\n",
              "  }\n",
              "\n",
              "  .colab-df-quickchart:hover {\n",
              "    background-color: var(--hover-bg-color);\n",
              "    box-shadow: 0 1px 2px rgba(60, 64, 67, 0.3), 0 1px 3px 1px rgba(60, 64, 67, 0.15);\n",
              "    fill: var(--button-hover-fill-color);\n",
              "  }\n",
              "\n",
              "  .colab-df-quickchart-complete:disabled,\n",
              "  .colab-df-quickchart-complete:disabled:hover {\n",
              "    background-color: var(--disabled-bg-color);\n",
              "    fill: var(--disabled-fill-color);\n",
              "    box-shadow: none;\n",
              "  }\n",
              "\n",
              "  .colab-df-spinner {\n",
              "    border: 2px solid var(--fill-color);\n",
              "    border-color: transparent;\n",
              "    border-bottom-color: var(--fill-color);\n",
              "    animation:\n",
              "      spin 1s steps(1) infinite;\n",
              "  }\n",
              "\n",
              "  @keyframes spin {\n",
              "    0% {\n",
              "      border-color: transparent;\n",
              "      border-bottom-color: var(--fill-color);\n",
              "      border-left-color: var(--fill-color);\n",
              "    }\n",
              "    20% {\n",
              "      border-color: transparent;\n",
              "      border-left-color: var(--fill-color);\n",
              "      border-top-color: var(--fill-color);\n",
              "    }\n",
              "    30% {\n",
              "      border-color: transparent;\n",
              "      border-left-color: var(--fill-color);\n",
              "      border-top-color: var(--fill-color);\n",
              "      border-right-color: var(--fill-color);\n",
              "    }\n",
              "    40% {\n",
              "      border-color: transparent;\n",
              "      border-right-color: var(--fill-color);\n",
              "      border-top-color: var(--fill-color);\n",
              "    }\n",
              "    60% {\n",
              "      border-color: transparent;\n",
              "      border-right-color: var(--fill-color);\n",
              "    }\n",
              "    80% {\n",
              "      border-color: transparent;\n",
              "      border-right-color: var(--fill-color);\n",
              "      border-bottom-color: var(--fill-color);\n",
              "    }\n",
              "    90% {\n",
              "      border-color: transparent;\n",
              "      border-bottom-color: var(--fill-color);\n",
              "    }\n",
              "  }\n",
              "</style>\n",
              "\n",
              "  <script>\n",
              "    async function quickchart(key) {\n",
              "      const quickchartButtonEl =\n",
              "        document.querySelector('#' + key + ' button');\n",
              "      quickchartButtonEl.disabled = true;  // To prevent multiple clicks.\n",
              "      quickchartButtonEl.classList.add('colab-df-spinner');\n",
              "      try {\n",
              "        const charts = await google.colab.kernel.invokeFunction(\n",
              "            'suggestCharts', [key], {});\n",
              "      } catch (error) {\n",
              "        console.error('Error during call to suggestCharts:', error);\n",
              "      }\n",
              "      quickchartButtonEl.classList.remove('colab-df-spinner');\n",
              "      quickchartButtonEl.classList.add('colab-df-quickchart-complete');\n",
              "    }\n",
              "    (() => {\n",
              "      let quickchartButtonEl =\n",
              "        document.querySelector('#df-5b2b75e5-000c-4071-a25b-936f3b7199a5 button');\n",
              "      quickchartButtonEl.style.display =\n",
              "        google.colab.kernel.accessAllowed ? 'block' : 'none';\n",
              "    })();\n",
              "  </script>\n",
              "</div>\n",
              "    </div>\n",
              "  </div>\n"
            ]
          },
          "metadata": {},
          "execution_count": 73
        }
      ]
    },
    {
      "cell_type": "markdown",
      "source": [
        "apparently in some cases the Last Contact column is updated even after the onboarding process is started:\n",
        "\n",
        "This observation show the high complexity of the data we have available"
      ],
      "metadata": {
        "id": "1mN_FZMs0DLX"
      }
    },
    {
      "cell_type": "markdown",
      "source": [
        "# Date features analysis - First and Last contact"
      ],
      "metadata": {
        "id": "HRO3nwfYBEij"
      }
    },
    {
      "cell_type": "markdown",
      "source": [
        "let's check the order of the dates.\n",
        "\n",
        "First we focus on the **First Contact** and **Last Contact** columns.\n",
        "\n",
        "We expect the Last contact to be **greater or equal** to the First Contact, but as we can see there are (very few) outliers"
      ],
      "metadata": {
        "id": "JvMB4BwWFxTT"
      }
    },
    {
      "cell_type": "code",
      "source": [
        "print('Number of rows in which the First Contact happened BEFORE the Last contact: ', (parsed_data['First Contact'] <= parsed_data['Last Contact']).sum())\n",
        "print('Number of rows in which the First Contact happened AFTER the Last contact: ', (parsed_data['First Contact'] > parsed_data['Last Contact']).sum())"
      ],
      "metadata": {
        "colab": {
          "base_uri": "https://localhost:8080/"
        },
        "id": "kw7iL791zza0",
        "outputId": "30ee8c18-d7de-421d-987d-620a2cad2296"
      },
      "execution_count": 74,
      "outputs": [
        {
          "output_type": "stream",
          "name": "stdout",
          "text": [
            "Number of rows in which the First Contact happened BEFORE the Last contact:  10292\n",
            "Number of rows in which the First Contact happened AFTER the Last contact:  3\n"
          ]
        }
      ]
    },
    {
      "cell_type": "markdown",
      "source": [
        "For **simplicity sake** we will drop this two columns in the model"
      ],
      "metadata": {
        "id": "F6LqvBY2ASL2"
      }
    },
    {
      "cell_type": "markdown",
      "source": [
        "# Date features analysis - First Call"
      ],
      "metadata": {
        "id": "eiVa2XiTDOEy"
      }
    },
    {
      "cell_type": "code",
      "source": [
        "col_1 = 'First Call'\n",
        "col_2 = 'Signed up for a demo'\n",
        "\n",
        "print(f'Number of rows in which the {col_1} happened BEFORE the {col_2}: ', (parsed_data[col_1] < parsed_data[col_2]).sum())\n",
        "print(f'Number of rows in which the {col_1} happened AT THE SAME TIME as the {col_2}: ', (parsed_data[col_1] == parsed_data[col_2]).sum())\n",
        "print(f'Number of rows in which the {col_1} happened AFTER the {col_2}: ', (parsed_data[col_1] > parsed_data[col_2]).sum())"
      ],
      "metadata": {
        "colab": {
          "base_uri": "https://localhost:8080/"
        },
        "id": "FFXaSwcPAhDM",
        "outputId": "62c43aff-31ef-4598-ab23-81d941882d39"
      },
      "execution_count": 75,
      "outputs": [
        {
          "output_type": "stream",
          "name": "stdout",
          "text": [
            "Number of rows in which the First Call happened BEFORE the Signed up for a demo:  10\n",
            "Number of rows in which the First Call happened AT THE SAME TIME as the Signed up for a demo:  9\n",
            "Number of rows in which the First Call happened AFTER the Signed up for a demo:  96\n"
          ]
        }
      ]
    },
    {
      "cell_type": "code",
      "source": [
        "col_1 = 'First Call'\n",
        "col_2 = 'Filled in customer survey'\n",
        "\n",
        "print(f'Number of rows in which the {col_1} happened BEFORE the {col_2}: ', (parsed_data[col_1] < parsed_data[col_2]).sum())\n",
        "print(f'Number of rows in which the {col_1} happened AT THE SAME TIME as the {col_2}: ', (parsed_data[col_1] == parsed_data[col_2]).sum())\n",
        "print(f'Number of rows in which the {col_1} happened AFTER the {col_2}: ', (parsed_data[col_1] > parsed_data[col_2]).sum())"
      ],
      "metadata": {
        "colab": {
          "base_uri": "https://localhost:8080/"
        },
        "id": "bgFVBxO_BRaz",
        "outputId": "3219f77c-f6bf-4dd5-dfec-79d835128531"
      },
      "execution_count": 76,
      "outputs": [
        {
          "output_type": "stream",
          "name": "stdout",
          "text": [
            "Number of rows in which the First Call happened BEFORE the Filled in customer survey:  10\n",
            "Number of rows in which the First Call happened AT THE SAME TIME as the Filled in customer survey:  10\n",
            "Number of rows in which the First Call happened AFTER the Filled in customer survey:  93\n"
          ]
        }
      ]
    },
    {
      "cell_type": "code",
      "source": [
        "col_1 = 'First Call'\n",
        "col_2 = 'Date Platform sign up'\n",
        "\n",
        "print(f'Number of rows in which the {col_1} happened BEFORE the {col_2}: ', (parsed_data[col_1] < parsed_data[col_2]).sum())\n",
        "print(f'Number of rows in which the {col_1} happened AT THE SAME TIME as the {col_2}: ', (parsed_data[col_1] == parsed_data[col_2]).sum())\n",
        "print(f'Number of rows in which the {col_1} happened AFTER the {col_2}: ', (parsed_data[col_1] > parsed_data[col_2]).sum())"
      ],
      "metadata": {
        "colab": {
          "base_uri": "https://localhost:8080/"
        },
        "id": "N6tj-Tp3Bmd1",
        "outputId": "894e6e90-3e5a-4d62-d859-d252a0cc7c07"
      },
      "execution_count": 77,
      "outputs": [
        {
          "output_type": "stream",
          "name": "stdout",
          "text": [
            "Number of rows in which the First Call happened BEFORE the Date Platform sign up:  29\n",
            "Number of rows in which the First Call happened AT THE SAME TIME as the Date Platform sign up:  151\n",
            "Number of rows in which the First Call happened AFTER the Date Platform sign up:  57\n"
          ]
        }
      ]
    },
    {
      "cell_type": "code",
      "source": [
        "col_1 = 'First Call'\n",
        "col_2 = 'Account Manager assigned'\n",
        "\n",
        "print(f'Number of rows in which the {col_1} happened BEFORE the {col_2}: ', (parsed_data[col_1] < parsed_data[col_2]).sum())\n",
        "print(f'Number of rows in which the {col_1} happened AT THE SAME TIME as the {col_2}: ', (parsed_data[col_1] == parsed_data[col_2]).sum())\n",
        "print(f'Number of rows in which the {col_1} happened AFTER the {col_2}: ', (parsed_data[col_1] > parsed_data[col_2]).sum())"
      ],
      "metadata": {
        "colab": {
          "base_uri": "https://localhost:8080/"
        },
        "id": "ubLPxp_xCOm6",
        "outputId": "f715a5c2-9ed3-4044-d3eb-ece0daf6d353"
      },
      "execution_count": 78,
      "outputs": [
        {
          "output_type": "stream",
          "name": "stdout",
          "text": [
            "Number of rows in which the First Call happened BEFORE the Account Manager assigned:  60\n",
            "Number of rows in which the First Call happened AT THE SAME TIME as the Account Manager assigned:  9\n",
            "Number of rows in which the First Call happened AFTER the Account Manager assigned:  0\n"
          ]
        }
      ]
    },
    {
      "cell_type": "code",
      "source": [
        "col_1 = 'First Call'\n",
        "col_2 = 'Subscribed'\n",
        "\n",
        "print(f'Number of rows in which the {col_1} happened BEFORE the {col_2}: ', (parsed_data[col_1] < parsed_data[col_2]).sum())\n",
        "print(f'Number of rows in which the {col_1} happened AT THE SAME TIME as the {col_2}: ', (parsed_data[col_1] == parsed_data[col_2]).sum())\n",
        "print(f'Number of rows in which the {col_1} happened AFTER the {col_2}: ', (parsed_data[col_1] > parsed_data[col_2]).sum())"
      ],
      "metadata": {
        "colab": {
          "base_uri": "https://localhost:8080/"
        },
        "id": "i9eV39TFCgpb",
        "outputId": "636a4300-68c9-4247-9d35-04b1c06c180c"
      },
      "execution_count": 79,
      "outputs": [
        {
          "output_type": "stream",
          "name": "stdout",
          "text": [
            "Number of rows in which the First Call happened BEFORE the Subscribed:  49\n",
            "Number of rows in which the First Call happened AT THE SAME TIME as the Subscribed:  0\n",
            "Number of rows in which the First Call happened AFTER the Subscribed:  1\n"
          ]
        }
      ]
    },
    {
      "cell_type": "markdown",
      "source": [
        "It is hard to draw a conclusion on the order of the first steps.\n",
        "\n",
        "However, we can confidently say that the First Call surely happens **before**:\n",
        "- Account Manager assigned\n",
        "- Subscribed (in this case there is one outlier, we will need to handle it)"
      ],
      "metadata": {
        "id": "o5A2tqBzDdUL"
      }
    },
    {
      "cell_type": "markdown",
      "source": [
        "# Date features analysis - Signed up for a demo"
      ],
      "metadata": {
        "id": "ooMNmKLODRR9"
      }
    },
    {
      "cell_type": "code",
      "source": [
        "col_1 = 'Signed up for a demo'\n",
        "col_2 = 'Filled in customer survey'\n",
        "\n",
        "print(f'Number of rows in which the {col_1} happened BEFORE the {col_2}: ', (parsed_data[col_1] < parsed_data[col_2]).sum())\n",
        "print(f'Number of rows in which the {col_1} happened AT THE SAME TIME as the {col_2}: ', (parsed_data[col_1] == parsed_data[col_2]).sum())\n",
        "print(f'Number of rows in which the {col_1} happened AFTER the {col_2}: ', (parsed_data[col_1] > parsed_data[col_2]).sum())"
      ],
      "metadata": {
        "colab": {
          "base_uri": "https://localhost:8080/"
        },
        "id": "xOf2-VwCCzPC",
        "outputId": "150842b1-4039-4e19-dad5-28b59325a193"
      },
      "execution_count": 80,
      "outputs": [
        {
          "output_type": "stream",
          "name": "stdout",
          "text": [
            "Number of rows in which the Signed up for a demo happened BEFORE the Filled in customer survey:  71\n",
            "Number of rows in which the Signed up for a demo happened AT THE SAME TIME as the Filled in customer survey:  113\n",
            "Number of rows in which the Signed up for a demo happened AFTER the Filled in customer survey:  0\n"
          ]
        }
      ]
    },
    {
      "cell_type": "code",
      "source": [
        "col_1 = 'Signed up for a demo'\n",
        "col_2 = 'Date Platform sign up'\n",
        "\n",
        "print(f'Number of rows in which the {col_1} happened BEFORE the {col_2}: ', (parsed_data[col_1] < parsed_data[col_2]).sum())\n",
        "print(f'Number of rows in which the {col_1} happened AT THE SAME TIME as the {col_2}: ', (parsed_data[col_1] == parsed_data[col_2]).sum())\n",
        "print(f'Number of rows in which the {col_1} happened AFTER the {col_2}: ', (parsed_data[col_1] > parsed_data[col_2]).sum())"
      ],
      "metadata": {
        "colab": {
          "base_uri": "https://localhost:8080/"
        },
        "id": "7CmTWheeC9Qw",
        "outputId": "86820141-85db-4041-cb14-90e49e59735d"
      },
      "execution_count": 81,
      "outputs": [
        {
          "output_type": "stream",
          "name": "stdout",
          "text": [
            "Number of rows in which the Signed up for a demo happened BEFORE the Date Platform sign up:  48\n",
            "Number of rows in which the Signed up for a demo happened AT THE SAME TIME as the Date Platform sign up:  37\n",
            "Number of rows in which the Signed up for a demo happened AFTER the Date Platform sign up:  3\n"
          ]
        }
      ]
    },
    {
      "cell_type": "code",
      "source": [
        "col_1 = 'Signed up for a demo'\n",
        "col_2 = 'Account Manager assigned'\n",
        "\n",
        "print(f'Number of rows in which the {col_1} happened BEFORE the {col_2}: ', (parsed_data[col_1] < parsed_data[col_2]).sum())\n",
        "print(f'Number of rows in which the {col_1} happened AT THE SAME TIME as the {col_2}: ', (parsed_data[col_1] == parsed_data[col_2]).sum())\n",
        "print(f'Number of rows in which the {col_1} happened AFTER the {col_2}: ', (parsed_data[col_1] > parsed_data[col_2]).sum())"
      ],
      "metadata": {
        "colab": {
          "base_uri": "https://localhost:8080/"
        },
        "id": "UVH9O1cVC_MS",
        "outputId": "1072f3bb-24a9-408a-af22-1c6b0ed944c7"
      },
      "execution_count": 82,
      "outputs": [
        {
          "output_type": "stream",
          "name": "stdout",
          "text": [
            "Number of rows in which the Signed up for a demo happened BEFORE the Account Manager assigned:  47\n",
            "Number of rows in which the Signed up for a demo happened AT THE SAME TIME as the Account Manager assigned:  0\n",
            "Number of rows in which the Signed up for a demo happened AFTER the Account Manager assigned:  0\n"
          ]
        }
      ]
    },
    {
      "cell_type": "code",
      "source": [
        "col_1 = 'Signed up for a demo'\n",
        "col_2 = 'Subscribed'\n",
        "\n",
        "print(f'Number of rows in which the {col_1} happened BEFORE the {col_2}: ', (parsed_data[col_1] < parsed_data[col_2]).sum())\n",
        "print(f'Number of rows in which the {col_1} happened AT THE SAME TIME as the {col_2}: ', (parsed_data[col_1] == parsed_data[col_2]).sum())\n",
        "print(f'Number of rows in which the {col_1} happened AFTER the {col_2}: ', (parsed_data[col_1] > parsed_data[col_2]).sum())"
      ],
      "metadata": {
        "colab": {
          "base_uri": "https://localhost:8080/"
        },
        "id": "g8NHqmyGDCsK",
        "outputId": "636d02ad-1fd4-4e1e-8ec9-bb80eec423cf"
      },
      "execution_count": 83,
      "outputs": [
        {
          "output_type": "stream",
          "name": "stdout",
          "text": [
            "Number of rows in which the Signed up for a demo happened BEFORE the Subscribed:  34\n",
            "Number of rows in which the Signed up for a demo happened AT THE SAME TIME as the Subscribed:  0\n",
            "Number of rows in which the Signed up for a demo happened AFTER the Subscribed:  0\n"
          ]
        }
      ]
    },
    {
      "cell_type": "markdown",
      "source": [
        "Looking at the above results, it seems that the **Signed up for a demo** step needs to happen before (or on the same day as) the next steps:\n",
        "- Filled in customer survey\n",
        "- Did sign up to the platform (in this case there are three outliers)\n",
        "- Account Manager assigned\n",
        "- Subscribed"
      ],
      "metadata": {
        "id": "wKnXouU_D2uL"
      }
    },
    {
      "cell_type": "markdown",
      "source": [
        "# Date features analysis - Filled in customer survey"
      ],
      "metadata": {
        "id": "w-artKVJEOcI"
      }
    },
    {
      "cell_type": "code",
      "source": [
        "col_1 = 'Filled in customer survey'\n",
        "col_2 = 'Date Platform sign up'\n",
        "\n",
        "print(f'Number of rows in which the {col_1} happened BEFORE the {col_2}: ', (parsed_data[col_1] < parsed_data[col_2]).sum())\n",
        "print(f'Number of rows in which the {col_1} happened AT THE SAME TIME as the {col_2}: ', (parsed_data[col_1] == parsed_data[col_2]).sum())\n",
        "print(f'Number of rows in which the {col_1} happened AFTER the {col_2}: ', (parsed_data[col_1] > parsed_data[col_2]).sum())"
      ],
      "metadata": {
        "colab": {
          "base_uri": "https://localhost:8080/"
        },
        "id": "9zTB1udhDGaq",
        "outputId": "a355e64e-5386-4636-bce7-e2c72bbc2456"
      },
      "execution_count": 84,
      "outputs": [
        {
          "output_type": "stream",
          "name": "stdout",
          "text": [
            "Number of rows in which the Filled in customer survey happened BEFORE the Date Platform sign up:  37\n",
            "Number of rows in which the Filled in customer survey happened AT THE SAME TIME as the Date Platform sign up:  48\n",
            "Number of rows in which the Filled in customer survey happened AFTER the Date Platform sign up:  2\n"
          ]
        }
      ]
    },
    {
      "cell_type": "code",
      "source": [
        "col_1 = 'Filled in customer survey'\n",
        "col_2 = 'Account Manager assigned'\n",
        "\n",
        "print(f'Number of rows in which the {col_1} happened BEFORE the {col_2}: ', (parsed_data[col_1] < parsed_data[col_2]).sum())\n",
        "print(f'Number of rows in which the {col_1} happened AT THE SAME TIME as the {col_2}: ', (parsed_data[col_1] == parsed_data[col_2]).sum())\n",
        "print(f'Number of rows in which the {col_1} happened AFTER the {col_2}: ', (parsed_data[col_1] > parsed_data[col_2]).sum())"
      ],
      "metadata": {
        "colab": {
          "base_uri": "https://localhost:8080/"
        },
        "id": "THuisB12EXYp",
        "outputId": "2d067831-8928-4359-fe2d-e6ab26fecaf1"
      },
      "execution_count": 85,
      "outputs": [
        {
          "output_type": "stream",
          "name": "stdout",
          "text": [
            "Number of rows in which the Filled in customer survey happened BEFORE the Account Manager assigned:  47\n",
            "Number of rows in which the Filled in customer survey happened AT THE SAME TIME as the Account Manager assigned:  0\n",
            "Number of rows in which the Filled in customer survey happened AFTER the Account Manager assigned:  0\n"
          ]
        }
      ]
    },
    {
      "cell_type": "code",
      "source": [
        "col_1 = 'Filled in customer survey'\n",
        "col_2 = 'Subscribed'\n",
        "\n",
        "print(f'Number of rows in which the {col_1} happened BEFORE the {col_2}: ', (parsed_data[col_1] < parsed_data[col_2]).sum())\n",
        "print(f'Number of rows in which the {col_1} happened AT THE SAME TIME as the {col_2}: ', (parsed_data[col_1] == parsed_data[col_2]).sum())\n",
        "print(f'Number of rows in which the {col_1} happened AFTER the {col_2}: ', (parsed_data[col_1] > parsed_data[col_2]).sum())"
      ],
      "metadata": {
        "colab": {
          "base_uri": "https://localhost:8080/"
        },
        "id": "PvO4v1wjEauc",
        "outputId": "3d74c857-6850-40f9-894f-6918f0315793"
      },
      "execution_count": 86,
      "outputs": [
        {
          "output_type": "stream",
          "name": "stdout",
          "text": [
            "Number of rows in which the Filled in customer survey happened BEFORE the Subscribed:  34\n",
            "Number of rows in which the Filled in customer survey happened AT THE SAME TIME as the Subscribed:  0\n",
            "Number of rows in which the Filled in customer survey happened AFTER the Subscribed:  0\n"
          ]
        }
      ]
    },
    {
      "cell_type": "markdown",
      "source": [
        "Once again, it seems that the customer survey is filled before the next steps - except for the Platform signup that has 2 outliers"
      ],
      "metadata": {
        "id": "9Fmnc_dxExvl"
      }
    },
    {
      "cell_type": "markdown",
      "source": [
        "# Date features analysis - Did sign up to the platform"
      ],
      "metadata": {
        "id": "-w1xXADlFAox"
      }
    },
    {
      "cell_type": "code",
      "source": [
        "col_1 = 'Date Platform sign up'\n",
        "col_2 = 'Account Manager assigned'\n",
        "\n",
        "print(f'Number of rows in which the {col_1} happened BEFORE the {col_2}: ', (parsed_data[col_1] < parsed_data[col_2]).sum())\n",
        "print(f'Number of rows in which the {col_1} happened AT THE SAME TIME as the {col_2}: ', (parsed_data[col_1] == parsed_data[col_2]).sum())\n",
        "print(f'Number of rows in which the {col_1} happened AFTER the {col_2}: ', (parsed_data[col_1] > parsed_data[col_2]).sum())"
      ],
      "metadata": {
        "colab": {
          "base_uri": "https://localhost:8080/"
        },
        "id": "RicxGaVtFFm7",
        "outputId": "be1f301d-640c-4b83-c4c4-3ae53deec658"
      },
      "execution_count": 87,
      "outputs": [
        {
          "output_type": "stream",
          "name": "stdout",
          "text": [
            "Number of rows in which the Date Platform sign up happened BEFORE the Account Manager assigned:  62\n",
            "Number of rows in which the Date Platform sign up happened AT THE SAME TIME as the Account Manager assigned:  7\n",
            "Number of rows in which the Date Platform sign up happened AFTER the Account Manager assigned:  0\n"
          ]
        }
      ]
    },
    {
      "cell_type": "code",
      "source": [
        "col_1 = 'Date Platform sign up'\n",
        "col_2 = 'Subscribed'\n",
        "\n",
        "print(f'Number of rows in which the {col_1} happened BEFORE the {col_2}: ', (parsed_data[col_1] < parsed_data[col_2]).sum())\n",
        "print(f'Number of rows in which the {col_1} happened AT THE SAME TIME as the {col_2}: ', (parsed_data[col_1] == parsed_data[col_2]).sum())\n",
        "print(f'Number of rows in which the {col_1} happened AFTER the {col_2}: ', (parsed_data[col_1] > parsed_data[col_2]).sum())"
      ],
      "metadata": {
        "colab": {
          "base_uri": "https://localhost:8080/"
        },
        "id": "ayQLFY3xFI7p",
        "outputId": "d88aaf11-742e-4049-89fb-337edc2b2066"
      },
      "execution_count": 88,
      "outputs": [
        {
          "output_type": "stream",
          "name": "stdout",
          "text": [
            "Number of rows in which the Date Platform sign up happened BEFORE the Subscribed:  46\n",
            "Number of rows in which the Date Platform sign up happened AT THE SAME TIME as the Subscribed:  2\n",
            "Number of rows in which the Date Platform sign up happened AFTER the Subscribed:  0\n"
          ]
        }
      ]
    },
    {
      "cell_type": "markdown",
      "source": [
        "# Date features analysis - Account Manager assigned"
      ],
      "metadata": {
        "id": "X3iEOiAwFPg1"
      }
    },
    {
      "cell_type": "code",
      "source": [
        "col_1 = 'Account Manager assigned'\n",
        "col_2 = 'Subscribed'\n",
        "\n",
        "print(f'Number of rows in which the {col_1} happened BEFORE the {col_2}: ', (parsed_data[col_1] < parsed_data[col_2]).sum())\n",
        "print(f'Number of rows in which the {col_1} happened AT THE SAME TIME as the {col_2}: ', (parsed_data[col_1] == parsed_data[col_2]).sum())\n",
        "print(f'Number of rows in which the {col_1} happened AFTER the {col_2}: ', (parsed_data[col_1] > parsed_data[col_2]).sum())"
      ],
      "metadata": {
        "colab": {
          "base_uri": "https://localhost:8080/"
        },
        "id": "M04AGQ0QFTKV",
        "outputId": "557cda4c-0fde-444a-b02b-79ca907fe4da"
      },
      "execution_count": 89,
      "outputs": [
        {
          "output_type": "stream",
          "name": "stdout",
          "text": [
            "Number of rows in which the Account Manager assigned happened BEFORE the Subscribed:  33\n",
            "Number of rows in which the Account Manager assigned happened AT THE SAME TIME as the Subscribed:  3\n",
            "Number of rows in which the Account Manager assigned happened AFTER the Subscribed:  11\n"
          ]
        }
      ]
    },
    {
      "cell_type": "markdown",
      "source": [
        "# Conclusions"
      ],
      "metadata": {
        "id": "SJZnfWw3FYp4"
      }
    },
    {
      "cell_type": "markdown",
      "source": [
        "It seems that the order of the steps is not clearly defined.\n",
        "\n",
        "However, in general, we can say that the order is:\n",
        "- 'Signed up for a demo'\n",
        "- 'Filled in customer survey'\n",
        "- 'First Call'\n",
        "- 'Date Platform sign up'\n",
        "- 'Account Manager assigned'\n",
        "- 'Subscribed'\n",
        "\n",
        "The onboarding steps will also be part of the **state**. We will encode them as follow:\n",
        "\n",
        "a (6,) binary vector that indicates whether a step was done or not;\n",
        "\n",
        "- The starting point is [0,0,0,0,0,0]\n",
        "- [1,0,0,0,0,0] and [0,1,0,0,0,0] are both valid first steps\n",
        "- [1,1,0,0,0,0] is needed to move to [1,1,1,0,0,0]\n",
        "- [1,1,1,0,0,0] is needed to move to [1,1,1,1,0,0]\n",
        "- From [1,1,1,1,0,0] it is possible to go in both [1,1,1,1,1,0] and [1,1,1,1,0,1]\n",
        "- [1,1,1,1,1,1] is the desired state"
      ],
      "metadata": {
        "id": "nYYxO0FTFbz2"
      }
    },
    {
      "cell_type": "markdown",
      "source": [
        "To summarize, the state will be made of the **concatenation** of the following arrays:\n",
        "\n",
        "- One-hot encoding of the Country - **cannot** be changed - len 78\n",
        "- One-hot encoding of the Education - **cannot** be changed - len 30\n",
        "- Int for the Status - it can change - len 1\n",
        "- Bool if the customer is in the onboarding phase or not - len 1\n",
        "- Binary encoding of the Onboarding steps - it can change - len 6\n",
        "\n",
        "Total length of the state is: 78 + 30 + 1 + 1 + 6 = 116"
      ],
      "metadata": {
        "id": "nGT8nCyTJlox"
      }
    },
    {
      "cell_type": "markdown",
      "source": [
        "# State space creation"
      ],
      "metadata": {
        "id": "dX2lqhV2q6U3"
      }
    },
    {
      "cell_type": "markdown",
      "source": [
        "We decide to model the state space with **different components**:\n",
        "- Country\n",
        "- Education\n",
        "- Number of contacts (int)\n",
        "- If the Onboarding has started (bool)\n",
        "- The six onboarding steps\n",
        "\n",
        "For future flexibility, we decide to create a dataframe for **each** component.\n",
        "Then, when needed, we can concatenate the components together\n",
        "\n",
        "Let's start by convering the status to integers"
      ],
      "metadata": {
        "id": "4RVmc76QwNgG"
      }
    },
    {
      "cell_type": "code",
      "source": [
        "n_contacts_ss = pd.Series(0, index=parsed_data['Status'].index)\n",
        "n_contacts_ss[parsed_data['Status'] == '1st message'] = 1\n",
        "n_contacts_ss[parsed_data['Status'] == '2nd message'] = 2\n",
        "n_contacts_ss[parsed_data['Status'] == '3rd message'] = 3"
      ],
      "metadata": {
        "id": "jNzizZb-wRRq"
      },
      "execution_count": 90,
      "outputs": []
    },
    {
      "cell_type": "markdown",
      "source": [
        "We would actually like to create a **new boolean feature** that indicates whether the onboarding process has started or not"
      ],
      "metadata": {
        "id": "XRrJgJr48LM9"
      }
    },
    {
      "cell_type": "code",
      "source": [
        "ob_started_ss = pd.Series(0, index=parsed_data['First step'].index)\n",
        "mask = parsed_data['First step'].notna()\n",
        "ob_started_ss[mask] = 1"
      ],
      "metadata": {
        "id": "bfLupJ1N8ehx"
      },
      "execution_count": 91,
      "outputs": []
    },
    {
      "cell_type": "markdown",
      "source": [
        "Regarding the onboarding, we want to know:\n",
        "- Which steps where made\n",
        "- In which order they were made\n",
        "\n",
        "Hence, we are going to create a dataframe with 6 columns, the number of onboarding steps.\n",
        "\n",
        "In each row, we are going to fill column by column the numerical encoding of the onboarding step that was performed.\n",
        "\n",
        "If none were performed, because the client exited the onbaording or because they subscribed, the cell will be filled with -1\n",
        "\n",
        "In this way, moving along the columns of the new dataframe, we can know which onbaording step was done next."
      ],
      "metadata": {
        "id": "R6D6tOd6sc74"
      }
    },
    {
      "cell_type": "markdown",
      "source": [
        "Note that indexes in python start with 0, but we want to start with 1.\n",
        "\n",
        "So we are going to create the onboarding DataFrame with the indexes, then add +1 to all cells.\n",
        "\n",
        "Hence, we originally need to set the missing steps value to -2, which will then become -1"
      ],
      "metadata": {
        "id": "qzSpXf2rK4ob"
      }
    },
    {
      "cell_type": "code",
      "source": [
        "# This is a function that returns the index of the column with the earliest date\n",
        "def earliest_date_index(x):\n",
        "\n",
        "    non_nat_indices = np.where(~pd.isna(x))[0]\n",
        "\n",
        "    if non_nat_indices.size > 0:\n",
        "        earliest_index = min(non_nat_indices, key=lambda i: x[i])\n",
        "        return earliest_index\n",
        "    else:\n",
        "        return -2\n",
        "\n",
        "# Define a function to set the value in the specified column to NaN\n",
        "def set_value_to_nan(row, step):\n",
        "\n",
        "  # get the column index of the first step\n",
        "  step_index = int(step[row.name])\n",
        "\n",
        "  # If index is -2 it means that the whole row is already nan\n",
        "  if step_index != -2:\n",
        "    column_to_set_nan = ob_new_order.columns[step_index]\n",
        "    row[column_to_set_nan] = np.nan\n",
        "  return row"
      ],
      "metadata": {
        "id": "CvTR2mdF1roB"
      },
      "execution_count": 92,
      "outputs": []
    },
    {
      "cell_type": "markdown",
      "source": [
        "For future use, we would like to columns to be in the proper order"
      ],
      "metadata": {
        "id": "JXIhboIdEZac"
      }
    },
    {
      "cell_type": "code",
      "source": [
        "new_column_order = ['Signed up for a demo',\n",
        "                    'Filled in customer survey',\n",
        "                    'First Call',\n",
        "                    'Date Platform sign up',\n",
        "                    'Account Manager assigned',\n",
        "                    'Subscribed']"
      ],
      "metadata": {
        "id": "XuZXqGfcEkMQ"
      },
      "execution_count": 93,
      "outputs": []
    },
    {
      "cell_type": "code",
      "source": [
        "# Create a copy that will be modified:\n",
        "# each iteration, we will \"delete\" the date of the previously detected step\n",
        "ob_new_order = onboarding_only[new_column_order].copy()"
      ],
      "metadata": {
        "id": "u4BzZRI0EXg4"
      },
      "execution_count": 94,
      "outputs": []
    },
    {
      "cell_type": "code",
      "source": [
        "ob_copy = ob_new_order.copy()\n",
        "\n",
        "# get the first step for each row, if any\n",
        "first_step = ob_copy.apply(earliest_date_index, axis=1)\n",
        "old_step = first_step.copy()\n",
        "# Create the OB steps dataframe, starting with the first step\n",
        "ob_steps = first_step.copy()\n",
        "\n",
        "# Fill in the dataframe\n",
        "for i in range(5):\n",
        "  ob_copy = ob_copy.apply(set_value_to_nan, axis=1, args=(old_step,))\n",
        "  new_step = ob_copy.apply(earliest_date_index, axis=1)\n",
        "  ob_steps = pd.concat([ob_steps, new_step], axis=1, ignore_index=True)\n",
        "  old_step = new_step"
      ],
      "metadata": {
        "id": "pUVF2U1g16NS"
      },
      "execution_count": 95,
      "outputs": []
    },
    {
      "cell_type": "code",
      "source": [
        "mask = (ob_steps.iloc[:, -1] != -2) & ~(ob_steps.iloc[:, -1] == 5)"
      ],
      "metadata": {
        "id": "v5an3F6w8lm9"
      },
      "execution_count": 96,
      "outputs": []
    },
    {
      "cell_type": "code",
      "source": [
        "parsed_data[mask]"
      ],
      "metadata": {
        "colab": {
          "base_uri": "https://localhost:8080/",
          "height": 0
        },
        "id": "xJFZHB157gz4",
        "outputId": "a29e11a0-c055-486e-8f2e-a147a4c853b0"
      },
      "execution_count": 97,
      "outputs": [
        {
          "output_type": "execute_result",
          "data": {
            "text/plain": [
              "     Country Education First Contact Last Contact       Status  \\\n",
              "ID                                                               \n",
              "141   mexico       B27           NaT          NaT  1st message   \n",
              "220   canada       B27           NaT          NaT  1st message   \n",
              "7852     usa       B27    2021-05-14   2021-09-15  1st message   \n",
              "8070     usa       B27    2021-06-04   2021-09-22  1st message   \n",
              "8405     usa       B27    2021-06-20   2021-08-30  1st message   \n",
              "\n",
              "                   Stage First Call Signed up for a demo  \\\n",
              "ID                                                         \n",
              "141   subscribed already 2021-12-22           2021-12-20   \n",
              "220   subscribed already 2021-10-26           2021-10-25   \n",
              "7852  subscribed already 2021-09-21           2021-09-15   \n",
              "8070  subscribed already 2021-09-30           2021-09-23   \n",
              "8405  subscribed already 2021-08-31           2021-08-31   \n",
              "\n",
              "     Filled in customer survey Date Platform sign up Account Manager assigned  \\\n",
              "ID                                                                              \n",
              "141                 2021-12-20            2021-12-21               2022-01-03   \n",
              "220                 2021-10-26            2021-10-28               2021-12-28   \n",
              "7852                2021-09-16            2021-09-25               2021-10-01   \n",
              "8070                2021-09-26            2021-09-27               2021-10-01   \n",
              "8405                2021-09-01            2021-09-01               2021-09-06   \n",
              "\n",
              "     Subscribed  Bool Platform sign up First step  Last step  \n",
              "ID                                                            \n",
              "141  2021-12-30                    1.0 2021-12-20 2022-01-03  \n",
              "220  2021-10-28                    1.0 2021-10-25 2021-12-28  \n",
              "7852 2021-09-30                    1.0 2021-09-15 2021-10-01  \n",
              "8070 2021-09-27                    1.0 2021-09-23 2021-10-01  \n",
              "8405 2021-09-05                    1.0 2021-08-31 2021-09-06  "
            ],
            "text/html": [
              "\n",
              "  <div id=\"df-855a3a6c-04f0-4c0c-8170-37bb6b508663\" class=\"colab-df-container\">\n",
              "    <div>\n",
              "<style scoped>\n",
              "    .dataframe tbody tr th:only-of-type {\n",
              "        vertical-align: middle;\n",
              "    }\n",
              "\n",
              "    .dataframe tbody tr th {\n",
              "        vertical-align: top;\n",
              "    }\n",
              "\n",
              "    .dataframe thead th {\n",
              "        text-align: right;\n",
              "    }\n",
              "</style>\n",
              "<table border=\"1\" class=\"dataframe\">\n",
              "  <thead>\n",
              "    <tr style=\"text-align: right;\">\n",
              "      <th></th>\n",
              "      <th>Country</th>\n",
              "      <th>Education</th>\n",
              "      <th>First Contact</th>\n",
              "      <th>Last Contact</th>\n",
              "      <th>Status</th>\n",
              "      <th>Stage</th>\n",
              "      <th>First Call</th>\n",
              "      <th>Signed up for a demo</th>\n",
              "      <th>Filled in customer survey</th>\n",
              "      <th>Date Platform sign up</th>\n",
              "      <th>Account Manager assigned</th>\n",
              "      <th>Subscribed</th>\n",
              "      <th>Bool Platform sign up</th>\n",
              "      <th>First step</th>\n",
              "      <th>Last step</th>\n",
              "    </tr>\n",
              "    <tr>\n",
              "      <th>ID</th>\n",
              "      <th></th>\n",
              "      <th></th>\n",
              "      <th></th>\n",
              "      <th></th>\n",
              "      <th></th>\n",
              "      <th></th>\n",
              "      <th></th>\n",
              "      <th></th>\n",
              "      <th></th>\n",
              "      <th></th>\n",
              "      <th></th>\n",
              "      <th></th>\n",
              "      <th></th>\n",
              "      <th></th>\n",
              "      <th></th>\n",
              "    </tr>\n",
              "  </thead>\n",
              "  <tbody>\n",
              "    <tr>\n",
              "      <th>141</th>\n",
              "      <td>mexico</td>\n",
              "      <td>B27</td>\n",
              "      <td>NaT</td>\n",
              "      <td>NaT</td>\n",
              "      <td>1st message</td>\n",
              "      <td>subscribed already</td>\n",
              "      <td>2021-12-22</td>\n",
              "      <td>2021-12-20</td>\n",
              "      <td>2021-12-20</td>\n",
              "      <td>2021-12-21</td>\n",
              "      <td>2022-01-03</td>\n",
              "      <td>2021-12-30</td>\n",
              "      <td>1.0</td>\n",
              "      <td>2021-12-20</td>\n",
              "      <td>2022-01-03</td>\n",
              "    </tr>\n",
              "    <tr>\n",
              "      <th>220</th>\n",
              "      <td>canada</td>\n",
              "      <td>B27</td>\n",
              "      <td>NaT</td>\n",
              "      <td>NaT</td>\n",
              "      <td>1st message</td>\n",
              "      <td>subscribed already</td>\n",
              "      <td>2021-10-26</td>\n",
              "      <td>2021-10-25</td>\n",
              "      <td>2021-10-26</td>\n",
              "      <td>2021-10-28</td>\n",
              "      <td>2021-12-28</td>\n",
              "      <td>2021-10-28</td>\n",
              "      <td>1.0</td>\n",
              "      <td>2021-10-25</td>\n",
              "      <td>2021-12-28</td>\n",
              "    </tr>\n",
              "    <tr>\n",
              "      <th>7852</th>\n",
              "      <td>usa</td>\n",
              "      <td>B27</td>\n",
              "      <td>2021-05-14</td>\n",
              "      <td>2021-09-15</td>\n",
              "      <td>1st message</td>\n",
              "      <td>subscribed already</td>\n",
              "      <td>2021-09-21</td>\n",
              "      <td>2021-09-15</td>\n",
              "      <td>2021-09-16</td>\n",
              "      <td>2021-09-25</td>\n",
              "      <td>2021-10-01</td>\n",
              "      <td>2021-09-30</td>\n",
              "      <td>1.0</td>\n",
              "      <td>2021-09-15</td>\n",
              "      <td>2021-10-01</td>\n",
              "    </tr>\n",
              "    <tr>\n",
              "      <th>8070</th>\n",
              "      <td>usa</td>\n",
              "      <td>B27</td>\n",
              "      <td>2021-06-04</td>\n",
              "      <td>2021-09-22</td>\n",
              "      <td>1st message</td>\n",
              "      <td>subscribed already</td>\n",
              "      <td>2021-09-30</td>\n",
              "      <td>2021-09-23</td>\n",
              "      <td>2021-09-26</td>\n",
              "      <td>2021-09-27</td>\n",
              "      <td>2021-10-01</td>\n",
              "      <td>2021-09-27</td>\n",
              "      <td>1.0</td>\n",
              "      <td>2021-09-23</td>\n",
              "      <td>2021-10-01</td>\n",
              "    </tr>\n",
              "    <tr>\n",
              "      <th>8405</th>\n",
              "      <td>usa</td>\n",
              "      <td>B27</td>\n",
              "      <td>2021-06-20</td>\n",
              "      <td>2021-08-30</td>\n",
              "      <td>1st message</td>\n",
              "      <td>subscribed already</td>\n",
              "      <td>2021-08-31</td>\n",
              "      <td>2021-08-31</td>\n",
              "      <td>2021-09-01</td>\n",
              "      <td>2021-09-01</td>\n",
              "      <td>2021-09-06</td>\n",
              "      <td>2021-09-05</td>\n",
              "      <td>1.0</td>\n",
              "      <td>2021-08-31</td>\n",
              "      <td>2021-09-06</td>\n",
              "    </tr>\n",
              "  </tbody>\n",
              "</table>\n",
              "</div>\n",
              "    <div class=\"colab-df-buttons\">\n",
              "\n",
              "  <div class=\"colab-df-container\">\n",
              "    <button class=\"colab-df-convert\" onclick=\"convertToInteractive('df-855a3a6c-04f0-4c0c-8170-37bb6b508663')\"\n",
              "            title=\"Convert this dataframe to an interactive table.\"\n",
              "            style=\"display:none;\">\n",
              "\n",
              "  <svg xmlns=\"http://www.w3.org/2000/svg\" height=\"24px\" viewBox=\"0 -960 960 960\">\n",
              "    <path d=\"M120-120v-720h720v720H120Zm60-500h600v-160H180v160Zm220 220h160v-160H400v160Zm0 220h160v-160H400v160ZM180-400h160v-160H180v160Zm440 0h160v-160H620v160ZM180-180h160v-160H180v160Zm440 0h160v-160H620v160Z\"/>\n",
              "  </svg>\n",
              "    </button>\n",
              "\n",
              "  <style>\n",
              "    .colab-df-container {\n",
              "      display:flex;\n",
              "      gap: 12px;\n",
              "    }\n",
              "\n",
              "    .colab-df-convert {\n",
              "      background-color: #E8F0FE;\n",
              "      border: none;\n",
              "      border-radius: 50%;\n",
              "      cursor: pointer;\n",
              "      display: none;\n",
              "      fill: #1967D2;\n",
              "      height: 32px;\n",
              "      padding: 0 0 0 0;\n",
              "      width: 32px;\n",
              "    }\n",
              "\n",
              "    .colab-df-convert:hover {\n",
              "      background-color: #E2EBFA;\n",
              "      box-shadow: 0px 1px 2px rgba(60, 64, 67, 0.3), 0px 1px 3px 1px rgba(60, 64, 67, 0.15);\n",
              "      fill: #174EA6;\n",
              "    }\n",
              "\n",
              "    .colab-df-buttons div {\n",
              "      margin-bottom: 4px;\n",
              "    }\n",
              "\n",
              "    [theme=dark] .colab-df-convert {\n",
              "      background-color: #3B4455;\n",
              "      fill: #D2E3FC;\n",
              "    }\n",
              "\n",
              "    [theme=dark] .colab-df-convert:hover {\n",
              "      background-color: #434B5C;\n",
              "      box-shadow: 0px 1px 3px 1px rgba(0, 0, 0, 0.15);\n",
              "      filter: drop-shadow(0px 1px 2px rgba(0, 0, 0, 0.3));\n",
              "      fill: #FFFFFF;\n",
              "    }\n",
              "  </style>\n",
              "\n",
              "    <script>\n",
              "      const buttonEl =\n",
              "        document.querySelector('#df-855a3a6c-04f0-4c0c-8170-37bb6b508663 button.colab-df-convert');\n",
              "      buttonEl.style.display =\n",
              "        google.colab.kernel.accessAllowed ? 'block' : 'none';\n",
              "\n",
              "      async function convertToInteractive(key) {\n",
              "        const element = document.querySelector('#df-855a3a6c-04f0-4c0c-8170-37bb6b508663');\n",
              "        const dataTable =\n",
              "          await google.colab.kernel.invokeFunction('convertToInteractive',\n",
              "                                                    [key], {});\n",
              "        if (!dataTable) return;\n",
              "\n",
              "        const docLinkHtml = 'Like what you see? Visit the ' +\n",
              "          '<a target=\"_blank\" href=https://colab.research.google.com/notebooks/data_table.ipynb>data table notebook</a>'\n",
              "          + ' to learn more about interactive tables.';\n",
              "        element.innerHTML = '';\n",
              "        dataTable['output_type'] = 'display_data';\n",
              "        await google.colab.output.renderOutput(dataTable, element);\n",
              "        const docLink = document.createElement('div');\n",
              "        docLink.innerHTML = docLinkHtml;\n",
              "        element.appendChild(docLink);\n",
              "      }\n",
              "    </script>\n",
              "  </div>\n",
              "\n",
              "\n",
              "<div id=\"df-de631f58-a13e-4508-89e3-d4f40905099e\">\n",
              "  <button class=\"colab-df-quickchart\" onclick=\"quickchart('df-de631f58-a13e-4508-89e3-d4f40905099e')\"\n",
              "            title=\"Suggest charts\"\n",
              "            style=\"display:none;\">\n",
              "\n",
              "<svg xmlns=\"http://www.w3.org/2000/svg\" height=\"24px\"viewBox=\"0 0 24 24\"\n",
              "     width=\"24px\">\n",
              "    <g>\n",
              "        <path d=\"M19 3H5c-1.1 0-2 .9-2 2v14c0 1.1.9 2 2 2h14c1.1 0 2-.9 2-2V5c0-1.1-.9-2-2-2zM9 17H7v-7h2v7zm4 0h-2V7h2v10zm4 0h-2v-4h2v4z\"/>\n",
              "    </g>\n",
              "</svg>\n",
              "  </button>\n",
              "\n",
              "<style>\n",
              "  .colab-df-quickchart {\n",
              "      --bg-color: #E8F0FE;\n",
              "      --fill-color: #1967D2;\n",
              "      --hover-bg-color: #E2EBFA;\n",
              "      --hover-fill-color: #174EA6;\n",
              "      --disabled-fill-color: #AAA;\n",
              "      --disabled-bg-color: #DDD;\n",
              "  }\n",
              "\n",
              "  [theme=dark] .colab-df-quickchart {\n",
              "      --bg-color: #3B4455;\n",
              "      --fill-color: #D2E3FC;\n",
              "      --hover-bg-color: #434B5C;\n",
              "      --hover-fill-color: #FFFFFF;\n",
              "      --disabled-bg-color: #3B4455;\n",
              "      --disabled-fill-color: #666;\n",
              "  }\n",
              "\n",
              "  .colab-df-quickchart {\n",
              "    background-color: var(--bg-color);\n",
              "    border: none;\n",
              "    border-radius: 50%;\n",
              "    cursor: pointer;\n",
              "    display: none;\n",
              "    fill: var(--fill-color);\n",
              "    height: 32px;\n",
              "    padding: 0;\n",
              "    width: 32px;\n",
              "  }\n",
              "\n",
              "  .colab-df-quickchart:hover {\n",
              "    background-color: var(--hover-bg-color);\n",
              "    box-shadow: 0 1px 2px rgba(60, 64, 67, 0.3), 0 1px 3px 1px rgba(60, 64, 67, 0.15);\n",
              "    fill: var(--button-hover-fill-color);\n",
              "  }\n",
              "\n",
              "  .colab-df-quickchart-complete:disabled,\n",
              "  .colab-df-quickchart-complete:disabled:hover {\n",
              "    background-color: var(--disabled-bg-color);\n",
              "    fill: var(--disabled-fill-color);\n",
              "    box-shadow: none;\n",
              "  }\n",
              "\n",
              "  .colab-df-spinner {\n",
              "    border: 2px solid var(--fill-color);\n",
              "    border-color: transparent;\n",
              "    border-bottom-color: var(--fill-color);\n",
              "    animation:\n",
              "      spin 1s steps(1) infinite;\n",
              "  }\n",
              "\n",
              "  @keyframes spin {\n",
              "    0% {\n",
              "      border-color: transparent;\n",
              "      border-bottom-color: var(--fill-color);\n",
              "      border-left-color: var(--fill-color);\n",
              "    }\n",
              "    20% {\n",
              "      border-color: transparent;\n",
              "      border-left-color: var(--fill-color);\n",
              "      border-top-color: var(--fill-color);\n",
              "    }\n",
              "    30% {\n",
              "      border-color: transparent;\n",
              "      border-left-color: var(--fill-color);\n",
              "      border-top-color: var(--fill-color);\n",
              "      border-right-color: var(--fill-color);\n",
              "    }\n",
              "    40% {\n",
              "      border-color: transparent;\n",
              "      border-right-color: var(--fill-color);\n",
              "      border-top-color: var(--fill-color);\n",
              "    }\n",
              "    60% {\n",
              "      border-color: transparent;\n",
              "      border-right-color: var(--fill-color);\n",
              "    }\n",
              "    80% {\n",
              "      border-color: transparent;\n",
              "      border-right-color: var(--fill-color);\n",
              "      border-bottom-color: var(--fill-color);\n",
              "    }\n",
              "    90% {\n",
              "      border-color: transparent;\n",
              "      border-bottom-color: var(--fill-color);\n",
              "    }\n",
              "  }\n",
              "</style>\n",
              "\n",
              "  <script>\n",
              "    async function quickchart(key) {\n",
              "      const quickchartButtonEl =\n",
              "        document.querySelector('#' + key + ' button');\n",
              "      quickchartButtonEl.disabled = true;  // To prevent multiple clicks.\n",
              "      quickchartButtonEl.classList.add('colab-df-spinner');\n",
              "      try {\n",
              "        const charts = await google.colab.kernel.invokeFunction(\n",
              "            'suggestCharts', [key], {});\n",
              "      } catch (error) {\n",
              "        console.error('Error during call to suggestCharts:', error);\n",
              "      }\n",
              "      quickchartButtonEl.classList.remove('colab-df-spinner');\n",
              "      quickchartButtonEl.classList.add('colab-df-quickchart-complete');\n",
              "    }\n",
              "    (() => {\n",
              "      let quickchartButtonEl =\n",
              "        document.querySelector('#df-de631f58-a13e-4508-89e3-d4f40905099e button');\n",
              "      quickchartButtonEl.style.display =\n",
              "        google.colab.kernel.accessAllowed ? 'block' : 'none';\n",
              "    })();\n",
              "  </script>\n",
              "</div>\n",
              "    </div>\n",
              "  </div>\n"
            ]
          },
          "metadata": {},
          "execution_count": 97
        }
      ]
    },
    {
      "cell_type": "markdown",
      "source": [
        "There are some rare cases in which the customer is successfully acquired, and the Account Manager is assigned **after** the subscription.\n",
        "\n",
        "Although some of these cases are exceptions (e.g. 30 Dec - 3 Jan), it's still advisable to promptly assign an account manager to the customer.\n",
        "\n",
        "Since these are limited cases, and the final goal is the subscription, we will \"delete\" the fact that the account manager was assigned after the subscription buy deleting the record of it."
      ],
      "metadata": {
        "id": "4fNf1tKW9XKK"
      }
    },
    {
      "cell_type": "code",
      "source": [
        "ob_steps.loc[mask, ob_steps.columns[5]] = -2"
      ],
      "metadata": {
        "id": "_xx3pjA5-Jmz"
      },
      "execution_count": 98,
      "outputs": []
    },
    {
      "cell_type": "markdown",
      "source": [
        "Let's now add +1 to the created dataframe to obtain its final form"
      ],
      "metadata": {
        "id": "vGpQ3Kt1Lkau"
      }
    },
    {
      "cell_type": "code",
      "source": [
        "ob_steps = ob_steps + 1"
      ],
      "metadata": {
        "id": "rmXb3Vb5-Q8p"
      },
      "execution_count": 99,
      "outputs": []
    },
    {
      "cell_type": "markdown",
      "source": [
        "As last steps we **one hot encode** the country and education features.\n",
        "\n",
        "We do this in the last step to obtain the columns in the desired order.\n",
        "Indeed, Country and Education are state space components that cannot be changed by any action, so we just leave them at the end of the array"
      ],
      "metadata": {
        "id": "zafwjiBDrAW0"
      }
    },
    {
      "cell_type": "code",
      "source": [
        "country_ss = pd.get_dummies(parsed_data, columns=['Country'], prefix='Country')\n",
        "country_ss.drop(columns=['Education', 'First Contact', 'Last Contact', 'Status', 'Stage',\n",
        "                                'First Call', 'Signed up for a demo', 'Filled in customer survey',\n",
        "                                'Date Platform sign up', 'Account Manager assigned', 'Subscribed',\n",
        "                                'Bool Platform sign up', 'First step', 'Last step'], inplace=True)"
      ],
      "metadata": {
        "id": "GMFEtEUDqfeR"
      },
      "execution_count": 100,
      "outputs": []
    },
    {
      "cell_type": "code",
      "source": [
        "education_ss = pd.get_dummies(parsed_data, columns=['Education'], prefix='Education')\n",
        "education_ss.drop(columns=['Country', 'First Contact', 'Last Contact', 'Status', 'Stage',\n",
        "                                'First Call', 'Signed up for a demo', 'Filled in customer survey',\n",
        "                                'Date Platform sign up', 'Account Manager assigned', 'Subscribed',\n",
        "                                'Bool Platform sign up', 'First step', 'Last step'], inplace=True)"
      ],
      "metadata": {
        "id": "IcbW5w93rAw-"
      },
      "execution_count": 101,
      "outputs": []
    },
    {
      "cell_type": "code",
      "source": [
        "with open('/content/gdrive/MyDrive/P7_files/country_ss.pkl', 'wb') as handle:\n",
        "  pickle.dump(country_ss, handle)\n",
        "\n",
        "with open('/content/gdrive/MyDrive/P7_files/education_ss.pkl', 'wb') as handle:\n",
        "  pickle.dump(education_ss, handle)\n",
        "\n",
        "with open('/content/gdrive/MyDrive/P7_files/n_contacts_ss.pkl', 'wb') as handle:\n",
        "  pickle.dump(n_contacts_ss, handle)\n",
        "\n",
        "with open('/content/gdrive/MyDrive/P7_filesob_started_ss.pkl', 'wb') as handle:\n",
        "  pickle.dump(ob_started_ss, handle)\n",
        "\n",
        "with open('/content/gdrive/MyDrive/P7_files/ob_steps_ss.pkl', 'wb') as handle:\n",
        "  pickle.dump(ob_steps, handle)"
      ],
      "metadata": {
        "id": "bHRJNydOM13z"
      },
      "execution_count": 102,
      "outputs": []
    },
    {
      "cell_type": "markdown",
      "source": [
        "# Action space"
      ],
      "metadata": {
        "id": "eCdK-H5suNG0"
      }
    },
    {
      "cell_type": "markdown",
      "source": [
        "The possible actions that can be done are:\n",
        "- Do something (which accoring to the state is a different action)\n",
        "- Do nothing\n",
        "\n",
        "The actual action can lead to **multiple** new states. We need to identify all the possible transitions and their **probability**.\n",
        "\n",
        "Of course the action \"do nothing\" leave the state unchanged.\n",
        "\n",
        "Since we don't have additional information, we will estimate the transition probability based on the available data.\n",
        "\n",
        "Let's now analyze action by action and model all the probabilities.\n",
        "\n"
      ],
      "metadata": {
        "id": "o-P5NUyZuS6d"
      }
    },
    {
      "cell_type": "code",
      "source": [
        "trans_probs = {}"
      ],
      "metadata": {
        "id": "YB7PzIm97jmS"
      },
      "execution_count": 103,
      "outputs": []
    },
    {
      "cell_type": "markdown",
      "source": [
        "# Action space - Contact potential customer"
      ],
      "metadata": {
        "id": "ZBYs9t5ZvxUz"
      }
    },
    {
      "cell_type": "markdown",
      "source": [
        "Since we dropped few columns, the effect of the action \"Contact potential customer\" is:\n",
        "\n",
        "- Increase \"Int status\" by 1 with probability 1\n",
        "- It **might** change the onboarding process step"
      ],
      "metadata": {
        "id": "z7PhB60ev-G7"
      }
    },
    {
      "cell_type": "markdown",
      "source": [
        "Now we need to compute the probabilities that the first step happens for each initial state"
      ],
      "metadata": {
        "id": "hRm_0qEO_Bjg"
      }
    },
    {
      "cell_type": "code",
      "source": [
        "mask = (parsed_data['Status'] == '1st message')\n",
        "x = ob_steps.loc[mask, 0].value_counts() / ob_steps.loc[mask, 0].shape[0]\n",
        "x"
      ],
      "metadata": {
        "colab": {
          "base_uri": "https://localhost:8080/"
        },
        "id": "5Ah-Uk4716Xp",
        "outputId": "a7b507bc-4b21-4a48-a43d-b1679f2063f2"
      },
      "execution_count": 104,
      "outputs": [
        {
          "output_type": "execute_result",
          "data": {
            "text/plain": [
              "-1    0.954834\n",
              " 1    0.028498\n",
              " 3    0.010754\n",
              " 4    0.005915\n",
              "Name: 0, dtype: float64"
            ]
          },
          "metadata": {},
          "execution_count": 104
        }
      ]
    },
    {
      "cell_type": "code",
      "source": [
        "trans_probs['1st mesg'] = {'-1': x[-1],\n",
        "                '1': x[1],\n",
        "                '2': 0,\n",
        "                '3': x[3],\n",
        "                '4': x[4],\n",
        "                '5': 0,\n",
        "                '6': 0}"
      ],
      "metadata": {
        "id": "Bk2_tgAg5ZoH"
      },
      "execution_count": 105,
      "outputs": []
    },
    {
      "cell_type": "code",
      "source": [
        "mask = (parsed_data['Status'] == '2nd message')\n",
        "x = ob_steps.loc[mask, 0].value_counts() / ob_steps.loc[mask, 0].shape[0]\n",
        "x"
      ],
      "metadata": {
        "colab": {
          "base_uri": "https://localhost:8080/"
        },
        "id": "nnmZOy2n68uu",
        "outputId": "828f507b-2724-475d-95df-79e457c6fcb0"
      },
      "execution_count": 106,
      "outputs": [
        {
          "output_type": "execute_result",
          "data": {
            "text/plain": [
              "-1    0.801762\n",
              " 3    0.189427\n",
              " 1    0.004405\n",
              " 4    0.004405\n",
              "Name: 0, dtype: float64"
            ]
          },
          "metadata": {},
          "execution_count": 106
        }
      ]
    },
    {
      "cell_type": "code",
      "source": [
        "trans_probs['2nd mesg'] = {'-1': x[-1],\n",
        "                '1': x[1],\n",
        "                '2': 0,\n",
        "                '3': x[3],\n",
        "                '4': x[4],\n",
        "                '5': 0,\n",
        "                '6': 0}"
      ],
      "metadata": {
        "id": "vxynpwat_O6Q"
      },
      "execution_count": 107,
      "outputs": []
    },
    {
      "cell_type": "code",
      "source": [
        "mask = (parsed_data['Status'] == '3rd message')\n",
        "x = ob_steps.loc[mask, 0].value_counts() / ob_steps.loc[mask, 0].shape[0]\n",
        "x"
      ],
      "metadata": {
        "colab": {
          "base_uri": "https://localhost:8080/"
        },
        "id": "dEqaTlgi_ZiE",
        "outputId": "ee67af13-6b20-4bfe-beff-fed81c003d6d"
      },
      "execution_count": 108,
      "outputs": [
        {
          "output_type": "execute_result",
          "data": {
            "text/plain": [
              "-1    0.933009\n",
              " 3    0.058465\n",
              " 4    0.007308\n",
              " 1    0.001218\n",
              "Name: 0, dtype: float64"
            ]
          },
          "metadata": {},
          "execution_count": 108
        }
      ]
    },
    {
      "cell_type": "code",
      "source": [
        "trans_probs['3rd mesg'] = {'-1': x[-1],\n",
        "                '1': x[1],\n",
        "                '2': 0,\n",
        "                '3': x[3],\n",
        "                '4': x[4],\n",
        "                '5': 0,\n",
        "                '6': 0}"
      ],
      "metadata": {
        "id": "pJQhztN3_b6L"
      },
      "execution_count": 109,
      "outputs": []
    },
    {
      "cell_type": "code",
      "source": [
        "trans_probs"
      ],
      "metadata": {
        "colab": {
          "base_uri": "https://localhost:8080/"
        },
        "id": "JR9-zzGP_fsc",
        "outputId": "47fa16b2-f016-4964-db85-c4cc04a01f90"
      },
      "execution_count": 110,
      "outputs": [
        {
          "output_type": "execute_result",
          "data": {
            "text/plain": [
              "{'1st mesg': {'-1': 0.9548338531024841,\n",
              "  '1': 0.028497687923432626,\n",
              "  '2': 0,\n",
              "  '3': 0.010753844499408539,\n",
              "  '4': 0.005914614474674697,\n",
              "  '5': 0,\n",
              "  '6': 0},\n",
              " '2nd mesg': {'-1': 0.801762114537445,\n",
              "  '1': 0.004405286343612335,\n",
              "  '2': 0,\n",
              "  '3': 0.1894273127753304,\n",
              "  '4': 0.004405286343612335,\n",
              "  '5': 0,\n",
              "  '6': 0},\n",
              " '3rd mesg': {'-1': 0.9330085261875761,\n",
              "  '1': 0.001218026796589525,\n",
              "  '2': 0,\n",
              "  '3': 0.058465286236297195,\n",
              "  '4': 0.007308160779537149,\n",
              "  '5': 0,\n",
              "  '6': 0}}"
            ]
          },
          "metadata": {},
          "execution_count": 110
        }
      ]
    },
    {
      "cell_type": "markdown",
      "source": [
        "# Next Onboarding step - 2nd"
      ],
      "metadata": {
        "id": "REE_rFckAxoY"
      }
    },
    {
      "cell_type": "markdown",
      "source": [
        "above we modeled the probabilities to go from nothing to the **first onboarding step**\n",
        "\n",
        "Now we need to model the transitions inside the onboarding itself."
      ],
      "metadata": {
        "id": "0Wel9B_QA0gg"
      }
    },
    {
      "cell_type": "code",
      "source": [
        "mask = (ob_steps.loc[:, 0] == 1)\n",
        "x = ob_steps.loc[mask, 1].value_counts() / ob_steps.loc[mask, 1].shape[0]\n",
        "x"
      ],
      "metadata": {
        "colab": {
          "base_uri": "https://localhost:8080/"
        },
        "outputId": "8338abd0-ec3a-44d0-cbc0-490273accd57",
        "id": "kfmYjxOEo_fs"
      },
      "execution_count": 111,
      "outputs": [
        {
          "output_type": "execute_result",
          "data": {
            "text/plain": [
              " 2    0.637037\n",
              "-1    0.355556\n",
              " 3    0.007407\n",
              "Name: 1, dtype: float64"
            ]
          },
          "metadata": {},
          "execution_count": 111
        }
      ]
    },
    {
      "cell_type": "code",
      "source": [
        "trans_probs['[1]'] = {'-1': x[-1],\n",
        "                '1': 0,\n",
        "                '2': x[2],\n",
        "                '3': x[3],\n",
        "                '4': 0,\n",
        "                '5': 0,\n",
        "                '6': 0}"
      ],
      "metadata": {
        "id": "U6mTTORuo_fv"
      },
      "execution_count": 112,
      "outputs": []
    },
    {
      "cell_type": "code",
      "source": [
        "mask = (ob_steps.loc[:, 0] == 2)\n",
        "x = ob_steps.loc[mask, 1].value_counts() / ob_steps.loc[mask, 1].shape[0]\n",
        "x"
      ],
      "metadata": {
        "colab": {
          "base_uri": "https://localhost:8080/"
        },
        "outputId": "b3ec14c1-80c3-4556-b788-f30a72c0c206",
        "id": "52IyjSmuqOF0"
      },
      "execution_count": 113,
      "outputs": [
        {
          "output_type": "execute_result",
          "data": {
            "text/plain": [
              "Series([], Name: 1, dtype: float64)"
            ]
          },
          "metadata": {},
          "execution_count": 113
        }
      ]
    },
    {
      "cell_type": "code",
      "source": [
        "mask = (ob_steps.loc[:, 0] == 3)\n",
        "x = ob_steps.loc[mask, 1].value_counts() / ob_steps.loc[mask, 1].shape[0]\n",
        "x"
      ],
      "metadata": {
        "colab": {
          "base_uri": "https://localhost:8080/"
        },
        "id": "TM7tLnQ4qUSo",
        "outputId": "26531750-76e7-4721-d79a-91bc72963419"
      },
      "execution_count": 114,
      "outputs": [
        {
          "output_type": "execute_result",
          "data": {
            "text/plain": [
              "-1    0.51250\n",
              " 4    0.45625\n",
              " 1    0.03125\n",
              "Name: 1, dtype: float64"
            ]
          },
          "metadata": {},
          "execution_count": 114
        }
      ]
    },
    {
      "cell_type": "code",
      "source": [
        "trans_probs['[3]'] = {'-1': x[-1],\n",
        "                '1': x[1],\n",
        "                '2': 0,\n",
        "                '3': 0,\n",
        "                '4': x[4],\n",
        "                '5': 0,\n",
        "                '6': 0}"
      ],
      "metadata": {
        "id": "mWm2T7XjqOGW"
      },
      "execution_count": 115,
      "outputs": []
    },
    {
      "cell_type": "code",
      "source": [
        "mask = (ob_steps.loc[:, 0] == 4)\n",
        "x = ob_steps.loc[mask, 1].value_counts() / ob_steps.loc[mask, 1].shape[0]\n",
        "x"
      ],
      "metadata": {
        "outputId": "1bf1841c-9412-4b1b-a407-ac73093fda41",
        "colab": {
          "base_uri": "https://localhost:8080/"
        },
        "id": "KvhLjwAEqh0U"
      },
      "execution_count": 116,
      "outputs": [
        {
          "output_type": "execute_result",
          "data": {
            "text/plain": [
              "-1    0.692308\n",
              " 3    0.246154\n",
              " 1    0.046154\n",
              " 5    0.015385\n",
              "Name: 1, dtype: float64"
            ]
          },
          "metadata": {},
          "execution_count": 116
        }
      ]
    },
    {
      "cell_type": "code",
      "source": [
        "trans_probs['[4]'] = {'-1': x[-1],\n",
        "                '1': x[1],\n",
        "                '2': 0,\n",
        "                '3': x[3],\n",
        "                '4': 0,\n",
        "                '5': x[5],\n",
        "                '6': 0}"
      ],
      "metadata": {
        "id": "haUdM9Gsqh0W"
      },
      "execution_count": 117,
      "outputs": []
    },
    {
      "cell_type": "code",
      "source": [
        "mask = (ob_steps.loc[:, 0] == 5)\n",
        "x = ob_steps.loc[mask, 1].value_counts() / ob_steps.loc[mask, 1].shape[0]\n",
        "x"
      ],
      "metadata": {
        "outputId": "85824c6a-e912-4f31-818a-de6773f7edb3",
        "colab": {
          "base_uri": "https://localhost:8080/"
        },
        "id": "pD5j23LCqryc"
      },
      "execution_count": 118,
      "outputs": [
        {
          "output_type": "execute_result",
          "data": {
            "text/plain": [
              "Series([], Name: 1, dtype: float64)"
            ]
          },
          "metadata": {},
          "execution_count": 118
        }
      ]
    },
    {
      "cell_type": "code",
      "source": [
        "mask = (ob_steps.loc[:, 0] == 6)\n",
        "x = ob_steps.loc[mask, 1].value_counts() / ob_steps.loc[mask, 1].shape[0]\n",
        "x"
      ],
      "metadata": {
        "outputId": "3c1fc919-f796-456c-f3f0-ef0e9bc60a04",
        "colab": {
          "base_uri": "https://localhost:8080/"
        },
        "id": "DMHyJbTQqr2v"
      },
      "execution_count": 119,
      "outputs": [
        {
          "output_type": "execute_result",
          "data": {
            "text/plain": [
              "Series([], Name: 1, dtype: float64)"
            ]
          },
          "metadata": {},
          "execution_count": 119
        }
      ]
    },
    {
      "cell_type": "markdown",
      "source": [
        "# Next Onboarding step - 3rd"
      ],
      "metadata": {
        "id": "_SbD_I60GnzR"
      }
    },
    {
      "cell_type": "markdown",
      "source": [
        "Above we did transition from first step -> second step.\n",
        "\n",
        "Now we need to find the probabilities second step -> third step."
      ],
      "metadata": {
        "id": "BU716-QpGnzX"
      }
    },
    {
      "cell_type": "markdown",
      "source": [
        "Permutations with **First step = 1**"
      ],
      "metadata": {
        "id": "ga83MVWdrLny"
      }
    },
    {
      "cell_type": "code",
      "source": [
        "mask = (ob_steps.loc[:, 0] == 1) & (ob_steps.loc[:, 1] == 2)\n",
        "x = ob_steps.loc[mask, 2].value_counts() / ob_steps.loc[mask, 2].shape[0]\n",
        "x"
      ],
      "metadata": {
        "colab": {
          "base_uri": "https://localhost:8080/"
        },
        "outputId": "53a72703-f085-4818-b649-18c8046ea72d",
        "id": "LOXcYXZGq-qU"
      },
      "execution_count": 120,
      "outputs": [
        {
          "output_type": "execute_result",
          "data": {
            "text/plain": [
              " 3    0.360465\n",
              "-1    0.343023\n",
              " 4    0.296512\n",
              "Name: 2, dtype: float64"
            ]
          },
          "metadata": {},
          "execution_count": 120
        }
      ]
    },
    {
      "cell_type": "code",
      "source": [
        "trans_probs['[1, 2]'] = {'-1': x[-1],\n",
        "                '1': 0,\n",
        "                '2': 0,\n",
        "                '3': x[3],\n",
        "                '4': x[4],\n",
        "                '5': 0,\n",
        "                '6': 0}"
      ],
      "metadata": {
        "id": "YfESR2sNq-qW"
      },
      "execution_count": 121,
      "outputs": []
    },
    {
      "cell_type": "code",
      "source": [
        "mask = (ob_steps.loc[:, 0] == 1) & (ob_steps.loc[:, 1] == 3)\n",
        "x = ob_steps.loc[mask, 2].value_counts() / ob_steps.loc[mask, 2].shape[0]\n",
        "x"
      ],
      "metadata": {
        "colab": {
          "base_uri": "https://localhost:8080/"
        },
        "outputId": "2d86ad38-f6f9-43c0-afa0-71d87adba1fb",
        "id": "CIgWUEdcrZUR"
      },
      "execution_count": 122,
      "outputs": [
        {
          "output_type": "execute_result",
          "data": {
            "text/plain": [
              "-1    0.5\n",
              " 2    0.5\n",
              "Name: 2, dtype: float64"
            ]
          },
          "metadata": {},
          "execution_count": 122
        }
      ]
    },
    {
      "cell_type": "code",
      "source": [
        "trans_probs['[1, 3]'] = {'-1': x[-1],\n",
        "                '1': 0,\n",
        "                '2': x[2],\n",
        "                '3': 0,\n",
        "                '4': 0,\n",
        "                '5': 0,\n",
        "                '6': 0}"
      ],
      "metadata": {
        "id": "xoob9iGDrZU2"
      },
      "execution_count": 123,
      "outputs": []
    },
    {
      "cell_type": "markdown",
      "source": [
        "First step = 2 never occurs, so we move to **First step = 3**"
      ],
      "metadata": {
        "id": "ArDDthDjrmUc"
      }
    },
    {
      "cell_type": "code",
      "source": [
        "mask = (ob_steps.loc[:, 0] == 3) & (ob_steps.loc[:, 1] == 1)\n",
        "x = ob_steps.loc[mask, 2].value_counts() / ob_steps.loc[mask, 2].shape[0]\n",
        "x"
      ],
      "metadata": {
        "colab": {
          "base_uri": "https://localhost:8080/"
        },
        "outputId": "5445f161-4286-4b57-ec2a-1bb63b31a8ef",
        "id": "0xleBEiRrzto"
      },
      "execution_count": 124,
      "outputs": [
        {
          "output_type": "execute_result",
          "data": {
            "text/plain": [
              " 2    0.9\n",
              "-1    0.1\n",
              "Name: 2, dtype: float64"
            ]
          },
          "metadata": {},
          "execution_count": 124
        }
      ]
    },
    {
      "cell_type": "code",
      "source": [
        "trans_probs['[3, 1]'] = {'-1': x[-1],\n",
        "                '1': 0,\n",
        "                '2': x[2],\n",
        "                '3': 0,\n",
        "                '4': 0,\n",
        "                '5': 0,\n",
        "                '6': 0}"
      ],
      "metadata": {
        "id": "X92fU9gvrzuD"
      },
      "execution_count": 125,
      "outputs": []
    },
    {
      "cell_type": "code",
      "source": [
        "mask = (ob_steps.loc[:, 0] == 3) & (ob_steps.loc[:, 1] == 4)\n",
        "x = ob_steps.loc[mask, 2].value_counts() / ob_steps.loc[mask, 2].shape[0]\n",
        "x"
      ],
      "metadata": {
        "colab": {
          "base_uri": "https://localhost:8080/"
        },
        "outputId": "c795613a-6477-4474-adf2-47e65cf0087c",
        "id": "FjOAghEHr7p7"
      },
      "execution_count": 126,
      "outputs": [
        {
          "output_type": "execute_result",
          "data": {
            "text/plain": [
              "-1    0.863014\n",
              " 5    0.089041\n",
              " 6    0.047945\n",
              "Name: 2, dtype: float64"
            ]
          },
          "metadata": {},
          "execution_count": 126
        }
      ]
    },
    {
      "cell_type": "code",
      "source": [
        "trans_probs['[3, 4]'] = {'-1': x[-1],\n",
        "                '1': 0,\n",
        "                '2': 0,\n",
        "                '3': 0,\n",
        "                '4': 0,\n",
        "                '5': x[5],\n",
        "                '6': x[6]}"
      ],
      "metadata": {
        "id": "STNKxK98r7qM"
      },
      "execution_count": 127,
      "outputs": []
    },
    {
      "cell_type": "markdown",
      "source": [
        "And the last possible first step is **First step = 4**"
      ],
      "metadata": {
        "id": "zv9THtaVIjNM"
      }
    },
    {
      "cell_type": "code",
      "source": [
        "mask = (ob_steps.loc[:, 0] == 4) & (ob_steps.loc[:, 1] == 1)\n",
        "x = ob_steps.loc[mask, 2].value_counts() / ob_steps.loc[mask, 2].shape[0]\n",
        "x"
      ],
      "metadata": {
        "colab": {
          "base_uri": "https://localhost:8080/"
        },
        "outputId": "475e66e4-27dd-43f0-c27b-db3e17e1dfb1",
        "id": "ZFsviVlvsIKw"
      },
      "execution_count": 128,
      "outputs": [
        {
          "output_type": "execute_result",
          "data": {
            "text/plain": [
              " 2    0.666667\n",
              "-1    0.333333\n",
              "Name: 2, dtype: float64"
            ]
          },
          "metadata": {},
          "execution_count": 128
        }
      ]
    },
    {
      "cell_type": "code",
      "source": [
        "trans_probs['[4, 1]'] = {'-1': x[-1],\n",
        "                '1': 0,\n",
        "                '2': x[2],\n",
        "                '3': 0,\n",
        "                '4': 0,\n",
        "                '5': 0,\n",
        "                '6': 0}"
      ],
      "metadata": {
        "id": "yp1-4BpOsIKy"
      },
      "execution_count": 129,
      "outputs": []
    },
    {
      "cell_type": "code",
      "source": [
        "mask = (ob_steps.loc[:, 0] == 4) & (ob_steps.loc[:, 1] == 3)\n",
        "x = ob_steps.loc[mask, 2].value_counts() / ob_steps.loc[mask, 2].shape[0]\n",
        "x"
      ],
      "metadata": {
        "colab": {
          "base_uri": "https://localhost:8080/"
        },
        "outputId": "f3dedff2-4b46-4556-b157-83d9bddc2ec4",
        "id": "MEthj_-jsTM0"
      },
      "execution_count": 130,
      "outputs": [
        {
          "output_type": "execute_result",
          "data": {
            "text/plain": [
              "-1    0.6875\n",
              " 5    0.2500\n",
              " 6    0.0625\n",
              "Name: 2, dtype: float64"
            ]
          },
          "metadata": {},
          "execution_count": 130
        }
      ]
    },
    {
      "cell_type": "code",
      "source": [
        "trans_probs['[4, 3]'] = {'-1': x[-1],\n",
        "                '1': 0,\n",
        "                '2': 0,\n",
        "                '3': 0,\n",
        "                '4': 0,\n",
        "                '5': x[5],\n",
        "                '6': x[6]}"
      ],
      "metadata": {
        "id": "VtCwLeO2sTM3"
      },
      "execution_count": 131,
      "outputs": []
    },
    {
      "cell_type": "code",
      "source": [
        "mask = (ob_steps.loc[:, 0] == 4) & (ob_steps.loc[:, 1] == 5)\n",
        "x = ob_steps.loc[mask, 2].value_counts() / ob_steps.loc[mask, 2].shape[0]\n",
        "x"
      ],
      "metadata": {
        "colab": {
          "base_uri": "https://localhost:8080/"
        },
        "outputId": "a92fa373-4de9-4b55-ec0a-15739f32930f",
        "id": "J0bZjIehsbIH"
      },
      "execution_count": 132,
      "outputs": [
        {
          "output_type": "execute_result",
          "data": {
            "text/plain": [
              "-1    1.0\n",
              "Name: 2, dtype: float64"
            ]
          },
          "metadata": {},
          "execution_count": 132
        }
      ]
    },
    {
      "cell_type": "code",
      "source": [
        "trans_probs['[4, 5]'] = {'-1': x[-1],\n",
        "                '1': 0,\n",
        "                '2': 0,\n",
        "                '3': 0,\n",
        "                '4': 0,\n",
        "                '5': 0,\n",
        "                '6': 0}"
      ],
      "metadata": {
        "id": "W0tm-glqsbIh"
      },
      "execution_count": 133,
      "outputs": []
    },
    {
      "cell_type": "code",
      "source": [
        "trans_probs"
      ],
      "metadata": {
        "colab": {
          "base_uri": "https://localhost:8080/"
        },
        "id": "wNdIr7NOsjqc",
        "outputId": "5b6fba32-094d-464a-eac8-1d72ca64a16a"
      },
      "execution_count": 134,
      "outputs": [
        {
          "output_type": "execute_result",
          "data": {
            "text/plain": [
              "{'1st mesg': {'-1': 0.9548338531024841,\n",
              "  '1': 0.028497687923432626,\n",
              "  '2': 0,\n",
              "  '3': 0.010753844499408539,\n",
              "  '4': 0.005914614474674697,\n",
              "  '5': 0,\n",
              "  '6': 0},\n",
              " '2nd mesg': {'-1': 0.801762114537445,\n",
              "  '1': 0.004405286343612335,\n",
              "  '2': 0,\n",
              "  '3': 0.1894273127753304,\n",
              "  '4': 0.004405286343612335,\n",
              "  '5': 0,\n",
              "  '6': 0},\n",
              " '3rd mesg': {'-1': 0.9330085261875761,\n",
              "  '1': 0.001218026796589525,\n",
              "  '2': 0,\n",
              "  '3': 0.058465286236297195,\n",
              "  '4': 0.007308160779537149,\n",
              "  '5': 0,\n",
              "  '6': 0},\n",
              " '[1]': {'-1': 0.35555555555555557,\n",
              "  '1': 0,\n",
              "  '2': 0.6370370370370371,\n",
              "  '3': 0.007407407407407408,\n",
              "  '4': 0,\n",
              "  '5': 0,\n",
              "  '6': 0},\n",
              " '[3]': {'-1': 0.5125,\n",
              "  '1': 0.03125,\n",
              "  '2': 0,\n",
              "  '3': 0,\n",
              "  '4': 0.45625,\n",
              "  '5': 0,\n",
              "  '6': 0},\n",
              " '[4]': {'-1': 0.6923076923076923,\n",
              "  '1': 0.046153846153846156,\n",
              "  '2': 0,\n",
              "  '3': 0.24615384615384617,\n",
              "  '4': 0,\n",
              "  '5': 0.015384615384615385,\n",
              "  '6': 0},\n",
              " '[1, 2]': {'-1': 0.3430232558139535,\n",
              "  '1': 0,\n",
              "  '2': 0,\n",
              "  '3': 0.36046511627906974,\n",
              "  '4': 0.29651162790697677,\n",
              "  '5': 0,\n",
              "  '6': 0},\n",
              " '[1, 3]': {'-1': 0.5, '1': 0, '2': 0.5, '3': 0, '4': 0, '5': 0, '6': 0},\n",
              " '[3, 1]': {'-1': 0.1, '1': 0, '2': 0.9, '3': 0, '4': 0, '5': 0, '6': 0},\n",
              " '[3, 4]': {'-1': 0.863013698630137,\n",
              "  '1': 0,\n",
              "  '2': 0,\n",
              "  '3': 0,\n",
              "  '4': 0,\n",
              "  '5': 0.08904109589041095,\n",
              "  '6': 0.04794520547945205},\n",
              " '[4, 1]': {'-1': 0.3333333333333333,\n",
              "  '1': 0,\n",
              "  '2': 0.6666666666666666,\n",
              "  '3': 0,\n",
              "  '4': 0,\n",
              "  '5': 0,\n",
              "  '6': 0},\n",
              " '[4, 3]': {'-1': 0.6875,\n",
              "  '1': 0,\n",
              "  '2': 0,\n",
              "  '3': 0,\n",
              "  '4': 0,\n",
              "  '5': 0.25,\n",
              "  '6': 0.0625},\n",
              " '[4, 5]': {'-1': 1.0, '1': 0, '2': 0, '3': 0, '4': 0, '5': 0, '6': 0}}"
            ]
          },
          "metadata": {},
          "execution_count": 134
        }
      ]
    },
    {
      "cell_type": "markdown",
      "source": [
        "# Next Onboarding step - 4th"
      ],
      "metadata": {
        "id": "L0j8C8wQKEfR"
      }
    },
    {
      "cell_type": "markdown",
      "source": [
        "Above we did transition from second step -> third step.\n",
        "\n",
        "Now we need to find the probabilities third step -> fourth step.\n",
        "\n",
        "There are quite a few combinations for the first three steps:\n",
        "- 1 2 3\n",
        "- 1 2 4\n",
        "- 1 3 2\n",
        "- 3 1 2\n",
        "- 3 4 5\n",
        "- 3 4 6\n",
        "- 4 1 2\n",
        "- 4 3 5\n",
        "- 4 3 6\n",
        "\n",
        "This is an additional sign that suggests to revise the internal procedure for the onboarding.\n",
        "\n",
        "Anyway, let's patiently develop each of these combinations"
      ],
      "metadata": {
        "id": "vK4kjIjpKEfq"
      }
    },
    {
      "cell_type": "code",
      "source": [
        "mask = (ob_steps.loc[:, 0] == 1) & (ob_steps.loc[:, 1] == 2) & (ob_steps.loc[:, 2] == 3)\n",
        "x = ob_steps.loc[mask, 3].value_counts() / ob_steps.loc[mask, 3].shape[0]\n",
        "x"
      ],
      "metadata": {
        "colab": {
          "base_uri": "https://localhost:8080/"
        },
        "outputId": "22da6e4c-de8b-4256-d93c-fcf4eb52bea2",
        "id": "DAj5-lcZuHwm"
      },
      "execution_count": 135,
      "outputs": [
        {
          "output_type": "execute_result",
          "data": {
            "text/plain": [
              "-1    0.580645\n",
              " 4    0.387097\n",
              " 5    0.032258\n",
              "Name: 3, dtype: float64"
            ]
          },
          "metadata": {},
          "execution_count": 135
        }
      ]
    },
    {
      "cell_type": "code",
      "source": [
        "trans_probs['[1, 2, 3]'] = {'-1': x[-1],\n",
        "                '1': 0,\n",
        "                '2': 0,\n",
        "                '3': 0,\n",
        "                '4': x[4],\n",
        "                '5': x[5],\n",
        "                '6': 0}"
      ],
      "metadata": {
        "id": "QmAOxAN0uHxd"
      },
      "execution_count": 136,
      "outputs": []
    },
    {
      "cell_type": "code",
      "source": [
        "mask = (ob_steps.loc[:, 0] == 1) & (ob_steps.loc[:, 1] == 2) & (ob_steps.loc[:, 2] == 4)\n",
        "x = ob_steps.loc[mask, 3].value_counts() / ob_steps.loc[mask, 3].shape[0]\n",
        "x"
      ],
      "metadata": {
        "colab": {
          "base_uri": "https://localhost:8080/"
        },
        "outputId": "d2c977c2-44fd-475c-ed67-21de28521dee",
        "id": "8K_Ymqisui9t"
      },
      "execution_count": 137,
      "outputs": [
        {
          "output_type": "execute_result",
          "data": {
            "text/plain": [
              " 3    0.745098\n",
              "-1    0.215686\n",
              " 5    0.019608\n",
              " 6    0.019608\n",
              "Name: 3, dtype: float64"
            ]
          },
          "metadata": {},
          "execution_count": 137
        }
      ]
    },
    {
      "cell_type": "code",
      "source": [
        "trans_probs['[1, 2, 4]'] = {'-1': x[-1],\n",
        "                '1': 0,\n",
        "                '2': 0,\n",
        "                '3': x[3],\n",
        "                '4': 0,\n",
        "                '5': x[5],\n",
        "                '6': x[6]}"
      ],
      "metadata": {
        "id": "E7HEV2C-ui-W"
      },
      "execution_count": 138,
      "outputs": []
    },
    {
      "cell_type": "code",
      "source": [
        "mask = (ob_steps.loc[:, 0] == 1) & (ob_steps.loc[:, 1] == 3) & (ob_steps.loc[:, 2] == 2)\n",
        "x = ob_steps.loc[mask, 3].value_counts() / ob_steps.loc[mask, 3].shape[0]\n",
        "x"
      ],
      "metadata": {
        "colab": {
          "base_uri": "https://localhost:8080/"
        },
        "outputId": "5845348d-0866-41eb-af86-b2935106dd2a",
        "id": "R9sv9jBWur0t"
      },
      "execution_count": 139,
      "outputs": [
        {
          "output_type": "execute_result",
          "data": {
            "text/plain": [
              "4    1.0\n",
              "Name: 3, dtype: float64"
            ]
          },
          "metadata": {},
          "execution_count": 139
        }
      ]
    },
    {
      "cell_type": "code",
      "source": [
        "trans_probs['[1, 3, 2]'] = {'-1': 0,\n",
        "                '1': 0,\n",
        "                '2': 0,\n",
        "                '3': 0,\n",
        "                '4': x[4],\n",
        "                '5': 0,\n",
        "                '6': 0}"
      ],
      "metadata": {
        "id": "2GxUd579ur1F"
      },
      "execution_count": 140,
      "outputs": []
    },
    {
      "cell_type": "code",
      "source": [
        "mask = (ob_steps.loc[:, 0] == 3) & (ob_steps.loc[:, 1] == 1) & (ob_steps.loc[:, 2] == 2)\n",
        "x = ob_steps.loc[mask, 3].value_counts() / ob_steps.loc[mask, 3].shape[0]\n",
        "x"
      ],
      "metadata": {
        "colab": {
          "base_uri": "https://localhost:8080/"
        },
        "outputId": "6db85169-a74c-4710-de38-39a4be651dec",
        "id": "GDuXr8E6u7zX"
      },
      "execution_count": 141,
      "outputs": [
        {
          "output_type": "execute_result",
          "data": {
            "text/plain": [
              "4    1.0\n",
              "Name: 3, dtype: float64"
            ]
          },
          "metadata": {},
          "execution_count": 141
        }
      ]
    },
    {
      "cell_type": "code",
      "source": [
        "trans_probs['[3, 1, 2]'] = {'-1': 0,\n",
        "                '1': 0,\n",
        "                '2': 0,\n",
        "                '3': 0,\n",
        "                '4': x[4],\n",
        "                '5': 0,\n",
        "                '6': 0}"
      ],
      "metadata": {
        "id": "kwXkX7Jku7zY"
      },
      "execution_count": 142,
      "outputs": []
    },
    {
      "cell_type": "code",
      "source": [
        "mask = (ob_steps.loc[:, 0] == 3) & (ob_steps.loc[:, 1] == 4) & (ob_steps.loc[:, 2] == 5)\n",
        "x = ob_steps.loc[mask, 3].value_counts() / ob_steps.loc[mask, 3].shape[0]\n",
        "x"
      ],
      "metadata": {
        "colab": {
          "base_uri": "https://localhost:8080/"
        },
        "outputId": "426a3e06-8eb0-4b61-d78a-efca0f42e9f1",
        "id": "1VUdc9WdvJC1"
      },
      "execution_count": 143,
      "outputs": [
        {
          "output_type": "execute_result",
          "data": {
            "text/plain": [
              " 6    0.538462\n",
              "-1    0.461538\n",
              "Name: 3, dtype: float64"
            ]
          },
          "metadata": {},
          "execution_count": 143
        }
      ]
    },
    {
      "cell_type": "code",
      "source": [
        "trans_probs['[3, 4, 5]'] = {'-1': x[-1],\n",
        "                '1': 0,\n",
        "                '2': 0,\n",
        "                '3': 0,\n",
        "                '4': 0,\n",
        "                '5': 0,\n",
        "                '6': x[6]}"
      ],
      "metadata": {
        "id": "7HyqGMgPvJDV"
      },
      "execution_count": 144,
      "outputs": []
    },
    {
      "cell_type": "code",
      "source": [
        "mask = (ob_steps.loc[:, 0] == 3) & (ob_steps.loc[:, 1] == 4) & (ob_steps.loc[:, 2] == 6)\n",
        "x = ob_steps.loc[mask, 3].value_counts() / ob_steps.loc[mask, 3].shape[0]\n",
        "x"
      ],
      "metadata": {
        "colab": {
          "base_uri": "https://localhost:8080/"
        },
        "outputId": "2ad0c650-b921-40a4-fa1b-803543519fad",
        "id": "iKSptDNJvemk"
      },
      "execution_count": 145,
      "outputs": [
        {
          "output_type": "execute_result",
          "data": {
            "text/plain": [
              " 5    0.714286\n",
              "-1    0.285714\n",
              "Name: 3, dtype: float64"
            ]
          },
          "metadata": {},
          "execution_count": 145
        }
      ]
    },
    {
      "cell_type": "code",
      "source": [
        "ob_steps.loc[mask, 3]"
      ],
      "metadata": {
        "id": "ogcqUR-Jw0cE",
        "outputId": "3bfc5cf7-49e1-4acc-9947-b6ca75ed3508",
        "colab": {
          "base_uri": "https://localhost:8080/"
        }
      },
      "execution_count": 146,
      "outputs": [
        {
          "output_type": "execute_result",
          "data": {
            "text/plain": [
              "ID\n",
              "285     5\n",
              "287    -1\n",
              "366     5\n",
              "374     5\n",
              "5617    5\n",
              "6725    5\n",
              "7875   -1\n",
              "Name: 3, dtype: int64"
            ]
          },
          "metadata": {},
          "execution_count": 146
        }
      ]
    },
    {
      "cell_type": "markdown",
      "source": [
        "Once again we observe some rare cases in which the Account manager was assigned after the subscription.\n",
        "\n",
        "Let's remove it & manually fix the transition probabilities"
      ],
      "metadata": {
        "id": "Q3uHZhJzw6nc"
      }
    },
    {
      "cell_type": "code",
      "source": [
        "ob_steps.loc[mask, 3] = -1"
      ],
      "metadata": {
        "id": "rrg2njazxIrr"
      },
      "execution_count": 147,
      "outputs": []
    },
    {
      "cell_type": "code",
      "source": [
        "mask = (ob_steps.loc[:, 0] == 4) & (ob_steps.loc[:, 1] == 1) & (ob_steps.loc[:, 2] == 2)\n",
        "x = ob_steps.loc[mask, 3].value_counts() / ob_steps.loc[mask, 3].shape[0]\n",
        "x"
      ],
      "metadata": {
        "colab": {
          "base_uri": "https://localhost:8080/"
        },
        "outputId": "f5d2e8d4-616e-430a-a9e6-63c4eb4ac313",
        "id": "DFb-40voxgkF"
      },
      "execution_count": 148,
      "outputs": [
        {
          "output_type": "execute_result",
          "data": {
            "text/plain": [
              "3    1.0\n",
              "Name: 3, dtype: float64"
            ]
          },
          "metadata": {},
          "execution_count": 148
        }
      ]
    },
    {
      "cell_type": "code",
      "source": [
        "trans_probs['[4, 1, 2]'] = {'-1': 0,\n",
        "                '1': 0,\n",
        "                '2': 0,\n",
        "                '3': x[3],\n",
        "                '4': 0,\n",
        "                '5': 0,\n",
        "                '6': 0}"
      ],
      "metadata": {
        "id": "zrahLvclxgk-"
      },
      "execution_count": 149,
      "outputs": []
    },
    {
      "cell_type": "code",
      "source": [
        "mask = (ob_steps.loc[:, 0] == 4) & (ob_steps.loc[:, 1] == 3) & (ob_steps.loc[:, 2] == 5)\n",
        "x = ob_steps.loc[mask, 3].value_counts() / ob_steps.loc[mask, 3].shape[0]\n",
        "x"
      ],
      "metadata": {
        "colab": {
          "base_uri": "https://localhost:8080/"
        },
        "outputId": "dbc3c750-a154-4032-efdc-660c041d730c",
        "id": "Jh-gd2bixro8"
      },
      "execution_count": 150,
      "outputs": [
        {
          "output_type": "execute_result",
          "data": {
            "text/plain": [
              "-1    0.75\n",
              " 6    0.25\n",
              "Name: 3, dtype: float64"
            ]
          },
          "metadata": {},
          "execution_count": 150
        }
      ]
    },
    {
      "cell_type": "code",
      "source": [
        "trans_probs['[4, 3, 5]'] = {'-1': x[-1],\n",
        "                '1': 0,\n",
        "                '2': 0,\n",
        "                '3': 0,\n",
        "                '4': 0,\n",
        "                '5': 0,\n",
        "                '6': x[6]}"
      ],
      "metadata": {
        "id": "HrIeZQADxrpg"
      },
      "execution_count": 151,
      "outputs": []
    },
    {
      "cell_type": "code",
      "source": [
        "mask = (ob_steps.loc[:, 0] == 4) & (ob_steps.loc[:, 1] == 3) & (ob_steps.loc[:, 2] == 6)\n",
        "x = ob_steps.loc[mask, 3].value_counts() / ob_steps.loc[mask, 3].shape[0]\n",
        "x"
      ],
      "metadata": {
        "colab": {
          "base_uri": "https://localhost:8080/"
        },
        "outputId": "cd10f865-05ad-463c-c51c-a79f9ccd7a85",
        "id": "nSWREYolx5Y8"
      },
      "execution_count": 152,
      "outputs": [
        {
          "output_type": "execute_result",
          "data": {
            "text/plain": [
              "5    1.0\n",
              "Name: 3, dtype: float64"
            ]
          },
          "metadata": {},
          "execution_count": 152
        }
      ]
    },
    {
      "cell_type": "markdown",
      "source": [
        "Once again another case of AM assigned after subscription"
      ],
      "metadata": {
        "id": "QbISJrLSx72Q"
      }
    },
    {
      "cell_type": "code",
      "source": [
        "ob_steps.loc[mask, 3]"
      ],
      "metadata": {
        "id": "6yGn_AlYyD0R",
        "outputId": "76c7f5fa-a7ad-41b7-ded9-40f961089eac",
        "colab": {
          "base_uri": "https://localhost:8080/"
        }
      },
      "execution_count": 153,
      "outputs": [
        {
          "output_type": "execute_result",
          "data": {
            "text/plain": [
              "ID\n",
              "644    5\n",
              "Name: 3, dtype: int64"
            ]
          },
          "metadata": {},
          "execution_count": 153
        }
      ]
    },
    {
      "cell_type": "code",
      "source": [
        "ob_steps.loc[mask, 3] = -1"
      ],
      "metadata": {
        "id": "UmasUOEAyHHu"
      },
      "execution_count": 154,
      "outputs": []
    },
    {
      "cell_type": "markdown",
      "source": [
        "# Next Onboarding step - 5th"
      ],
      "metadata": {
        "id": "xa4ggEl0N4w2"
      }
    },
    {
      "cell_type": "markdown",
      "source": [
        "Above we did transition from third step -> fourth step.\n",
        "\n",
        "Now we need to find the probabilities fourth step -> fifth step.\n",
        "\n",
        "Once again, let's identify all the possible combinations and exclude the ones at the end of run\n",
        "\n",
        "- 1 2 3 4\n",
        "- 1 2 3 5\n",
        "- 1 2 4 3\n",
        "- 1 2 4 5\n",
        "- 1 2 4 6 -> EOR\n",
        "- 1 3 2 4\n",
        "- 3 1 2 4\n",
        "- 3 4 5 6 -> EOR\n",
        "- 4 1 2 3\n",
        "- 4 3 5 6 -> EOR"
      ],
      "metadata": {
        "id": "a1kRmtkgN4w4"
      }
    },
    {
      "cell_type": "code",
      "source": [
        "mask = (ob_steps.loc[:, 0] == 1) & (ob_steps.loc[:, 1] == 2) & (ob_steps.loc[:, 2] == 3) & (ob_steps.loc[:, 3] == 4)\n",
        "x = ob_steps.loc[mask, 4].value_counts() / ob_steps.loc[mask, 4].shape[0]\n",
        "x"
      ],
      "metadata": {
        "colab": {
          "base_uri": "https://localhost:8080/"
        },
        "outputId": "83eaa996-79b9-427b-c9da-244366031bcd",
        "id": "XIK5piLzy250"
      },
      "execution_count": 155,
      "outputs": [
        {
          "output_type": "execute_result",
          "data": {
            "text/plain": [
              " 5    0.625\n",
              "-1    0.250\n",
              " 6    0.125\n",
              "Name: 4, dtype: float64"
            ]
          },
          "metadata": {},
          "execution_count": 155
        }
      ]
    },
    {
      "cell_type": "code",
      "source": [
        "trans_probs['[1, 2, 3, 4]'] = {'-1': x[-1],\n",
        "                '1': 0,\n",
        "                '2': 0,\n",
        "                '3': 0,\n",
        "                '4': 0,\n",
        "                '5': x[5],\n",
        "                '6': x[6]}"
      ],
      "metadata": {
        "id": "R9A9epQSy252"
      },
      "execution_count": 156,
      "outputs": []
    },
    {
      "cell_type": "code",
      "source": [
        "mask = (ob_steps.loc[:, 0] == 1) & (ob_steps.loc[:, 1] == 2) & (ob_steps.loc[:, 2] == 3) & (ob_steps.loc[:, 3] == 5)\n",
        "x = ob_steps.loc[mask, 4].value_counts() / ob_steps.loc[mask, 4].shape[0]\n",
        "x"
      ],
      "metadata": {
        "colab": {
          "base_uri": "https://localhost:8080/"
        },
        "outputId": "e7ece9b9-ec3b-4a82-e07b-b325c5ca291a",
        "id": "bGRo2-wnzLLz"
      },
      "execution_count": 157,
      "outputs": [
        {
          "output_type": "execute_result",
          "data": {
            "text/plain": [
              "6    1.0\n",
              "Name: 4, dtype: float64"
            ]
          },
          "metadata": {},
          "execution_count": 157
        }
      ]
    },
    {
      "cell_type": "code",
      "source": [
        "trans_probs['[1, 2, 3, 5]'] = {'-1': 0,\n",
        "                '1': 0,\n",
        "                '2': 0,\n",
        "                '3': 0,\n",
        "                '4': 0,\n",
        "                '5': 0,\n",
        "                '6': x[6]}"
      ],
      "metadata": {
        "id": "ol18HD72zLMd"
      },
      "execution_count": 158,
      "outputs": []
    },
    {
      "cell_type": "code",
      "source": [
        "mask = (ob_steps.loc[:, 0] == 1) & (ob_steps.loc[:, 1] == 2) & (ob_steps.loc[:, 2] == 4) & (ob_steps.loc[:, 3] == 3)\n",
        "x = ob_steps.loc[mask, 4].value_counts() / ob_steps.loc[mask, 4].shape[0]\n",
        "x"
      ],
      "metadata": {
        "colab": {
          "base_uri": "https://localhost:8080/"
        },
        "outputId": "629b6bb0-8a66-4aa8-c93d-07b6930b7bf4",
        "id": "FWtvu4dazSlo"
      },
      "execution_count": 159,
      "outputs": [
        {
          "output_type": "execute_result",
          "data": {
            "text/plain": [
              "-1    0.526316\n",
              " 5    0.447368\n",
              " 6    0.026316\n",
              "Name: 4, dtype: float64"
            ]
          },
          "metadata": {},
          "execution_count": 159
        }
      ]
    },
    {
      "cell_type": "code",
      "source": [
        "trans_probs['[1, 2, 4, 3]'] = {'-1': x[-1],\n",
        "                '1': 0,\n",
        "                '2': 0,\n",
        "                '3': 0,\n",
        "                '4': 0,\n",
        "                '5': x[5],\n",
        "                '6': x[6]}"
      ],
      "metadata": {
        "id": "M66BqT23zSmJ"
      },
      "execution_count": 160,
      "outputs": []
    },
    {
      "cell_type": "code",
      "source": [
        "mask = (ob_steps.loc[:, 0] == 1) & (ob_steps.loc[:, 1] == 2) & (ob_steps.loc[:, 2] == 4) & (ob_steps.loc[:, 3] == 5)\n",
        "x = ob_steps.loc[mask, 4].value_counts() / ob_steps.loc[mask, 4].shape[0]\n",
        "x"
      ],
      "metadata": {
        "colab": {
          "base_uri": "https://localhost:8080/"
        },
        "outputId": "8f44de13-4c18-4e5a-c609-919821d5c9de",
        "id": "ACm6WWiIzjM7"
      },
      "execution_count": 161,
      "outputs": [
        {
          "output_type": "execute_result",
          "data": {
            "text/plain": [
              "-1    1.0\n",
              "Name: 4, dtype: float64"
            ]
          },
          "metadata": {},
          "execution_count": 161
        }
      ]
    },
    {
      "cell_type": "code",
      "source": [
        "trans_probs['[1, 2, 4, 5]'] = {'-1': x[-1],\n",
        "                '1': 0,\n",
        "                '2': 0,\n",
        "                '3': 0,\n",
        "                '4': 0,\n",
        "                '5': 0,\n",
        "                '6': 0}"
      ],
      "metadata": {
        "id": "pdJ4gfmtzjM-"
      },
      "execution_count": 162,
      "outputs": []
    },
    {
      "cell_type": "code",
      "source": [
        "mask = (ob_steps.loc[:, 0] == 1) & (ob_steps.loc[:, 1] == 2) & (ob_steps.loc[:, 2] == 4) & (ob_steps.loc[:, 3] == 6)\n",
        "x = ob_steps.loc[mask, 4].value_counts() / ob_steps.loc[mask, 4].shape[0]\n",
        "x"
      ],
      "metadata": {
        "colab": {
          "base_uri": "https://localhost:8080/"
        },
        "outputId": "814d9be5-1e3f-44d2-d3ca-dafcbdb73c8d",
        "id": "I5WM2U9GzteB"
      },
      "execution_count": 163,
      "outputs": [
        {
          "output_type": "execute_result",
          "data": {
            "text/plain": [
              "3    1.0\n",
              "Name: 4, dtype: float64"
            ]
          },
          "metadata": {},
          "execution_count": 163
        }
      ]
    },
    {
      "cell_type": "code",
      "source": [
        "ob_steps.loc[mask]"
      ],
      "metadata": {
        "id": "nlVUA9aWzy22",
        "outputId": "6ff1cd0f-ad03-47b9-c499-24f6ba55e64d",
        "colab": {
          "base_uri": "https://localhost:8080/",
          "height": 0
        }
      },
      "execution_count": 164,
      "outputs": [
        {
          "output_type": "execute_result",
          "data": {
            "text/plain": [
              "      0  1  2  3  4  5\n",
              "ID                    \n",
              "8070  1  2  4  6  3 -1"
            ],
            "text/html": [
              "\n",
              "  <div id=\"df-30dd373c-3fa4-448f-8861-333d4ff11ae3\" class=\"colab-df-container\">\n",
              "    <div>\n",
              "<style scoped>\n",
              "    .dataframe tbody tr th:only-of-type {\n",
              "        vertical-align: middle;\n",
              "    }\n",
              "\n",
              "    .dataframe tbody tr th {\n",
              "        vertical-align: top;\n",
              "    }\n",
              "\n",
              "    .dataframe thead th {\n",
              "        text-align: right;\n",
              "    }\n",
              "</style>\n",
              "<table border=\"1\" class=\"dataframe\">\n",
              "  <thead>\n",
              "    <tr style=\"text-align: right;\">\n",
              "      <th></th>\n",
              "      <th>0</th>\n",
              "      <th>1</th>\n",
              "      <th>2</th>\n",
              "      <th>3</th>\n",
              "      <th>4</th>\n",
              "      <th>5</th>\n",
              "    </tr>\n",
              "    <tr>\n",
              "      <th>ID</th>\n",
              "      <th></th>\n",
              "      <th></th>\n",
              "      <th></th>\n",
              "      <th></th>\n",
              "      <th></th>\n",
              "      <th></th>\n",
              "    </tr>\n",
              "  </thead>\n",
              "  <tbody>\n",
              "    <tr>\n",
              "      <th>8070</th>\n",
              "      <td>1</td>\n",
              "      <td>2</td>\n",
              "      <td>4</td>\n",
              "      <td>6</td>\n",
              "      <td>3</td>\n",
              "      <td>-1</td>\n",
              "    </tr>\n",
              "  </tbody>\n",
              "</table>\n",
              "</div>\n",
              "    <div class=\"colab-df-buttons\">\n",
              "\n",
              "  <div class=\"colab-df-container\">\n",
              "    <button class=\"colab-df-convert\" onclick=\"convertToInteractive('df-30dd373c-3fa4-448f-8861-333d4ff11ae3')\"\n",
              "            title=\"Convert this dataframe to an interactive table.\"\n",
              "            style=\"display:none;\">\n",
              "\n",
              "  <svg xmlns=\"http://www.w3.org/2000/svg\" height=\"24px\" viewBox=\"0 -960 960 960\">\n",
              "    <path d=\"M120-120v-720h720v720H120Zm60-500h600v-160H180v160Zm220 220h160v-160H400v160Zm0 220h160v-160H400v160ZM180-400h160v-160H180v160Zm440 0h160v-160H620v160ZM180-180h160v-160H180v160Zm440 0h160v-160H620v160Z\"/>\n",
              "  </svg>\n",
              "    </button>\n",
              "\n",
              "  <style>\n",
              "    .colab-df-container {\n",
              "      display:flex;\n",
              "      gap: 12px;\n",
              "    }\n",
              "\n",
              "    .colab-df-convert {\n",
              "      background-color: #E8F0FE;\n",
              "      border: none;\n",
              "      border-radius: 50%;\n",
              "      cursor: pointer;\n",
              "      display: none;\n",
              "      fill: #1967D2;\n",
              "      height: 32px;\n",
              "      padding: 0 0 0 0;\n",
              "      width: 32px;\n",
              "    }\n",
              "\n",
              "    .colab-df-convert:hover {\n",
              "      background-color: #E2EBFA;\n",
              "      box-shadow: 0px 1px 2px rgba(60, 64, 67, 0.3), 0px 1px 3px 1px rgba(60, 64, 67, 0.15);\n",
              "      fill: #174EA6;\n",
              "    }\n",
              "\n",
              "    .colab-df-buttons div {\n",
              "      margin-bottom: 4px;\n",
              "    }\n",
              "\n",
              "    [theme=dark] .colab-df-convert {\n",
              "      background-color: #3B4455;\n",
              "      fill: #D2E3FC;\n",
              "    }\n",
              "\n",
              "    [theme=dark] .colab-df-convert:hover {\n",
              "      background-color: #434B5C;\n",
              "      box-shadow: 0px 1px 3px 1px rgba(0, 0, 0, 0.15);\n",
              "      filter: drop-shadow(0px 1px 2px rgba(0, 0, 0, 0.3));\n",
              "      fill: #FFFFFF;\n",
              "    }\n",
              "  </style>\n",
              "\n",
              "    <script>\n",
              "      const buttonEl =\n",
              "        document.querySelector('#df-30dd373c-3fa4-448f-8861-333d4ff11ae3 button.colab-df-convert');\n",
              "      buttonEl.style.display =\n",
              "        google.colab.kernel.accessAllowed ? 'block' : 'none';\n",
              "\n",
              "      async function convertToInteractive(key) {\n",
              "        const element = document.querySelector('#df-30dd373c-3fa4-448f-8861-333d4ff11ae3');\n",
              "        const dataTable =\n",
              "          await google.colab.kernel.invokeFunction('convertToInteractive',\n",
              "                                                    [key], {});\n",
              "        if (!dataTable) return;\n",
              "\n",
              "        const docLinkHtml = 'Like what you see? Visit the ' +\n",
              "          '<a target=\"_blank\" href=https://colab.research.google.com/notebooks/data_table.ipynb>data table notebook</a>'\n",
              "          + ' to learn more about interactive tables.';\n",
              "        element.innerHTML = '';\n",
              "        dataTable['output_type'] = 'display_data';\n",
              "        await google.colab.output.renderOutput(dataTable, element);\n",
              "        const docLink = document.createElement('div');\n",
              "        docLink.innerHTML = docLinkHtml;\n",
              "        element.appendChild(docLink);\n",
              "      }\n",
              "    </script>\n",
              "  </div>\n",
              "\n",
              "    </div>\n",
              "  </div>\n"
            ]
          },
          "metadata": {},
          "execution_count": 164
        }
      ]
    },
    {
      "cell_type": "markdown",
      "source": [
        "let's also fix this"
      ],
      "metadata": {
        "id": "fuRZ4aC2z1_2"
      }
    },
    {
      "cell_type": "code",
      "source": [
        "ob_steps.loc[mask, 4] = -1"
      ],
      "metadata": {
        "id": "Xlrb-_bCz8VT"
      },
      "execution_count": 165,
      "outputs": []
    },
    {
      "cell_type": "code",
      "source": [
        "mask = (ob_steps.loc[:, 0] == 1) & (ob_steps.loc[:, 1] == 3) & (ob_steps.loc[:, 2] == 2) & (ob_steps.loc[:, 3] == 4)\n",
        "x = ob_steps.loc[mask, 4].value_counts() / ob_steps.loc[mask, 4].shape[0]\n",
        "x"
      ],
      "metadata": {
        "colab": {
          "base_uri": "https://localhost:8080/"
        },
        "outputId": "7dc395a8-10e7-4f51-b69e-16c19a21cc48",
        "id": "_lqkWwJv0UZE"
      },
      "execution_count": 166,
      "outputs": [
        {
          "output_type": "execute_result",
          "data": {
            "text/plain": [
              "6    1.0\n",
              "Name: 4, dtype: float64"
            ]
          },
          "metadata": {},
          "execution_count": 166
        }
      ]
    },
    {
      "cell_type": "code",
      "source": [
        "trans_probs['[1, 3, 2, 4]'] = {'-1': 0,\n",
        "                '1': 0,\n",
        "                '2': 0,\n",
        "                '3': 0,\n",
        "                '4': 0,\n",
        "                '5': 0,\n",
        "                '6': x[6]}"
      ],
      "metadata": {
        "id": "2iTzc-1u0UZF"
      },
      "execution_count": 167,
      "outputs": []
    },
    {
      "cell_type": "code",
      "source": [
        "mask = (ob_steps.loc[:, 0] == 3) & (ob_steps.loc[:, 1] == 1) & (ob_steps.loc[:, 2] == 2) & (ob_steps.loc[:, 3] == 4)\n",
        "x = ob_steps.loc[mask, 4].value_counts() / ob_steps.loc[mask, 4].shape[0]\n",
        "x"
      ],
      "metadata": {
        "colab": {
          "base_uri": "https://localhost:8080/"
        },
        "outputId": "f39e41cd-13b4-4dd4-ca61-91153660428d",
        "id": "eHVaPsoS0hkN"
      },
      "execution_count": 168,
      "outputs": [
        {
          "output_type": "execute_result",
          "data": {
            "text/plain": [
              " 5    0.666667\n",
              "-1    0.333333\n",
              "Name: 4, dtype: float64"
            ]
          },
          "metadata": {},
          "execution_count": 168
        }
      ]
    },
    {
      "cell_type": "code",
      "source": [
        "trans_probs['[3, 1, 2, 4]'] = {'-1': x[-1],\n",
        "                '1': 0,\n",
        "                '2': 0,\n",
        "                '3': 0,\n",
        "                '4': 0,\n",
        "                '5': x[5],\n",
        "                '6': 0}"
      ],
      "metadata": {
        "id": "hnxGIsfe0hkt"
      },
      "execution_count": 169,
      "outputs": []
    },
    {
      "cell_type": "code",
      "source": [
        "mask = (ob_steps.loc[:, 0] == 3) & (ob_steps.loc[:, 1] == 4) & (ob_steps.loc[:, 2] == 5) & (ob_steps.loc[:, 3] == 6)\n",
        "x = ob_steps.loc[mask, 4].value_counts() / ob_steps.loc[mask, 4].shape[0]\n",
        "x"
      ],
      "metadata": {
        "colab": {
          "base_uri": "https://localhost:8080/"
        },
        "outputId": "e7419067-bcd4-4cc0-940e-966d20db14e6",
        "id": "PqtZdNUQ0rdN"
      },
      "execution_count": 170,
      "outputs": [
        {
          "output_type": "execute_result",
          "data": {
            "text/plain": [
              "-1    1.0\n",
              "Name: 4, dtype: float64"
            ]
          },
          "metadata": {},
          "execution_count": 170
        }
      ]
    },
    {
      "cell_type": "code",
      "source": [
        "mask = (ob_steps.loc[:, 0] == 4) & (ob_steps.loc[:, 1] == 1) & (ob_steps.loc[:, 2] == 2) & (ob_steps.loc[:, 3] == 3)\n",
        "x = ob_steps.loc[mask, 4].value_counts() / ob_steps.loc[mask, 4].shape[0]\n",
        "x"
      ],
      "metadata": {
        "colab": {
          "base_uri": "https://localhost:8080/"
        },
        "outputId": "4f26ed1e-6b80-44ff-878d-7d33df8c78f8",
        "id": "jpkot75_0zyO"
      },
      "execution_count": 171,
      "outputs": [
        {
          "output_type": "execute_result",
          "data": {
            "text/plain": [
              " 5    0.5\n",
              "-1    0.5\n",
              "Name: 4, dtype: float64"
            ]
          },
          "metadata": {},
          "execution_count": 171
        }
      ]
    },
    {
      "cell_type": "code",
      "source": [
        "trans_probs['[4, 1, 2, 3]'] = {'-1': x[-1],\n",
        "                '1': 0,\n",
        "                '2': 0,\n",
        "                '3': 0,\n",
        "                '4': 0,\n",
        "                '5': x[5],\n",
        "                '6': 0}"
      ],
      "metadata": {
        "id": "cWTVFHK90zyZ"
      },
      "execution_count": 172,
      "outputs": []
    },
    {
      "cell_type": "code",
      "source": [
        "mask = (ob_steps.loc[:, 0] == 4) & (ob_steps.loc[:, 1] == 3) & (ob_steps.loc[:, 2] == 5) & (ob_steps.loc[:, 3] == 6)\n",
        "x = ob_steps.loc[mask, 4].value_counts() / ob_steps.loc[mask, 4].shape[0]\n",
        "x"
      ],
      "metadata": {
        "colab": {
          "base_uri": "https://localhost:8080/"
        },
        "outputId": "a1a84e89-3f32-417c-fe5d-df1d7caafd5a",
        "id": "oqnneQSN1EIm"
      },
      "execution_count": 173,
      "outputs": [
        {
          "output_type": "execute_result",
          "data": {
            "text/plain": [
              "-1    1.0\n",
              "Name: 4, dtype: float64"
            ]
          },
          "metadata": {},
          "execution_count": 173
        }
      ]
    },
    {
      "cell_type": "markdown",
      "source": [
        "# Next Onboarding step - 6th"
      ],
      "metadata": {
        "id": "a8gRECy_O81q"
      }
    },
    {
      "cell_type": "markdown",
      "source": [
        "The sixth step is the **last one**.\n",
        "\n",
        "Hence, the next state should be either 'Subscribed' or 'not subscribed' and end of run.\n",
        "\n",
        "There are **four** combinations that made it so far:\n",
        "- 1 2 3 4 5\n",
        "- 1 2 4 3 5\n",
        "- 3 1 2 4 5\n",
        "- 4 1 2 3 5\n",
        "\n",
        "let's finish them out"
      ],
      "metadata": {
        "id": "iX3oDZnwO81r"
      }
    },
    {
      "cell_type": "code",
      "source": [
        "mask = (ob_steps.loc[:, 0] == 1) & (ob_steps.loc[:, 1] == 2) & (ob_steps.loc[:, 2] == 3) & (ob_steps.loc[:, 3] == 4) & (ob_steps.loc[:, 4] == 5)\n",
        "x = ob_steps.loc[mask, 5].value_counts() / ob_steps.loc[mask, 5].shape[0]\n",
        "x"
      ],
      "metadata": {
        "colab": {
          "base_uri": "https://localhost:8080/"
        },
        "outputId": "62f0def2-19c6-4add-f2a9-046633eb3b6b",
        "id": "ol0rin111WQX"
      },
      "execution_count": 174,
      "outputs": [
        {
          "output_type": "execute_result",
          "data": {
            "text/plain": [
              " 6    0.533333\n",
              "-1    0.466667\n",
              "Name: 5, dtype: float64"
            ]
          },
          "metadata": {},
          "execution_count": 174
        }
      ]
    },
    {
      "cell_type": "code",
      "source": [
        "trans_probs['[1, 2, 3, 4, 5]'] = {'-1': x[-1],\n",
        "                '1': 0,\n",
        "                '2': 0,\n",
        "                '3': 0,\n",
        "                '4': 0,\n",
        "                '5': 0,\n",
        "                '6': x[6]}"
      ],
      "metadata": {
        "id": "Iht8QOuf1WQZ"
      },
      "execution_count": 175,
      "outputs": []
    },
    {
      "cell_type": "code",
      "source": [
        "mask = (ob_steps.loc[:, 0] == 1) & (ob_steps.loc[:, 1] == 2) & (ob_steps.loc[:, 2] == 4) & (ob_steps.loc[:, 3] == 3) & (ob_steps.loc[:, 4] == 5)\n",
        "x = ob_steps.loc[mask, 5].value_counts() / ob_steps.loc[mask, 5].shape[0]\n",
        "x"
      ],
      "metadata": {
        "colab": {
          "base_uri": "https://localhost:8080/"
        },
        "outputId": "d0a4a9a7-a49c-42b8-9468-57d058e38ad4",
        "id": "uY0zItHy1ka8"
      },
      "execution_count": 176,
      "outputs": [
        {
          "output_type": "execute_result",
          "data": {
            "text/plain": [
              " 6    0.764706\n",
              "-1    0.235294\n",
              "Name: 5, dtype: float64"
            ]
          },
          "metadata": {},
          "execution_count": 176
        }
      ]
    },
    {
      "cell_type": "code",
      "source": [
        "trans_probs['[1, 2, 4, 3, 5]'] = {'-1': x[-1],\n",
        "                '1': 0,\n",
        "                '2': 0,\n",
        "                '3': 0,\n",
        "                '4': 0,\n",
        "                '5': 0,\n",
        "                '6': x[6]}"
      ],
      "metadata": {
        "id": "-7aVOjwK1ka-"
      },
      "execution_count": 177,
      "outputs": []
    },
    {
      "cell_type": "code",
      "source": [
        "mask = (ob_steps.loc[:, 0] == 3) & (ob_steps.loc[:, 1] == 1) & (ob_steps.loc[:, 2] == 2) & (ob_steps.loc[:, 3] == 4) & (ob_steps.loc[:, 4] == 5)\n",
        "x = ob_steps.loc[mask, 5].value_counts() / ob_steps.loc[mask, 5].shape[0]\n",
        "x"
      ],
      "metadata": {
        "colab": {
          "base_uri": "https://localhost:8080/"
        },
        "outputId": "da05b280-4389-44cb-f151-e6c88b05c5ee",
        "id": "oQztyIe51p-U"
      },
      "execution_count": 178,
      "outputs": [
        {
          "output_type": "execute_result",
          "data": {
            "text/plain": [
              " 6    0.666667\n",
              "-1    0.333333\n",
              "Name: 5, dtype: float64"
            ]
          },
          "metadata": {},
          "execution_count": 178
        }
      ]
    },
    {
      "cell_type": "code",
      "source": [
        "trans_probs['[3, 1, 2, 4, 5]'] = {'-1': x[-1],\n",
        "                '1': 0,\n",
        "                '2': 0,\n",
        "                '3': 0,\n",
        "                '4': 0,\n",
        "                '5': 0,\n",
        "                '6': x[6]}"
      ],
      "metadata": {
        "id": "ukX_PFkz1p-3"
      },
      "execution_count": 179,
      "outputs": []
    },
    {
      "cell_type": "code",
      "source": [
        "mask = (ob_steps.loc[:, 0] == 4) & (ob_steps.loc[:, 1] == 1) & (ob_steps.loc[:, 2] == 2) & (ob_steps.loc[:, 3] == 3) & (ob_steps.loc[:, 4] == 5)\n",
        "x = ob_steps.loc[mask, 5].value_counts() / ob_steps.loc[mask, 5].shape[0]\n",
        "x"
      ],
      "metadata": {
        "colab": {
          "base_uri": "https://localhost:8080/"
        },
        "outputId": "6d73d099-24bb-449c-adb0-cf952089bc0f",
        "id": "y2qnal5G1ygm"
      },
      "execution_count": 180,
      "outputs": [
        {
          "output_type": "execute_result",
          "data": {
            "text/plain": [
              "6    1.0\n",
              "Name: 5, dtype: float64"
            ]
          },
          "metadata": {},
          "execution_count": 180
        }
      ]
    },
    {
      "cell_type": "code",
      "source": [
        "trans_probs['[4, 1, 2, 3, 5]'] = {'-1': 0,\n",
        "                '1': 0,\n",
        "                '2': 0,\n",
        "                '3': 0,\n",
        "                '4': 0,\n",
        "                '5': 0,\n",
        "                '6': x[6]}"
      ],
      "metadata": {
        "id": "nFNSxrWA1yhH"
      },
      "execution_count": 181,
      "outputs": []
    },
    {
      "cell_type": "markdown",
      "source": [
        "Now we should have **all the transition probabilities**"
      ],
      "metadata": {
        "id": "3sWp32yePvDx"
      }
    },
    {
      "cell_type": "code",
      "source": [
        "# We modified the data to use\n",
        "with open('/content/gdrive/MyDrive/P7_files/ob_steps_ss.pkl', 'wb') as handle:\n",
        "  pickle.dump(ob_steps, handle)\n",
        "\n",
        "with open('/content/gdrive/MyDrive/P7_files/trans_probs.pkl', 'wb') as handle:\n",
        "  pickle.dump(trans_probs, handle)"
      ],
      "metadata": {
        "id": "ybm3vKX52Gt4"
      },
      "execution_count": 182,
      "outputs": []
    },
    {
      "cell_type": "markdown",
      "source": [
        "# Rewards"
      ],
      "metadata": {
        "id": "Al9q6FUnRXoE"
      }
    },
    {
      "cell_type": "markdown",
      "source": [
        "Normally, in Reinforcement Learning the reward is based on the **state action pair**.\n",
        "\n",
        "However, in our case, what really matters is the **state only**.\n",
        "\n",
        "Hence, the reward - and the approximating Q function - will be based on state only."
      ],
      "metadata": {
        "id": "92ELWMsPTaLs"
      }
    },
    {
      "cell_type": "markdown",
      "source": [
        "Our primary goal is to obtain a **subscription**, so we define a reward for state 6\n",
        "\n",
        "Our secondary goal is to **Have the first call**, so we define also a reward for when onboarding step 3 is done.\n",
        "\n",
        "We observed that the onboarding steps do not always follow the same order.\n",
        "We want to reward if a customer started the onboarding, no matter from which step they started.\n",
        "\n",
        "Moreover, we **don't want** potential customers to interrupt the onboarding process.\n",
        "Hence, we are defining a small negative reward if the onboarding is stopped (next state value -1)\n",
        "\n",
        "Lastly, the data we have show max 3 contacts per potential customer.\n",
        "In reality there could be more, but we don't have the data to model this. In any case, we don't want to penalize if after 3 calls the OB is not started yet - because it might still start with additional contacts.\n",
        "\n",
        "Hence, if after the 3rd contact there is no OB, we assign a **null reward**"
      ],
      "metadata": {
        "id": "RLgtWpniVi9L"
      }
    },
    {
      "cell_type": "code",
      "source": [
        "reward_sub = 10   # this is our primary objective\n",
        "reward_call = 5   # this is our secondary objective\n",
        "reward_ob = 2     # we set it equal to 2 so that start and stop OB is still better (+1) than no OB (0)\n",
        "stop_ob = -1"
      ],
      "metadata": {
        "id": "Mo81dBAzWEQQ"
      },
      "execution_count": 183,
      "outputs": []
    },
    {
      "cell_type": "markdown",
      "source": [
        "Note that if the customer subscribes, or interrupts the OB - also the **run ends**.\n",
        "\n",
        "However, if a customer starts the OB, the run continues.\n",
        "\n",
        "Since the reward is based only on state, we need to make sure to assign a reward for the start of the OB **only once**. We are going to use a flag in the DQN algorithm we are going to develop."
      ],
      "metadata": {
        "id": "hmPuSz3uWOnf"
      }
    },
    {
      "cell_type": "markdown",
      "source": [
        "# Q function"
      ],
      "metadata": {
        "id": "-OpOJ5EJxM1B"
      }
    },
    {
      "cell_type": "code",
      "source": [
        "with open('/content/gdrive/MyDrive/P7_files/country_ss.pkl', 'rb') as handle:\n",
        "  country_ss = pickle.load(handle)\n",
        "\n",
        "with open('/content/gdrive/MyDrive/P7_files/education_ss.pkl', 'rb') as handle:\n",
        "  education_ss = pickle.load(handle)\n",
        "\n",
        "with open('/content/gdrive/MyDrive/P7_files/n_contacts_ss.pkl', 'rb') as handle:\n",
        "  n_contacts_ss = pickle.load(handle)\n",
        "\n",
        "with open('/content/gdrive/MyDrive/P7_files/ob_started_ss.pkl', 'rb') as handle:\n",
        "  ob_started_ss = pickle.load(handle)\n",
        "\n",
        "with open('/content/gdrive/MyDrive/P7_files/ob_steps_ss.pkl', 'rb') as handle:\n",
        "  ob_steps = pickle.load(handle)\n",
        "\n",
        "with open('/content/gdrive/MyDrive/P7_files/trans_probs.pkl', 'rb') as handle:\n",
        "  trans_probs = pickle.load(handle)"
      ],
      "metadata": {
        "id": "ahv8_5gtyxkD"
      },
      "execution_count": 185,
      "outputs": []
    },
    {
      "cell_type": "markdown",
      "source": [
        "We decide to model the Q function as a **neural network**: Deep Q Learning\n",
        "\n",
        "Since we decided to go for a state-only Q function, the input size will be the state space size.\n",
        "\n",
        "The Q function approximate the expected future reward for each action, hence the output size is equal to the action space size"
      ],
      "metadata": {
        "id": "1etoVtM-xQfY"
      }
    },
    {
      "cell_type": "code",
      "source": [
        "# Size of the state space\n",
        "input_size = 116\n",
        "\n",
        "# Size of the action space\n",
        "output_size = 2"
      ],
      "metadata": {
        "id": "QmxucOmzwgB7"
      },
      "execution_count": 186,
      "outputs": []
    },
    {
      "cell_type": "markdown",
      "source": [
        "We decide to use **two** hidden layers (each half the size of the previous one) to model the problem complexity.\n",
        "\n",
        "We can come back later to fine tune the architecture"
      ],
      "metadata": {
        "id": "m2PP0KgNxl9R"
      }
    },
    {
      "cell_type": "code",
      "source": [
        "# Example Q-network architecture\n",
        "class QNetwork(nn.Module):\n",
        "    def __init__(self, input_size, output_size, seed):\n",
        "        super(QNetwork, self).__init__()\n",
        "        self.seed = torch.manual_seed(seed)\n",
        "        self.fc1 = nn.Linear(input_size, 58)\n",
        "        self.relu1 = nn.ReLU()\n",
        "        self.fc2 = nn.Linear(58, 29)\n",
        "        self.relu2 = nn.ReLU()\n",
        "        self.fc3 = nn.Linear(29, output_size)\n",
        "\n",
        "    def forward(self, x):\n",
        "        x = self.fc1(x)\n",
        "        x = self.relu1(x)\n",
        "        x = self.fc2(x)\n",
        "        x = self.relu2(x)\n",
        "        x = self.fc3(x)\n",
        "        return x"
      ],
      "metadata": {
        "id": "Qp9KCz0sxzHC"
      },
      "execution_count": 187,
      "outputs": []
    },
    {
      "cell_type": "markdown",
      "source": [
        "Before we start with the actual Q learning, we want to **pre-train** the network.\n",
        "\n",
        "Matter of fact, so far we **never** modeled the correlation between the Country + Education and the probability of starting the onboarding.\n",
        "\n",
        "The reason why we did not model it is that the possible combinations are a lot, and it would be complex and time consuming to model it.\n",
        "\n",
        "And this is why we want to pre-train our Q network: to capture these pieces of information.\n",
        "\n",
        "Practically speaking we want:\n",
        "- To influence the Country and Education neurons only: all the remaining state space components will be set to zero\n",
        "- The output of the Q network is the **expected reward**: hence, as ground truth we should use the actual reward assigned when the onboarding is started (2)."
      ],
      "metadata": {
        "id": "UiH5ZEptydl0"
      }
    },
    {
      "cell_type": "code",
      "source": [
        "q_network = QNetwork(input_size, output_size, seed=42).to(device)\n",
        "\n",
        "# Define loss function and optimizer\n",
        "criterion = nn.MSELoss()\n",
        "optimizer = Adam(q_network.parameters(), lr=0.001)"
      ],
      "metadata": {
        "id": "CdrnqBXB0BRc"
      },
      "execution_count": 188,
      "outputs": []
    },
    {
      "cell_type": "markdown",
      "source": [
        "Create the dataset for the Q-network pre-training"
      ],
      "metadata": {
        "id": "vnrUSTj_0l5E"
      }
    },
    {
      "cell_type": "code",
      "source": [
        "dummy = pd.DataFrame(np.zeros((country_ss.shape[0], 8)), index=country_ss.index)\n",
        "X_train = pd.concat([country_ss, education_ss, dummy], axis=1)"
      ],
      "metadata": {
        "id": "oupWa2b2075K"
      },
      "execution_count": 189,
      "outputs": []
    },
    {
      "cell_type": "markdown",
      "source": [
        "If action 0 (= do nothing) then the expected reward is zero.\n",
        "\n",
        "If action 1 (= do something) then the expected reward depends whether the OB started or not -> we have a boolean Series for this"
      ],
      "metadata": {
        "id": "G_BevYVx2Cy0"
      }
    },
    {
      "cell_type": "code",
      "source": [
        "dummy = pd.DataFrame(np.zeros_like(ob_started_ss), index=ob_started_ss.index)\n",
        "y_train = pd.concat([dummy,ob_started_ss * 2], axis=1)"
      ],
      "metadata": {
        "id": "lQYfQhdS2aHF"
      },
      "execution_count": 190,
      "outputs": []
    },
    {
      "cell_type": "code",
      "source": [
        "# Create a DataLoader for batching\n",
        "batch_size = 64\n",
        "train_dataset = TensorDataset(torch.tensor(X_train.values, dtype=torch.float32), torch.tensor(y_train.values, dtype=torch.float32))\n",
        "train_loader = DataLoader(train_dataset, batch_size=batch_size, shuffle=True)"
      ],
      "metadata": {
        "id": "UDOK0RE_24n6"
      },
      "execution_count": 191,
      "outputs": []
    },
    {
      "cell_type": "code",
      "source": [
        "# Training loop for pre-training with batches\n",
        "num_epochs = 2\n",
        "\n",
        "for epoch in range(num_epochs):\n",
        "  for batch_X, batch_y in train_loader:\n",
        "\n",
        "    # Forward pass\n",
        "    outputs = q_network(batch_X)\n",
        "\n",
        "    # Compute the loss\n",
        "    loss = criterion(outputs.squeeze(), batch_y)\n",
        "\n",
        "    # Backward pass and optimization\n",
        "    optimizer.zero_grad()\n",
        "    loss.backward()\n",
        "    optimizer.step()\n",
        "\n",
        "  print(f'Epoch [{epoch + 1}/{num_epochs}], Loss: {loss.item()}')\n",
        "\n",
        "torch.save(q_network.state_dict(), \"/content/gdrive/MyDrive/P7_files/pretrained_q_network.pth\")\n",
        "print(\"Pre-training complete!\")"
      ],
      "metadata": {
        "id": "t5j-x_Tj2sAU"
      },
      "execution_count": null,
      "outputs": []
    },
    {
      "cell_type": "markdown",
      "source": [
        "We keep the number of epochs **low** for two reasons:\n",
        "\n",
        "1. the initial loss is already quite small\n",
        "2. this is just a pre-training, we don't want to specialize the network too much"
      ],
      "metadata": {
        "id": "Ukh_AZqT2J1G"
      }
    },
    {
      "cell_type": "markdown",
      "source": [
        "# Q network training"
      ],
      "metadata": {
        "id": "iV7ZTIvC27uw"
      }
    },
    {
      "cell_type": "markdown",
      "source": [
        "Now that our Q network is pre-trained, we can actually train it by letting the agent interact with the environment.\n",
        "\n",
        "Let's first define the function we are going to use the **update** the Q network"
      ],
      "metadata": {
        "id": "ncyckgeG3MF_"
      }
    },
    {
      "cell_type": "code",
      "source": [
        "# Function to calculate Q-values and loss during training\n",
        "# Gamma multiplies the Next Q value in the update\n",
        "# Tau is the parameter for the Target Q network soft update\n",
        "\n",
        "def train_q_network(q_network, target_q_network, state, action, reward, next_state, done, trans_prob, gamma=0.9, tau=0.01):\n",
        "  # Convert state, next_state, and trans_prob to PyTorch tensors\n",
        "  state = torch.tensor(state, dtype=torch.float32)\n",
        "  next_state = torch.tensor(next_state, dtype=torch.float32)\n",
        "  trans_prob = torch.tensor(trans_prob, dtype=torch.float32)\n",
        "\n",
        "  # Assume Q-network has two outputs corresponding to the Q-values for each action\n",
        "  q_values = q_network(state)\n",
        "  # For the next Q values we use the **target Q network** to increase training stability\n",
        "  next_q_values = target_q_network(next_state)\n",
        "\n",
        "  # Use the action to index into the Q-values\n",
        "  q_value = q_values[action]\n",
        "\n",
        "  # Calculate the target Q-value using the Bellman equation\n",
        "  # Note that at the end we add (1 - done) because we don't consider the next Q value if the run is finished\n",
        "  target_q_value = reward + gamma * torch.max(next_q_values) * (1 - done)\n",
        "\n",
        "  # Include probability features in the loss calculation\n",
        "  loss = nn.MSELoss()(q_value, target_q_value * trans_prob)\n",
        "\n",
        "  # Backpropagation and optimization\n",
        "  optimizer.zero_grad()\n",
        "  loss.backward()\n",
        "  optimizer.step()\n",
        "\n",
        "  # Update the target Q-network with a soft update\n",
        "  for target_param, local_param in zip(target_q_network.parameters(), q_network.parameters()):\n",
        "      target_param.data.copy_(tau * local_param.data + (1.0 - tau) * target_param.data)\n",
        "\n",
        "  return loss.item()"
      ],
      "metadata": {
        "id": "t3UV_SZTwIWE"
      },
      "execution_count": 192,
      "outputs": []
    },
    {
      "cell_type": "markdown",
      "source": [
        "Let's define the function to perform epsilon-greedy action selection.\n",
        "\n",
        "We want to use epsilon-greedy selection to balance exploration and exploitation"
      ],
      "metadata": {
        "id": "kV7AY2vi7qAF"
      }
    },
    {
      "cell_type": "code",
      "source": [
        "def epsilon_greedy_action(q_values, epsilon):\n",
        "\n",
        "  if np.random.rand() < epsilon:\n",
        "      # Explore: Randomly choose an action\n",
        "      selected_action = np.random.choice(output_size)\n",
        "  else:\n",
        "      # Exploit: Choose the action with the highest Q-value\n",
        "      selected_action = np.argmax(q_values)\n",
        "\n",
        "  return selected_action"
      ],
      "metadata": {
        "id": "FuWrsNyi7pj0"
      },
      "execution_count": 193,
      "outputs": []
    },
    {
      "cell_type": "markdown",
      "source": [
        "Finally, let's define the function to perform the step based on the action"
      ],
      "metadata": {
        "id": "Wl6dfagWAj1U"
      }
    },
    {
      "cell_type": "code",
      "source": [
        "state = np.array([[0, 0, 0, 0, 1, 2, 0, 0, 0, 0]])\n",
        "curr_ob = list(state[0, -6:][np.nonzero(state[0, -6:])])\n",
        "# Thanks to the way we defined the Trans Prob dictionary, we can use the current state (converted to str) directly as key\n",
        "print(str(curr_ob))\n",
        "prob_dist = trans_probs[str(curr_ob)]\n",
        "print(prob_dist)\n",
        "# Once again, we want to sample from the prob distribution to find the next state\n",
        "events, probs = zip(*prob_dist.items())\n",
        "next_step = int(np.random.choice(events, p=probs))\n",
        "print(next_step)\n",
        "\n",
        "idx = len(curr_ob)\n",
        "state[0, -6+idx] = next_step\n",
        "state[0, -6:]"
      ],
      "metadata": {
        "id": "lBFvt7JvRp-7",
        "outputId": "084bf476-fe89-43a7-c3f0-df7fc942444e",
        "colab": {
          "base_uri": "https://localhost:8080/"
        }
      },
      "execution_count": 221,
      "outputs": [
        {
          "output_type": "stream",
          "name": "stdout",
          "text": [
            "[1, 2]\n",
            "{'-1': 0.3430232558139535, '1': 0, '2': 0, '3': 0.36046511627906974, '4': 0.29651162790697677, '5': 0, '6': 0}\n",
            "-1\n"
          ]
        },
        {
          "output_type": "execute_result",
          "data": {
            "text/plain": [
              "array([ 1,  2, -1,  0,  0,  0])"
            ]
          },
          "metadata": {},
          "execution_count": 221
        }
      ]
    },
    {
      "cell_type": "code",
      "source": [
        "# Returns:\n",
        "# Next state & Done\n",
        "def take_step(state, action):\n",
        "\n",
        "  ####### END OF RUN CONDITIONS ####################\n",
        "  # If the customer subscribed, no matter the action selected, the state is the same (cuz EOR) and done is set to True\n",
        "  if np.isin(6, state[0, -6:]):\n",
        "    return state, True\n",
        "  # If there is a -1 somewhere, it also means that the run is finished\n",
        "  if np.isin(-1, state[0, -6:]):\n",
        "    return state, True\n",
        "\n",
        "  ####### NULL ACTION ###########\n",
        "  # Action = 0 is the do nothing, hence we return the same state\n",
        "  if action == 0:\n",
        "    return state, False\n",
        "\n",
        "  # Else, the action is do something, and its effects are different according to the starting state\n",
        "  ######## onboarding NOT started ###########\n",
        "  if state[0, -7] == 0:\n",
        "\n",
        "    # Increase the number of contacts by one unit\n",
        "    state[0, -8] += 1\n",
        "\n",
        "    # Get the proper transition probabilities:\n",
        "    if state[0, -8] == 1:\n",
        "      prob_dist = trans_probs['1st mesg']\n",
        "    elif state[0, -8] == 2:\n",
        "      prob_dist = trans_probs['2nd mesg']\n",
        "    elif state[0, -8] == 3:\n",
        "      prob_dist = trans_probs['3rd mesg']\n",
        "    # If none of the above, that means that it would have been the 4th contact, which is outside the scope of this project.\n",
        "    # Hence, it would also represent the end of run\n",
        "    else:\n",
        "      state[0, -8] -= 1\n",
        "      return state, True\n",
        "\n",
        "    # If we are at this point, that means that we have some probabilities distribution\n",
        "    # We want to sample from them to find the next state\n",
        "    events, probs = zip(*prob_dist.items())\n",
        "    next_step = int(np.random.choice(events, p=probs))\n",
        "\n",
        "    if next_step == -1:\n",
        "      # Then there is no change in the state, besides the increase of n_contact which we already implemented above\n",
        "      return state, False\n",
        "    else:\n",
        "      # Else, it means the customer started the onboarding\n",
        "      state[0, -7] = 1\n",
        "      state[0, -6] = next_step\n",
        "      return state, False\n",
        "\n",
        "  ##### onboarding STARTED #############\n",
        "  else:\n",
        "    assert state[0, -7] == 1\n",
        "\n",
        "    # We need to get at which point of the OB we are at\n",
        "    curr_ob = list(state[0, -6:][np.nonzero(state[0, -6:])])\n",
        "    # Thanks to the way we defined the Trans Prob dictionary, we can use the current state (converted to str) directly as key\n",
        "    prob_dist = trans_probs[str(curr_ob)]\n",
        "    # Once again, we want to sample from the prob distribution to find the next state\n",
        "    events, probs = zip(*prob_dist.items())\n",
        "    next_step = int(np.random.choice(events, p=probs))\n",
        "\n",
        "    # let's update the state and return\n",
        "    state[0, -6 + len(curr_ob)] = next_step\n",
        "    return state, False"
      ],
      "metadata": {
        "id": "-zNr7nRQAna7"
      },
      "execution_count": null,
      "outputs": []
    },
    {
      "cell_type": "markdown",
      "source": [
        "Let's now create the main training loop, where the agent interacts with the environment"
      ],
      "metadata": {
        "id": "sZcntuOH6S5M"
      }
    },
    {
      "cell_type": "code",
      "source": [
        "num_episodes = 1000\n",
        "epsilon = 0.1\n",
        "\n",
        "for episode in range(num_episodes):\n",
        "  # Randomly initialize the state:\n",
        "  # We select a random Country & Education from the Dataframes.\n",
        "  # Note that we use the dataframe so that we preserve the observed frequency of the different categories\n",
        "  country = country_ss.sample(n=1).values\n",
        "  education = education_ss.sample(n=1).values\n",
        "  # The remaining states components are all going to be set to Zero:\n",
        "  # Customer was never contacted and the OB did not start\n",
        "  remaining_ss = np.array([[0, 0, 0, 0, 0, 0, 0, 0]])\n",
        "\n",
        "  state = np.concatenate((country, education, remaining_ss), axis=1)\n",
        "\n",
        "  episode_reward = 0\n",
        "  done = False\n",
        "  reward_call_done = False\n",
        "  reward_ob_done = False\n",
        "\n",
        "\n",
        "  while not done:\n",
        "\n",
        "    #########################################################\n",
        "    ####  COMPUTE THE REWARDS BASED ON THE CURRENT STATE ####\n",
        "    #########################################################\n",
        "\n",
        "    reward = 0\n",
        "\n",
        "    # If the ob_steps (i.e. the last 6 values of the state) contain at any point the value 6, that means that the subscription happened\n",
        "    if np.isin(6, state[0, -6:]):\n",
        "      reward += reward_sub\n",
        "\n",
        "    # Else if there is a -1 at any point in the ob_steps, it means that the OB did not succeed\n",
        "    elif np.isin(-1, state[0, -6:]):\n",
        "      reward += stop_ob\n",
        "\n",
        "    # If the first call happened (step number 3), then get the call reward\n",
        "    # Note that this reward can be assigned once, so we need to keep track of it\n",
        "    if np.isin(3, state[0, -6:]) and not reward_call_done:\n",
        "      reward += reward_call\n",
        "      reward_call_done = True\n",
        "    # If it's the first time the OB has started, then assign the appropriate reward\n",
        "    if state[0, -7] == 1 and not reward_ob_done:\n",
        "      reward += reward_ob\n",
        "      reward_ob_done = True\n",
        "\n",
        "\n",
        "    #############################################################\n",
        "    ####  SELECT THE ACTION BASED ON A EPSILON GREEDY POLICY ####\n",
        "    #############################################################\n",
        "\n",
        "    q_values = q_network(torch.tensor(state, dtype=torch.float32))\n",
        "    action = epsilon_greedy_action(q_values, epsilon)\n",
        "\n",
        "    ################################################################\n",
        "    ####  FROM CURRENT STATE AND ACTION, OBSERVE THE NEXT STATE ####\n",
        "    ################################################################\n",
        "    next_state, reward, done, _ = env.step(action)\n",
        "\n",
        "    # Update Q-network\n",
        "    # Note that we are going to use directly the observed experience.\n",
        "    # Usually a Reply buffer is used, but let's stick with simple for the time being\n",
        "    train_q_network(q_network, target_q_network, state, action, reward, next_state, done, probability_features, gamma=0.9, tau=0.01)\n",
        "\n",
        "    # Move to the next state\n",
        "    state = next_state\n",
        "    episode_reward += reward\n",
        "\n",
        "  # Update target Q-network periodically\n",
        "  if episode % target_update_frequency == 0:\n",
        "    target_q_network.load_state_dict(q_network.state_dict())\n"
      ],
      "metadata": {
        "id": "zvUnOuyf5_b3"
      },
      "execution_count": null,
      "outputs": []
    },
    {
      "cell_type": "code",
      "source": [
        "# Example usage\n",
        "input_size = 5  # Adjust based on your actual state representation size\n",
        "output_size = 2  # Adjust based on the number of actions\n",
        "q_network = QNetwork(input_size, output_size)\n",
        "\n",
        "# Example training data\n",
        "state = [1.0, 2.0, 3.0, 4.0, 5.0]\n",
        "action = 0\n",
        "reward = 0.5\n",
        "next_state = [2.0, 3.0, 4.0, 5.0, 6.0]\n",
        "done = False\n",
        "probability_features = [0.8, 0.2]\n",
        "\n",
        "# Training the Q-network\n",
        "loss = train_q_network(q_network, state, action, reward, next_state, done, probability_features)\n",
        "print(f\"Loss: {loss}\")"
      ],
      "metadata": {
        "id": "ImmdbxW-6tKB"
      },
      "execution_count": null,
      "outputs": []
    }
  ]
}